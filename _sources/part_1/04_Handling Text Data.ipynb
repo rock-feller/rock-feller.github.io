{
 "cells": [
  {
   "cell_type": "markdown",
   "metadata": {},
   "source": [
    "# Chapter 4: Handling Text Data"
   ]
  },
  {
   "cell_type": "markdown",
   "metadata": {},
   "source": [
    "**Learning objectives:**"
   ]
  },
  {
   "cell_type": "markdown",
   "metadata": {},
   "source": [
    "* **Foundation of Textual Data:** \n",
    "    * Define what a string data type is and identify its significance in datasets.\n",
    "    * Differentiate between numerical, categorical, and textual data in a dataset.\n",
    "\n",
    "* **Pandas Essentials for Text Data:**\n",
    "\n",
    "    * Introduce the pandas library and its significance in data manipulation.\n",
    "    * Highlight the str accessor in pandas and its use for vectorized string operations.\n",
    "\n",
    "* **Basic Text Processing with Pandas:**\n",
    "\n",
    "    * Learn to convert data columns to string data type using the astype(str) method.\n",
    "    * Demonstrate how to slice strings using the str accessor.\n",
    "    * Explore common string methods like lower(), upper(), len(), strip(), and their equivalents in pandas.\n",
    "\n",
    "* **Advanced String Manipulation:**\n",
    "\n",
    "    * Use str.split() to break strings into parts and understand the significance of the expand parameter.\n",
    "    * Highlight the use of str.contains() to find substrings within a Series.\n",
    "    * Understand and implement the str.replace() method for replacing textual content.\n",
    "\n",
    "* **Regular Expressions in Pandas:**\n",
    "\n",
    "    * Introduce the concept of regular expressions for advanced text matching and manipulation.\n",
    "    * Apply regular expressions with pandas functions like str.extract(), str.contains(), and str.replace()."
   ]
  },
  {
   "cell_type": "markdown",
   "metadata": {},
   "source": [
    "## Introduction: "
   ]
  },
  {
   "cell_type": "markdown",
   "metadata": {},
   "source": [
    "### What is Text Data ?"
   ]
  },
  {
   "cell_type": "markdown",
   "metadata": {},
   "source": [
    "**Text data**, also known as **string data**, refers to a collection of characters or words that form textual information. In Data Science, Text data plays a crucial role due to the vast amount of unstructured textual information available today. \n",
    "\n",
    "Working with text data offers numerous benefits.\n",
    "\n",
    "1. Firstly, text data provides rich context and insights into **human behavior, opinions, and sentiments**, which can be leveraged for various applications such as **sentiment analysis, customer feedback analysis**, and **social media monitoring**. \n",
    "\n",
    "2. Secondly, text data enables natural language processing (NLP) techniques, allowing machines to understand and process human language, enabling tasks like **machine translation, chatbot development**, and **text summarization**.\n",
    "\n",
    "Furthermore, working with text data enables information retrieval, text classification, topic modeling, and other text-based machine learning algorithms, aiding in tasks like **document clustering, content recommendation**, and **text generation**. \n",
    "\n",
    "Dealing with Text data is foundational to understanding the building blocks of Large Language Models which  are revolutionizing the way we interact with the internet today. It all starts with strings. \n"
   ]
  },
  {
   "cell_type": "markdown",
   "metadata": {},
   "source": [
    "\n",
    "\n",
    "A string is a sequence of characters. You can access the characters one at a time with the bracket operator."
   ]
  },
  {
   "cell_type": "code",
   "execution_count": 1,
   "metadata": {},
   "outputs": [],
   "source": [
    "town = 'douala'"
   ]
  },
  {
   "cell_type": "code",
   "execution_count": 2,
   "metadata": {},
   "outputs": [
    {
     "data": {
      "text/plain": [
       "'o'"
      ]
     },
     "execution_count": 2,
     "metadata": {},
     "output_type": "execute_result"
    }
   ],
   "source": [
    "town[1]"
   ]
  },
  {
   "cell_type": "markdown",
   "metadata": {},
   "source": [
    "In Python, the index\n",
    "is an offset from the beginning of the string, and the offset of the first letter is zero"
   ]
  },
  {
   "cell_type": "code",
   "execution_count": null,
   "metadata": {},
   "outputs": [],
   "source": [
    "town[0]"
   ]
  },
  {
   "cell_type": "code",
   "execution_count": null,
   "metadata": {},
   "outputs": [],
   "source": [
    "town[0:2]"
   ]
  },
  {
   "cell_type": "markdown",
   "metadata": {},
   "source": [
    "What about accessing the last letter"
   ]
  },
  {
   "cell_type": "code",
   "execution_count": null,
   "metadata": {},
   "outputs": [],
   "source": [
    "town[5]"
   ]
  },
  {
   "cell_type": "markdown",
   "metadata": {},
   "source": [
    "An intuitive way of accessing the last element of the string is by passing -1 as an index"
   ]
  },
  {
   "cell_type": "code",
   "execution_count": null,
   "metadata": {},
   "outputs": [],
   "source": [
    "town[-1]"
   ]
  },
  {
   "cell_type": "markdown",
   "metadata": {},
   "source": [
    "If I'm interested in getting the whole string except the last element"
   ]
  },
  {
   "cell_type": "code",
   "execution_count": null,
   "metadata": {},
   "outputs": [],
   "source": [
    "town[:-1]"
   ]
  },
  {
   "cell_type": "code",
   "execution_count": null,
   "metadata": {},
   "outputs": [],
   "source": [
    "dir(town)  #This command will give all possible attribute we can use to play with strings"
   ]
  },
  {
   "cell_type": "code",
   "execution_count": null,
   "metadata": {},
   "outputs": [],
   "source": [
    "town.islower()"
   ]
  },
  {
   "cell_type": "code",
   "execution_count": null,
   "metadata": {},
   "outputs": [],
   "source": [
    "town.isupper()"
   ]
  },
  {
   "cell_type": "code",
   "execution_count": null,
   "metadata": {},
   "outputs": [],
   "source": [
    "town.title()"
   ]
  },
  {
   "cell_type": "code",
   "execution_count": null,
   "metadata": {},
   "outputs": [],
   "source": [
    "town.upper()"
   ]
  },
  {
   "cell_type": "markdown",
   "metadata": {},
   "source": [
    ">#### <font color=#800080>Task 11:</font> <a class=\"anchor\" id=\"Task-1\"></a>\n"
   ]
  },
  {
   "cell_type": "markdown",
   "metadata": {},
   "source": [
    "1. Write a function that takes a string as input, and return a new string with the same letters in reverse order.\n",
    "\n",
    "2. Write a function that takes a sentence (a collection of strings separated by a space character) as input, Return the longest word in the sentence.\n",
    "\n",
    "3. Write a function that takes a string as input and returns the number of vowels in the string. You may assume that all the letters are lower cased.\n",
    "\n",
    "4. Write a function that takes a string and returns true if it is a palindrome. A palindrome is a string that is the same whether written backward or forward. Assume that there are no spaces; only lowercase  letters will be given\n"
   ]
  },
  {
   "cell_type": "markdown",
   "metadata": {},
   "source": [
    "### Pandas String Operations"
   ]
  },
  {
   "cell_type": "markdown",
   "metadata": {},
   "source": [
    "While Python offers some built-in string methods for basic text processing, pandas extends these functionalities by introducing **vectorized string operations that can be applied to entire columns or series of text data**. This shift unlocks the power of performing efficient and scalable operations on large datasets, allowing for faster data preprocessing, cleaning, and analysis.\n",
    "\n",
    "\n",
    "These functionalities introduce vectorized string operations that can be applied to entire columns or series of text data. With pandas string operations, tasks like **extracting substrings, replacing patterns, splitting strings**, and **performing regex operations** can be performed seamlessly across multiple data points. In this section, we are going to cover a few which includes **islower , isupper , title , lower() , upper(), replace , rsplit , strip , startwith** ."
   ]
  },
  {
   "cell_type": "code",
   "execution_count": null,
   "metadata": {},
   "outputs": [],
   "source": [
    "import numpy as np\n",
    "import pandas as pd\n",
    "\n",
    "animals = pd.Series(['cat' , 'dog' , 'mouse' , 'rabbit', 'lion'])\n",
    "animals"
   ]
  },
  {
   "cell_type": "code",
   "execution_count": null,
   "metadata": {},
   "outputs": [],
   "source": [
    "animals.str.upper()"
   ]
  },
  {
   "cell_type": "code",
   "execution_count": null,
   "metadata": {},
   "outputs": [],
   "source": [
    "animals.str.title()"
   ]
  },
  {
   "cell_type": "code",
   "execution_count": null,
   "metadata": {
    "scrolled": true
   },
   "outputs": [],
   "source": [
    "animals.str.len()"
   ]
  },
  {
   "cell_type": "markdown",
   "metadata": {},
   "source": [
    "### A common Data entry problem"
   ]
  },
  {
   "cell_type": "markdown",
   "metadata": {},
   "source": [
    "One common problem that often arises during data entry, particularly when dealing with string data, is **the presence of extra white spaces** and/or **mishandling of cases**. Extra white spaces can occur due to inadvertent keyboard inputs or inconsistent data entry practices, leading to inconsistencies in the data. \n",
    "\n",
    "Similarly, mishandling of cases, such as inconsistent capitalization or differences in letter casing, can introduce variability and inaccuracies in the dataset. These issues hamper data analysis, as they make it difficult to match and compare strings accurately, resulting in errors or skewed results."
   ]
  },
  {
   "cell_type": "markdown",
   "metadata": {},
   "source": [
    "Series and Index are equipped with a set of string processing methods that make it easy to operate on each element of the array. Perhaps most importantly, these methods exclude missing/NA values automatically. These are accessed via the **str** attribute and generally have names matching the equivalent (scalar) built-in string methods:\n",
    "\n"
   ]
  },
  {
   "cell_type": "code",
   "execution_count": null,
   "metadata": {
    "scrolled": false
   },
   "outputs": [],
   "source": [
    "instruments = pd.Series([' guitar' , '   drum ', 'piano ', np.nan , \"violon       \"])\n",
    "instruments"
   ]
  },
  {
   "cell_type": "markdown",
   "metadata": {},
   "source": [
    "The `.strip()` method removes extra white spaces from left side and from the right side. Please note that it does not overwrite the old information, so you would have to overwrite the content of the instruments series with the tidy information."
   ]
  },
  {
   "cell_type": "code",
   "execution_count": null,
   "metadata": {},
   "outputs": [],
   "source": [
    "instruments  = instruments.str.strip() \n",
    "instruments"
   ]
  },
  {
   "cell_type": "markdown",
   "metadata": {},
   "source": [
    "It is not obvious to depict extra white spaces in dataframes as you could see below.\n"
   ]
  },
  {
   "cell_type": "code",
   "execution_count": null,
   "metadata": {},
   "outputs": [],
   "source": [
    "NorthAfr_cities = pd.DataFrame(['    Faiyhum' , '   Annaba  ' , '   Bizerte  ' ,\n",
    "                                '  Luxor  ' , 'Djelfa', 'Hammamet   '] , columns=['na_Cities'])\n",
    "NorthAfr_cities"
   ]
  },
  {
   "cell_type": "code",
   "execution_count": null,
   "metadata": {},
   "outputs": [],
   "source": [
    "NorthAfr_cities.iloc[0,0]"
   ]
  },
  {
   "cell_type": "markdown",
   "metadata": {},
   "source": [
    "Using the `.strip()` operation on the untidy pandas Series, one is able to get rid of the extra white space in a vectorized fashion.m"
   ]
  },
  {
   "cell_type": "code",
   "execution_count": null,
   "metadata": {},
   "outputs": [],
   "source": [
    "NorthAfr_cities['tidyUp_cities'] = NorthAfr_cities['na_Cities'].str.strip()\n",
    "NorthAfr_cities = NorthAfr_cities[['tidyUp_cities']]\n",
    "NorthAfr_cities"
   ]
  },
  {
   "cell_type": "code",
   "execution_count": null,
   "metadata": {},
   "outputs": [],
   "source": [
    "NorthAfr_cities.iloc[0,0]"
   ]
  },
  {
   "cell_type": "markdown",
   "metadata": {},
   "source": [
    "Sometimes, two (or more) different type of information could be tied up into a single string and the data entry person uses a common delimiter to separate them instead of entering them in different columns. For instance, take a look at this dataframe of female african artists."
   ]
  },
  {
   "cell_type": "code",
   "execution_count": null,
   "metadata": {},
   "outputs": [],
   "source": [
    "female_ziks= pd.DataFrame(['Fatoumata Diawara_Maliba_Mali' , 'Cina Soul_ For Times we lost_Ghana' ,\n",
    "                          'Mampi_Love Recipe_Zambia',  'Aster Aweke_Soba_Ethiopia'] ,columns=['music'] )\n",
    "female_ziks"
   ]
  },
  {
   "cell_type": "code",
   "execution_count": null,
   "metadata": {},
   "outputs": [],
   "source": [
    "female_ziks['composer'] = female_ziks['music'].str.split('_').str.get(0)\n",
    "female_ziks['album_title'] = female_ziks['music'].str.split('_').str.get(1)\n",
    "female_ziks['country'] = female_ziks['music'].str.split('_').str.get(2)\n",
    "female_ziks"
   ]
  },
  {
   "cell_type": "code",
   "execution_count": null,
   "metadata": {},
   "outputs": [],
   "source": [
    "female_ziks =  female_ziks[['composer', 'album_title', 'country']]\n",
    "female_ziks"
   ]
  },
  {
   "cell_type": "markdown",
   "metadata": {},
   "source": [
    ">#### <font color=#800080>Task 12:</font> <a class=\"anchor\" id=\"Task-1\"></a>\n"
   ]
  },
  {
   "cell_type": "markdown",
   "metadata": {},
   "source": [
    "1. Run the command `%load goat1.py` in a cell below. It provides a list of african  popular writers and their country of origin.\n",
    "\n",
    "    a. Report the incorrectness that you may have observed in the data.\n",
    "    \n",
    "    b. Use some of the above pandas string operations to tidy up the data.\n",
    "    \n",
    "    \n",
    "2. Consider the very same information as above, but encapsulated in a csv file called `african_writers.csv`. Perform an inconsistency check and adress them if any.\n",
    "\n",
    "\n",
    "3. Run the command `%load goat3.py` in a cell below. It provides a list of african  popular singers and their country of origin.\n",
    "\n",
    "    a. Report the incorrectness that you may have observed in the data.\n",
    "    \n",
    "    b. Use some of the above pandas string operations to tidy up the data."
   ]
  },
  {
   "cell_type": "markdown",
   "metadata": {},
   "source": [
    "### Use of Regular Expressions"
   ]
  },
  {
   "cell_type": "markdown",
   "metadata": {},
   "source": [
    "Regular expressions (regex) are a powerful tool for pattern matching in text. They can be used to extract, clean, and transform text data in a variety of ways. For example, regex can be used to:\n",
    "\n",
    "* Extract specific pieces of information from text, such as email addresses, phone numbers, or dates.\n",
    "\n",
    "\n",
    "* Clean up text data by removing unwanted characters or formatting.\n",
    "\n",
    "\n",
    "* Transform text data by converting it to a different format, such as changing all uppercase letters to lowercase letters.\n",
    "\n",
    "\n",
    "The use of regex with pandas dataframes can be a bit daunting at first, but it is a powerful tool that can be used to solve a wide variety of problems. Some basic regex patterns and examples include:\n",
    "\n"
   ]
  },
  {
   "cell_type": "markdown",
   "metadata": {},
   "source": [
    "* `\\d` matches any digit. For example, the regex pattern `\\d` would match the string `\"1234\"`.\n",
    "\n",
    "* `\\w` matches any word character. For example, the regex pattern `\\w` would match the string \"hello\".\n",
    "\n",
    "\n",
    "* `\\s` matches any whitespace character. For example, the regex pattern `\\s` would match the string \" \".\n",
    "\n",
    "\n",
    "* `.` matches any character. For example, the regex pattern . would match the string \"a\" or the string \".\".\n",
    "\n",
    "\n",
    "* `^` matches the beginning of a string. For example, the regex pattern `^hello` would match the string `\"hello\"` only if it was at the beginning of the string.\n",
    "\n",
    "\n",
    "* `[ ]` matches a set of characters. For example, the regex pattern `[0-9]` would match any digit from 0 to 9.\n",
    "\n",
    "* `{}` specifies the number of times a character or set of characters can be matched. For example, the regex pattern   `\\d{5}` would match a string of five digits.\n",
    "\n",
    "\n",
    "* `|` matches either one or the other of two patterns. For example, the regex pattern `hello|world` would match the string `\"hello\"` or the string `\"world\"`."
   ]
  },
  {
   "cell_type": "markdown",
   "metadata": {},
   "source": [
    ">#### <font color=#800080>Example:</font> <a class=\"anchor\" id=\"Task-1\"></a>\n"
   ]
  },
  {
   "cell_type": "markdown",
   "metadata": {},
   "source": [
    "See a couple of namings below related to Mali, which is a country located in West Africa."
   ]
  },
  {
   "cell_type": "code",
   "execution_count": null,
   "metadata": {},
   "outputs": [],
   "source": [
    "import pandas as pd\n",
    "\n",
    "# Create a pandas series\n",
    "MaliCiv_infos = pd.Series([\"mali\", \"EaglesOfMali\", \"+233\", \"mali223\", \"Mali_1960\" , \"MALIPUISSANCI\", \n",
    "                          \"cotedivoire\" , \"ElephantCoteDivoire\" ,\"+225\" ,  \"civ225\", \"Civ_1960\" , \"CIVYAFOYE\"])\n",
    "\n",
    "MaliCiv_infos"
   ]
  },
  {
   "cell_type": "markdown",
   "metadata": {},
   "source": [
    "1. Create a regular expression to match strings that only contains lower cases"
   ]
  },
  {
   "cell_type": "code",
   "execution_count": null,
   "metadata": {},
   "outputs": [],
   "source": [
    "regex_1 = \"[a-z]+$\"\n",
    "\n",
    "# Create a sub series of strings that match the regex\n",
    "query1 = MaliCiv_infos[MaliCiv_infos.str.match(regex_1)]\n",
    "\n",
    "# Print the sub series\n",
    "print(query1)"
   ]
  },
  {
   "cell_type": "markdown",
   "metadata": {},
   "source": [
    "2. Create a regular expression to match strings that only contains lower cases or upper cases letter"
   ]
  },
  {
   "cell_type": "code",
   "execution_count": null,
   "metadata": {},
   "outputs": [],
   "source": [
    "regex_2 = \"^[a-zA-Z]+$\"\n",
    "\n",
    "# Create a sub series of strings that match the regex\n",
    "query2 = MaliCiv_infos[MaliCiv_infos.str.match(regex_2)]\n",
    "query2"
   ]
  },
  {
   "cell_type": "markdown",
   "metadata": {},
   "source": [
    "3. Create a regular expression to match strings that only contains upper cases letter\n"
   ]
  },
  {
   "cell_type": "code",
   "execution_count": null,
   "metadata": {},
   "outputs": [],
   "source": [
    "regex_3 = \"^[A-Z]+$\"\n",
    "# Create a sub series of strings that match the regex\n",
    "query3 = MaliCiv_infos[MaliCiv_infos.str.match(regex_3)]\n",
    "query3\n"
   ]
  },
  {
   "cell_type": "markdown",
   "metadata": {},
   "source": [
    "4. Create a regular expression to match strings that only ends with 4 digits\n"
   ]
  },
  {
   "cell_type": "code",
   "execution_count": null,
   "metadata": {},
   "outputs": [],
   "source": [
    "regex_4 =  \"^.*\\d{4}\"\n",
    "# Create a sub series of strings that match the regex\n",
    "query4 = MaliCiv_infos[MaliCiv_infos.str.match(regex_4)]\n",
    "query4"
   ]
  },
  {
   "cell_type": "markdown",
   "metadata": {},
   "source": [
    "5. Create a regular expression to match strings that only ends with 4 digits\n"
   ]
  },
  {
   "cell_type": "code",
   "execution_count": null,
   "metadata": {},
   "outputs": [],
   "source": [
    "regex_5 =  \"^\\+\"\n",
    "# Create a sub series of strings that match the regex\n",
    "query5 = MaliCiv_infos[MaliCiv_infos     #.str.match(regex_5)]\n",
    "query5"
   ]
  },
  {
   "cell_type": "markdown",
   "metadata": {},
   "source": [
    ">#### <font color=#800080>Task 13:</font> <a class=\"anchor\" id=\"Task-1\"></a>\n"
   ]
  },
  {
   "cell_type": "markdown",
   "metadata": {},
   "source": [
    "Egerton University is the oldest university in Kenya having been in 1939. It was founded as Egerton Farm College and became part of the University of Kenya in 1986 and a university in its own right in 1987. They are hosting a Public Policy Hub who has secured funding from the National Research Fund (NRF) Kenya, to conduct a study across different African Countries to understand the \"Year of Africa\".\n",
    "\n",
    "The Year of Africa is a term often coined  to represent a particular year where many countries across the continent celebrated the joy, excitement, and possibilities of independence. The end goal is develop and propose a new History Book \"for Africans by Africans\" that will be used as educational manual across several African countries to teach a different narrative to the upcoming generation. They have collected information on several african countries through corresponding state agencies. Some information include their date of independance, their official language and other country related detail.\n",
    "\n",
    "Through the grant they received, they will have to hire a Data Analyst to assist them into that project. You just completed your specialization in Statistics from Jomo Kenyatta University of Agriculture and Technology and have been given a role in the project as a data analyst. Their data sits in a csv file is and is called `classified_african_info.csv`. \n",
    "\n",
    "1. What are the two countries/empires that were at the forefront of imperialism and colonialims in Africa? According to you, what was the reason behind?\n",
    "\n",
    "2. Load the data and tell us what you observe.\n",
    "\n",
    "\n",
    "3. What are the countries that obtained their independance in 1960? Do you have any story to tell behind that?\n",
    "\n",
    "\n",
    "4. What are the countries that obtained their independance before 1960? What do you observe about them? Do you have any story to tell behind that?\n",
    "\n",
    "\n",
    "5. Some African countries wrote their independance day in letter instead of numbers. Display those countries and tell how many of them are French Speaking nations?\n",
    "\n",
    "\n",
    "6. Break down the independance date in to day month and year. Which month seemed to be the most prominent for independances?\n"
   ]
  },
  {
   "cell_type": "code",
   "execution_count": null,
   "metadata": {},
   "outputs": [],
   "source": []
  }
 ],
 "metadata": {
  "kernelspec": {
   "display_name": "Python 3",
   "language": "python",
   "name": "python3"
  },
  "language_info": {
   "codemirror_mode": {
    "name": "ipython",
    "version": 3
   },
   "file_extension": ".py",
   "mimetype": "text/x-python",
   "name": "python",
   "nbconvert_exporter": "python",
   "pygments_lexer": "ipython3",
   "version": "3.9.2"
  }
 },
 "nbformat": 4,
 "nbformat_minor": 2
}
