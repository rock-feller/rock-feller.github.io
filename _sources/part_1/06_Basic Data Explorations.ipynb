{
 "cells": [
  {
   "cell_type": "markdown",
   "id": "relative-algeria",
   "metadata": {},
   "source": [
    "# Chapter 6: Basic Data Explorations"
   ]
  },
  {
   "cell_type": "code",
   "execution_count": 2,
   "id": "9258a2aa",
   "metadata": {},
   "outputs": [],
   "source": [
    "import numpy as np\n",
    "import pandas as pd"
   ]
  },
  {
   "cell_type": "markdown",
   "id": "242458f0",
   "metadata": {},
   "source": [
    "## 1. Viewing Data"
   ]
  },
  {
   "cell_type": "markdown",
   "id": "equal-produce",
   "metadata": {},
   "source": [
    "In this section, we will see how to view the data within a DataFrame in a\n",
    "simple and direct way, using\n",
    "appropriate methods made available to the Pandas library"
   ]
  },
  {
   "cell_type": "code",
   "execution_count": 3,
   "id": "947f6530",
   "metadata": {},
   "outputs": [
    {
     "data": {
      "text/html": [
       "<div>\n",
       "<style scoped>\n",
       "    .dataframe tbody tr th:only-of-type {\n",
       "        vertical-align: middle;\n",
       "    }\n",
       "\n",
       "    .dataframe tbody tr th {\n",
       "        vertical-align: top;\n",
       "    }\n",
       "\n",
       "    .dataframe thead th {\n",
       "        text-align: right;\n",
       "    }\n",
       "</style>\n",
       "<table border=\"1\" class=\"dataframe\">\n",
       "  <thead>\n",
       "    <tr style=\"text-align: right;\">\n",
       "      <th></th>\n",
       "      <th>0</th>\n",
       "      <th>1</th>\n",
       "      <th>2</th>\n",
       "      <th>3</th>\n",
       "      <th>4</th>\n",
       "    </tr>\n",
       "  </thead>\n",
       "  <tbody>\n",
       "    <tr>\n",
       "      <th>0</th>\n",
       "      <td>0.419391</td>\n",
       "      <td>0.427320</td>\n",
       "      <td>0.430150</td>\n",
       "      <td>0.639586</td>\n",
       "      <td>0.121112</td>\n",
       "    </tr>\n",
       "    <tr>\n",
       "      <th>1</th>\n",
       "      <td>0.929889</td>\n",
       "      <td>0.655429</td>\n",
       "      <td>0.051737</td>\n",
       "      <td>0.145797</td>\n",
       "      <td>0.136058</td>\n",
       "    </tr>\n",
       "    <tr>\n",
       "      <th>2</th>\n",
       "      <td>0.247953</td>\n",
       "      <td>0.579524</td>\n",
       "      <td>0.135879</td>\n",
       "      <td>0.305006</td>\n",
       "      <td>0.005883</td>\n",
       "    </tr>\n",
       "    <tr>\n",
       "      <th>3</th>\n",
       "      <td>0.969207</td>\n",
       "      <td>0.497113</td>\n",
       "      <td>0.436165</td>\n",
       "      <td>0.346257</td>\n",
       "      <td>0.925190</td>\n",
       "    </tr>\n",
       "    <tr>\n",
       "      <th>4</th>\n",
       "      <td>0.340361</td>\n",
       "      <td>0.128778</td>\n",
       "      <td>0.969720</td>\n",
       "      <td>0.162322</td>\n",
       "      <td>0.428677</td>\n",
       "    </tr>\n",
       "    <tr>\n",
       "      <th>5</th>\n",
       "      <td>0.250888</td>\n",
       "      <td>0.129184</td>\n",
       "      <td>0.727777</td>\n",
       "      <td>0.882556</td>\n",
       "      <td>0.480063</td>\n",
       "    </tr>\n",
       "    <tr>\n",
       "      <th>6</th>\n",
       "      <td>0.261577</td>\n",
       "      <td>0.005268</td>\n",
       "      <td>0.715300</td>\n",
       "      <td>0.216871</td>\n",
       "      <td>0.977008</td>\n",
       "    </tr>\n",
       "    <tr>\n",
       "      <th>7</th>\n",
       "      <td>0.703172</td>\n",
       "      <td>0.256367</td>\n",
       "      <td>0.845749</td>\n",
       "      <td>0.599537</td>\n",
       "      <td>0.813325</td>\n",
       "    </tr>\n",
       "    <tr>\n",
       "      <th>8</th>\n",
       "      <td>0.465204</td>\n",
       "      <td>0.059418</td>\n",
       "      <td>0.559809</td>\n",
       "      <td>0.713362</td>\n",
       "      <td>0.674473</td>\n",
       "    </tr>\n",
       "    <tr>\n",
       "      <th>9</th>\n",
       "      <td>0.380767</td>\n",
       "      <td>0.738874</td>\n",
       "      <td>0.353970</td>\n",
       "      <td>0.831861</td>\n",
       "      <td>0.663599</td>\n",
       "    </tr>\n",
       "    <tr>\n",
       "      <th>10</th>\n",
       "      <td>0.862807</td>\n",
       "      <td>0.012771</td>\n",
       "      <td>0.117760</td>\n",
       "      <td>0.142696</td>\n",
       "      <td>0.763361</td>\n",
       "    </tr>\n",
       "    <tr>\n",
       "      <th>11</th>\n",
       "      <td>0.337032</td>\n",
       "      <td>0.446021</td>\n",
       "      <td>0.270554</td>\n",
       "      <td>0.948970</td>\n",
       "      <td>0.131771</td>\n",
       "    </tr>\n",
       "    <tr>\n",
       "      <th>12</th>\n",
       "      <td>0.028382</td>\n",
       "      <td>0.521489</td>\n",
       "      <td>0.804949</td>\n",
       "      <td>0.213333</td>\n",
       "      <td>0.676976</td>\n",
       "    </tr>\n",
       "    <tr>\n",
       "      <th>13</th>\n",
       "      <td>0.736782</td>\n",
       "      <td>0.445767</td>\n",
       "      <td>0.261686</td>\n",
       "      <td>0.755538</td>\n",
       "      <td>0.852280</td>\n",
       "    </tr>\n",
       "    <tr>\n",
       "      <th>14</th>\n",
       "      <td>0.798293</td>\n",
       "      <td>0.456087</td>\n",
       "      <td>0.817670</td>\n",
       "      <td>0.954573</td>\n",
       "      <td>0.322643</td>\n",
       "    </tr>\n",
       "    <tr>\n",
       "      <th>15</th>\n",
       "      <td>0.343257</td>\n",
       "      <td>0.999594</td>\n",
       "      <td>0.435321</td>\n",
       "      <td>0.091171</td>\n",
       "      <td>0.921433</td>\n",
       "    </tr>\n",
       "    <tr>\n",
       "      <th>16</th>\n",
       "      <td>0.653291</td>\n",
       "      <td>0.316911</td>\n",
       "      <td>0.573533</td>\n",
       "      <td>0.600226</td>\n",
       "      <td>0.372740</td>\n",
       "    </tr>\n",
       "    <tr>\n",
       "      <th>17</th>\n",
       "      <td>0.900380</td>\n",
       "      <td>0.431448</td>\n",
       "      <td>0.440913</td>\n",
       "      <td>0.733958</td>\n",
       "      <td>0.314921</td>\n",
       "    </tr>\n",
       "    <tr>\n",
       "      <th>18</th>\n",
       "      <td>0.554083</td>\n",
       "      <td>0.915145</td>\n",
       "      <td>0.284522</td>\n",
       "      <td>0.158707</td>\n",
       "      <td>0.645419</td>\n",
       "    </tr>\n",
       "    <tr>\n",
       "      <th>19</th>\n",
       "      <td>0.615025</td>\n",
       "      <td>0.482160</td>\n",
       "      <td>0.583882</td>\n",
       "      <td>0.188972</td>\n",
       "      <td>0.604955</td>\n",
       "    </tr>\n",
       "  </tbody>\n",
       "</table>\n",
       "</div>"
      ],
      "text/plain": [
       "           0         1         2         3         4\n",
       "0   0.419391  0.427320  0.430150  0.639586  0.121112\n",
       "1   0.929889  0.655429  0.051737  0.145797  0.136058\n",
       "2   0.247953  0.579524  0.135879  0.305006  0.005883\n",
       "3   0.969207  0.497113  0.436165  0.346257  0.925190\n",
       "4   0.340361  0.128778  0.969720  0.162322  0.428677\n",
       "5   0.250888  0.129184  0.727777  0.882556  0.480063\n",
       "6   0.261577  0.005268  0.715300  0.216871  0.977008\n",
       "7   0.703172  0.256367  0.845749  0.599537  0.813325\n",
       "8   0.465204  0.059418  0.559809  0.713362  0.674473\n",
       "9   0.380767  0.738874  0.353970  0.831861  0.663599\n",
       "10  0.862807  0.012771  0.117760  0.142696  0.763361\n",
       "11  0.337032  0.446021  0.270554  0.948970  0.131771\n",
       "12  0.028382  0.521489  0.804949  0.213333  0.676976\n",
       "13  0.736782  0.445767  0.261686  0.755538  0.852280\n",
       "14  0.798293  0.456087  0.817670  0.954573  0.322643\n",
       "15  0.343257  0.999594  0.435321  0.091171  0.921433\n",
       "16  0.653291  0.316911  0.573533  0.600226  0.372740\n",
       "17  0.900380  0.431448  0.440913  0.733958  0.314921\n",
       "18  0.554083  0.915145  0.284522  0.158707  0.645419\n",
       "19  0.615025  0.482160  0.583882  0.188972  0.604955"
      ]
     },
     "execution_count": 3,
     "metadata": {},
     "output_type": "execute_result"
    }
   ],
   "source": [
    "random_numbers = np.random.rand(100).reshape(20,5)\n",
    "df = pd.DataFrame(random_numbers )\n",
    "df"
   ]
  },
  {
   "cell_type": "markdown",
   "id": "coated-light",
   "metadata": {},
   "source": [
    "As you can see, a part of the contents of the DataFrame have been be displayed, including the indexes with their labels. "
   ]
  },
  {
   "cell_type": "markdown",
   "id": "social-buying",
   "metadata": {},
   "source": [
    "### 1.a) The *.head()*  and the *.tail()* method"
   ]
  },
  {
   "cell_type": "markdown",
   "id": "divine-crown",
   "metadata": {},
   "source": [
    "To have a sufficient view to roughly understand the structure of a\n",
    "DataFrame and get an idea of the data it contains, the Pandas library\n",
    "provides us with the two methods `head()` and `tail()`. By calling these\n",
    "methods on a reference DataFrame, the first five lines are printed, with the\n",
    "`head()` method, or the last five lines with the `tail()` method, as follows:"
   ]
  },
  {
   "cell_type": "code",
   "execution_count": 4,
   "id": "6b20ea4b",
   "metadata": {},
   "outputs": [
    {
     "data": {
      "text/html": [
       "<div>\n",
       "<style scoped>\n",
       "    .dataframe tbody tr th:only-of-type {\n",
       "        vertical-align: middle;\n",
       "    }\n",
       "\n",
       "    .dataframe tbody tr th {\n",
       "        vertical-align: top;\n",
       "    }\n",
       "\n",
       "    .dataframe thead th {\n",
       "        text-align: right;\n",
       "    }\n",
       "</style>\n",
       "<table border=\"1\" class=\"dataframe\">\n",
       "  <thead>\n",
       "    <tr style=\"text-align: right;\">\n",
       "      <th></th>\n",
       "      <th>0</th>\n",
       "      <th>1</th>\n",
       "      <th>2</th>\n",
       "      <th>3</th>\n",
       "      <th>4</th>\n",
       "    </tr>\n",
       "  </thead>\n",
       "  <tbody>\n",
       "    <tr>\n",
       "      <th>0</th>\n",
       "      <td>0.419391</td>\n",
       "      <td>0.427320</td>\n",
       "      <td>0.430150</td>\n",
       "      <td>0.639586</td>\n",
       "      <td>0.121112</td>\n",
       "    </tr>\n",
       "    <tr>\n",
       "      <th>1</th>\n",
       "      <td>0.929889</td>\n",
       "      <td>0.655429</td>\n",
       "      <td>0.051737</td>\n",
       "      <td>0.145797</td>\n",
       "      <td>0.136058</td>\n",
       "    </tr>\n",
       "    <tr>\n",
       "      <th>2</th>\n",
       "      <td>0.247953</td>\n",
       "      <td>0.579524</td>\n",
       "      <td>0.135879</td>\n",
       "      <td>0.305006</td>\n",
       "      <td>0.005883</td>\n",
       "    </tr>\n",
       "    <tr>\n",
       "      <th>3</th>\n",
       "      <td>0.969207</td>\n",
       "      <td>0.497113</td>\n",
       "      <td>0.436165</td>\n",
       "      <td>0.346257</td>\n",
       "      <td>0.925190</td>\n",
       "    </tr>\n",
       "    <tr>\n",
       "      <th>4</th>\n",
       "      <td>0.340361</td>\n",
       "      <td>0.128778</td>\n",
       "      <td>0.969720</td>\n",
       "      <td>0.162322</td>\n",
       "      <td>0.428677</td>\n",
       "    </tr>\n",
       "  </tbody>\n",
       "</table>\n",
       "</div>"
      ],
      "text/plain": [
       "          0         1         2         3         4\n",
       "0  0.419391  0.427320  0.430150  0.639586  0.121112\n",
       "1  0.929889  0.655429  0.051737  0.145797  0.136058\n",
       "2  0.247953  0.579524  0.135879  0.305006  0.005883\n",
       "3  0.969207  0.497113  0.436165  0.346257  0.925190\n",
       "4  0.340361  0.128778  0.969720  0.162322  0.428677"
      ]
     },
     "execution_count": 4,
     "metadata": {},
     "output_type": "execute_result"
    }
   ],
   "source": [
    "df.head()"
   ]
  },
  {
   "cell_type": "markdown",
   "id": "sought-photography",
   "metadata": {},
   "source": [
    "As you can see above, the `head()` method, if used on Jupyter\n",
    "Notebook, shows the first five lines of the DataFrame with its particular\n",
    "formatting seen previously, as follows:"
   ]
  },
  {
   "cell_type": "code",
   "execution_count": 5,
   "id": "cab386b5",
   "metadata": {},
   "outputs": [
    {
     "data": {
      "text/html": [
       "<div>\n",
       "<style scoped>\n",
       "    .dataframe tbody tr th:only-of-type {\n",
       "        vertical-align: middle;\n",
       "    }\n",
       "\n",
       "    .dataframe tbody tr th {\n",
       "        vertical-align: top;\n",
       "    }\n",
       "\n",
       "    .dataframe thead th {\n",
       "        text-align: right;\n",
       "    }\n",
       "</style>\n",
       "<table border=\"1\" class=\"dataframe\">\n",
       "  <thead>\n",
       "    <tr style=\"text-align: right;\">\n",
       "      <th></th>\n",
       "      <th>0</th>\n",
       "      <th>1</th>\n",
       "      <th>2</th>\n",
       "      <th>3</th>\n",
       "      <th>4</th>\n",
       "    </tr>\n",
       "  </thead>\n",
       "  <tbody>\n",
       "    <tr>\n",
       "      <th>15</th>\n",
       "      <td>0.343257</td>\n",
       "      <td>0.999594</td>\n",
       "      <td>0.435321</td>\n",
       "      <td>0.091171</td>\n",
       "      <td>0.921433</td>\n",
       "    </tr>\n",
       "    <tr>\n",
       "      <th>16</th>\n",
       "      <td>0.653291</td>\n",
       "      <td>0.316911</td>\n",
       "      <td>0.573533</td>\n",
       "      <td>0.600226</td>\n",
       "      <td>0.372740</td>\n",
       "    </tr>\n",
       "    <tr>\n",
       "      <th>17</th>\n",
       "      <td>0.900380</td>\n",
       "      <td>0.431448</td>\n",
       "      <td>0.440913</td>\n",
       "      <td>0.733958</td>\n",
       "      <td>0.314921</td>\n",
       "    </tr>\n",
       "    <tr>\n",
       "      <th>18</th>\n",
       "      <td>0.554083</td>\n",
       "      <td>0.915145</td>\n",
       "      <td>0.284522</td>\n",
       "      <td>0.158707</td>\n",
       "      <td>0.645419</td>\n",
       "    </tr>\n",
       "    <tr>\n",
       "      <th>19</th>\n",
       "      <td>0.615025</td>\n",
       "      <td>0.482160</td>\n",
       "      <td>0.583882</td>\n",
       "      <td>0.188972</td>\n",
       "      <td>0.604955</td>\n",
       "    </tr>\n",
       "  </tbody>\n",
       "</table>\n",
       "</div>"
      ],
      "text/plain": [
       "           0         1         2         3         4\n",
       "15  0.343257  0.999594  0.435321  0.091171  0.921433\n",
       "16  0.653291  0.316911  0.573533  0.600226  0.372740\n",
       "17  0.900380  0.431448  0.440913  0.733958  0.314921\n",
       "18  0.554083  0.915145  0.284522  0.158707  0.645419\n",
       "19  0.615025  0.482160  0.583882  0.188972  0.604955"
      ]
     },
     "execution_count": 5,
     "metadata": {},
     "output_type": "execute_result"
    }
   ],
   "source": [
    "df.tail()"
   ]
  },
  {
   "cell_type": "code",
   "execution_count": 6,
   "id": "viral-tackle",
   "metadata": {},
   "outputs": [
    {
     "data": {
      "text/html": [
       "<div>\n",
       "<style scoped>\n",
       "    .dataframe tbody tr th:only-of-type {\n",
       "        vertical-align: middle;\n",
       "    }\n",
       "\n",
       "    .dataframe tbody tr th {\n",
       "        vertical-align: top;\n",
       "    }\n",
       "\n",
       "    .dataframe thead th {\n",
       "        text-align: right;\n",
       "    }\n",
       "</style>\n",
       "<table border=\"1\" class=\"dataframe\">\n",
       "  <thead>\n",
       "    <tr style=\"text-align: right;\">\n",
       "      <th></th>\n",
       "      <th>0</th>\n",
       "      <th>1</th>\n",
       "      <th>2</th>\n",
       "      <th>3</th>\n",
       "      <th>4</th>\n",
       "    </tr>\n",
       "  </thead>\n",
       "  <tbody>\n",
       "    <tr>\n",
       "      <th>9</th>\n",
       "      <td>0.380767</td>\n",
       "      <td>0.738874</td>\n",
       "      <td>0.353970</td>\n",
       "      <td>0.831861</td>\n",
       "      <td>0.663599</td>\n",
       "    </tr>\n",
       "    <tr>\n",
       "      <th>4</th>\n",
       "      <td>0.340361</td>\n",
       "      <td>0.128778</td>\n",
       "      <td>0.969720</td>\n",
       "      <td>0.162322</td>\n",
       "      <td>0.428677</td>\n",
       "    </tr>\n",
       "    <tr>\n",
       "      <th>15</th>\n",
       "      <td>0.343257</td>\n",
       "      <td>0.999594</td>\n",
       "      <td>0.435321</td>\n",
       "      <td>0.091171</td>\n",
       "      <td>0.921433</td>\n",
       "    </tr>\n",
       "    <tr>\n",
       "      <th>6</th>\n",
       "      <td>0.261577</td>\n",
       "      <td>0.005268</td>\n",
       "      <td>0.715300</td>\n",
       "      <td>0.216871</td>\n",
       "      <td>0.977008</td>\n",
       "    </tr>\n",
       "  </tbody>\n",
       "</table>\n",
       "</div>"
      ],
      "text/plain": [
       "           0         1         2         3         4\n",
       "9   0.380767  0.738874  0.353970  0.831861  0.663599\n",
       "4   0.340361  0.128778  0.969720  0.162322  0.428677\n",
       "15  0.343257  0.999594  0.435321  0.091171  0.921433\n",
       "6   0.261577  0.005268  0.715300  0.216871  0.977008"
      ]
     },
     "execution_count": 6,
     "metadata": {},
     "output_type": "execute_result"
    }
   ],
   "source": [
    "df.sample(4)"
   ]
  },
  {
   "cell_type": "markdown",
   "id": "quarterly-arbor",
   "metadata": {},
   "source": [
    "These two methods allow us to see the first and last five lines of the\n",
    "DataFrame. This default behavior can be changed by passing the number of\n",
    "lines to be displayed as the argument of the two methods. For example, if\n",
    "we want to see only the first three rows of the DataFrame, we will get the\n",
    "results, as shown"
   ]
  },
  {
   "cell_type": "code",
   "execution_count": 7,
   "id": "d56ce613",
   "metadata": {},
   "outputs": [
    {
     "data": {
      "text/html": [
       "<div>\n",
       "<style scoped>\n",
       "    .dataframe tbody tr th:only-of-type {\n",
       "        vertical-align: middle;\n",
       "    }\n",
       "\n",
       "    .dataframe tbody tr th {\n",
       "        vertical-align: top;\n",
       "    }\n",
       "\n",
       "    .dataframe thead th {\n",
       "        text-align: right;\n",
       "    }\n",
       "</style>\n",
       "<table border=\"1\" class=\"dataframe\">\n",
       "  <thead>\n",
       "    <tr style=\"text-align: right;\">\n",
       "      <th></th>\n",
       "      <th>0</th>\n",
       "      <th>1</th>\n",
       "      <th>2</th>\n",
       "      <th>3</th>\n",
       "      <th>4</th>\n",
       "    </tr>\n",
       "  </thead>\n",
       "  <tbody>\n",
       "    <tr>\n",
       "      <th>0</th>\n",
       "      <td>0.419391</td>\n",
       "      <td>0.427320</td>\n",
       "      <td>0.430150</td>\n",
       "      <td>0.639586</td>\n",
       "      <td>0.121112</td>\n",
       "    </tr>\n",
       "    <tr>\n",
       "      <th>1</th>\n",
       "      <td>0.929889</td>\n",
       "      <td>0.655429</td>\n",
       "      <td>0.051737</td>\n",
       "      <td>0.145797</td>\n",
       "      <td>0.136058</td>\n",
       "    </tr>\n",
       "    <tr>\n",
       "      <th>2</th>\n",
       "      <td>0.247953</td>\n",
       "      <td>0.579524</td>\n",
       "      <td>0.135879</td>\n",
       "      <td>0.305006</td>\n",
       "      <td>0.005883</td>\n",
       "    </tr>\n",
       "  </tbody>\n",
       "</table>\n",
       "</div>"
      ],
      "text/plain": [
       "          0         1         2         3         4\n",
       "0  0.419391  0.427320  0.430150  0.639586  0.121112\n",
       "1  0.929889  0.655429  0.051737  0.145797  0.136058\n",
       "2  0.247953  0.579524  0.135879  0.305006  0.005883"
      ]
     },
     "execution_count": 7,
     "metadata": {},
     "output_type": "execute_result"
    }
   ],
   "source": [
    "df.head(3)"
   ]
  },
  {
   "cell_type": "code",
   "execution_count": 9,
   "id": "surface-prospect",
   "metadata": {},
   "outputs": [
    {
     "data": {
      "text/html": [
       "<div>\n",
       "<style scoped>\n",
       "    .dataframe tbody tr th:only-of-type {\n",
       "        vertical-align: middle;\n",
       "    }\n",
       "\n",
       "    .dataframe tbody tr th {\n",
       "        vertical-align: top;\n",
       "    }\n",
       "\n",
       "    .dataframe thead th {\n",
       "        text-align: right;\n",
       "    }\n",
       "</style>\n",
       "<table border=\"1\" class=\"dataframe\">\n",
       "  <thead>\n",
       "    <tr style=\"text-align: right;\">\n",
       "      <th></th>\n",
       "      <th>0</th>\n",
       "      <th>1</th>\n",
       "      <th>2</th>\n",
       "      <th>3</th>\n",
       "      <th>4</th>\n",
       "    </tr>\n",
       "  </thead>\n",
       "  <tbody>\n",
       "    <tr>\n",
       "      <th>0</th>\n",
       "      <td>0.419391</td>\n",
       "      <td>0.42732</td>\n",
       "      <td>0.43015</td>\n",
       "      <td>0.639586</td>\n",
       "      <td>0.121112</td>\n",
       "    </tr>\n",
       "  </tbody>\n",
       "</table>\n",
       "</div>"
      ],
      "text/plain": [
       "          0        1        2         3         4\n",
       "0  0.419391  0.42732  0.43015  0.639586  0.121112"
      ]
     },
     "execution_count": 9,
     "metadata": {},
     "output_type": "execute_result"
    }
   ],
   "source": [
    "df[:1]"
   ]
  },
  {
   "cell_type": "markdown",
   "id": "98fd2ce2",
   "metadata": {},
   "source": [
    "## 2. Selection"
   ]
  },
  {
   "cell_type": "markdown",
   "id": "economic-carol",
   "metadata": {},
   "source": [
    "During the creation of the DataFrame, we already\n",
    "learned how to select the elements inside it. In this section, we will address\n",
    "the selection in the foreground, deepening this topic which will then be the\n",
    "basis of all the other features present in this and subsequent section"
   ]
  },
  {
   "cell_type": "markdown",
   "id": "silent-capacity",
   "metadata": {},
   "source": [
    "Since the Pandas library is based on the NumPy library, and in its way,\n",
    "extends some of its features, it wanted to keep both the possibility of being\n",
    "able to select the elements of the DataFrame and Series with the numbers of\n",
    "the positions. Both extend this concept through the Indexes and their labels.\n",
    "Subsetting can then be done via the following:\n",
    "* Indexing: Users can select the data using the labels that distinguish\n",
    "the individual rows and columns, through the Index objects.\n",
    "* Integer Positioning: Users can select data using positions for integers\n",
    "of rows and columns, such as NumPy ndarrays."
   ]
  },
  {
   "cell_type": "markdown",
   "id": "stretch-manor",
   "metadata": {},
   "source": [
    "When you want to select a single element, things are quite simple – you\n",
    "specify the label corresponding to the row and the corresponding column\n",
    "(indexing) or the position within the DataFrame by means of the pair of\n",
    "integers (integer positioning) – as shown as follows:"
   ]
  },
  {
   "cell_type": "code",
   "execution_count": 12,
   "id": "3e409e98",
   "metadata": {},
   "outputs": [
    {
     "data": {
      "text/html": [
       "<div>\n",
       "<style scoped>\n",
       "    .dataframe tbody tr th:only-of-type {\n",
       "        vertical-align: middle;\n",
       "    }\n",
       "\n",
       "    .dataframe tbody tr th {\n",
       "        vertical-align: top;\n",
       "    }\n",
       "\n",
       "    .dataframe thead th {\n",
       "        text-align: right;\n",
       "    }\n",
       "</style>\n",
       "<table border=\"1\" class=\"dataframe\">\n",
       "  <thead>\n",
       "    <tr style=\"text-align: right;\">\n",
       "      <th></th>\n",
       "      <th>A</th>\n",
       "      <th>B</th>\n",
       "      <th>C</th>\n",
       "      <th>D</th>\n",
       "    </tr>\n",
       "  </thead>\n",
       "  <tbody>\n",
       "    <tr>\n",
       "      <th>a</th>\n",
       "      <td>0</td>\n",
       "      <td>5</td>\n",
       "      <td>4</td>\n",
       "      <td>3</td>\n",
       "    </tr>\n",
       "    <tr>\n",
       "      <th>b</th>\n",
       "      <td>6</td>\n",
       "      <td>5</td>\n",
       "      <td>3</td>\n",
       "      <td>2</td>\n",
       "    </tr>\n",
       "    <tr>\n",
       "      <th>c</th>\n",
       "      <td>7</td>\n",
       "      <td>2</td>\n",
       "      <td>2</td>\n",
       "      <td>4</td>\n",
       "    </tr>\n",
       "    <tr>\n",
       "      <th>d</th>\n",
       "      <td>1</td>\n",
       "      <td>7</td>\n",
       "      <td>5</td>\n",
       "      <td>0</td>\n",
       "    </tr>\n",
       "  </tbody>\n",
       "</table>\n",
       "</div>"
      ],
      "text/plain": [
       "   A  B  C  D\n",
       "a  0  5  4  3\n",
       "b  6  5  3  2\n",
       "c  7  2  2  4\n",
       "d  1  7  5  0"
      ]
     },
     "execution_count": 12,
     "metadata": {},
     "output_type": "execute_result"
    }
   ],
   "source": [
    "df1 = pd.DataFrame(np.random.randint(0,9,16).reshape(4,4),\n",
    "                           index = ['a','b','c','d'],\n",
    "                           columns = ['A','B','C','D'])\n",
    "df1"
   ]
  },
  {
   "cell_type": "markdown",
   "id": "rapid-resistance",
   "metadata": {},
   "source": [
    "### 2.a) Selection by Labels: The `.loc[ ]` method"
   ]
  },
  {
   "cell_type": "markdown",
   "id": "infrared-product",
   "metadata": {},
   "source": [
    "The `.loc[ ]` operator focuses on selection based on the labels contained\n",
    "within the Index objects, as shown as follows:\n",
    "`.loc[ row labels, column labels]`\n",
    "\n",
    "If you want to select a single element within the DataFrame, you will first\n",
    "specify the row label and then that of the column, as shown as follows:"
   ]
  },
  {
   "cell_type": "code",
   "execution_count": 11,
   "id": "outside-diversity",
   "metadata": {},
   "outputs": [
    {
     "data": {
      "text/html": [
       "<div>\n",
       "<style scoped>\n",
       "    .dataframe tbody tr th:only-of-type {\n",
       "        vertical-align: middle;\n",
       "    }\n",
       "\n",
       "    .dataframe tbody tr th {\n",
       "        vertical-align: top;\n",
       "    }\n",
       "\n",
       "    .dataframe thead th {\n",
       "        text-align: right;\n",
       "    }\n",
       "</style>\n",
       "<table border=\"1\" class=\"dataframe\">\n",
       "  <thead>\n",
       "    <tr style=\"text-align: right;\">\n",
       "      <th></th>\n",
       "      <th>0</th>\n",
       "      <th>1</th>\n",
       "      <th>2</th>\n",
       "      <th>3</th>\n",
       "      <th>4</th>\n",
       "    </tr>\n",
       "  </thead>\n",
       "  <tbody>\n",
       "    <tr>\n",
       "      <th>0</th>\n",
       "      <td>0.419391</td>\n",
       "      <td>0.427320</td>\n",
       "      <td>0.430150</td>\n",
       "      <td>0.639586</td>\n",
       "      <td>0.121112</td>\n",
       "    </tr>\n",
       "    <tr>\n",
       "      <th>1</th>\n",
       "      <td>0.929889</td>\n",
       "      <td>0.655429</td>\n",
       "      <td>0.051737</td>\n",
       "      <td>0.145797</td>\n",
       "      <td>0.136058</td>\n",
       "    </tr>\n",
       "    <tr>\n",
       "      <th>2</th>\n",
       "      <td>0.247953</td>\n",
       "      <td>0.579524</td>\n",
       "      <td>0.135879</td>\n",
       "      <td>0.305006</td>\n",
       "      <td>0.005883</td>\n",
       "    </tr>\n",
       "    <tr>\n",
       "      <th>3</th>\n",
       "      <td>0.969207</td>\n",
       "      <td>0.497113</td>\n",
       "      <td>0.436165</td>\n",
       "      <td>0.346257</td>\n",
       "      <td>0.925190</td>\n",
       "    </tr>\n",
       "    <tr>\n",
       "      <th>4</th>\n",
       "      <td>0.340361</td>\n",
       "      <td>0.128778</td>\n",
       "      <td>0.969720</td>\n",
       "      <td>0.162322</td>\n",
       "      <td>0.428677</td>\n",
       "    </tr>\n",
       "    <tr>\n",
       "      <th>5</th>\n",
       "      <td>0.250888</td>\n",
       "      <td>0.129184</td>\n",
       "      <td>0.727777</td>\n",
       "      <td>0.882556</td>\n",
       "      <td>0.480063</td>\n",
       "    </tr>\n",
       "    <tr>\n",
       "      <th>6</th>\n",
       "      <td>0.261577</td>\n",
       "      <td>0.005268</td>\n",
       "      <td>0.715300</td>\n",
       "      <td>0.216871</td>\n",
       "      <td>0.977008</td>\n",
       "    </tr>\n",
       "    <tr>\n",
       "      <th>7</th>\n",
       "      <td>0.703172</td>\n",
       "      <td>0.256367</td>\n",
       "      <td>0.845749</td>\n",
       "      <td>0.599537</td>\n",
       "      <td>0.813325</td>\n",
       "    </tr>\n",
       "    <tr>\n",
       "      <th>8</th>\n",
       "      <td>0.465204</td>\n",
       "      <td>0.059418</td>\n",
       "      <td>0.559809</td>\n",
       "      <td>0.713362</td>\n",
       "      <td>0.674473</td>\n",
       "    </tr>\n",
       "    <tr>\n",
       "      <th>9</th>\n",
       "      <td>0.380767</td>\n",
       "      <td>0.738874</td>\n",
       "      <td>0.353970</td>\n",
       "      <td>0.831861</td>\n",
       "      <td>0.663599</td>\n",
       "    </tr>\n",
       "    <tr>\n",
       "      <th>10</th>\n",
       "      <td>0.862807</td>\n",
       "      <td>0.012771</td>\n",
       "      <td>0.117760</td>\n",
       "      <td>0.142696</td>\n",
       "      <td>0.763361</td>\n",
       "    </tr>\n",
       "    <tr>\n",
       "      <th>11</th>\n",
       "      <td>0.337032</td>\n",
       "      <td>0.446021</td>\n",
       "      <td>0.270554</td>\n",
       "      <td>0.948970</td>\n",
       "      <td>0.131771</td>\n",
       "    </tr>\n",
       "    <tr>\n",
       "      <th>12</th>\n",
       "      <td>0.028382</td>\n",
       "      <td>0.521489</td>\n",
       "      <td>0.804949</td>\n",
       "      <td>0.213333</td>\n",
       "      <td>0.676976</td>\n",
       "    </tr>\n",
       "    <tr>\n",
       "      <th>13</th>\n",
       "      <td>0.736782</td>\n",
       "      <td>0.445767</td>\n",
       "      <td>0.261686</td>\n",
       "      <td>0.755538</td>\n",
       "      <td>0.852280</td>\n",
       "    </tr>\n",
       "    <tr>\n",
       "      <th>14</th>\n",
       "      <td>0.798293</td>\n",
       "      <td>0.456087</td>\n",
       "      <td>0.817670</td>\n",
       "      <td>0.954573</td>\n",
       "      <td>0.322643</td>\n",
       "    </tr>\n",
       "    <tr>\n",
       "      <th>15</th>\n",
       "      <td>0.343257</td>\n",
       "      <td>0.999594</td>\n",
       "      <td>0.435321</td>\n",
       "      <td>0.091171</td>\n",
       "      <td>0.921433</td>\n",
       "    </tr>\n",
       "    <tr>\n",
       "      <th>16</th>\n",
       "      <td>0.653291</td>\n",
       "      <td>0.316911</td>\n",
       "      <td>0.573533</td>\n",
       "      <td>0.600226</td>\n",
       "      <td>0.372740</td>\n",
       "    </tr>\n",
       "    <tr>\n",
       "      <th>17</th>\n",
       "      <td>0.900380</td>\n",
       "      <td>0.431448</td>\n",
       "      <td>0.440913</td>\n",
       "      <td>0.733958</td>\n",
       "      <td>0.314921</td>\n",
       "    </tr>\n",
       "    <tr>\n",
       "      <th>18</th>\n",
       "      <td>0.554083</td>\n",
       "      <td>0.915145</td>\n",
       "      <td>0.284522</td>\n",
       "      <td>0.158707</td>\n",
       "      <td>0.645419</td>\n",
       "    </tr>\n",
       "    <tr>\n",
       "      <th>19</th>\n",
       "      <td>0.615025</td>\n",
       "      <td>0.482160</td>\n",
       "      <td>0.583882</td>\n",
       "      <td>0.188972</td>\n",
       "      <td>0.604955</td>\n",
       "    </tr>\n",
       "  </tbody>\n",
       "</table>\n",
       "</div>"
      ],
      "text/plain": [
       "           0         1         2         3         4\n",
       "0   0.419391  0.427320  0.430150  0.639586  0.121112\n",
       "1   0.929889  0.655429  0.051737  0.145797  0.136058\n",
       "2   0.247953  0.579524  0.135879  0.305006  0.005883\n",
       "3   0.969207  0.497113  0.436165  0.346257  0.925190\n",
       "4   0.340361  0.128778  0.969720  0.162322  0.428677\n",
       "5   0.250888  0.129184  0.727777  0.882556  0.480063\n",
       "6   0.261577  0.005268  0.715300  0.216871  0.977008\n",
       "7   0.703172  0.256367  0.845749  0.599537  0.813325\n",
       "8   0.465204  0.059418  0.559809  0.713362  0.674473\n",
       "9   0.380767  0.738874  0.353970  0.831861  0.663599\n",
       "10  0.862807  0.012771  0.117760  0.142696  0.763361\n",
       "11  0.337032  0.446021  0.270554  0.948970  0.131771\n",
       "12  0.028382  0.521489  0.804949  0.213333  0.676976\n",
       "13  0.736782  0.445767  0.261686  0.755538  0.852280\n",
       "14  0.798293  0.456087  0.817670  0.954573  0.322643\n",
       "15  0.343257  0.999594  0.435321  0.091171  0.921433\n",
       "16  0.653291  0.316911  0.573533  0.600226  0.372740\n",
       "17  0.900380  0.431448  0.440913  0.733958  0.314921\n",
       "18  0.554083  0.915145  0.284522  0.158707  0.645419\n",
       "19  0.615025  0.482160  0.583882  0.188972  0.604955"
      ]
     },
     "execution_count": 11,
     "metadata": {},
     "output_type": "execute_result"
    }
   ],
   "source": [
    "df"
   ]
  },
  {
   "cell_type": "code",
   "execution_count": null,
   "id": "0971a1fa",
   "metadata": {},
   "outputs": [],
   "source": [
    "df1.loc['a','B']"
   ]
  },
  {
   "cell_type": "markdown",
   "id": "accepting-carry",
   "metadata": {},
   "source": [
    "A single element as a scalar is obtained as a return value.\n",
    "Whereas, if you want to select a subset of adjacent elements, you can use\n",
    "the slicing technique with labels, as shown as follows:"
   ]
  },
  {
   "cell_type": "code",
   "execution_count": 13,
   "id": "9506007c",
   "metadata": {},
   "outputs": [
    {
     "data": {
      "text/html": [
       "<div>\n",
       "<style scoped>\n",
       "    .dataframe tbody tr th:only-of-type {\n",
       "        vertical-align: middle;\n",
       "    }\n",
       "\n",
       "    .dataframe tbody tr th {\n",
       "        vertical-align: top;\n",
       "    }\n",
       "\n",
       "    .dataframe thead th {\n",
       "        text-align: right;\n",
       "    }\n",
       "</style>\n",
       "<table border=\"1\" class=\"dataframe\">\n",
       "  <thead>\n",
       "    <tr style=\"text-align: right;\">\n",
       "      <th></th>\n",
       "      <th>A</th>\n",
       "      <th>B</th>\n",
       "      <th>C</th>\n",
       "    </tr>\n",
       "  </thead>\n",
       "  <tbody>\n",
       "    <tr>\n",
       "      <th>b</th>\n",
       "      <td>6</td>\n",
       "      <td>5</td>\n",
       "      <td>3</td>\n",
       "    </tr>\n",
       "    <tr>\n",
       "      <th>c</th>\n",
       "      <td>7</td>\n",
       "      <td>2</td>\n",
       "      <td>2</td>\n",
       "    </tr>\n",
       "    <tr>\n",
       "      <th>d</th>\n",
       "      <td>1</td>\n",
       "      <td>7</td>\n",
       "      <td>5</td>\n",
       "    </tr>\n",
       "  </tbody>\n",
       "</table>\n",
       "</div>"
      ],
      "text/plain": [
       "   A  B  C\n",
       "b  6  5  3\n",
       "c  7  2  2\n",
       "d  1  7  5"
      ]
     },
     "execution_count": 13,
     "metadata": {},
     "output_type": "execute_result"
    }
   ],
   "source": [
    "df1.loc['b':'d','A':'C']"
   ]
  },
  {
   "cell_type": "code",
   "execution_count": 14,
   "id": "4e30f10d",
   "metadata": {},
   "outputs": [
    {
     "data": {
      "text/html": [
       "<div>\n",
       "<style scoped>\n",
       "    .dataframe tbody tr th:only-of-type {\n",
       "        vertical-align: middle;\n",
       "    }\n",
       "\n",
       "    .dataframe tbody tr th {\n",
       "        vertical-align: top;\n",
       "    }\n",
       "\n",
       "    .dataframe thead th {\n",
       "        text-align: right;\n",
       "    }\n",
       "</style>\n",
       "<table border=\"1\" class=\"dataframe\">\n",
       "  <thead>\n",
       "    <tr style=\"text-align: right;\">\n",
       "      <th></th>\n",
       "      <th>A</th>\n",
       "      <th>B</th>\n",
       "      <th>C</th>\n",
       "      <th>D</th>\n",
       "    </tr>\n",
       "  </thead>\n",
       "  <tbody>\n",
       "    <tr>\n",
       "      <th>a</th>\n",
       "      <td>0</td>\n",
       "      <td>5</td>\n",
       "      <td>4</td>\n",
       "      <td>3</td>\n",
       "    </tr>\n",
       "    <tr>\n",
       "      <th>b</th>\n",
       "      <td>6</td>\n",
       "      <td>5</td>\n",
       "      <td>3</td>\n",
       "      <td>2</td>\n",
       "    </tr>\n",
       "    <tr>\n",
       "      <th>c</th>\n",
       "      <td>7</td>\n",
       "      <td>2</td>\n",
       "      <td>2</td>\n",
       "      <td>4</td>\n",
       "    </tr>\n",
       "  </tbody>\n",
       "</table>\n",
       "</div>"
      ],
      "text/plain": [
       "   A  B  C  D\n",
       "a  0  5  4  3\n",
       "b  6  5  3  2\n",
       "c  7  2  2  4"
      ]
     },
     "execution_count": 14,
     "metadata": {},
     "output_type": "execute_result"
    }
   ],
   "source": [
    "df1.loc['a':'c', :]"
   ]
  },
  {
   "cell_type": "markdown",
   "id": "capital-amendment",
   "metadata": {},
   "source": [
    "But the columns and rows may also not be contiguous. In this case, you can\n",
    "use lists containing the labels to be selected, as shown as follows:"
   ]
  },
  {
   "cell_type": "code",
   "execution_count": null,
   "id": "3bace061",
   "metadata": {},
   "outputs": [],
   "source": [
    "df1.loc[['a','c'], ['A','D']]"
   ]
  },
  {
   "cell_type": "markdown",
   "id": "little-conditions",
   "metadata": {},
   "source": [
    "So, where we have selections with contiguous rows and columns, it is\n",
    "advisable to specify the range with slicing, and where instead the rows and\n",
    "columns are isolated, the labels are specified in the form of lists. However,\n",
    "using both words in the same column or row selection gives an error, as\n",
    "shown as follows:"
   ]
  },
  {
   "cell_type": "code",
   "execution_count": null,
   "id": "ba957b8d",
   "metadata": {},
   "outputs": [],
   "source": [
    "df1.loc['a':'c', 'A':'B'].join(df1.loc['a':'c', 'D'])"
   ]
  },
  {
   "cell_type": "code",
   "execution_count": null,
   "id": "9afd9b64",
   "metadata": {},
   "outputs": [],
   "source": [
    "df1.loc[:,['A','B','D']].loc['a':'c', :]"
   ]
  },
  {
   "cell_type": "markdown",
   "id": "grand-girlfriend",
   "metadata": {},
   "source": [
    "### 2.b) Selection by Location: The `.iloc[ ]` method"
   ]
  },
  {
   "cell_type": "markdown",
   "id": "local-ivory",
   "metadata": {},
   "source": [
    "The `.iloc[ ]` operator works with the same rules as the selection operator [ ]\n",
    "for lists in Python. That is, it focuses on the positions of the elements\n",
    "expressed by sequences of integers from 0 to N-1 with N as the length of the\n",
    "Index, as shown as follows:\n",
    "`.iloc[ row number, column number]`\n",
    "So, if we want to select a single element, it will be enough to add its\n",
    "numerical coordinates of the corresponding position, as shown as follows:"
   ]
  },
  {
   "cell_type": "code",
   "execution_count": 15,
   "id": "5e716bbc",
   "metadata": {},
   "outputs": [
    {
     "data": {
      "text/plain": [
       "2"
      ]
     },
     "execution_count": 15,
     "metadata": {},
     "output_type": "execute_result"
    }
   ],
   "source": [
    "df1.iloc[1,3]"
   ]
  },
  {
   "cell_type": "markdown",
   "id": "satisfactory-cooler",
   "metadata": {},
   "source": [
    "Whereas, if we want to select a subset of the DataFrame, we can use the\n",
    "slicing technique by specifying the ranges of the numerical indices if they\n",
    "are adjacent, as shown as follows:"
   ]
  },
  {
   "cell_type": "code",
   "execution_count": 16,
   "id": "2c4154cf",
   "metadata": {},
   "outputs": [
    {
     "data": {
      "text/html": [
       "<div>\n",
       "<style scoped>\n",
       "    .dataframe tbody tr th:only-of-type {\n",
       "        vertical-align: middle;\n",
       "    }\n",
       "\n",
       "    .dataframe tbody tr th {\n",
       "        vertical-align: top;\n",
       "    }\n",
       "\n",
       "    .dataframe thead th {\n",
       "        text-align: right;\n",
       "    }\n",
       "</style>\n",
       "<table border=\"1\" class=\"dataframe\">\n",
       "  <thead>\n",
       "    <tr style=\"text-align: right;\">\n",
       "      <th></th>\n",
       "      <th>B</th>\n",
       "      <th>C</th>\n",
       "    </tr>\n",
       "  </thead>\n",
       "  <tbody>\n",
       "    <tr>\n",
       "      <th>a</th>\n",
       "      <td>5</td>\n",
       "      <td>4</td>\n",
       "    </tr>\n",
       "    <tr>\n",
       "      <th>b</th>\n",
       "      <td>5</td>\n",
       "      <td>3</td>\n",
       "    </tr>\n",
       "  </tbody>\n",
       "</table>\n",
       "</div>"
      ],
      "text/plain": [
       "   B  C\n",
       "a  5  4\n",
       "b  5  3"
      ]
     },
     "execution_count": 16,
     "metadata": {},
     "output_type": "execute_result"
    }
   ],
   "source": [
    "df1.iloc[0:2,1:3]"
   ]
  },
  {
   "cell_type": "markdown",
   "id": "heard-perfume",
   "metadata": {},
   "source": [
    "And if the elements are not adjacent, we can replace slices with lists, as\n",
    "shown as follows:"
   ]
  },
  {
   "cell_type": "code",
   "execution_count": 17,
   "id": "e5bc6cae",
   "metadata": {},
   "outputs": [
    {
     "data": {
      "text/html": [
       "<div>\n",
       "<style scoped>\n",
       "    .dataframe tbody tr th:only-of-type {\n",
       "        vertical-align: middle;\n",
       "    }\n",
       "\n",
       "    .dataframe tbody tr th {\n",
       "        vertical-align: top;\n",
       "    }\n",
       "\n",
       "    .dataframe thead th {\n",
       "        text-align: right;\n",
       "    }\n",
       "</style>\n",
       "<table border=\"1\" class=\"dataframe\">\n",
       "  <thead>\n",
       "    <tr style=\"text-align: right;\">\n",
       "      <th></th>\n",
       "      <th>A</th>\n",
       "      <th>C</th>\n",
       "    </tr>\n",
       "  </thead>\n",
       "  <tbody>\n",
       "    <tr>\n",
       "      <th>b</th>\n",
       "      <td>6</td>\n",
       "      <td>3</td>\n",
       "    </tr>\n",
       "  </tbody>\n",
       "</table>\n",
       "</div>"
      ],
      "text/plain": [
       "   A  C\n",
       "b  6  3"
      ]
     },
     "execution_count": 17,
     "metadata": {},
     "output_type": "execute_result"
    }
   ],
   "source": [
    "df1.iloc[[1],[0,2]]"
   ]
  },
  {
   "cell_type": "code",
   "execution_count": 18,
   "id": "560a1522",
   "metadata": {},
   "outputs": [
    {
     "data": {
      "text/plain": [
       "pandas.core.frame.DataFrame"
      ]
     },
     "execution_count": 18,
     "metadata": {},
     "output_type": "execute_result"
    }
   ],
   "source": [
    "type(df1.iloc[[1],[0,2]])"
   ]
  },
  {
   "cell_type": "code",
   "execution_count": 19,
   "id": "42cb7104",
   "metadata": {},
   "outputs": [
    {
     "data": {
      "text/plain": [
       "A    6\n",
       "C    3\n",
       "Name: b, dtype: int64"
      ]
     },
     "execution_count": 19,
     "metadata": {},
     "output_type": "execute_result"
    }
   ],
   "source": [
    "df1.iloc[1,[0,2]]"
   ]
  },
  {
   "cell_type": "markdown",
   "id": "coral-intellectual",
   "metadata": {},
   "source": [
    "If you must select a single row, insert the value within a single element list,\n",
    "to have a DataFrame that preserves the same indexing structure as a return\n",
    "value, as shown as follows:"
   ]
  },
  {
   "cell_type": "code",
   "execution_count": null,
   "id": "404baf38",
   "metadata": {},
   "outputs": [],
   "source": [
    "type(df1.iloc[1,[0,2]])"
   ]
  },
  {
   "cell_type": "markdown",
   "id": "bizarre-productivity",
   "metadata": {},
   "source": [
    "### 2.c) Selection on dtype"
   ]
  },
  {
   "cell_type": "markdown",
   "id": "wicked-burns",
   "metadata": {},
   "source": [
    "So far, we have seen that the selections can be made by subsetting or by\n",
    "exploiting the indexing of the DataFrame. But there are also other selection\n",
    "methods, for instance, based on the values contained in the DataFrame.\n",
    "\n",
    "For\n",
    "example, selections can be made based on the type of data (dtype).\n",
    "To make this type of selection, we do not use an operator, but a method\n",
    "called `select_dtypes()`. This method accepts the following two possible\n",
    "parameters:\n",
    "* include\n",
    "* exclude"
   ]
  },
  {
   "cell_type": "code",
   "execution_count": null,
   "id": "df73cd5d",
   "metadata": {},
   "outputs": [],
   "source": [
    "df2 = pd.DataFrame([[6,0.3,'one', True],[2,5.1,'two', False],[1,4.3,'three', True]], \n",
    "                     index=['a','b','c'], \n",
    "                     columns=['A','B','C','D'])\n",
    "df2"
   ]
  },
  {
   "cell_type": "markdown",
   "id": "handed-strap",
   "metadata": {},
   "source": [
    "To obtain the list of the dtypes of each single column of the DataFrame,\n",
    "we can call the dtypes attribute, as shown as follows:"
   ]
  },
  {
   "cell_type": "code",
   "execution_count": null,
   "id": "7a789dc3",
   "metadata": {},
   "outputs": [],
   "source": [
    "df2.dtypes"
   ]
  },
  {
   "cell_type": "markdown",
   "id": "mighty-arrangement",
   "metadata": {},
   "source": [
    "If, on the other hand, we want to select by exclusion, we use the exclude\n",
    "parameter instead with a list containing the dtypes we want to exclude, as\n",
    "shown as follows:"
   ]
  },
  {
   "cell_type": "code",
   "execution_count": null,
   "id": "08474bd8",
   "metadata": {},
   "outputs": [],
   "source": [
    "df2_ = df2.select_dtypes(include=['bool','int64'])\n",
    "df2_"
   ]
  },
  {
   "cell_type": "code",
   "execution_count": null,
   "id": "6ce1045b",
   "metadata": {},
   "outputs": [],
   "source": [
    "df2__ = df2.select_dtypes(exclude=['bool','int64'])\n",
    "print(df2__)"
   ]
  },
  {
   "cell_type": "markdown",
   "id": "8fd36488",
   "metadata": {},
   "source": [
    "## 3. Filtering"
   ]
  },
  {
   "cell_type": "markdown",
   "id": "returning-solomon",
   "metadata": {},
   "source": [
    "We saw in the previous section how it is possible to select elements within a\n",
    "DataFrame (or even a Series) by specifying appropriate spatial indicators\n",
    "such as labels or numerical position indices. In this section, we will see\n",
    "another very similar operation, which also selects, but is totally focused on\n",
    "the values of the elements – filtering. In this case, we will set particular\n",
    "conditions in the selection designed to select only the elements with the\n",
    "values that satisfy them. There is, therefore, filtering of the values of a\n",
    "DataFrame."
   ]
  },
  {
   "cell_type": "markdown",
   "id": "liable-trademark",
   "metadata": {},
   "source": [
    "### 3.a) The Boolean condition"
   ]
  },
  {
   "cell_type": "markdown",
   "id": "middle-huntington",
   "metadata": {},
   "source": [
    "The Filtering technique is, therefore, based on a particular condition, called\n",
    "a Boolean condition, which is nothing more than a Boolean expression, that\n",
    "is, a mathematical expression that results in True and False (Boolean\n",
    "values). \n",
    "\n",
    "An example of a Boolean expression could be as follows: `x > 5` (values greater than 5)\n",
    "\n",
    "If this condition is true, it will return True, otherwise False.\n",
    "These Boolean expressions are characterized by the use of Boolean operators such as `(<,>,! =, ==, <=,> =)`, which are intended to compare two values and set a condition that can either be verified or not.\n"
   ]
  },
  {
   "cell_type": "code",
   "execution_count": null,
   "id": "nominated-myanmar",
   "metadata": {},
   "outputs": [],
   "source": [
    "x = 4\n",
    "x > 5"
   ]
  },
  {
   "cell_type": "markdown",
   "id": "delayed-agency",
   "metadata": {},
   "source": [
    "In the case of DataFrames, this Boolean condition is applied to the values\n",
    "contained in a particular subset of the DataFrame, establishing which part (column or row) will respond to this condition and returning a Series of Boolean values (`True` or `False`).\n",
    "\n",
    "The final result is a filtering that returns us a DataFrame that preserves the same structure as the original but that includes only some rows or columns of the original DataFrame."
   ]
  },
  {
   "cell_type": "markdown",
   "id": "frequent-limit",
   "metadata": {},
   "source": [
    "### 3.a.1. Filtering on the lines"
   ]
  },
  {
   "cell_type": "markdown",
   "id": "korean-negotiation",
   "metadata": {},
   "source": [
    "The most intuitive filtering is filtering on lines, that is, the one that will pass\n",
    "only a few lines of a DataFrame based on a Boolean condition.\n",
    "We first create a DataFrame of random values between 0 and 1, distributed\n",
    "over 4 columns, as shown as follows:"
   ]
  },
  {
   "cell_type": "code",
   "execution_count": 21,
   "id": "bd38e350",
   "metadata": {},
   "outputs": [
    {
     "data": {
      "text/html": [
       "<div>\n",
       "<style scoped>\n",
       "    .dataframe tbody tr th:only-of-type {\n",
       "        vertical-align: middle;\n",
       "    }\n",
       "\n",
       "    .dataframe tbody tr th {\n",
       "        vertical-align: top;\n",
       "    }\n",
       "\n",
       "    .dataframe thead th {\n",
       "        text-align: right;\n",
       "    }\n",
       "</style>\n",
       "<table border=\"1\" class=\"dataframe\">\n",
       "  <thead>\n",
       "    <tr style=\"text-align: right;\">\n",
       "      <th></th>\n",
       "      <th>A</th>\n",
       "      <th>B</th>\n",
       "      <th>C</th>\n",
       "      <th>D</th>\n",
       "    </tr>\n",
       "  </thead>\n",
       "  <tbody>\n",
       "    <tr>\n",
       "      <th>0</th>\n",
       "      <td>0.062510</td>\n",
       "      <td>0.353137</td>\n",
       "      <td>0.267258</td>\n",
       "      <td>0.154195</td>\n",
       "    </tr>\n",
       "    <tr>\n",
       "      <th>1</th>\n",
       "      <td>0.832951</td>\n",
       "      <td>0.027576</td>\n",
       "      <td>0.998526</td>\n",
       "      <td>0.595079</td>\n",
       "    </tr>\n",
       "    <tr>\n",
       "      <th>2</th>\n",
       "      <td>0.394424</td>\n",
       "      <td>0.030683</td>\n",
       "      <td>0.080028</td>\n",
       "      <td>0.854198</td>\n",
       "    </tr>\n",
       "    <tr>\n",
       "      <th>3</th>\n",
       "      <td>0.317085</td>\n",
       "      <td>0.086685</td>\n",
       "      <td>0.925317</td>\n",
       "      <td>0.010015</td>\n",
       "    </tr>\n",
       "    <tr>\n",
       "      <th>4</th>\n",
       "      <td>0.578804</td>\n",
       "      <td>0.293423</td>\n",
       "      <td>0.015847</td>\n",
       "      <td>0.871164</td>\n",
       "    </tr>\n",
       "    <tr>\n",
       "      <th>5</th>\n",
       "      <td>0.666322</td>\n",
       "      <td>0.707375</td>\n",
       "      <td>0.080829</td>\n",
       "      <td>0.117743</td>\n",
       "    </tr>\n",
       "    <tr>\n",
       "      <th>6</th>\n",
       "      <td>0.018103</td>\n",
       "      <td>0.113378</td>\n",
       "      <td>0.612153</td>\n",
       "      <td>0.203245</td>\n",
       "    </tr>\n",
       "    <tr>\n",
       "      <th>7</th>\n",
       "      <td>0.162526</td>\n",
       "      <td>0.533448</td>\n",
       "      <td>0.362138</td>\n",
       "      <td>0.191333</td>\n",
       "    </tr>\n",
       "    <tr>\n",
       "      <th>8</th>\n",
       "      <td>0.740222</td>\n",
       "      <td>0.975886</td>\n",
       "      <td>0.638446</td>\n",
       "      <td>0.929825</td>\n",
       "    </tr>\n",
       "    <tr>\n",
       "      <th>9</th>\n",
       "      <td>0.338648</td>\n",
       "      <td>0.069297</td>\n",
       "      <td>0.729808</td>\n",
       "      <td>0.325993</td>\n",
       "    </tr>\n",
       "  </tbody>\n",
       "</table>\n",
       "</div>"
      ],
      "text/plain": [
       "          A         B         C         D\n",
       "0  0.062510  0.353137  0.267258  0.154195\n",
       "1  0.832951  0.027576  0.998526  0.595079\n",
       "2  0.394424  0.030683  0.080028  0.854198\n",
       "3  0.317085  0.086685  0.925317  0.010015\n",
       "4  0.578804  0.293423  0.015847  0.871164\n",
       "5  0.666322  0.707375  0.080829  0.117743\n",
       "6  0.018103  0.113378  0.612153  0.203245\n",
       "7  0.162526  0.533448  0.362138  0.191333\n",
       "8  0.740222  0.975886  0.638446  0.929825\n",
       "9  0.338648  0.069297  0.729808  0.325993"
      ]
     },
     "execution_count": 21,
     "metadata": {},
     "output_type": "execute_result"
    }
   ],
   "source": [
    "df3 = pd.DataFrame(np.random.rand(40).reshape(10,4), columns = ['A','B','C','D'])\n",
    "df3"
   ]
  },
  {
   "cell_type": "markdown",
   "id": "floppy-transportation",
   "metadata": {},
   "source": [
    "Now, we will define a Boolean condition, based on which the selection will\n",
    "be made. For example, we want to filter only those rows of a DataFrame\n",
    "that have the value of column A greater than 0.5.\n",
    "\n",
    "Since these are floating point numbers, let’s add some significant digits, as shown as follows:"
   ]
  },
  {
   "cell_type": "code",
   "execution_count": 22,
   "id": "b6186cda",
   "metadata": {},
   "outputs": [
    {
     "data": {
      "text/plain": [
       "0    False\n",
       "1     True\n",
       "2    False\n",
       "3    False\n",
       "4     True\n",
       "5     True\n",
       "6    False\n",
       "7    False\n",
       "8     True\n",
       "9    False\n",
       "Name: A, dtype: bool"
      ]
     },
     "execution_count": 22,
     "metadata": {},
     "output_type": "execute_result"
    }
   ],
   "source": [
    "df3['A'] > 0.500000"
   ]
  },
  {
   "cell_type": "markdown",
   "id": "stopped-ukraine",
   "metadata": {},
   "source": [
    "As an indexing operator, we use the one represented by two square brackets\n",
    "`[ ]`. This operator will then take care of passing only the rows corresponding\n",
    "to the True values, based on the indices of the Series generated by the\n",
    "Boolean condition, as shown as follows:"
   ]
  },
  {
   "cell_type": "code",
   "execution_count": 23,
   "id": "de324a7c",
   "metadata": {},
   "outputs": [
    {
     "data": {
      "text/html": [
       "<div>\n",
       "<style scoped>\n",
       "    .dataframe tbody tr th:only-of-type {\n",
       "        vertical-align: middle;\n",
       "    }\n",
       "\n",
       "    .dataframe tbody tr th {\n",
       "        vertical-align: top;\n",
       "    }\n",
       "\n",
       "    .dataframe thead th {\n",
       "        text-align: right;\n",
       "    }\n",
       "</style>\n",
       "<table border=\"1\" class=\"dataframe\">\n",
       "  <thead>\n",
       "    <tr style=\"text-align: right;\">\n",
       "      <th></th>\n",
       "      <th>A</th>\n",
       "      <th>B</th>\n",
       "      <th>C</th>\n",
       "      <th>D</th>\n",
       "    </tr>\n",
       "  </thead>\n",
       "  <tbody>\n",
       "    <tr>\n",
       "      <th>1</th>\n",
       "      <td>0.832951</td>\n",
       "      <td>0.027576</td>\n",
       "      <td>0.998526</td>\n",
       "      <td>0.595079</td>\n",
       "    </tr>\n",
       "    <tr>\n",
       "      <th>4</th>\n",
       "      <td>0.578804</td>\n",
       "      <td>0.293423</td>\n",
       "      <td>0.015847</td>\n",
       "      <td>0.871164</td>\n",
       "    </tr>\n",
       "    <tr>\n",
       "      <th>5</th>\n",
       "      <td>0.666322</td>\n",
       "      <td>0.707375</td>\n",
       "      <td>0.080829</td>\n",
       "      <td>0.117743</td>\n",
       "    </tr>\n",
       "    <tr>\n",
       "      <th>8</th>\n",
       "      <td>0.740222</td>\n",
       "      <td>0.975886</td>\n",
       "      <td>0.638446</td>\n",
       "      <td>0.929825</td>\n",
       "    </tr>\n",
       "  </tbody>\n",
       "</table>\n",
       "</div>"
      ],
      "text/plain": [
       "          A         B         C         D\n",
       "1  0.832951  0.027576  0.998526  0.595079\n",
       "4  0.578804  0.293423  0.015847  0.871164\n",
       "5  0.666322  0.707375  0.080829  0.117743\n",
       "8  0.740222  0.975886  0.638446  0.929825"
      ]
     },
     "execution_count": 23,
     "metadata": {},
     "output_type": "execute_result"
    }
   ],
   "source": [
    "df3_ = df3[ df3['A'] > 0.500000 ]\n",
    "df3_"
   ]
  },
  {
   "cell_type": "markdown",
   "id": "stone-bridal",
   "metadata": {},
   "source": [
    "But you can also use other indexing operators, such as indexer `.loc[ ]`, as\n",
    "shown as follows:"
   ]
  },
  {
   "cell_type": "code",
   "execution_count": 24,
   "id": "189475cf",
   "metadata": {},
   "outputs": [
    {
     "data": {
      "text/html": [
       "<div>\n",
       "<style scoped>\n",
       "    .dataframe tbody tr th:only-of-type {\n",
       "        vertical-align: middle;\n",
       "    }\n",
       "\n",
       "    .dataframe tbody tr th {\n",
       "        vertical-align: top;\n",
       "    }\n",
       "\n",
       "    .dataframe thead th {\n",
       "        text-align: right;\n",
       "    }\n",
       "</style>\n",
       "<table border=\"1\" class=\"dataframe\">\n",
       "  <thead>\n",
       "    <tr style=\"text-align: right;\">\n",
       "      <th></th>\n",
       "      <th>A</th>\n",
       "      <th>B</th>\n",
       "      <th>C</th>\n",
       "      <th>D</th>\n",
       "    </tr>\n",
       "  </thead>\n",
       "  <tbody>\n",
       "    <tr>\n",
       "      <th>1</th>\n",
       "      <td>0.832951</td>\n",
       "      <td>0.027576</td>\n",
       "      <td>0.998526</td>\n",
       "      <td>0.595079</td>\n",
       "    </tr>\n",
       "    <tr>\n",
       "      <th>4</th>\n",
       "      <td>0.578804</td>\n",
       "      <td>0.293423</td>\n",
       "      <td>0.015847</td>\n",
       "      <td>0.871164</td>\n",
       "    </tr>\n",
       "    <tr>\n",
       "      <th>5</th>\n",
       "      <td>0.666322</td>\n",
       "      <td>0.707375</td>\n",
       "      <td>0.080829</td>\n",
       "      <td>0.117743</td>\n",
       "    </tr>\n",
       "    <tr>\n",
       "      <th>8</th>\n",
       "      <td>0.740222</td>\n",
       "      <td>0.975886</td>\n",
       "      <td>0.638446</td>\n",
       "      <td>0.929825</td>\n",
       "    </tr>\n",
       "  </tbody>\n",
       "</table>\n",
       "</div>"
      ],
      "text/plain": [
       "          A         B         C         D\n",
       "1  0.832951  0.027576  0.998526  0.595079\n",
       "4  0.578804  0.293423  0.015847  0.871164\n",
       "5  0.666322  0.707375  0.080829  0.117743\n",
       "8  0.740222  0.975886  0.638446  0.929825"
      ]
     },
     "execution_count": 24,
     "metadata": {},
     "output_type": "execute_result"
    }
   ],
   "source": [
    "df3__ = df3.loc[ df3['A'] > 0.500000]\n",
    "df3__"
   ]
  },
  {
   "cell_type": "markdown",
   "id": "prescription-monday",
   "metadata": {},
   "source": [
    "###  3.a.2. Filtering on columns"
   ]
  },
  {
   "cell_type": "markdown",
   "id": "located-hungarian",
   "metadata": {},
   "source": [
    "The complementary case to the previous one is filtering on columns. In this\n",
    "case, only those columns of the DataFrame are filtered, whose values meet\n",
    "certain requirements. Again, we will define a Boolean condition. For\n",
    "example, we want to select only those columns whose average of values is\n",
    "greater than 0.5, as shown as follows:"
   ]
  },
  {
   "cell_type": "code",
   "execution_count": null,
   "id": "ddfb82ca",
   "metadata": {
    "scrolled": true
   },
   "outputs": [],
   "source": [
    "df3.mean() > 0.500000"
   ]
  },
  {
   "cell_type": "markdown",
   "id": "designing-pizza",
   "metadata": {},
   "source": [
    "From the Series returned as a result, we can see which columns meet this\n",
    "condition from the elements with the value True. We apply this Boolean\n",
    "condition to indexer `.loc[ ]` to filter on columns, as shown as follows:"
   ]
  },
  {
   "cell_type": "code",
   "execution_count": null,
   "id": "3b449567",
   "metadata": {},
   "outputs": [],
   "source": [
    "df3__ = df3.loc[:,df3.mean() > 0.500000]\n",
    "df3__"
   ]
  },
  {
   "cell_type": "markdown",
   "id": "ceramic-variance",
   "metadata": {},
   "source": [
    "### 3.a.3. Application of multiple conditions"
   ]
  },
  {
   "cell_type": "markdown",
   "id": "velvet-birth",
   "metadata": {},
   "source": [
    "\n",
    "In Filtering, you can apply several Boolean conditions at the same time. To\n",
    "do this, different conditions can be applied at the same time, thanks to the\n",
    "logical operators `AND`, `OR`, and `NOT`. In the Pandas library, these logical\n",
    "operators are expressed in the following way"
   ]
  },
  {
   "cell_type": "markdown",
   "id": "funky-adelaide",
   "metadata": {},
   "source": [
    "* **&**  ==> (and)\n",
    "* **|**   ==>   (or)\n",
    "* **~**    ==>  (not)"
   ]
  },
  {
   "cell_type": "markdown",
   "id": "killing-response",
   "metadata": {},
   "source": [
    "So, every single condition is enclosed in square brackets and joined\n",
    "together by the previous logical operators. We can express joint Boolean\n",
    "conditions in the following way:"
   ]
  },
  {
   "cell_type": "code",
   "execution_count": 25,
   "id": "outside-fellowship",
   "metadata": {},
   "outputs": [
    {
     "data": {
      "text/html": [
       "<div>\n",
       "<style scoped>\n",
       "    .dataframe tbody tr th:only-of-type {\n",
       "        vertical-align: middle;\n",
       "    }\n",
       "\n",
       "    .dataframe tbody tr th {\n",
       "        vertical-align: top;\n",
       "    }\n",
       "\n",
       "    .dataframe thead th {\n",
       "        text-align: right;\n",
       "    }\n",
       "</style>\n",
       "<table border=\"1\" class=\"dataframe\">\n",
       "  <thead>\n",
       "    <tr style=\"text-align: right;\">\n",
       "      <th></th>\n",
       "      <th>A</th>\n",
       "      <th>B</th>\n",
       "      <th>C</th>\n",
       "      <th>D</th>\n",
       "    </tr>\n",
       "  </thead>\n",
       "  <tbody>\n",
       "    <tr>\n",
       "      <th>0</th>\n",
       "      <td>0.062510</td>\n",
       "      <td>0.353137</td>\n",
       "      <td>0.267258</td>\n",
       "      <td>0.154195</td>\n",
       "    </tr>\n",
       "    <tr>\n",
       "      <th>1</th>\n",
       "      <td>0.832951</td>\n",
       "      <td>0.027576</td>\n",
       "      <td>0.998526</td>\n",
       "      <td>0.595079</td>\n",
       "    </tr>\n",
       "    <tr>\n",
       "      <th>2</th>\n",
       "      <td>0.394424</td>\n",
       "      <td>0.030683</td>\n",
       "      <td>0.080028</td>\n",
       "      <td>0.854198</td>\n",
       "    </tr>\n",
       "    <tr>\n",
       "      <th>3</th>\n",
       "      <td>0.317085</td>\n",
       "      <td>0.086685</td>\n",
       "      <td>0.925317</td>\n",
       "      <td>0.010015</td>\n",
       "    </tr>\n",
       "    <tr>\n",
       "      <th>4</th>\n",
       "      <td>0.578804</td>\n",
       "      <td>0.293423</td>\n",
       "      <td>0.015847</td>\n",
       "      <td>0.871164</td>\n",
       "    </tr>\n",
       "    <tr>\n",
       "      <th>5</th>\n",
       "      <td>0.666322</td>\n",
       "      <td>0.707375</td>\n",
       "      <td>0.080829</td>\n",
       "      <td>0.117743</td>\n",
       "    </tr>\n",
       "    <tr>\n",
       "      <th>6</th>\n",
       "      <td>0.018103</td>\n",
       "      <td>0.113378</td>\n",
       "      <td>0.612153</td>\n",
       "      <td>0.203245</td>\n",
       "    </tr>\n",
       "    <tr>\n",
       "      <th>7</th>\n",
       "      <td>0.162526</td>\n",
       "      <td>0.533448</td>\n",
       "      <td>0.362138</td>\n",
       "      <td>0.191333</td>\n",
       "    </tr>\n",
       "    <tr>\n",
       "      <th>8</th>\n",
       "      <td>0.740222</td>\n",
       "      <td>0.975886</td>\n",
       "      <td>0.638446</td>\n",
       "      <td>0.929825</td>\n",
       "    </tr>\n",
       "    <tr>\n",
       "      <th>9</th>\n",
       "      <td>0.338648</td>\n",
       "      <td>0.069297</td>\n",
       "      <td>0.729808</td>\n",
       "      <td>0.325993</td>\n",
       "    </tr>\n",
       "  </tbody>\n",
       "</table>\n",
       "</div>"
      ],
      "text/plain": [
       "          A         B         C         D\n",
       "0  0.062510  0.353137  0.267258  0.154195\n",
       "1  0.832951  0.027576  0.998526  0.595079\n",
       "2  0.394424  0.030683  0.080028  0.854198\n",
       "3  0.317085  0.086685  0.925317  0.010015\n",
       "4  0.578804  0.293423  0.015847  0.871164\n",
       "5  0.666322  0.707375  0.080829  0.117743\n",
       "6  0.018103  0.113378  0.612153  0.203245\n",
       "7  0.162526  0.533448  0.362138  0.191333\n",
       "8  0.740222  0.975886  0.638446  0.929825\n",
       "9  0.338648  0.069297  0.729808  0.325993"
      ]
     },
     "execution_count": 25,
     "metadata": {},
     "output_type": "execute_result"
    }
   ],
   "source": [
    "df3"
   ]
  },
  {
   "cell_type": "code",
   "execution_count": 26,
   "id": "96a04e65",
   "metadata": {},
   "outputs": [
    {
     "data": {
      "text/plain": [
       "0     True\n",
       "1     True\n",
       "2    False\n",
       "3    False\n",
       "4    False\n",
       "5    False\n",
       "6     True\n",
       "7     True\n",
       "8     True\n",
       "9    False\n",
       "Name: A, dtype: bool"
      ]
     },
     "execution_count": 26,
     "metadata": {},
     "output_type": "execute_result"
    }
   ],
   "source": [
    "(df3['A'] < 0.300000) | (df3['A'] > 0.700000)"
   ]
  },
  {
   "cell_type": "markdown",
   "id": "satisfactory-anderson",
   "metadata": {},
   "source": [
    "Apply it inside an indexing operator or an indexer, as shown as follows:"
   ]
  },
  {
   "cell_type": "code",
   "execution_count": null,
   "id": "e535e315",
   "metadata": {},
   "outputs": [],
   "source": [
    "df3___ = df3[(df3['A'] < 0.300000) | (df3['A'] > 0.700000)]\n",
    "df3___"
   ]
  },
  {
   "cell_type": "markdown",
   "id": "representative-virginia",
   "metadata": {},
   "source": [
    "If the same Boolean conditions are often used within the code, it would be a\n",
    "good practice to first define them as variables and then use them when\n",
    "necessary. For example, by putting the Boolean conditions used previously,\n",
    "you can write the filtering criteria in a concise and readable way inside the\n",
    "indexing operator, as shown as follows:"
   ]
  },
  {
   "cell_type": "code",
   "execution_count": null,
   "id": "93a633ee",
   "metadata": {},
   "outputs": [],
   "source": [
    "cond1 = df3['A'] < 0.300000\n",
    "cond2 = df3['A'] > 0.700000\n",
    "cond3 = df3.mean() > 0.500000\n",
    "\n",
    "df3x = df3.loc[cond1 | cond2 ,cond3]\n",
    "print(df3x)"
   ]
  },
  {
   "cell_type": "markdown",
   "id": "seven-bible",
   "metadata": {},
   "source": [
    "### 3.a.4.  Boolean reductions"
   ]
  },
  {
   "cell_type": "markdown",
   "id": "joined-parish",
   "metadata": {},
   "source": [
    "\n",
    "One topic related to the concept of filtering is Boolean reductions. There are\n",
    "a number of methods, called reduction methods, which allow you to obtain\n",
    "a reduced result, as shown as follows:\n"
   ]
  },
  {
   "cell_type": "markdown",
   "id": "liberal-techno",
   "metadata": {},
   "source": [
    "* any()\n",
    "* all()"
   ]
  },
  {
   "cell_type": "code",
   "execution_count": null,
   "id": "3d31cc82",
   "metadata": {},
   "outputs": [],
   "source": [
    "df4 = pd.DataFrame(np.random.rand(40).reshape(10,4), columns = ['A','B','C','D'])\n",
    "df4"
   ]
  },
  {
   "cell_type": "markdown",
   "id": "perfect-abortion",
   "metadata": {},
   "source": [
    "But, let’s see some examples to clarify their function. We apply a Boolean\n",
    "condition in which all the elements of the DataFrame are evaluated. For\n",
    "example, we want to know which elements of the DataFrame have a value\n",
    "greater than 0.1, as shown as follows:"
   ]
  },
  {
   "cell_type": "code",
   "execution_count": null,
   "id": "f79e6553",
   "metadata": {},
   "outputs": [],
   "source": [
    "df4_ = df4 > 0.1\n",
    "df4_"
   ]
  },
  {
   "cell_type": "markdown",
   "id": "academic-throw",
   "metadata": {},
   "source": [
    "In this case, we got a DataFrame full of Boolean values. A reduction\n",
    "method can be applied to this DataFrame, such as the all() method to\n",
    "know if, within each column, all the values meet these requirements (all on\n",
    "True) , as shown as follows:"
   ]
  },
  {
   "cell_type": "code",
   "execution_count": null,
   "id": "e28120ef",
   "metadata": {},
   "outputs": [],
   "source": [
    "(df4 > 0.1).all()"
   ]
  },
  {
   "cell_type": "code",
   "execution_count": null,
   "id": "d2a97a69",
   "metadata": {},
   "outputs": [],
   "source": [
    "(df4 > 0.1).any()"
   ]
  },
  {
   "cell_type": "code",
   "execution_count": null,
   "id": "235b4410",
   "metadata": {},
   "outputs": [],
   "source": [
    "(df4 > 0.1).any().any()"
   ]
  },
  {
   "cell_type": "markdown",
   "id": "administrative-ratio",
   "metadata": {},
   "source": [
    "### 3.a.5. Filtering with the `.isin( )` method"
   ]
  },
  {
   "cell_type": "markdown",
   "id": "educational-quilt",
   "metadata": {},
   "source": [
    "\n",
    "Another method of Filtering is `.isin( )`. This method lets you know if one or\n",
    "more elements are present inside an object such as a DataFrame or a Series.\n",
    "In this regard, we define an example DataFrame, with predefined values, as\n",
    "shown as follows:"
   ]
  },
  {
   "cell_type": "code",
   "execution_count": null,
   "id": "supported-detective",
   "metadata": {},
   "outputs": [],
   "source": [
    "df5 = pd.DataFrame(np.arange(9).reshape(3,3), columns = ['A','B','C'])\n",
    "df5"
   ]
  },
  {
   "cell_type": "markdown",
   "id": "approximate-bones",
   "metadata": {},
   "source": [
    "Now, let’s apply the `.isin( )` method with some values to search for, as\n",
    "follows:"
   ]
  },
  {
   "cell_type": "code",
   "execution_count": null,
   "id": "ff2ab9f0",
   "metadata": {
    "scrolled": true
   },
   "outputs": [],
   "source": [
    "df5_ = df5.isin([0,3])\n",
    "df5_"
   ]
  },
  {
   "cell_type": "markdown",
   "id": "maritime-apollo",
   "metadata": {},
   "source": [
    "As we can see, by passing a list of values as an argument to the `.isin( )`\n",
    "method applied to the DataFrame, we get a Boolean DataFrame of the same \n",
    "size, where we have True if the value belongs to the list, and False if it\n",
    "doesn’t exist. \n",
    "\n",
    "As we can see, this is also a filtering operation. Then, passing this Boolean DataFrame to the indexing operator, you get a filtering of the values, in which only those which correspond to True as a\n",
    "value will be passed, while all the others, which correspond to False, will be evaluated as `NaN`, as shown as follows:"
   ]
  },
  {
   "cell_type": "code",
   "execution_count": null,
   "id": "rolled-aspect",
   "metadata": {},
   "outputs": [],
   "source": []
  },
  {
   "cell_type": "code",
   "execution_count": null,
   "id": "4fa7284d",
   "metadata": {},
   "outputs": [],
   "source": [
    "df5[df5_]"
   ]
  },
  {
   "cell_type": "code",
   "execution_count": null,
   "id": "7c00583a",
   "metadata": {},
   "outputs": [],
   "source": [
    "df5__ = df5[df5.isin([0,3])].dropna(thresh=1).dropna(axis=1)\n",
    "df5__"
   ]
  },
  {
   "cell_type": "markdown",
   "id": "9af264df",
   "metadata": {},
   "source": [
    "## 4. Editing"
   ]
  },
  {
   "cell_type": "markdown",
   "id": "textile-bradford",
   "metadata": {},
   "source": [
    "In the previous sections, we saw how to select some parts (subset) of a\n",
    "DataFrame to view them, to extract them as a new object (new Series or\n",
    "DataFrame), or more often, to manipulate them later, operating on their\n",
    "values in some way.\n",
    "Another basic operation that is carried out is that of editing. That is, once\n",
    "you have created a DataFrame with a constructor, it will be necessary to make changes to its\n",
    "structure. Sometimes, it will be necessary to add at the end, or even insert\n",
    "inside, new elements (such as rows or columns), and other times, it will be\n",
    "necessary to remove entire rows or columns."
   ]
  },
  {
   "cell_type": "markdown",
   "id": "daily-paper",
   "metadata": {},
   "source": [
    "In this section, we will, therefore, deal with the editing of a complex object\n",
    "such as a DataFrame, so that we can then learn how to make all the changes\n",
    "necessary to prepare a DataFrame for analysis"
   ]
  },
  {
   "cell_type": "markdown",
   "id": "acute-pricing",
   "metadata": {},
   "source": [
    "### 4.a. Adding, inserting, and deleting a column in a DataFrame\n"
   ]
  },
  {
   "cell_type": "markdown",
   "id": "disciplinary-walnut",
   "metadata": {},
   "source": [
    "You will have understood by now that due to the way the DataFrames are\n",
    "structured within them, you can think of the columns as separate Series,\n",
    "assembled together to form data tables. So the editing operations of a\n",
    "DataFrame working on the columns are somewhat easier.\n",
    "Let’s create an example DataFrame like the following:"
   ]
  },
  {
   "cell_type": "code",
   "execution_count": null,
   "id": "40b8aa42",
   "metadata": {},
   "outputs": [],
   "source": [
    "df6 = pd.DataFrame([[1,2,3],[4,5,6],[7,8,9]], \n",
    "                     index=['a','b','c'], \n",
    "                     columns=['A','B','C'])\n",
    "df6"
   ]
  },
  {
   "cell_type": "markdown",
   "id": "collaborative-adrian",
   "metadata": {},
   "source": [
    "Adding a column at the end is a fairly simple operation. It is sufficient to\n",
    "select a column that does not yet exist, specify a new label within the\n",
    "indexing operator, and enhance it in some way. In this way, a new column\n",
    "will automatically be created which will be added after the last existing\n",
    "column. For example, if we value a non-existent column with a scalar value, , we\n",
    "will get a column completely valued with that number, as shown as follows:"
   ]
  },
  {
   "cell_type": "code",
   "execution_count": null,
   "id": "e31547db",
   "metadata": {},
   "outputs": [],
   "source": [
    "df6['D'] = 17 \n",
    "df6"
   ]
  },
  {
   "cell_type": "markdown",
   "id": "assigned-flooring",
   "metadata": {},
   "source": [
    "From now on, if you select this column, the behavior will be the normal\n",
    "selection behavior, where the returned value will be a Series, as shown as\n",
    "follows:"
   ]
  },
  {
   "cell_type": "code",
   "execution_count": null,
   "id": "e79fc990",
   "metadata": {},
   "outputs": [],
   "source": [
    "df6['D'] "
   ]
  },
  {
   "cell_type": "code",
   "execution_count": null,
   "id": "ebe1903b",
   "metadata": {},
   "outputs": [],
   "source": [
    "df6['E'] = [13,14,15]\n",
    "df6"
   ]
  },
  {
   "cell_type": "markdown",
   "id": "european-winning",
   "metadata": {},
   "source": [
    "The same technique can be used to update the values of an already existing\n",
    "column. For example, passing a list of values to an already existing column\n",
    "will replace those already present, as shown as follows:"
   ]
  },
  {
   "cell_type": "code",
   "execution_count": null,
   "id": "bff04f5f",
   "metadata": {},
   "outputs": [],
   "source": [
    "df6['D'] = ['one','two', 'three']\n",
    "df6"
   ]
  },
  {
   "cell_type": "markdown",
   "id": "close-design",
   "metadata": {},
   "source": [
    "To enhance a column, you can use an existing Series instead of a list. In this\n",
    "case, however, you must pay close attention to the correspondence between\n",
    "the labels of the Series and those of the DataFrame, as shown as follows:"
   ]
  },
  {
   "cell_type": "code",
   "execution_count": null,
   "id": "d20806d9",
   "metadata": {},
   "outputs": [],
   "source": [
    "sr = pd.Series([10,11,12],index=['a','b','c'])\n",
    "df6['D'] = sr \n",
    "df6"
   ]
  },
  {
   "cell_type": "markdown",
   "id": "exact-attendance",
   "metadata": {},
   "source": [
    "Another very useful operation is the removal of a column from a\n",
    "DataFrame. The del keyword exists in Python that can be used for this\n",
    "purpose, as shown as follows:"
   ]
  },
  {
   "cell_type": "code",
   "execution_count": null,
   "id": "e51d50c7",
   "metadata": {},
   "outputs": [],
   "source": [
    "del df6['E']\n",
    "df6"
   ]
  },
  {
   "cell_type": "markdown",
   "id": "empty-belfast",
   "metadata": {},
   "source": [
    "In this case, the column is permanently removed from the DataFrame, but\n",
    "there may be cases where the removed column wants to be preserved in\n",
    "some way. The `.pop()` method allows you to remove the column from the\n",
    "DataFrame and return it as Series that can be stored in a new variable, as\n",
    "shown as follows:"
   ]
  },
  {
   "cell_type": "code",
   "execution_count": null,
   "id": "10780e37",
   "metadata": {},
   "outputs": [],
   "source": [
    "sr = df6.pop('D')  \n",
    "print(type(sr))   \n",
    "df6"
   ]
  },
  {
   "cell_type": "markdown",
   "id": "opened-parade",
   "metadata": {},
   "source": [
    "Another useful method for editing a column within a DataFrame is the\n",
    "`insert()` method. This method inserts a new column within a DataFrame\n",
    "in a predetermined position. For example, we can insert the Series we extracted earlier with the `pop()`\n",
    "method, back into the DataFrame in position 1, calling it as label `'Z'`. All\n",
    "this information is passed as arguments to the `insert()` function, as shown\n",
    "as follows:"
   ]
  },
  {
   "cell_type": "code",
   "execution_count": null,
   "id": "38a02c4e",
   "metadata": {},
   "outputs": [],
   "source": [
    "df6.insert(1, 'Z', sr) \n",
    "df6"
   ]
  },
  {
   "cell_type": "markdown",
   "id": "flexible-skirt",
   "metadata": {},
   "source": [
    "The same `insert()` method can also be used to copy a column within a\n",
    "DataFrame. For example, in the previous case, the column to be copied is\n",
    "passed instead of an external Series, as shown as follows:"
   ]
  },
  {
   "cell_type": "code",
   "execution_count": null,
   "id": "2076e6cd",
   "metadata": {},
   "outputs": [],
   "source": [
    "df6.insert(3, 'B2', df6['B'])\n",
    "df6"
   ]
  },
  {
   "cell_type": "markdown",
   "id": "featured-easter",
   "metadata": {},
   "source": [
    "### 4.b. Adding new columns with assign()\n"
   ]
  },
  {
   "cell_type": "markdown",
   "id": "composed-amateur",
   "metadata": {},
   "source": [
    "Among the methods applicable to DataFrames that have editing functions,\n",
    "there is the `.assign( )` method that allows you to create new columns to be\n",
    "added easily, deriving them from those already present. For example, we\n",
    "can add a new column to the DataFrame starting from the values of an\n",
    "already existing column by multiplying it by 2, as shown as follows:"
   ]
  },
  {
   "cell_type": "code",
   "execution_count": null,
   "id": "819e0936",
   "metadata": {},
   "outputs": [],
   "source": [
    "df7 = pd.DataFrame(np.random.randint(1,10,9).reshape(3,3), \n",
    "                     index=['a','b','c'], \n",
    "                     columns=['A','B','C'])\n",
    "df7"
   ]
  },
  {
   "cell_type": "code",
   "execution_count": null,
   "id": "34f35901",
   "metadata": {},
   "outputs": [],
   "source": [
    "df7_ = df7.assign(D = df7['A']*2)\n",
    "df7_"
   ]
  },
  {
   "cell_type": "markdown",
   "id": "golden-cassette",
   "metadata": {},
   "source": [
    "The `.assign()` method does not modify the original DataFrame but creates\n",
    "a new copy of it as a return value. So, the result can be assigned to a new\n",
    "variable, as we have just done, or reassigned to the original DataFrame,\n",
    "modifying it. The choice of what to do is therefore up to the user, as shown\n",
    "as follows:"
   ]
  },
  {
   "cell_type": "code",
   "execution_count": null,
   "id": "c19de8f8",
   "metadata": {
    "scrolled": true
   },
   "outputs": [],
   "source": [
    "df7__ = df7.assign(D = df7['A']*2)\n",
    "df7__"
   ]
  },
  {
   "cell_type": "markdown",
   "id": "provincial-shooting",
   "metadata": {},
   "source": [
    "But the `.assign()` method can also be used to overwrite an existing column,\n",
    "which is often very useful for correcting or modifying the data within the\n",
    "DataFrame, as shown as follows:"
   ]
  },
  {
   "cell_type": "code",
   "execution_count": null,
   "id": "942dde90",
   "metadata": {},
   "outputs": [],
   "source": [
    "df7x = df7.assign(D = np.sqrt(df7['A']))\n",
    "df7x"
   ]
  },
  {
   "cell_type": "markdown",
   "id": "secondary-arthur",
   "metadata": {},
   "source": [
    "As you can see, in addition to arithmetic operations, functions can also be\n",
    "used to modify the values of a column. Another useful application of the\n",
    "`.assign()` method is to create new columns containing values generated by\n",
    "special functions. For example, we often need to generate columns\n",
    "containing the same numeric value, as shown as follows:"
   ]
  },
  {
   "cell_type": "code",
   "execution_count": null,
   "id": "8c4bfc52",
   "metadata": {},
   "outputs": [],
   "source": [
    "df7y = df7.assign(D = np.repeat(1,3))\n",
    "df7y"
   ]
  },
  {
   "cell_type": "markdown",
   "id": "1002ac4a",
   "metadata": {},
   "source": [
    "## 5. Descriptive Statistics"
   ]
  },
  {
   "cell_type": "markdown",
   "id": "hawaiian-substitute",
   "metadata": {},
   "source": [
    "Pandas is a library designed for data analysis, and the DataFrames are the\n",
    "basic objects on which all the related activities are carried out. So having an\n",
    "idea of their contents and their structure at the outset is important in order to\n",
    "better target the operations to be carried out. Among the basic activities,\n",
    "there is, therefore, the calculation of general statistics that can somehow\n",
    "give an idea of the values contained within the DataFrame under analysis.\n",
    "In this section, we will see many basic features that the Pandas library\n",
    "offers to obtain this type of descriptive data."
   ]
  },
  {
   "cell_type": "markdown",
   "id": "expired-wireless",
   "metadata": {},
   "source": [
    "### 5.a) The `.describe( )` method"
   ]
  },
  {
   "cell_type": "markdown",
   "id": "religious-sight",
   "metadata": {},
   "source": [
    "\n",
    "Inside the Pandas library, there is a describe() method that calculates a\n",
    "whole series of descriptive statistics of the reference DataFrame, as shown\n",
    "as follows:"
   ]
  },
  {
   "cell_type": "code",
   "execution_count": null,
   "id": "e442da90",
   "metadata": {},
   "outputs": [],
   "source": [
    "df8 = pd.DataFrame(np.random.rand(40).reshape(10,4))\n",
    "df8"
   ]
  },
  {
   "cell_type": "markdown",
   "id": "turkish-contribution",
   "metadata": {},
   "source": [
    "It is launched directly on the DataFrame to be analyzed, and the result is a\n",
    "table of descriptive statistics carried out at the column level and reported in\n",
    "the structure of a DataFrame, as shown "
   ]
  },
  {
   "cell_type": "code",
   "execution_count": null,
   "id": "ab8fb2ae",
   "metadata": {},
   "outputs": [],
   "source": [
    "df8.describe() "
   ]
  },
  {
   "cell_type": "markdown",
   "id": "intensive-student",
   "metadata": {},
   "source": [
    "The statistics processed are also returned in the form of DataFrame, each of\n",
    "which is processed by a single column. Among the reported values, we see\n",
    "the element count, the mean and its standard deviation, the maximum and\n",
    "minimum value, and 3 percentiles. This information will be reported only\n",
    "for the columns of the DataFrame that contain numeric values, as shown "
   ]
  },
  {
   "cell_type": "code",
   "execution_count": null,
   "id": "2040f905",
   "metadata": {},
   "outputs": [],
   "source": [
    "df8_ = pd.DataFrame([[1,'one', True],[2,'two',False],\n",
    "                    [3,'three',True],[4,'four',False],[5,'five', False]], \n",
    "                   columns=['numb','word','bool'])\n",
    "df8_.describe()"
   ]
  },
  {
   "cell_type": "markdown",
   "id": "discrete-sodium",
   "metadata": {},
   "source": [
    "If, on the other hand, there are no columns with numerical values to be\n",
    "calculated, it will present in addition to the number of elements present,\n",
    "other statistics such as the number of unique elements, and the most\n",
    "frequent value for every single column with its frequency, as shown"
   ]
  },
  {
   "cell_type": "code",
   "execution_count": null,
   "id": "28a934ec",
   "metadata": {
    "scrolled": true
   },
   "outputs": [],
   "source": [
    "df8_[['word','bool']].describe()"
   ]
  },
  {
   "cell_type": "markdown",
   "id": "simplified-italy",
   "metadata": {},
   "source": [
    "So in a DataFrame with many columns, it would be a good practice to be\n",
    "able to select only a few columns (or exclude the ones that don’t interest us)\n",
    "without having to first make a selection of subsettings and then applying\n",
    "describe() as done before. In this regard, there are two parameters,\n",
    "include and exclude, which allow us to explicitly specify which columns\n",
    "should be included or excluded in the calculation of descriptive statistics.\n",
    "The peculiarity is that you do not pass lists containing labels, but dtypes.\n",
    "That is, the selection is made by the type of data."
   ]
  },
  {
   "cell_type": "code",
   "execution_count": null,
   "id": "9b812b00",
   "metadata": {},
   "outputs": [],
   "source": [
    "df8_.describe(include=['int'])"
   ]
  },
  {
   "cell_type": "code",
   "execution_count": null,
   "id": "a8bce1e7",
   "metadata": {},
   "outputs": [],
   "source": [
    "df8_.mean(numeric_only=True, axis=0) #df.mean(axis=0) #df.mean()"
   ]
  },
  {
   "cell_type": "code",
   "execution_count": null,
   "id": "8df99c58",
   "metadata": {},
   "outputs": [],
   "source": [
    "df8_.mean(numeric_only=True, axis=1) #df.mean(axis=1)"
   ]
  },
  {
   "cell_type": "code",
   "execution_count": null,
   "id": "57468e02",
   "metadata": {},
   "outputs": [],
   "source": [
    "df8_.std(numeric_only=True, axis=0)"
   ]
  },
  {
   "cell_type": "code",
   "execution_count": null,
   "id": "a5812aba",
   "metadata": {},
   "outputs": [],
   "source": [
    "std = ( df8_ - df8_.mean(numeric_only=True,))/ df8_.std(numeric_only=True,)\n",
    "print(std.mean())\n",
    "print(std.std())"
   ]
  },
  {
   "cell_type": "markdown",
   "id": "c30f949c",
   "metadata": {},
   "source": [
    "## 6.  Transposition, Sorting and Reindexing"
   ]
  },
  {
   "cell_type": "markdown",
   "id": "departmental-floating",
   "metadata": {},
   "source": [
    "In this final section, we will see some of the techniques that somehow\n",
    "rearrange the internal structure of the DataFrame by acting at the index\n",
    "level. In fact, the order of the labels within a DataFrame is not immutable\n",
    "but can be changed during the analysis. There are, therefore, some\n",
    "techniques that act at this level including transposition, sorting, and\n",
    "reindexing."
   ]
  },
  {
   "cell_type": "markdown",
   "id": "removable-childhood",
   "metadata": {},
   "source": [
    "### 6.a. Transposition"
   ]
  },
  {
   "cell_type": "markdown",
   "id": "opening-subscriber",
   "metadata": {},
   "source": [
    "The transposition of a DataFrame is equivalent to the mathematical\n",
    "operation of the transposition of a matrix. In this operation, the rows\n",
    "become the columns and vice versa. Applying a transposition to a\n",
    "DataFrame will, therefore, have the exchange of labels between index and\n",
    "columns, with the consequent reordering of the values related to them, as\n",
    "shown as follows:"
   ]
  },
  {
   "cell_type": "code",
   "execution_count": null,
   "id": "32bc9672",
   "metadata": {},
   "outputs": [],
   "source": [
    "df9 = pd.DataFrame([[1,2,3],[4,5,6],[7,8,9]], \n",
    "                     index=['a','b','c'], \n",
    "                     columns=['A','B','C'])\n",
    "df9"
   ]
  },
  {
   "cell_type": "markdown",
   "id": "satellite-chaos",
   "metadata": {},
   "source": [
    "To carry out the transposition of a DataFrame, it is sufficient to recall the\n",
    "attribute T, as shown as follows:"
   ]
  },
  {
   "cell_type": "code",
   "execution_count": null,
   "id": "fb4ca041",
   "metadata": {},
   "outputs": [],
   "source": [
    "df9.T"
   ]
  },
  {
   "cell_type": "markdown",
   "id": "informed-sleeve",
   "metadata": {},
   "source": [
    "### 6.b. Sorting\n"
   ]
  },
  {
   "cell_type": "markdown",
   "id": "after-metropolitan",
   "metadata": {},
   "source": [
    "Often, when loading a DataFrame from a data source, it happens that the\n",
    "order of the rows or columns is not the desired one. Or during the various\u0000\n",
    "analysis phases, we may wish to sort the values of a specific column in the\n",
    "ascending or descending order. All these sorting operations can be\n",
    "summarized in the following three types:\n",
    "\n",
    "* Sorting by labels\n",
    "* Sorting by values\n",
    "* Sorting by a combination of both"
   ]
  },
  {
   "cell_type": "markdown",
   "id": "bibliographic-journal",
   "metadata": {},
   "source": [
    "All of these sorting types are feasible with the Panda library. For this\n",
    "purpose, we will create a DataFrame with the inside of the index and\n",
    "columns labels arranged in an unordered way (this is practically the case for\n",
    "almost all real DataFrames), as shown as follows:"
   ]
  },
  {
   "cell_type": "code",
   "execution_count": null,
   "id": "551875d3",
   "metadata": {},
   "outputs": [],
   "source": [
    "df10 = pd.DataFrame(np.random.randint(10, size=16).reshape(4,4), \n",
    "                     index=['b','d','c','a'], \n",
    "                     columns=['C','D','A','B'])\n",
    "df10"
   ]
  },
  {
   "cell_type": "markdown",
   "id": "italian-findings",
   "metadata": {},
   "source": [
    "### 6.b.1. Sorting by label"
   ]
  },
  {
   "cell_type": "markdown",
   "id": "restricted-fairy",
   "metadata": {},
   "source": [
    "\n",
    "Sorting by labels, or sorting by index, is based on sorting the labels in\n",
    "axis or columns based on their value (numeric or string), and it is performed\n",
    "efficiently by the sort_index() method. By default, this method puts the\n",
    "labels on the index in the DataFrame in the ascending order. Matching the\n",
    "values on each row will also follow the same order, as shown as follows:"
   ]
  },
  {
   "cell_type": "code",
   "execution_count": null,
   "id": "bd382e41",
   "metadata": {},
   "outputs": [],
   "source": [
    "df10_ = df10.sort_index()\n",
    "df10_"
   ]
  },
  {
   "cell_type": "markdown",
   "id": "civic-motorcycle",
   "metadata": {},
   "source": [
    "As we can see from the result, the rows of the DataFrame have been\n",
    "reordered following the ascending order of the index labels. We, therefore,\n",
    "had a sort order by row, while the order of the columns remained\n",
    "unchanged. If, on the other hand, we need to sort the labels in descending\n",
    "order, simply add the ascending parameter and set it to False `(by default, ascending = True)`, as shown as follows:"
   ]
  },
  {
   "cell_type": "code",
   "execution_count": null,
   "id": "e8902394",
   "metadata": {},
   "outputs": [],
   "source": [
    "df10__ = df10.sort_index(ascending=False)\n",
    "df10__"
   ]
  },
  {
   "cell_type": "markdown",
   "id": "respected-steal",
   "metadata": {},
   "source": [
    "If we want to sort the labels in columns in ascending order, it will be\n",
    "necessary to explicitly define the parameter `axis = 1` (by default axis = 0), as shown as follows:"
   ]
  },
  {
   "cell_type": "code",
   "execution_count": null,
   "id": "b1d7218f",
   "metadata": {},
   "outputs": [],
   "source": [
    "df10x = df10.sort_index(axis=1)\n",
    "df10x"
   ]
  },
  {
   "cell_type": "code",
   "execution_count": null,
   "id": "68841931",
   "metadata": {},
   "outputs": [],
   "source": [
    "df10y = df10.sort_index(axis=1, ascending=False)\n",
    "df10y"
   ]
  },
  {
   "cell_type": "code",
   "execution_count": null,
   "id": "134f1446",
   "metadata": {},
   "outputs": [],
   "source": [
    "df10z = df10.sort_index(axis=0).sort_index(axis=1)\n",
    "df10z"
   ]
  },
  {
   "cell_type": "markdown",
   "id": "boring-chair",
   "metadata": {},
   "source": [
    "### 6.b.2. Sorting by values\n"
   ]
  },
  {
   "cell_type": "markdown",
   "id": "popular-exclusive",
   "metadata": {},
   "source": [
    "Another way to sort a DataFrame is to sort the rows or columns according\n",
    "to their contained values. Sorting by values is done by the sort_values()\n",
    "method. In order to work, this method needs a mandatory parameter that\n",
    "must be explicitly set. The ‘by parameter’ must be labeled columns,\n",
    "according to which, the values within the column will be sorted in the\n",
    "ascending order, as shown as follows:"
   ]
  },
  {
   "cell_type": "code",
   "execution_count": null,
   "id": "aba79a83",
   "metadata": {},
   "outputs": [],
   "source": [
    "df10t = df10.sort_values(by='A')\n",
    "df10t"
   ]
  },
  {
   "cell_type": "markdown",
   "id": "closing-toner",
   "metadata": {},
   "source": [
    "The by parameter can also accept a list of column labels. The\n",
    "`sort_values()` method will first sort the column values corresponding to\n",
    "the first label in the list. Then, in the context of the equal values present in\n",
    "this column, it will sort on the column corresponding to the second label in\n",
    "the list, and so on, as shown as follows:"
   ]
  },
  {
   "cell_type": "code",
   "execution_count": null,
   "id": "4b6b4a2f",
   "metadata": {},
   "outputs": [],
   "source": [
    "df10['A'] = [0,0,2,2]\n",
    "df10p = df10.sort_values(by=['A','B'])\n",
    "df10p"
   ]
  },
  {
   "cell_type": "markdown",
   "id": "clinical-trinity",
   "metadata": {},
   "source": [
    "Finally, both the `sort_index()` method and the `sort_values()` method will\n",
    "not modify the original DataFrame but will return an ordered copy of it.\n",
    "Any changes made to the latter will not affect the original DataFrame in the\n",
    "least, as shown as follows:"
   ]
  },
  {
   "cell_type": "code",
   "execution_count": null,
   "id": "f313a8b7",
   "metadata": {},
   "outputs": [],
   "source": [
    "df10q = df10.sort_index(axis=0)\n",
    "df10q.loc['a','A'] = 0\n",
    "df10q"
   ]
  },
  {
   "cell_type": "code",
   "execution_count": null,
   "id": "4e8ffb99",
   "metadata": {},
   "outputs": [],
   "source": [
    "df10r = df10.sort_values(by='A')\n",
    "df10r"
   ]
  },
  {
   "cell_type": "markdown",
   "id": "a158209b",
   "metadata": {},
   "source": [
    "## 7. Reindexing"
   ]
  },
  {
   "cell_type": "markdown",
   "id": "compact-edward",
   "metadata": {},
   "source": [
    "Reindexing is the fundamental method of aligning data in Pandas.\n",
    "Reindexing means conforming the data to match a given set of labels along\n",
    "a particular axis. This involves a set of things, which are as follows:\n",
    "* Reordering of existing data to respond to the new set of labels\n",
    "* The insertion of NaN in the positions where there is no correspondence\n",
    "* Possibility of filling in cases of missing data (NaN) with special data following appropriate rules"
   ]
  },
  {
   "cell_type": "code",
   "execution_count": null,
   "id": "45b8eeef",
   "metadata": {},
   "outputs": [],
   "source": [
    "df11 = pd.DataFrame(np.random.randint(10, size=16).reshape(4,4), \n",
    "                     index=['b','d','c','a'], \n",
    "                     columns=['C','D','A','B'])\n",
    "df11"
   ]
  },
  {
   "cell_type": "markdown",
   "id": "hindu-usage",
   "metadata": {},
   "source": [
    "To reindex, use the `reindex()` method specifying the new order of the\n",
    "labels that the DataFrame must have. The method will not operate on the\n",
    "reference DataFrame, but will return a copy of the DataFrame that will\n",
    "follow the new indexing rules. To select which particular Index object will\n",
    "be reindexed, we will add the axis parameter with its specific value as the\n",
    "function argument, as shown as follows:"
   ]
  },
  {
   "cell_type": "markdown",
   "id": "talented-sponsorship",
   "metadata": {},
   "source": [
    "* axis = 0 to edit rows (index)\n",
    "* axis = 1 to edit columns (columns)"
   ]
  },
  {
   "cell_type": "code",
   "execution_count": null,
   "id": "eac79df5",
   "metadata": {},
   "outputs": [],
   "source": [
    "df11_ = df11.reindex(['a','b','c','d'],axis=0)\n",
    "df11_"
   ]
  },
  {
   "cell_type": "markdown",
   "id": "subsequent-encyclopedia",
   "metadata": {},
   "source": [
    "The new DataFrame will be a completely independent copy, and any\n",
    "changes made to it will not affect the original one in the least, as shown as\n",
    "follows:"
   ]
  },
  {
   "cell_type": "code",
   "execution_count": null,
   "id": "ead02486",
   "metadata": {},
   "outputs": [],
   "source": [
    "df11_.iloc[1,1] = 0\n",
    "\n",
    "df11_"
   ]
  },
  {
   "cell_type": "code",
   "execution_count": null,
   "id": "associate-extraction",
   "metadata": {},
   "outputs": [],
   "source": [
    "df11"
   ]
  },
  {
   "cell_type": "markdown",
   "id": "killing-spank",
   "metadata": {},
   "source": [
    "The same goes for the columns, as shown as follows:"
   ]
  },
  {
   "cell_type": "code",
   "execution_count": null,
   "id": "7b5196e9",
   "metadata": {},
   "outputs": [],
   "source": [
    "df11__ = df11.reindex(['A','B','C','D'],axis=1)\n",
    "df11__"
   ]
  },
  {
   "cell_type": "markdown",
   "id": "generous-secret",
   "metadata": {},
   "source": [
    "But what happens if we insert labels that are not present in our DataFrame?\n",
    "Or, if we omit some present label? Refer to the following:"
   ]
  },
  {
   "cell_type": "code",
   "execution_count": null,
   "id": "59d52878",
   "metadata": {},
   "outputs": [],
   "source": [
    "df11x = df11.reindex(['A','E','C','D',],axis=1)\n",
    "df11x"
   ]
  },
  {
   "cell_type": "markdown",
   "id": "precious-allocation",
   "metadata": {},
   "source": [
    "### 7.a. Reindexing using another DataFrame as a reference"
   ]
  },
  {
   "cell_type": "markdown",
   "id": "coral-mustang",
   "metadata": {},
   "source": [
    "There is also the possibility of using a reference DataFrame from which to\n",
    "take the order of the indexes (both by row and by column) and apply it to\n",
    "our DataFrame. This is possible with the `reindex_like( )` method. This\n",
    "method will also not change the object that it is called on but will return a\n",
    "copy of the DataFrame as a result."
   ]
  },
  {
   "cell_type": "code",
   "execution_count": null,
   "id": "e88b3773",
   "metadata": {},
   "outputs": [],
   "source": [
    "df11y = pd.DataFrame(np.zeros(16).reshape(4,4), \n",
    "                     index=['a','b','c','d'], \n",
    "                     columns=['A','B','C','D'])\n",
    "df11y"
   ]
  },
  {
   "cell_type": "markdown",
   "id": "fixed-italy",
   "metadata": {},
   "source": [
    "We will apply the `reindex_like( )` method on our DataFrame on which we\n",
    "want to reindex, as shown as follows:"
   ]
  },
  {
   "cell_type": "code",
   "execution_count": null,
   "id": "1dfa27c1",
   "metadata": {},
   "outputs": [],
   "source": [
    "df11z = df11.reindex_like(df11)\n",
    "df11z"
   ]
  },
  {
   "cell_type": "markdown",
   "id": "cellular-numbers",
   "metadata": {},
   "source": [
    "Also in this case, if in the reference DataFrame, there are labels that do not\n",
    "exist in our DataFrame on which to index, these rows or columns will be\n",
    "added to the new DataFrame returned with all the `NaN` values (missing\n",
    "values) inside. Whereas, if in the reference DataFrame, some labels are not\n",
    "present, the corresponding rows or columns will be removed from the new\n",
    "DataFrame returned, as shown as follows"
   ]
  },
  {
   "cell_type": "code",
   "execution_count": null,
   "id": "e6326a06",
   "metadata": {},
   "outputs": [],
   "source": [
    "df12 = pd.DataFrame(np.zeros(16).reshape(4,4), \n",
    "                     index=['a','b','c','e'], \n",
    "                     columns=['A','B','W','Z'])\n",
    "df12"
   ]
  },
  {
   "cell_type": "code",
   "execution_count": null,
   "id": "9c2b8e1f",
   "metadata": {},
   "outputs": [],
   "source": [
    "df12_ = df12.reindex_like(df12)\n",
    "df12_"
   ]
  },
  {
   "cell_type": "markdown",
   "id": "synthetic-collector",
   "metadata": {},
   "source": [
    "## Conclusion"
   ]
  },
  {
   "cell_type": "markdown",
   "id": "delayed-friend",
   "metadata": {},
   "source": [
    "In this chapter, we dealt with a whole series of basic operations that apply to\n",
    "DataFrame (and also to Series) and which greatly help in understanding this\n",
    "type of object and how they work. The concept of selection is very\n",
    "important because it allows us to focus our attention on a subset of the DataFrame. This type of object often has dimensions that are too large to be considered in their entirety, and in addition to the often-insufficient\n",
    "selection, a filtering system that allows us to select only what meets\n",
    "particular requirements that come to our aid."
   ]
  }
 ],
 "metadata": {
  "kernelspec": {
   "display_name": "Python 3",
   "language": "python",
   "name": "python3"
  },
  "language_info": {
   "codemirror_mode": {
    "name": "ipython",
    "version": 3
   },
   "file_extension": ".py",
   "mimetype": "text/x-python",
   "name": "python",
   "nbconvert_exporter": "python",
   "pygments_lexer": "ipython3",
   "version": "3.9.2"
  }
 },
 "nbformat": 4,
 "nbformat_minor": 5
}
