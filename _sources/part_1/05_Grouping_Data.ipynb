{
 "cells": [
  {
   "cell_type": "markdown",
   "metadata": {},
   "source": [
    "# Chapter 5: Grouping the Data"
   ]
  },
  {
   "cell_type": "markdown",
   "metadata": {},
   "source": [
    "##  Introduction"
   ]
  },
  {
   "cell_type": "markdown",
   "metadata": {},
   "source": [
    "In data analysis tasks, the insights often can be unveiled when the data are aggregated or grouped. Such type of operations play a pivotal role in real-world applications by enabling powerful data analysis and decision-making. The ability to group data based on specific criteria and perform aggregations and transformations opens up a multitude of possibilities. For instance, \n",
    "\n",
    "* **In finance**, groupby operations could be used by Nigerian Exchange Group (formerly known Nigeria Stock Exchange) to analyze market trends and identify patterns in stock or bond prices. \n",
    "\n",
    "* **In marketing**, they could help Tanzlite Agency (in Dar Es Salaam, Tanzania) understand their customer segments and behavior for targeted campaigns. \n",
    "\n",
    "* **In healthcare**, groupby operations could aid Data Analyst interns at the Regional Hospital of Limbe, Cameroon in examining patient data to identify disease patterns and provide insights foe the medical doctor to devise personalized treatments. \n",
    "\n",
    "* **in operations management**, these operations could be used by Bollore Logistics  to enable efficient resource allocation and optimization.\n",
    "\n",
    "\n",
    "The pandas module offer a variety of operations under the `groupby` API.Those groupby operations provide valuable insights and facilitate data-driven decision-making across various domains, making them indispensable in real-world applications. In this section, we will present some of them including **splitting, applying and combining**."
   ]
  },
  {
   "cell_type": "markdown",
   "metadata": {},
   "source": [
    "## Splitting "
   ]
  },
  {
   "cell_type": "markdown",
   "metadata": {},
   "source": [
    " Lets take a look at the Nobel Prize dataset winners to understand some of the groupby operations. Let's load the `nobel_winners.csv` file."
   ]
  },
  {
   "cell_type": "markdown",
   "metadata": {},
   "source": [
    "The **Pandas dataframe.groupby()** function is used to split the data into groups based on some criteria. The abstract definition of grouping is to provide a mapping of labels to group names."
   ]
  },
  {
   "cell_type": "markdown",
   "metadata": {},
   "source": [
    ">#### <font color=#800080>Task 15:</font> <a class=\"anchor\" id=\"Task-1\"></a>\n"
   ]
  },
  {
   "cell_type": "markdown",
   "metadata": {},
   "source": [
    "One of the key moments of the Russia-Africa Summit that was held in St Petersburg last July, was the speech delivred  bythe 35 years old president of Burkina Faso, Captain Ibrahim Traoré. More specifically, he said:  **\"My generation does not understand this: how can Africa, which has so much wealth, become the poorest continent in the world today? And why African leaders travel the world to beg,\"**\n",
    "\"\"\"\n",
    "That statement has ignited a sense of patriotism and unity among African leaders. One of the resolutions made immediately after the Summit was the exchange of skills between Russian and African farmers. Consequently, a call for applications was initiated throughout Africa, allowing farmers to apply and compete for the opportunity to win the **Nancy Abeid Prize** (in honor of Nancy Abeid Arahamane, who established Africa's first camel milk dairy in 1989).\n",
    "\n",
    "The Prize essentially acknowledges farmers based on the height and width of their crops for four different types of grain: *Coffee*, *Beans*, *Maize*, and *Wheat*. The winning farmers will receive funding to expand their businesses and have their products promoted throughout the continent, fostering potential partnerships with industries in the future. The results are enclosed in a csv file called `grain_award.csv`.\n",
    "\n"
   ]
  },
  {
   "cell_type": "code",
   "execution_count": 1,
   "metadata": {},
   "outputs": [],
   "source": [
    "import pandas as pd\n",
    "import numpy as np"
   ]
  },
  {
   "cell_type": "code",
   "execution_count": 2,
   "metadata": {},
   "outputs": [
    {
     "data": {
      "text/html": [
       "<div>\n",
       "<style scoped>\n",
       "    .dataframe tbody tr th:only-of-type {\n",
       "        vertical-align: middle;\n",
       "    }\n",
       "\n",
       "    .dataframe tbody tr th {\n",
       "        vertical-align: top;\n",
       "    }\n",
       "\n",
       "    .dataframe thead th {\n",
       "        text-align: right;\n",
       "    }\n",
       "</style>\n",
       "<table border=\"1\" class=\"dataframe\">\n",
       "  <thead>\n",
       "    <tr style=\"text-align: right;\">\n",
       "      <th></th>\n",
       "      <th>Name</th>\n",
       "      <th>birth_country</th>\n",
       "      <th>gender</th>\n",
       "      <th>grainType</th>\n",
       "      <th>cropHeight</th>\n",
       "      <th>cropWidth</th>\n",
       "      <th>prize</th>\n",
       "    </tr>\n",
       "  </thead>\n",
       "  <tbody>\n",
       "    <tr>\n",
       "      <th>0</th>\n",
       "      <td>Siyabonga Luthuli</td>\n",
       "      <td>South Africa</td>\n",
       "      <td>Male</td>\n",
       "      <td>wheat</td>\n",
       "      <td>2.17</td>\n",
       "      <td>3.07</td>\n",
       "      <td>440000</td>\n",
       "    </tr>\n",
       "    <tr>\n",
       "      <th>1</th>\n",
       "      <td>Lucien Nirina</td>\n",
       "      <td>Madagadscar</td>\n",
       "      <td>Male</td>\n",
       "      <td>coffee</td>\n",
       "      <td>2.05</td>\n",
       "      <td>3.03</td>\n",
       "      <td>420000</td>\n",
       "    </tr>\n",
       "    <tr>\n",
       "      <th>2</th>\n",
       "      <td>Pauline Dossevi</td>\n",
       "      <td>Togo</td>\n",
       "      <td>Female</td>\n",
       "      <td>beans</td>\n",
       "      <td>2.16</td>\n",
       "      <td>3.21</td>\n",
       "      <td>290000</td>\n",
       "    </tr>\n",
       "    <tr>\n",
       "      <th>3</th>\n",
       "      <td>Garba Kone</td>\n",
       "      <td>Burkina Faso</td>\n",
       "      <td>Male</td>\n",
       "      <td>maize</td>\n",
       "      <td>2.18</td>\n",
       "      <td>3.03</td>\n",
       "      <td>440000</td>\n",
       "    </tr>\n",
       "    <tr>\n",
       "      <th>4</th>\n",
       "      <td>Adeyoyin Samuel</td>\n",
       "      <td>Nigeria</td>\n",
       "      <td>Male</td>\n",
       "      <td>wheat</td>\n",
       "      <td>1.95</td>\n",
       "      <td>3.12</td>\n",
       "      <td>220000</td>\n",
       "    </tr>\n",
       "    <tr>\n",
       "      <th>5</th>\n",
       "      <td>Geoffrey Birina</td>\n",
       "      <td>Burundi</td>\n",
       "      <td>Male</td>\n",
       "      <td>wheat</td>\n",
       "      <td>2.07</td>\n",
       "      <td>3.05</td>\n",
       "      <td>250000</td>\n",
       "    </tr>\n",
       "    <tr>\n",
       "      <th>6</th>\n",
       "      <td>Sylvie Kurwa</td>\n",
       "      <td>Rwanda</td>\n",
       "      <td>Female</td>\n",
       "      <td>coffee</td>\n",
       "      <td>2.08</td>\n",
       "      <td>3.18</td>\n",
       "      <td>230000</td>\n",
       "    </tr>\n",
       "    <tr>\n",
       "      <th>7</th>\n",
       "      <td>Joao Pedro</td>\n",
       "      <td>Angola</td>\n",
       "      <td>Male</td>\n",
       "      <td>beans</td>\n",
       "      <td>2.11</td>\n",
       "      <td>3.14</td>\n",
       "      <td>150000</td>\n",
       "    </tr>\n",
       "    <tr>\n",
       "      <th>8</th>\n",
       "      <td>Maria Siphiwe</td>\n",
       "      <td>Botswana</td>\n",
       "      <td>Female</td>\n",
       "      <td>maize</td>\n",
       "      <td>2.06</td>\n",
       "      <td>3.10</td>\n",
       "      <td>370000</td>\n",
       "    </tr>\n",
       "    <tr>\n",
       "      <th>9</th>\n",
       "      <td>Lejeune Bahati</td>\n",
       "      <td>Congo</td>\n",
       "      <td>Male</td>\n",
       "      <td>wheat</td>\n",
       "      <td>2.16</td>\n",
       "      <td>3.11</td>\n",
       "      <td>430000</td>\n",
       "    </tr>\n",
       "    <tr>\n",
       "      <th>10</th>\n",
       "      <td>Touadoum Nobre</td>\n",
       "      <td>Chad</td>\n",
       "      <td>Male</td>\n",
       "      <td>coffee</td>\n",
       "      <td>2.00</td>\n",
       "      <td>3.11</td>\n",
       "      <td>370000</td>\n",
       "    </tr>\n",
       "    <tr>\n",
       "      <th>11</th>\n",
       "      <td>Ebale Gervais</td>\n",
       "      <td>Cameroon</td>\n",
       "      <td>Male</td>\n",
       "      <td>maize</td>\n",
       "      <td>2.01</td>\n",
       "      <td>3.14</td>\n",
       "      <td>390000</td>\n",
       "    </tr>\n",
       "    <tr>\n",
       "      <th>12</th>\n",
       "      <td>Fatema Nourdin</td>\n",
       "      <td>Morocco</td>\n",
       "      <td>Female</td>\n",
       "      <td>coffee</td>\n",
       "      <td>2.04</td>\n",
       "      <td>3.08</td>\n",
       "      <td>120000</td>\n",
       "    </tr>\n",
       "    <tr>\n",
       "      <th>13</th>\n",
       "      <td>Aboubakar Houn</td>\n",
       "      <td>Mauritania</td>\n",
       "      <td>Male</td>\n",
       "      <td>beans</td>\n",
       "      <td>1.88</td>\n",
       "      <td>3.10</td>\n",
       "      <td>270000</td>\n",
       "    </tr>\n",
       "    <tr>\n",
       "      <th>14</th>\n",
       "      <td>Salif Cisse</td>\n",
       "      <td>Mali</td>\n",
       "      <td>Male</td>\n",
       "      <td>wheat</td>\n",
       "      <td>1.95</td>\n",
       "      <td>3.02</td>\n",
       "      <td>190000</td>\n",
       "    </tr>\n",
       "    <tr>\n",
       "      <th>15</th>\n",
       "      <td>Aicha Boumediene</td>\n",
       "      <td>Algeria</td>\n",
       "      <td>Female</td>\n",
       "      <td>maize</td>\n",
       "      <td>1.87</td>\n",
       "      <td>3.09</td>\n",
       "      <td>360000</td>\n",
       "    </tr>\n",
       "  </tbody>\n",
       "</table>\n",
       "</div>"
      ],
      "text/plain": [
       "                 Name birth_country  gender grainType  cropHeight  cropWidth  \\\n",
       "0   Siyabonga Luthuli  South Africa    Male     wheat        2.17       3.07   \n",
       "1       Lucien Nirina   Madagadscar    Male    coffee        2.05       3.03   \n",
       "2     Pauline Dossevi          Togo  Female     beans        2.16       3.21   \n",
       "3          Garba Kone  Burkina Faso    Male     maize        2.18       3.03   \n",
       "4     Adeyoyin Samuel       Nigeria    Male     wheat        1.95       3.12   \n",
       "5     Geoffrey Birina       Burundi    Male     wheat        2.07       3.05   \n",
       "6        Sylvie Kurwa        Rwanda  Female    coffee        2.08       3.18   \n",
       "7          Joao Pedro        Angola    Male     beans        2.11       3.14   \n",
       "8       Maria Siphiwe      Botswana  Female     maize        2.06       3.10   \n",
       "9      Lejeune Bahati         Congo    Male     wheat        2.16       3.11   \n",
       "10     Touadoum Nobre          Chad    Male    coffee        2.00       3.11   \n",
       "11      Ebale Gervais      Cameroon    Male     maize        2.01       3.14   \n",
       "12     Fatema Nourdin       Morocco  Female    coffee        2.04       3.08   \n",
       "13     Aboubakar Houn    Mauritania    Male     beans        1.88       3.10   \n",
       "14        Salif Cisse          Mali    Male     wheat        1.95       3.02   \n",
       "15   Aicha Boumediene       Algeria  Female     maize        1.87       3.09   \n",
       "\n",
       "     prize  \n",
       "0   440000  \n",
       "1   420000  \n",
       "2   290000  \n",
       "3   440000  \n",
       "4   220000  \n",
       "5   250000  \n",
       "6   230000  \n",
       "7   150000  \n",
       "8   370000  \n",
       "9   430000  \n",
       "10  370000  \n",
       "11  390000  \n",
       "12  120000  \n",
       "13  270000  \n",
       "14  190000  \n",
       "15  360000  "
      ]
     },
     "execution_count": 2,
     "metadata": {},
     "output_type": "execute_result"
    }
   ],
   "source": [
    "grain_prize = pd.read_csv('data/grain_award.csv')\n",
    "grain_prize"
   ]
  },
  {
   "cell_type": "markdown",
   "metadata": {},
   "source": [
    "Each row in this dataset represents a prize winner, the country of birth, the gender, the grain type, the crop height and width and the prize. At this stage, we can call the pandas `DataFrame.groupby()` function, to split the data into groups based on predefined criteria, usually a categorical column.  Lets start by grouping the data by gender. We do this by creating a `group_gen` object."
   ]
  },
  {
   "cell_type": "code",
   "execution_count": 104,
   "metadata": {},
   "outputs": [
    {
     "data": {
      "text/plain": [
       "<pandas.core.groupby.generic.DataFrameGroupBy object at 0x7fdb5b45bb20>"
      ]
     },
     "execution_count": 104,
     "metadata": {},
     "output_type": "execute_result"
    }
   ],
   "source": [
    "group_gen =grain_prize.groupby('gender')\n",
    "group_gen"
   ]
  },
  {
   "cell_type": "markdown",
   "metadata": {},
   "source": [
    "It is important to note that creating a GroupBy object only checks if we have passed a correct mapping; it doesn't really perform any of the operations. It simply re-organize the display of the dataframe according to the chosen criterion. We could check the content of the chosen criterion to see the different instances by which the the dataframe will be sorted by:"
   ]
  },
  {
   "cell_type": "code",
   "execution_count": 105,
   "metadata": {},
   "outputs": [
    {
     "data": {
      "text/plain": [
       "array(['Male', 'Female'], dtype=object)"
      ]
     },
     "execution_count": 105,
     "metadata": {},
     "output_type": "execute_result"
    }
   ],
   "source": [
    "grain_prize['gender'].unique()"
   ]
  },
  {
   "cell_type": "markdown",
   "metadata": {},
   "source": [
    "Using the `.first()` (or `.last()`) function, we could check the first few (or last) entries of the re-oganized dataframe."
   ]
  },
  {
   "cell_type": "code",
   "execution_count": 106,
   "metadata": {
    "scrolled": true
   },
   "outputs": [
    {
     "data": {
      "text/html": [
       "<div>\n",
       "<style scoped>\n",
       "    .dataframe tbody tr th:only-of-type {\n",
       "        vertical-align: middle;\n",
       "    }\n",
       "\n",
       "    .dataframe tbody tr th {\n",
       "        vertical-align: top;\n",
       "    }\n",
       "\n",
       "    .dataframe thead th {\n",
       "        text-align: right;\n",
       "    }\n",
       "</style>\n",
       "<table border=\"1\" class=\"dataframe\">\n",
       "  <thead>\n",
       "    <tr style=\"text-align: right;\">\n",
       "      <th></th>\n",
       "      <th>Name</th>\n",
       "      <th>birth_country</th>\n",
       "      <th>grainType</th>\n",
       "      <th>cropHeight</th>\n",
       "      <th>cropWidth</th>\n",
       "      <th>prize</th>\n",
       "    </tr>\n",
       "    <tr>\n",
       "      <th>gender</th>\n",
       "      <th></th>\n",
       "      <th></th>\n",
       "      <th></th>\n",
       "      <th></th>\n",
       "      <th></th>\n",
       "      <th></th>\n",
       "    </tr>\n",
       "  </thead>\n",
       "  <tbody>\n",
       "    <tr>\n",
       "      <th>Female</th>\n",
       "      <td>Pauline Dossevi</td>\n",
       "      <td>Togo</td>\n",
       "      <td>beans</td>\n",
       "      <td>2.16</td>\n",
       "      <td>3.21</td>\n",
       "      <td>290000</td>\n",
       "    </tr>\n",
       "    <tr>\n",
       "      <th>Male</th>\n",
       "      <td>Siyabonga Luthuli</td>\n",
       "      <td>South Africa</td>\n",
       "      <td>wheat</td>\n",
       "      <td>2.17</td>\n",
       "      <td>3.07</td>\n",
       "      <td>440000</td>\n",
       "    </tr>\n",
       "  </tbody>\n",
       "</table>\n",
       "</div>"
      ],
      "text/plain": [
       "                     Name birth_country grainType  cropHeight  cropWidth  \\\n",
       "gender                                                                     \n",
       "Female    Pauline Dossevi          Togo     beans        2.16       3.21   \n",
       "Male    Siyabonga Luthuli  South Africa     wheat        2.17       3.07   \n",
       "\n",
       "         prize  \n",
       "gender          \n",
       "Female  290000  \n",
       "Male    440000  "
      ]
     },
     "execution_count": 106,
     "metadata": {},
     "output_type": "execute_result"
    }
   ],
   "source": [
    "group_gen.first()"
   ]
  },
  {
   "cell_type": "markdown",
   "metadata": {},
   "source": [
    "Is important to note that the grouping can also be done using more than one column, simply by passing a list of columns as argument. To illustrate that, let's group our data first by `gender` and then, inside each of the created groups, we will apply additional grouping based on the `grainType`:"
   ]
  },
  {
   "cell_type": "code",
   "execution_count": 107,
   "metadata": {
    "scrolled": true
   },
   "outputs": [
    {
     "data": {
      "text/html": [
       "<div>\n",
       "<style scoped>\n",
       "    .dataframe tbody tr th:only-of-type {\n",
       "        vertical-align: middle;\n",
       "    }\n",
       "\n",
       "    .dataframe tbody tr th {\n",
       "        vertical-align: top;\n",
       "    }\n",
       "\n",
       "    .dataframe thead th {\n",
       "        text-align: right;\n",
       "    }\n",
       "</style>\n",
       "<table border=\"1\" class=\"dataframe\">\n",
       "  <thead>\n",
       "    <tr style=\"text-align: right;\">\n",
       "      <th></th>\n",
       "      <th></th>\n",
       "      <th>Name</th>\n",
       "      <th>birth_country</th>\n",
       "      <th>cropHeight</th>\n",
       "      <th>cropWidth</th>\n",
       "      <th>prize</th>\n",
       "    </tr>\n",
       "    <tr>\n",
       "      <th>gender</th>\n",
       "      <th>grainType</th>\n",
       "      <th></th>\n",
       "      <th></th>\n",
       "      <th></th>\n",
       "      <th></th>\n",
       "      <th></th>\n",
       "    </tr>\n",
       "  </thead>\n",
       "  <tbody>\n",
       "    <tr>\n",
       "      <th rowspan=\"3\" valign=\"top\">Female</th>\n",
       "      <th>beans</th>\n",
       "      <td>Pauline Dossevi</td>\n",
       "      <td>Togo</td>\n",
       "      <td>2.16</td>\n",
       "      <td>3.21</td>\n",
       "      <td>290000</td>\n",
       "    </tr>\n",
       "    <tr>\n",
       "      <th>coffee</th>\n",
       "      <td>Fatema Nourdin</td>\n",
       "      <td>Morocco</td>\n",
       "      <td>2.04</td>\n",
       "      <td>3.08</td>\n",
       "      <td>120000</td>\n",
       "    </tr>\n",
       "    <tr>\n",
       "      <th>maize</th>\n",
       "      <td>Aicha Boumediene</td>\n",
       "      <td>Algeria</td>\n",
       "      <td>1.87</td>\n",
       "      <td>3.09</td>\n",
       "      <td>360000</td>\n",
       "    </tr>\n",
       "    <tr>\n",
       "      <th rowspan=\"4\" valign=\"top\">Male</th>\n",
       "      <th>beans</th>\n",
       "      <td>Aboubakar Houn</td>\n",
       "      <td>Mauritania</td>\n",
       "      <td>1.88</td>\n",
       "      <td>3.10</td>\n",
       "      <td>270000</td>\n",
       "    </tr>\n",
       "    <tr>\n",
       "      <th>coffee</th>\n",
       "      <td>Touadoum Nobre</td>\n",
       "      <td>Chad</td>\n",
       "      <td>2.00</td>\n",
       "      <td>3.11</td>\n",
       "      <td>370000</td>\n",
       "    </tr>\n",
       "    <tr>\n",
       "      <th>maize</th>\n",
       "      <td>Ebale Gervais</td>\n",
       "      <td>Cameroon</td>\n",
       "      <td>2.01</td>\n",
       "      <td>3.14</td>\n",
       "      <td>390000</td>\n",
       "    </tr>\n",
       "    <tr>\n",
       "      <th>wheat</th>\n",
       "      <td>Salif Cisse</td>\n",
       "      <td>Mali</td>\n",
       "      <td>1.95</td>\n",
       "      <td>3.02</td>\n",
       "      <td>190000</td>\n",
       "    </tr>\n",
       "  </tbody>\n",
       "</table>\n",
       "</div>"
      ],
      "text/plain": [
       "                              Name birth_country  cropHeight  cropWidth  \\\n",
       "gender grainType                                                          \n",
       "Female beans       Pauline Dossevi          Togo        2.16       3.21   \n",
       "       coffee       Fatema Nourdin       Morocco        2.04       3.08   \n",
       "       maize      Aicha Boumediene       Algeria        1.87       3.09   \n",
       "Male   beans        Aboubakar Houn    Mauritania        1.88       3.10   \n",
       "       coffee       Touadoum Nobre          Chad        2.00       3.11   \n",
       "       maize         Ebale Gervais      Cameroon        2.01       3.14   \n",
       "       wheat           Salif Cisse          Mali        1.95       3.02   \n",
       "\n",
       "                   prize  \n",
       "gender grainType          \n",
       "Female beans      290000  \n",
       "       coffee     120000  \n",
       "       maize      360000  \n",
       "Male   beans      270000  \n",
       "       coffee     370000  \n",
       "       maize      390000  \n",
       "       wheat      190000  "
      ]
     },
     "execution_count": 107,
     "metadata": {},
     "output_type": "execute_result"
    }
   ],
   "source": [
    "group_gen_grType = grain_prize.groupby(['gender' , 'grainType']) \n",
    "group_gen_grType.last()"
   ]
  },
  {
   "cell_type": "markdown",
   "metadata": {},
   "source": [
    "If instead, for some purpose,  we want to select a single group in a form of DataFrame, we should use the method `get_group()` on the GroupBy object, passing as an argument the sub-group instance we want to focus on. Let's try and only focus on the prize winners in `coffee` grain type."
   ]
  },
  {
   "cell_type": "code",
   "execution_count": 108,
   "metadata": {},
   "outputs": [
    {
     "data": {
      "text/html": [
       "<div>\n",
       "<style scoped>\n",
       "    .dataframe tbody tr th:only-of-type {\n",
       "        vertical-align: middle;\n",
       "    }\n",
       "\n",
       "    .dataframe tbody tr th {\n",
       "        vertical-align: top;\n",
       "    }\n",
       "\n",
       "    .dataframe thead th {\n",
       "        text-align: right;\n",
       "    }\n",
       "</style>\n",
       "<table border=\"1\" class=\"dataframe\">\n",
       "  <thead>\n",
       "    <tr style=\"text-align: right;\">\n",
       "      <th></th>\n",
       "      <th>Name</th>\n",
       "      <th>birth_country</th>\n",
       "      <th>gender</th>\n",
       "      <th>grainType</th>\n",
       "      <th>cropHeight</th>\n",
       "      <th>cropWidth</th>\n",
       "      <th>prize</th>\n",
       "    </tr>\n",
       "  </thead>\n",
       "  <tbody>\n",
       "    <tr>\n",
       "      <th>1</th>\n",
       "      <td>Lucien Nirina</td>\n",
       "      <td>Madagadscar</td>\n",
       "      <td>Male</td>\n",
       "      <td>coffee</td>\n",
       "      <td>2.05</td>\n",
       "      <td>3.03</td>\n",
       "      <td>420000</td>\n",
       "    </tr>\n",
       "    <tr>\n",
       "      <th>6</th>\n",
       "      <td>Sylvie Kurwa</td>\n",
       "      <td>Rwanda</td>\n",
       "      <td>Female</td>\n",
       "      <td>coffee</td>\n",
       "      <td>2.08</td>\n",
       "      <td>3.18</td>\n",
       "      <td>230000</td>\n",
       "    </tr>\n",
       "    <tr>\n",
       "      <th>10</th>\n",
       "      <td>Touadoum Nobre</td>\n",
       "      <td>Chad</td>\n",
       "      <td>Male</td>\n",
       "      <td>coffee</td>\n",
       "      <td>2.00</td>\n",
       "      <td>3.11</td>\n",
       "      <td>370000</td>\n",
       "    </tr>\n",
       "    <tr>\n",
       "      <th>12</th>\n",
       "      <td>Fatema Nourdin</td>\n",
       "      <td>Morocco</td>\n",
       "      <td>Female</td>\n",
       "      <td>coffee</td>\n",
       "      <td>2.04</td>\n",
       "      <td>3.08</td>\n",
       "      <td>120000</td>\n",
       "    </tr>\n",
       "  </tbody>\n",
       "</table>\n",
       "</div>"
      ],
      "text/plain": [
       "              Name birth_country  gender grainType  cropHeight  cropWidth  \\\n",
       "1    Lucien Nirina   Madagadscar    Male    coffee        2.05       3.03   \n",
       "6     Sylvie Kurwa        Rwanda  Female    coffee        2.08       3.18   \n",
       "10  Touadoum Nobre          Chad    Male    coffee        2.00       3.11   \n",
       "12  Fatema Nourdin       Morocco  Female    coffee        2.04       3.08   \n",
       "\n",
       "     prize  \n",
       "1   420000  \n",
       "6   230000  \n",
       "10  370000  \n",
       "12  120000  "
      ]
     },
     "execution_count": 108,
     "metadata": {},
     "output_type": "execute_result"
    }
   ],
   "source": [
    "group_coffee = grain_prize.groupby('grainType').get_group('coffee')\n",
    "group_coffee"
   ]
  },
  {
   "cell_type": "markdown",
   "metadata": {},
   "source": [
    "## Applying"
   ]
  },
  {
   "cell_type": "markdown",
   "metadata": {},
   "source": [
    "After splitting the original data and (optionally) inspecting the resulting groups, we can perform one of the following operations or their combination (not necessarily in the given order) on each group:\n",
    "\n",
    "* **Aggregation**: calculating a summary statistic for each group (e.g., group sizes, means, medians, or sums) and outputting a single number for many data points.\n",
    "\n",
    "* **Transformation**: conducting some operations by group, such as calculating the z-score for each group.\n",
    "\n",
    "\n",
    "* **Filtration**: rejecting some groups based on a predefined condition, such as group size, mean, median, or sum. This can also include filtering out particular rows from each group."
   ]
  },
  {
   "cell_type": "markdown",
   "metadata": {},
   "source": [
    "**Aggregation**\n",
    "\n",
    "To aggregate the data of a GroupBy object (i.e., to calculate a summary statistic by group), we can either use built-in functions (like mean, max, min, std, median, sum, etc) from the groupby module or use the `agg()` method on the object:"
   ]
  },
  {
   "cell_type": "markdown",
   "metadata": {},
   "source": [
    "\n",
    "For instance, we might be interested in the average of `cropHeight` and `cropWidth` (or any numerical column) per grain type."
   ]
  },
  {
   "cell_type": "code",
   "execution_count": 123,
   "metadata": {
    "scrolled": true
   },
   "outputs": [],
   "source": [
    "group_grType =  grain_prize.groupby('grainType')"
   ]
  },
  {
   "cell_type": "code",
   "execution_count": 124,
   "metadata": {},
   "outputs": [
    {
     "data": {
      "text/html": [
       "<div>\n",
       "<style scoped>\n",
       "    .dataframe tbody tr th:only-of-type {\n",
       "        vertical-align: middle;\n",
       "    }\n",
       "\n",
       "    .dataframe tbody tr th {\n",
       "        vertical-align: top;\n",
       "    }\n",
       "\n",
       "    .dataframe thead th {\n",
       "        text-align: right;\n",
       "    }\n",
       "</style>\n",
       "<table border=\"1\" class=\"dataframe\">\n",
       "  <thead>\n",
       "    <tr style=\"text-align: right;\">\n",
       "      <th></th>\n",
       "      <th>cropHeight</th>\n",
       "      <th>cropWidth</th>\n",
       "    </tr>\n",
       "    <tr>\n",
       "      <th>grainType</th>\n",
       "      <th></th>\n",
       "      <th></th>\n",
       "    </tr>\n",
       "  </thead>\n",
       "  <tbody>\n",
       "    <tr>\n",
       "      <th>beans</th>\n",
       "      <td>2.0500</td>\n",
       "      <td>3.150</td>\n",
       "    </tr>\n",
       "    <tr>\n",
       "      <th>coffee</th>\n",
       "      <td>2.0425</td>\n",
       "      <td>3.100</td>\n",
       "    </tr>\n",
       "    <tr>\n",
       "      <th>maize</th>\n",
       "      <td>2.0300</td>\n",
       "      <td>3.090</td>\n",
       "    </tr>\n",
       "    <tr>\n",
       "      <th>wheat</th>\n",
       "      <td>2.0600</td>\n",
       "      <td>3.074</td>\n",
       "    </tr>\n",
       "  </tbody>\n",
       "</table>\n",
       "</div>"
      ],
      "text/plain": [
       "           cropHeight  cropWidth\n",
       "grainType                       \n",
       "beans          2.0500      3.150\n",
       "coffee         2.0425      3.100\n",
       "maize          2.0300      3.090\n",
       "wheat          2.0600      3.074"
      ]
     },
     "execution_count": 124,
     "metadata": {},
     "output_type": "execute_result"
    }
   ],
   "source": [
    "group_grType[['cropHeight' , 'cropWidth']].mean()  "
   ]
  },
  {
   "cell_type": "markdown",
   "metadata": {},
   "source": [
    "or"
   ]
  },
  {
   "cell_type": "code",
   "execution_count": 129,
   "metadata": {},
   "outputs": [
    {
     "data": {
      "text/html": [
       "<div>\n",
       "<style scoped>\n",
       "    .dataframe tbody tr th:only-of-type {\n",
       "        vertical-align: middle;\n",
       "    }\n",
       "\n",
       "    .dataframe tbody tr th {\n",
       "        vertical-align: top;\n",
       "    }\n",
       "\n",
       "    .dataframe thead th {\n",
       "        text-align: right;\n",
       "    }\n",
       "</style>\n",
       "<table border=\"1\" class=\"dataframe\">\n",
       "  <thead>\n",
       "    <tr style=\"text-align: right;\">\n",
       "      <th></th>\n",
       "      <th>cropHeight</th>\n",
       "      <th>cropWidth</th>\n",
       "    </tr>\n",
       "    <tr>\n",
       "      <th>grainType</th>\n",
       "      <th></th>\n",
       "      <th></th>\n",
       "    </tr>\n",
       "  </thead>\n",
       "  <tbody>\n",
       "    <tr>\n",
       "      <th>beans</th>\n",
       "      <td>2.0500</td>\n",
       "      <td>3.150</td>\n",
       "    </tr>\n",
       "    <tr>\n",
       "      <th>coffee</th>\n",
       "      <td>2.0425</td>\n",
       "      <td>3.100</td>\n",
       "    </tr>\n",
       "    <tr>\n",
       "      <th>maize</th>\n",
       "      <td>2.0300</td>\n",
       "      <td>3.090</td>\n",
       "    </tr>\n",
       "    <tr>\n",
       "      <th>wheat</th>\n",
       "      <td>2.0600</td>\n",
       "      <td>3.074</td>\n",
       "    </tr>\n",
       "  </tbody>\n",
       "</table>\n",
       "</div>"
      ],
      "text/plain": [
       "           cropHeight  cropWidth\n",
       "grainType                       \n",
       "beans          2.0500      3.150\n",
       "coffee         2.0425      3.100\n",
       "maize          2.0300      3.090\n",
       "wheat          2.0600      3.074"
      ]
     },
     "execution_count": 129,
     "metadata": {},
     "output_type": "execute_result"
    }
   ],
   "source": [
    "group_grType[['cropHeight' , 'cropWidth']].agg(np.mean)  "
   ]
  },
  {
   "cell_type": "markdown",
   "metadata": {},
   "source": [
    "The code above combines all the prize winner per `grainType` and compute the average of both the `cropHeight` and the `cropWidth`.\n",
    "It is possible to apply several functions at once to one or more columns of a GroupBy object. For this purpose, we again need the `agg()` method and a list of the functions of interest:"
   ]
  },
  {
   "cell_type": "code",
   "execution_count": 130,
   "metadata": {},
   "outputs": [
    {
     "data": {
      "text/html": [
       "<div>\n",
       "<style scoped>\n",
       "    .dataframe tbody tr th:only-of-type {\n",
       "        vertical-align: middle;\n",
       "    }\n",
       "\n",
       "    .dataframe tbody tr th {\n",
       "        vertical-align: top;\n",
       "    }\n",
       "\n",
       "    .dataframe thead tr th {\n",
       "        text-align: left;\n",
       "    }\n",
       "\n",
       "    .dataframe thead tr:last-of-type th {\n",
       "        text-align: right;\n",
       "    }\n",
       "</style>\n",
       "<table border=\"1\" class=\"dataframe\">\n",
       "  <thead>\n",
       "    <tr>\n",
       "      <th></th>\n",
       "      <th colspan=\"3\" halign=\"left\">cropHeight</th>\n",
       "      <th colspan=\"3\" halign=\"left\">cropWidth</th>\n",
       "    </tr>\n",
       "    <tr>\n",
       "      <th></th>\n",
       "      <th>mean</th>\n",
       "      <th>sum</th>\n",
       "      <th>std</th>\n",
       "      <th>mean</th>\n",
       "      <th>sum</th>\n",
       "      <th>std</th>\n",
       "    </tr>\n",
       "    <tr>\n",
       "      <th>grainType</th>\n",
       "      <th></th>\n",
       "      <th></th>\n",
       "      <th></th>\n",
       "      <th></th>\n",
       "      <th></th>\n",
       "      <th></th>\n",
       "    </tr>\n",
       "  </thead>\n",
       "  <tbody>\n",
       "    <tr>\n",
       "      <th>beans</th>\n",
       "      <td>2.0500</td>\n",
       "      <td>6.15</td>\n",
       "      <td>0.149332</td>\n",
       "      <td>3.150</td>\n",
       "      <td>9.45</td>\n",
       "      <td>0.055678</td>\n",
       "    </tr>\n",
       "    <tr>\n",
       "      <th>coffee</th>\n",
       "      <td>2.0425</td>\n",
       "      <td>8.17</td>\n",
       "      <td>0.033040</td>\n",
       "      <td>3.100</td>\n",
       "      <td>12.40</td>\n",
       "      <td>0.062716</td>\n",
       "    </tr>\n",
       "    <tr>\n",
       "      <th>maize</th>\n",
       "      <td>2.0300</td>\n",
       "      <td>8.12</td>\n",
       "      <td>0.128323</td>\n",
       "      <td>3.090</td>\n",
       "      <td>12.36</td>\n",
       "      <td>0.045461</td>\n",
       "    </tr>\n",
       "    <tr>\n",
       "      <th>wheat</th>\n",
       "      <td>2.0600</td>\n",
       "      <td>10.30</td>\n",
       "      <td>0.107703</td>\n",
       "      <td>3.074</td>\n",
       "      <td>15.37</td>\n",
       "      <td>0.041593</td>\n",
       "    </tr>\n",
       "  </tbody>\n",
       "</table>\n",
       "</div>"
      ],
      "text/plain": [
       "          cropHeight                  cropWidth                 \n",
       "                mean    sum       std      mean    sum       std\n",
       "grainType                                                       \n",
       "beans         2.0500   6.15  0.149332     3.150   9.45  0.055678\n",
       "coffee        2.0425   8.17  0.033040     3.100  12.40  0.062716\n",
       "maize         2.0300   8.12  0.128323     3.090  12.36  0.045461\n",
       "wheat         2.0600  10.30  0.107703     3.074  15.37  0.041593"
      ]
     },
     "execution_count": 130,
     "metadata": {},
     "output_type": "execute_result"
    }
   ],
   "source": [
    "group_grType[['cropHeight' , 'cropWidth']].agg([np.mean, np.sum , np.std])  "
   ]
  },
  {
   "cell_type": "markdown",
   "metadata": {},
   "source": [
    "Also, we can consider applying different aggregation functions to different columns of a GroupBy object by passing a dictionary:\n",
    "\n"
   ]
  },
  {
   "cell_type": "code",
   "execution_count": 133,
   "metadata": {},
   "outputs": [
    {
     "data": {
      "text/html": [
       "<div>\n",
       "<style scoped>\n",
       "    .dataframe tbody tr th:only-of-type {\n",
       "        vertical-align: middle;\n",
       "    }\n",
       "\n",
       "    .dataframe tbody tr th {\n",
       "        vertical-align: top;\n",
       "    }\n",
       "\n",
       "    .dataframe thead tr th {\n",
       "        text-align: left;\n",
       "    }\n",
       "\n",
       "    .dataframe thead tr:last-of-type th {\n",
       "        text-align: right;\n",
       "    }\n",
       "</style>\n",
       "<table border=\"1\" class=\"dataframe\">\n",
       "  <thead>\n",
       "    <tr>\n",
       "      <th></th>\n",
       "      <th colspan=\"2\" halign=\"left\">cropHeight</th>\n",
       "      <th>prize</th>\n",
       "    </tr>\n",
       "    <tr>\n",
       "      <th></th>\n",
       "      <th>sum</th>\n",
       "      <th>std</th>\n",
       "      <th>sum</th>\n",
       "    </tr>\n",
       "    <tr>\n",
       "      <th>grainType</th>\n",
       "      <th></th>\n",
       "      <th></th>\n",
       "      <th></th>\n",
       "    </tr>\n",
       "  </thead>\n",
       "  <tbody>\n",
       "    <tr>\n",
       "      <th>beans</th>\n",
       "      <td>6.15</td>\n",
       "      <td>0.149332</td>\n",
       "      <td>710000</td>\n",
       "    </tr>\n",
       "    <tr>\n",
       "      <th>coffee</th>\n",
       "      <td>8.17</td>\n",
       "      <td>0.033040</td>\n",
       "      <td>1140000</td>\n",
       "    </tr>\n",
       "    <tr>\n",
       "      <th>maize</th>\n",
       "      <td>8.12</td>\n",
       "      <td>0.128323</td>\n",
       "      <td>1560000</td>\n",
       "    </tr>\n",
       "    <tr>\n",
       "      <th>wheat</th>\n",
       "      <td>10.30</td>\n",
       "      <td>0.107703</td>\n",
       "      <td>1530000</td>\n",
       "    </tr>\n",
       "  </tbody>\n",
       "</table>\n",
       "</div>"
      ],
      "text/plain": [
       "          cropHeight              prize\n",
       "                 sum       std      sum\n",
       "grainType                              \n",
       "beans           6.15  0.149332   710000\n",
       "coffee          8.17  0.033040  1140000\n",
       "maize           8.12  0.128323  1560000\n",
       "wheat          10.30  0.107703  1530000"
      ]
     },
     "execution_count": 133,
     "metadata": {},
     "output_type": "execute_result"
    }
   ],
   "source": [
    "group_grType.agg({'cropHeight': [np.sum, np.std], 'prize': np.sum})"
   ]
  },
  {
   "cell_type": "markdown",
   "metadata": {},
   "source": [
    "## Transformation\n"
   ]
  },
  {
   "cell_type": "markdown",
   "metadata": {},
   "source": [
    "Unlike aggregation methods, transformation methods return a new DataFrame with the same shape and indexing as the original one but with transformed individual values. Here it is important to note that the transformation must not modify any values in the original DataFrame, meaning that such operations cannot be performed in place.\n",
    "\n",
    "The most common pandas method to transform the data of a GroupBy object is `apply()`. For example, it can be helpful for computing the z-score, or any function that could be applied on an element by element basis. For instance, when working numerical values of different scales, one might choose to apply a  normalization method, which role is to constraint the scale of the output while not loosing the information in it."
   ]
  },
  {
   "cell_type": "markdown",
   "metadata": {},
   "source": [
    "The score is computed by negating each value by the average value of the whole column and dividing it by the standard deviation.\n",
    "\n",
    "\n",
    "$$\\tilde{x} = \\frac{x-  \\bar{x}}{\\sigma}$$.\n",
    "\n",
    "The z-score is function written in a lambda fashion, is passed as an argument to the apply method."
   ]
  },
  {
   "cell_type": "code",
   "execution_count": 147,
   "metadata": {},
   "outputs": [],
   "source": [
    "def Norm(val_):\n",
    "    x_bar = sum(val_)/len(val_)\n",
    "    std_ = np.std(val_)\n",
    "    return x_bar/std_"
   ]
  },
  {
   "cell_type": "code",
   "execution_count": 148,
   "metadata": {
    "collapsed": true
   },
   "outputs": [
    {
     "data": {
      "text/html": [
       "<div>\n",
       "<style scoped>\n",
       "    .dataframe tbody tr th:only-of-type {\n",
       "        vertical-align: middle;\n",
       "    }\n",
       "\n",
       "    .dataframe tbody tr th {\n",
       "        vertical-align: top;\n",
       "    }\n",
       "\n",
       "    .dataframe thead th {\n",
       "        text-align: right;\n",
       "    }\n",
       "</style>\n",
       "<table border=\"1\" class=\"dataframe\">\n",
       "  <thead>\n",
       "    <tr style=\"text-align: right;\">\n",
       "      <th></th>\n",
       "      <th></th>\n",
       "      <th>prize</th>\n",
       "    </tr>\n",
       "    <tr>\n",
       "      <th>grainType</th>\n",
       "      <th></th>\n",
       "      <th></th>\n",
       "    </tr>\n",
       "  </thead>\n",
       "  <tbody>\n",
       "    <tr>\n",
       "      <th rowspan=\"3\" valign=\"top\">beans</th>\n",
       "      <th>2</th>\n",
       "      <td>0.704361</td>\n",
       "    </tr>\n",
       "    <tr>\n",
       "      <th>7</th>\n",
       "      <td>-1.144586</td>\n",
       "    </tr>\n",
       "    <tr>\n",
       "      <th>13</th>\n",
       "      <td>0.440225</td>\n",
       "    </tr>\n",
       "    <tr>\n",
       "      <th rowspan=\"4\" valign=\"top\">coffee</th>\n",
       "      <th>1</th>\n",
       "      <td>0.990756</td>\n",
       "    </tr>\n",
       "    <tr>\n",
       "      <th>6</th>\n",
       "      <td>-0.403641</td>\n",
       "    </tr>\n",
       "    <tr>\n",
       "      <th>10</th>\n",
       "      <td>0.623809</td>\n",
       "    </tr>\n",
       "    <tr>\n",
       "      <th>12</th>\n",
       "      <td>-1.210924</td>\n",
       "    </tr>\n",
       "    <tr>\n",
       "      <th rowspan=\"4\" valign=\"top\">maize</th>\n",
       "      <th>3</th>\n",
       "      <td>1.404879</td>\n",
       "    </tr>\n",
       "    <tr>\n",
       "      <th>8</th>\n",
       "      <td>-0.561951</td>\n",
       "    </tr>\n",
       "    <tr>\n",
       "      <th>11</th>\n",
       "      <td>0.000000</td>\n",
       "    </tr>\n",
       "    <tr>\n",
       "      <th>15</th>\n",
       "      <td>-0.842927</td>\n",
       "    </tr>\n",
       "    <tr>\n",
       "      <th rowspan=\"5\" valign=\"top\">wheat</th>\n",
       "      <th>0</th>\n",
       "      <td>1.119391</td>\n",
       "    </tr>\n",
       "    <tr>\n",
       "      <th>4</th>\n",
       "      <td>-0.718415</td>\n",
       "    </tr>\n",
       "    <tr>\n",
       "      <th>5</th>\n",
       "      <td>-0.467805</td>\n",
       "    </tr>\n",
       "    <tr>\n",
       "      <th>9</th>\n",
       "      <td>1.035854</td>\n",
       "    </tr>\n",
       "    <tr>\n",
       "      <th>14</th>\n",
       "      <td>-0.969025</td>\n",
       "    </tr>\n",
       "  </tbody>\n",
       "</table>\n",
       "</div>"
      ],
      "text/plain": [
       "                 prize\n",
       "grainType             \n",
       "beans     2   0.704361\n",
       "          7  -1.144586\n",
       "          13  0.440225\n",
       "coffee    1   0.990756\n",
       "          6  -0.403641\n",
       "          10  0.623809\n",
       "          12 -1.210924\n",
       "maize     3   1.404879\n",
       "          8  -0.561951\n",
       "          11  0.000000\n",
       "          15 -0.842927\n",
       "wheat     0   1.119391\n",
       "          4  -0.718415\n",
       "          5  -0.467805\n",
       "          9   1.035854\n",
       "          14 -0.969025"
      ]
     },
     "execution_count": 148,
     "metadata": {},
     "output_type": "execute_result"
    }
   ],
   "source": [
    "group_grType[['prize']].apply(lambda x: (x - x.mean()) / x.std())"
   ]
  },
  {
   "cell_type": "markdown",
   "metadata": {},
   "source": [
    "We might also define your own custom function and apply to a grouped data. Please note that each sub-function within the custom function must provide an aggregated value"
   ]
  },
  {
   "cell_type": "code",
   "execution_count": 149,
   "metadata": {},
   "outputs": [],
   "source": [
    "#just define your own function\n",
    "import numpy as np\n",
    "def custom_calculation(values):\n",
    "    \"\"\"This function sums the values withing a group, add 2 and divide it by the number of elements\n",
    "    within a group multiplied by 10\"\"\"\n",
    "    n = len(values)\n",
    "    s = np.sum(values) + 2\n",
    "    m = s / (n *10)\n",
    "    return m \n"
   ]
  },
  {
   "cell_type": "markdown",
   "metadata": {},
   "source": [
    "$$  val = \\frac{\\sum (group) +2}{10 \\times Card(group)}$$"
   ]
  },
  {
   "cell_type": "code",
   "execution_count": 150,
   "metadata": {
    "collapsed": true
   },
   "outputs": [
    {
     "data": {
      "text/html": [
       "<div>\n",
       "<style scoped>\n",
       "    .dataframe tbody tr th:only-of-type {\n",
       "        vertical-align: middle;\n",
       "    }\n",
       "\n",
       "    .dataframe tbody tr th {\n",
       "        vertical-align: top;\n",
       "    }\n",
       "\n",
       "    .dataframe thead th {\n",
       "        text-align: right;\n",
       "    }\n",
       "</style>\n",
       "<table border=\"1\" class=\"dataframe\">\n",
       "  <thead>\n",
       "    <tr style=\"text-align: right;\">\n",
       "      <th></th>\n",
       "      <th>prize</th>\n",
       "    </tr>\n",
       "    <tr>\n",
       "      <th>grainType</th>\n",
       "      <th></th>\n",
       "    </tr>\n",
       "  </thead>\n",
       "  <tbody>\n",
       "    <tr>\n",
       "      <th>beans</th>\n",
       "      <td>23666.733333</td>\n",
       "    </tr>\n",
       "    <tr>\n",
       "      <th>coffee</th>\n",
       "      <td>28500.050000</td>\n",
       "    </tr>\n",
       "    <tr>\n",
       "      <th>maize</th>\n",
       "      <td>39000.050000</td>\n",
       "    </tr>\n",
       "    <tr>\n",
       "      <th>wheat</th>\n",
       "      <td>30600.040000</td>\n",
       "    </tr>\n",
       "  </tbody>\n",
       "</table>\n",
       "</div>"
      ],
      "text/plain": [
       "                  prize\n",
       "grainType              \n",
       "beans      23666.733333\n",
       "coffee     28500.050000\n",
       "maize      39000.050000\n",
       "wheat      30600.040000"
      ]
     },
     "execution_count": 150,
     "metadata": {},
     "output_type": "execute_result"
    }
   ],
   "source": [
    "group_grType[['prize']].apply(custom_calculation)"
   ]
  },
  {
   "cell_type": "markdown",
   "metadata": {},
   "source": [
    "## Filtration"
   ]
  },
  {
   "cell_type": "markdown",
   "metadata": {},
   "source": [
    "\n",
    "Filtration methods discard the groups or particular rows from each group based on a predefined condition and return a subset of the original data. For example, we may want to keep only the values of a certain column from all the groups where the group mean for that column is greater than a predefined value. In the case of our DataFrame, let's filter out all the groups with a group mean for the `cropHeight` column smaller than 2.5  and keep only this column in the output."
   ]
  },
  {
   "cell_type": "code",
   "execution_count": 205,
   "metadata": {
    "scrolled": false
   },
   "outputs": [
    {
     "data": {
      "text/plain": [
       "grainType\n",
       "beans     2.0500\n",
       "coffee    2.0425\n",
       "maize     2.0300\n",
       "wheat     2.0600\n",
       "Name: cropHeight, dtype: float64"
      ]
     },
     "execution_count": 205,
     "metadata": {},
     "output_type": "execute_result"
    }
   ],
   "source": [
    "group_grType['cropHeight'].mean()"
   ]
  },
  {
   "cell_type": "markdown",
   "metadata": {},
   "source": [
    "In order to get the groups where the mean is smaller than 2.5, we use the filter function"
   ]
  },
  {
   "cell_type": "code",
   "execution_count": 208,
   "metadata": {
    "scrolled": true
   },
   "outputs": [
    {
     "data": {
      "text/plain": [
       "1     2.05\n",
       "3     2.18\n",
       "6     2.08\n",
       "8     2.06\n",
       "10    2.00\n",
       "11    2.01\n",
       "12    2.04\n",
       "15    1.87\n",
       "Name: cropHeight, dtype: float64"
      ]
     },
     "execution_count": 208,
     "metadata": {},
     "output_type": "execute_result"
    }
   ],
   "source": [
    "group_grType['cropHeight'].filter(lambda x: x.mean() < 2.05)"
   ]
  },
  {
   "cell_type": "markdown",
   "metadata": {},
   "source": [
    "We use the corresponding indices to reconstruct the dataframe"
   ]
  },
  {
   "cell_type": "code",
   "execution_count": 207,
   "metadata": {
    "scrolled": true
   },
   "outputs": [
    {
     "data": {
      "text/html": [
       "<div>\n",
       "<style scoped>\n",
       "    .dataframe tbody tr th:only-of-type {\n",
       "        vertical-align: middle;\n",
       "    }\n",
       "\n",
       "    .dataframe tbody tr th {\n",
       "        vertical-align: top;\n",
       "    }\n",
       "\n",
       "    .dataframe thead th {\n",
       "        text-align: right;\n",
       "    }\n",
       "</style>\n",
       "<table border=\"1\" class=\"dataframe\">\n",
       "  <thead>\n",
       "    <tr style=\"text-align: right;\">\n",
       "      <th></th>\n",
       "      <th>Name</th>\n",
       "      <th>birth_country</th>\n",
       "      <th>gender</th>\n",
       "      <th>grainType</th>\n",
       "      <th>cropHeight</th>\n",
       "      <th>cropWidth</th>\n",
       "      <th>prize</th>\n",
       "    </tr>\n",
       "  </thead>\n",
       "  <tbody>\n",
       "    <tr>\n",
       "      <th>1</th>\n",
       "      <td>Lucien Nirina</td>\n",
       "      <td>Madagadscar</td>\n",
       "      <td>Male</td>\n",
       "      <td>coffee</td>\n",
       "      <td>2.05</td>\n",
       "      <td>3.03</td>\n",
       "      <td>420000</td>\n",
       "    </tr>\n",
       "    <tr>\n",
       "      <th>3</th>\n",
       "      <td>Garba Kone</td>\n",
       "      <td>Burkina Faso</td>\n",
       "      <td>Male</td>\n",
       "      <td>maize</td>\n",
       "      <td>2.18</td>\n",
       "      <td>3.03</td>\n",
       "      <td>440000</td>\n",
       "    </tr>\n",
       "    <tr>\n",
       "      <th>6</th>\n",
       "      <td>Sylvie Kurwa</td>\n",
       "      <td>Rwanda</td>\n",
       "      <td>Female</td>\n",
       "      <td>coffee</td>\n",
       "      <td>2.08</td>\n",
       "      <td>3.18</td>\n",
       "      <td>230000</td>\n",
       "    </tr>\n",
       "    <tr>\n",
       "      <th>8</th>\n",
       "      <td>Maria Siphiwe</td>\n",
       "      <td>Botswana</td>\n",
       "      <td>Female</td>\n",
       "      <td>maize</td>\n",
       "      <td>2.06</td>\n",
       "      <td>3.10</td>\n",
       "      <td>370000</td>\n",
       "    </tr>\n",
       "    <tr>\n",
       "      <th>10</th>\n",
       "      <td>Touadoum Nobre</td>\n",
       "      <td>Chad</td>\n",
       "      <td>Male</td>\n",
       "      <td>coffee</td>\n",
       "      <td>2.00</td>\n",
       "      <td>3.11</td>\n",
       "      <td>370000</td>\n",
       "    </tr>\n",
       "    <tr>\n",
       "      <th>11</th>\n",
       "      <td>Ebale Gervais</td>\n",
       "      <td>Cameroon</td>\n",
       "      <td>Male</td>\n",
       "      <td>maize</td>\n",
       "      <td>2.01</td>\n",
       "      <td>3.14</td>\n",
       "      <td>390000</td>\n",
       "    </tr>\n",
       "    <tr>\n",
       "      <th>12</th>\n",
       "      <td>Fatema Nourdin</td>\n",
       "      <td>Morocco</td>\n",
       "      <td>Female</td>\n",
       "      <td>coffee</td>\n",
       "      <td>2.04</td>\n",
       "      <td>3.08</td>\n",
       "      <td>120000</td>\n",
       "    </tr>\n",
       "    <tr>\n",
       "      <th>15</th>\n",
       "      <td>Aicha Boumediene</td>\n",
       "      <td>Algeria</td>\n",
       "      <td>Female</td>\n",
       "      <td>maize</td>\n",
       "      <td>1.87</td>\n",
       "      <td>3.09</td>\n",
       "      <td>360000</td>\n",
       "    </tr>\n",
       "  </tbody>\n",
       "</table>\n",
       "</div>"
      ],
      "text/plain": [
       "                Name birth_country  gender grainType  cropHeight  cropWidth  \\\n",
       "1      Lucien Nirina   Madagadscar    Male    coffee        2.05       3.03   \n",
       "3         Garba Kone  Burkina Faso    Male     maize        2.18       3.03   \n",
       "6       Sylvie Kurwa        Rwanda  Female    coffee        2.08       3.18   \n",
       "8      Maria Siphiwe      Botswana  Female     maize        2.06       3.10   \n",
       "10    Touadoum Nobre          Chad    Male    coffee        2.00       3.11   \n",
       "11     Ebale Gervais      Cameroon    Male     maize        2.01       3.14   \n",
       "12    Fatema Nourdin       Morocco  Female    coffee        2.04       3.08   \n",
       "15  Aicha Boumediene       Algeria  Female     maize        1.87       3.09   \n",
       "\n",
       "     prize  \n",
       "1   420000  \n",
       "3   440000  \n",
       "6   230000  \n",
       "8   370000  \n",
       "10  370000  \n",
       "11  390000  \n",
       "12  120000  \n",
       "15  360000  "
      ]
     },
     "execution_count": 207,
     "metadata": {},
     "output_type": "execute_result"
    }
   ],
   "source": [
    "grain_prize.iloc[group_grType['cropHeight'].filter(lambda x: x.mean() < 2.05).index,:]"
   ]
  },
  {
   "cell_type": "markdown",
   "metadata": {},
   "source": [
    ">#### <font color=#800080>Task 14:</font> <a class=\"anchor\" id=\"Task-1\"></a>\n"
   ]
  },
  {
   "cell_type": "markdown",
   "metadata": {},
   "source": [
    "The Arba Minch University in Ethiopia has been chosen by the African Union to store files related to Nobel Prize Winners. As Data Analyst working with African Union, you have the task to group some informatio from that database in order to understand some patterns from Nobel Prize winners. be it, their gender, continent of birht, prize category, etc. The fie is given to you in a csv file as `nobel_winners.csv`.  \n",
    "\n",
    "    \n",
    "1. What is the purpose of the Nobel Prize according to you?\n",
    "\n",
    "\n",
    "2. Load the data. Which field African-born personalities have mostly won the Nobel Prize? What does that tell us?\n",
    "\n",
    "\n",
    "3. Do you recall the last two African Winners of the Prize? What were their contributions?\n",
    "\n",
    "Use the `groupby` function and answer the questions below:\n",
    "\n",
    "4. How many women were allowed the Nobel Prize? How many of them where African?\n",
    "\n",
    "5. Out of the winners that were born in Africa, what is the average of and the minimal winning prize for men and women?\n",
    "\n",
    "\n",
    "6. What are the categories of winners whose adjusted amount prize average is smaller than $6.000.000 ? \n",
    "\n",
    "7. List all of the Africa-born winner in those categories? Any women? If so, in which category?"
   ]
  },
  {
   "cell_type": "code",
   "execution_count": 242,
   "metadata": {
    "collapsed": true
   },
   "outputs": [
    {
     "data": {
      "text/html": [
       "<div>\n",
       "<style scoped>\n",
       "    .dataframe tbody tr th:only-of-type {\n",
       "        vertical-align: middle;\n",
       "    }\n",
       "\n",
       "    .dataframe tbody tr th {\n",
       "        vertical-align: top;\n",
       "    }\n",
       "\n",
       "    .dataframe thead th {\n",
       "        text-align: right;\n",
       "    }\n",
       "</style>\n",
       "<table border=\"1\" class=\"dataframe\">\n",
       "  <thead>\n",
       "    <tr style=\"text-align: right;\">\n",
       "      <th></th>\n",
       "      <th>country</th>\n",
       "      <th>continent</th>\n",
       "      <th>year</th>\n",
       "      <th>lifeExp</th>\n",
       "      <th>pop</th>\n",
       "      <th>gdpPercap</th>\n",
       "    </tr>\n",
       "  </thead>\n",
       "  <tbody>\n",
       "    <tr>\n",
       "      <th>1699</th>\n",
       "      <td>Zimbabwe</td>\n",
       "      <td>Africa</td>\n",
       "      <td>1987</td>\n",
       "      <td>62.351</td>\n",
       "      <td>9216418</td>\n",
       "      <td>706.157306</td>\n",
       "    </tr>\n",
       "    <tr>\n",
       "      <th>1700</th>\n",
       "      <td>Zimbabwe</td>\n",
       "      <td>Africa</td>\n",
       "      <td>1992</td>\n",
       "      <td>60.377</td>\n",
       "      <td>10704340</td>\n",
       "      <td>693.420786</td>\n",
       "    </tr>\n",
       "    <tr>\n",
       "      <th>1701</th>\n",
       "      <td>Zimbabwe</td>\n",
       "      <td>Africa</td>\n",
       "      <td>1997</td>\n",
       "      <td>46.809</td>\n",
       "      <td>11404948</td>\n",
       "      <td>792.449960</td>\n",
       "    </tr>\n",
       "    <tr>\n",
       "      <th>1702</th>\n",
       "      <td>Zimbabwe</td>\n",
       "      <td>Africa</td>\n",
       "      <td>2002</td>\n",
       "      <td>39.989</td>\n",
       "      <td>11926563</td>\n",
       "      <td>672.038623</td>\n",
       "    </tr>\n",
       "    <tr>\n",
       "      <th>1703</th>\n",
       "      <td>Zimbabwe</td>\n",
       "      <td>Africa</td>\n",
       "      <td>2007</td>\n",
       "      <td>43.487</td>\n",
       "      <td>12311143</td>\n",
       "      <td>469.709298</td>\n",
       "    </tr>\n",
       "  </tbody>\n",
       "</table>\n",
       "</div>"
      ],
      "text/plain": [
       "       country continent  year  lifeExp       pop   gdpPercap\n",
       "1699  Zimbabwe    Africa  1987   62.351   9216418  706.157306\n",
       "1700  Zimbabwe    Africa  1992   60.377  10704340  693.420786\n",
       "1701  Zimbabwe    Africa  1997   46.809  11404948  792.449960\n",
       "1702  Zimbabwe    Africa  2002   39.989  11926563  672.038623\n",
       "1703  Zimbabwe    Africa  2007   43.487  12311143  469.709298"
      ]
     },
     "execution_count": 242,
     "metadata": {},
     "output_type": "execute_result"
    }
   ],
   "source": [
    "gap_data.tail()"
   ]
  },
  {
   "cell_type": "markdown",
   "metadata": {},
   "source": [
    ">#### <font color=#800080>Task 15:</font> <a class=\"anchor\" id=\"Task-1\"></a>\n"
   ]
  },
  {
   "cell_type": "markdown",
   "metadata": {},
   "source": [
    "Consider the gapminder dataset here saved as `gapminder.tsv` and adress the following questions:\n",
    "\n",
    "1. What was the life Expectancy average adn standard deviation  across various continents before the year 2000?\n",
    "\n",
    "2. Group the data by decades using the tollowing pattern \n",
    "    * 1950 < year < 1960 ==>  \"d50\"\n",
    "    * 1960 < year < 1970 ==>  \"d60\"\n",
    "    * 1970 < year < 1980 ==>  \"d70\"\n",
    "    ...\n",
    "    \n",
    " Provide the lowest and largest population, the lowest and largest life expectancy for each of the decade\n",
    " \n",
    "3. Write a code that provide the corresponding countries for each of the above. What historical facts could you derive from the insights you have obtained"
   ]
  }
 ],
 "metadata": {
  "kernelspec": {
   "display_name": "Python 3",
   "language": "python",
   "name": "python3"
  },
  "language_info": {
   "codemirror_mode": {
    "name": "ipython",
    "version": 3
   },
   "file_extension": ".py",
   "mimetype": "text/x-python",
   "name": "python",
   "nbconvert_exporter": "python",
   "pygments_lexer": "ipython3",
   "version": "3.9.2"
  }
 },
 "nbformat": 4,
 "nbformat_minor": 2
}
