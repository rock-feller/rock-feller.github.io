{
 "cells": [
  {
   "cell_type": "markdown",
   "metadata": {},
   "source": [
    "# Chapter 1: Working with Series and DataFrames "
   ]
  },
  {
   "cell_type": "markdown",
   "metadata": {},
   "source": [
    "**Learning Objectives:**\n",
    "\n",
    "* Getting familiar with the concept of tabular data and iid data.\n",
    "* Getting familiar with the concept of `Series` and `DataFrames`.\n",
    "* Developing the ability to query dataframes to answer practical questions.\n",
    "* Updating dataframes based on useful insights."
   ]
  },
  {
   "cell_type": "markdown",
   "metadata": {},
   "source": [
    "## The concept of Tabular data and iid data"
   ]
  },
  {
   "cell_type": "markdown",
   "metadata": {},
   "source": [
    "**Tabular data** refers to structured data that is organized into `rows` and `columns`, similar to what you might find in a spreadsheet or a database table. Each row typically represents an individual observation or record, while each column signifies a particular attribute or feature of the data. \n",
    "\n",
    "For instance, in the African context, a table might list various agricultural products (rows) and **their respective prices, production quantities,** and **export destinations** (columns). This structured format of tabular data enables easy querying, visualization, and statistical analysis. Whether it's used for monitoring rainfall patterns across various regions in Africa or tracking the spread of diseases like Malaria, tabular data plays a pivotal role in decision-making processes across the continent."
   ]
  },
  {
   "cell_type": "markdown",
   "metadata": {},
   "source": [
    "**IID data**, or Independent and Identically Distributed data, refers to a collection of random variables where each variable has the same probability distribution as the others and all are mutually independent. In layman's terms, it means that each data point is generated in the same way and does not depend on previous data points. \n",
    "\n",
    "For example, if one were to conduct a survey across various African nations about a particular product's preference, the responses from one country or individual would not influence the responses from another. However, it's essential to note that real-life data, especially in complex environments like Africa with its diverse cultures, economies, and ecosystems, might not always strictly adhere to the IID assumption. Recognizing when this assumption holds and when it doesn't is crucial for accurate data analysis and modeling."
   ]
  },
  {
   "cell_type": "markdown",
   "metadata": {},
   "source": [
    "Building on the concept of tabular data, modern data science tools have provided versatile structures to handle and manipulate such data with ease. In the Python programming language, the pandas library stands out as a principal tool for this purpose. At the heart of pandas are two primary data structures: Series and DataFrames which is the focus of this chapter."
   ]
  },
  {
   "cell_type": "markdown",
   "metadata": {},
   "source": [
    "## Introduction to Pandas"
   ]
  },
  {
   "cell_type": "markdown",
   "metadata": {},
   "source": [
    "`Pandas` is an open source library providing high-performance, easy-to-use data structures and data analysis tools for the Python programming language. "
   ]
  },
  {
   "cell_type": "markdown",
   "metadata": {},
   "source": [
    "- Certainly among the most important tools for data analysts and data scientists.\n",
    "- The most popular library for working with tabular data in Python"
   ]
  },
  {
   "cell_type": "markdown",
   "metadata": {
    "collapsed": true
   },
   "source": [
    "To import it, simply do:"
   ]
  },
  {
   "cell_type": "code",
   "execution_count": 1,
   "metadata": {},
   "outputs": [],
   "source": [
    "import pandas as pd"
   ]
  },
  {
   "cell_type": "markdown",
   "metadata": {
    "collapsed": true
   },
   "source": [
    "To check the version of Pandas you are running, do:"
   ]
  },
  {
   "cell_type": "code",
   "execution_count": 2,
   "metadata": {},
   "outputs": [
    {
     "data": {
      "text/plain": [
       "'2.0.3'"
      ]
     },
     "execution_count": 2,
     "metadata": {},
     "output_type": "execute_result"
    }
   ],
   "source": [
    "pd.__version__"
   ]
  },
  {
   "cell_type": "markdown",
   "metadata": {},
   "source": [
    "### Pandas Series"
   ]
  },
  {
   "cell_type": "markdown",
   "metadata": {
    "collapsed": true
   },
   "source": [
    "To get started with pandas, you will need to get comfortable with its two data structures:  **Series** and **Dataframe.** They provide a solid, easy-to-use basis for most applications. Every object successfully returned by  Pandas is either  **Series** or **DataFrame**."
   ]
  },
  {
   "cell_type": "markdown",
   "metadata": {},
   "source": [
    "**DataFrames** and **Series** are not simply storage containers. Since Pandas treat them similarly, they have built-in support for a variety of data-wrangling operations, such as: \n",
    "\n",
    "* Single-level and hierarchical indexing\n",
    "* Handling missing data\n",
    "* Arithmetic and Boolean operations on entire columns and tables\n",
    "* Database-type operations (such as merging and aggregation)\n",
    "* Plotting individual columns and whole tables\n",
    "* Reading data from files and writing data to files"
   ]
  },
  {
   "cell_type": "markdown",
   "metadata": {},
   "source": [
    "#### Series"
   ]
  },
  {
   "cell_type": "markdown",
   "metadata": {},
   "source": [
    "A Series is a one-dimensional array-like object containing an array of data (of any NumPy data type) and an associated array of data labels, called its index. You can create a simple series from any sequence: **a list, a tuple, or a numpy array** or even **a python dictionary**."
   ]
  },
  {
   "cell_type": "markdown",
   "metadata": {},
   "source": [
    "**From a list of numbers**"
   ]
  },
  {
   "cell_type": "code",
   "execution_count": 3,
   "metadata": {},
   "outputs": [],
   "source": [
    "baby_ages = pd.Series( [2 , 10 , 12]  )"
   ]
  },
  {
   "cell_type": "code",
   "execution_count": 4,
   "metadata": {},
   "outputs": [
    {
     "data": {
      "text/plain": [
       "0     2\n",
       "1    10\n",
       "2    12\n",
       "dtype: int64"
      ]
     },
     "execution_count": 4,
     "metadata": {},
     "output_type": "execute_result"
    }
   ],
   "source": [
    "baby_ages"
   ]
  },
  {
   "cell_type": "markdown",
   "metadata": {},
   "source": [
    " "
   ]
  },
  {
   "cell_type": "markdown",
   "metadata": {},
   "source": [
    "**From a list of strings**"
   ]
  },
  {
   "cell_type": "code",
   "execution_count": 5,
   "metadata": {},
   "outputs": [],
   "source": [
    "countries = pd.Series( ['Uganda' , 'Mali' , 'Chad' , 'Niger']   )"
   ]
  },
  {
   "cell_type": "code",
   "execution_count": 6,
   "metadata": {},
   "outputs": [
    {
     "data": {
      "text/plain": [
       "0    Uganda\n",
       "1      Mali\n",
       "2      Chad\n",
       "3     Niger\n",
       "dtype: object"
      ]
     },
     "execution_count": 6,
     "metadata": {},
     "output_type": "execute_result"
    }
   ],
   "source": [
    "countries"
   ]
  },
  {
   "cell_type": "markdown",
   "metadata": {},
   "source": [
    " "
   ]
  },
  {
   "cell_type": "markdown",
   "metadata": {},
   "source": [
    "**From a list of objects (data of different types)**"
   ]
  },
  {
   "cell_type": "code",
   "execution_count": 7,
   "metadata": {},
   "outputs": [],
   "source": [
    "travel_infos = pd.Series(  [ \"£12\" , 25 , \"Banjul\", \"50km\"  ])"
   ]
  },
  {
   "cell_type": "code",
   "execution_count": 8,
   "metadata": {},
   "outputs": [
    {
     "data": {
      "text/plain": [
       "0       £12\n",
       "1        25\n",
       "2    Banjul\n",
       "3      50km\n",
       "dtype: object"
      ]
     },
     "execution_count": 8,
     "metadata": {},
     "output_type": "execute_result"
    }
   ],
   "source": [
    "travel_infos"
   ]
  },
  {
   "cell_type": "markdown",
   "metadata": {},
   "source": [
    "#### From a tuple\n"
   ]
  },
  {
   "cell_type": "code",
   "execution_count": 9,
   "metadata": {},
   "outputs": [
    {
     "data": {
      "text/plain": [
       "0         malaria\n",
       "1    tuberculosis\n",
       "2       influenza\n",
       "dtype: object"
      ]
     },
     "execution_count": 9,
     "metadata": {},
     "output_type": "execute_result"
    }
   ],
   "source": [
    "diseases = pd.Series( (\"malaria\" , \"tuberculosis\", \"influenza\") )\n",
    "diseases"
   ]
  },
  {
   "cell_type": "markdown",
   "metadata": {
    "collapsed": true
   },
   "source": [
    "#### From a numpy array\n"
   ]
  },
  {
   "cell_type": "code",
   "execution_count": 10,
   "metadata": {},
   "outputs": [],
   "source": [
    "#Let's import the numpy library first\n",
    "import numpy as np"
   ]
  },
  {
   "cell_type": "code",
   "execution_count": 11,
   "metadata": {},
   "outputs": [
    {
     "data": {
      "text/plain": [
       "array([0, 2, 4, 6, 8])"
      ]
     },
     "execution_count": 11,
     "metadata": {},
     "output_type": "execute_result"
    }
   ],
   "source": [
    "index_poverty = np.arange(0,10,2)\n",
    "index_poverty"
   ]
  },
  {
   "cell_type": "code",
   "execution_count": 12,
   "metadata": {},
   "outputs": [
    {
     "data": {
      "text/plain": [
       "0    0\n",
       "1    2\n",
       "2    4\n",
       "3    6\n",
       "4    8\n",
       "dtype: int64"
      ]
     },
     "execution_count": 12,
     "metadata": {},
     "output_type": "execute_result"
    }
   ],
   "source": [
    "index_poverty_series = pd.Series(index_poverty)\n",
    "index_poverty_series"
   ]
  },
  {
   "cell_type": "markdown",
   "metadata": {},
   "source": [
    "#### From a python dictionary\n"
   ]
  },
  {
   "cell_type": "code",
   "execution_count": 13,
   "metadata": {},
   "outputs": [],
   "source": [
    "ebola_infos = {\"Outbreak\": 'Ebola' , \"City\": 'Goma' , \n",
    "                  \"Country\": 'DRC' ,\"Continent\": 'Africa'}"
   ]
  },
  {
   "cell_type": "code",
   "execution_count": 14,
   "metadata": {},
   "outputs": [
    {
     "data": {
      "text/plain": [
       "{'Outbreak': 'Ebola', 'City': 'Goma', 'Country': 'DRC', 'Continent': 'Africa'}"
      ]
     },
     "execution_count": 14,
     "metadata": {},
     "output_type": "execute_result"
    }
   ],
   "source": [
    "ebola_infos"
   ]
  },
  {
   "cell_type": "code",
   "execution_count": 15,
   "metadata": {},
   "outputs": [],
   "source": [
    "ebola_infos_series = pd.Series(ebola_infos)"
   ]
  },
  {
   "cell_type": "code",
   "execution_count": 16,
   "metadata": {},
   "outputs": [
    {
     "data": {
      "text/plain": [
       "Outbreak      Ebola\n",
       "City           Goma\n",
       "Country         DRC\n",
       "Continent    Africa\n",
       "dtype: object"
      ]
     },
     "execution_count": 16,
     "metadata": {},
     "output_type": "execute_result"
    }
   ],
   "source": [
    "ebola_infos_series"
   ]
  },
  {
   "cell_type": "markdown",
   "metadata": {},
   "source": [
    "As you can notice, there is column on the left always appearing when printing a series. It's a `column index` which, by default run from $0$ to $n-1$ where $n$ is the length of the series. In the case of a dictionary, it is automatically replaced by **the key** of the dictionary. And the **values** of the dictionary are the actual content of the Pandas Series.You can verify it by typing the command below."
   ]
  },
  {
   "cell_type": "code",
   "execution_count": 17,
   "metadata": {},
   "outputs": [
    {
     "data": {
      "text/plain": [
       "Index(['Outbreak', 'City', 'Country', 'Continent'], dtype='object')"
      ]
     },
     "execution_count": 17,
     "metadata": {},
     "output_type": "execute_result"
    }
   ],
   "source": [
    "ebola_infos_series.index"
   ]
  },
  {
   "cell_type": "code",
   "execution_count": 18,
   "metadata": {},
   "outputs": [
    {
     "data": {
      "text/plain": [
       "array(['Ebola', 'Goma', 'DRC', 'Africa'], dtype=object)"
      ]
     },
     "execution_count": 18,
     "metadata": {},
     "output_type": "execute_result"
    }
   ],
   "source": [
    "ebola_infos_series.values"
   ]
  },
  {
   "cell_type": "markdown",
   "metadata": {},
   "source": [
    "Series can also be created along with its indices"
   ]
  },
  {
   "cell_type": "code",
   "execution_count": 19,
   "metadata": {},
   "outputs": [],
   "source": [
    "# An information recorded from a patient during a survey in a Hospital in Mbour, Senegal.\n",
    "patient_senegal_infos = pd.Series( [\"Traore\" , \"Senegalese\" , \"Single\" , \"Wolof\"],\n",
    "              index = [\"Name\" , \"Nationality\" , \"Status\" , \"Language\"])"
   ]
  },
  {
   "cell_type": "code",
   "execution_count": 20,
   "metadata": {},
   "outputs": [
    {
     "data": {
      "text/plain": [
       "Name               Traore\n",
       "Nationality    Senegalese\n",
       "Status             Single\n",
       "Language            Wolof\n",
       "dtype: object"
      ]
     },
     "execution_count": 20,
     "metadata": {},
     "output_type": "execute_result"
    }
   ],
   "source": [
    "patient_senegal_infos"
   ]
  },
  {
   "cell_type": "code",
   "execution_count": 21,
   "metadata": {},
   "outputs": [],
   "source": [
    "#The age of 4 siblings members of a family in Bouake, Ivory Coast as  recorded during a survey\n",
    "bouake_kids =  pd.Series([12 , 25 , 7 , 58 , 39],\n",
    "               index = [\"Yao\" , \"Kouassi\" , \"Senan\", \"Bony\" , \"Marguerite\"])"
   ]
  },
  {
   "cell_type": "code",
   "execution_count": 22,
   "metadata": {},
   "outputs": [
    {
     "data": {
      "text/plain": [
       "Yao           12\n",
       "Kouassi       25\n",
       "Senan          7\n",
       "Bony          58\n",
       "Marguerite    39\n",
       "dtype: int64"
      ]
     },
     "execution_count": 22,
     "metadata": {},
     "output_type": "execute_result"
    }
   ],
   "source": [
    "bouake_kids"
   ]
  },
  {
   "cell_type": "markdown",
   "metadata": {},
   "source": [
    "We can get to each of the terms easily, by using the index operators, which is the open and close square brackets."
   ]
  },
  {
   "cell_type": "code",
   "execution_count": 33,
   "metadata": {},
   "outputs": [
    {
     "data": {
      "text/plain": [
       "12"
      ]
     },
     "execution_count": 33,
     "metadata": {},
     "output_type": "execute_result"
    }
   ],
   "source": [
    "bouake_kids['Yao']"
   ]
  },
  {
   "cell_type": "code",
   "execution_count": 34,
   "metadata": {},
   "outputs": [
    {
     "data": {
      "text/plain": [
       "58"
      ]
     },
     "execution_count": 34,
     "metadata": {},
     "output_type": "execute_result"
    }
   ],
   "source": [
    "bouake_kids['Bony']"
   ]
  },
  {
   "cell_type": "markdown",
   "metadata": {},
   "source": [
    "We can check the number of people **below the age of 20**"
   ]
  },
  {
   "cell_type": "code",
   "execution_count": 35,
   "metadata": {},
   "outputs": [
    {
     "data": {
      "text/plain": [
       "Yao           12\n",
       "Kouassi       25\n",
       "Senan          7\n",
       "Bony          58\n",
       "Marguerite    39\n",
       "dtype: int64"
      ]
     },
     "execution_count": 35,
     "metadata": {},
     "output_type": "execute_result"
    }
   ],
   "source": [
    "bouake_kids"
   ]
  },
  {
   "cell_type": "code",
   "execution_count": 36,
   "metadata": {},
   "outputs": [
    {
     "data": {
      "text/plain": [
       "Yao            True\n",
       "Kouassi       False\n",
       "Senan          True\n",
       "Bony          False\n",
       "Marguerite    False\n",
       "dtype: bool"
      ]
     },
     "execution_count": 36,
     "metadata": {},
     "output_type": "execute_result"
    }
   ],
   "source": [
    "bouake_kids < 20"
   ]
  },
  {
   "cell_type": "markdown",
   "metadata": {},
   "source": [
    "Technically speaking, `bouake_kids < 20` is a boolean expression, which means it is an expressions that returns Boolean values: `True` where there is a match and `False` otherwise. But, what if we want to get the actual values, we need to use the index operator and passing the boolean expression as argument. and we will get sliced pandas series with only the matching rows."
   ]
  },
  {
   "cell_type": "code",
   "execution_count": 38,
   "metadata": {},
   "outputs": [
    {
     "data": {
      "text/plain": [
       "Yao           12\n",
       "Kouassi       25\n",
       "Senan          7\n",
       "Marguerite    39\n",
       "dtype: int64"
      ]
     },
     "execution_count": 38,
     "metadata": {},
     "output_type": "execute_result"
    }
   ],
   "source": [
    "bouake_kids[bouake_kids<45]"
   ]
  },
  {
   "cell_type": "markdown",
   "metadata": {},
   "source": [
    "We can also enlarge the scope of our query buy feeding the index operator with a more sophisticated expression or collection of expressions as you see below. For instance, we are interesred in kids between the age of 12 and 45."
   ]
  },
  {
   "cell_type": "code",
   "execution_count": 40,
   "metadata": {},
   "outputs": [
    {
     "data": {
      "text/plain": [
       "Kouassi       25\n",
       "Marguerite    39\n",
       "dtype: int64"
      ]
     },
     "execution_count": 40,
     "metadata": {},
     "output_type": "execute_result"
    }
   ],
   "source": [
    "bouake_kids[(bouake_kids<45) & (bouake_kids>12)  ]"
   ]
  },
  {
   "cell_type": "markdown",
   "metadata": {},
   "source": [
    "### Basic Statistics"
   ]
  },
  {
   "cell_type": "markdown",
   "metadata": {},
   "source": [
    " Basic statistical operations could be performed on pandas series. Let's explore a few."
   ]
  },
  {
   "cell_type": "markdown",
   "metadata": {},
   "source": [
    "**The sum of all the elements**"
   ]
  },
  {
   "cell_type": "code",
   "execution_count": 23,
   "metadata": {},
   "outputs": [],
   "source": [
    "#### A summary of the series"
   ]
  },
  {
   "cell_type": "markdown",
   "metadata": {},
   "source": [
    "The `describe()` method is used for calculating some statistical data like percentile, mean and std of the numerical values of the Series. Lets look at the `bouake_kids` again."
   ]
  },
  {
   "cell_type": "code",
   "execution_count": 24,
   "metadata": {
    "scrolled": true
   },
   "outputs": [
    {
     "data": {
      "text/plain": [
       "count     5.000000\n",
       "mean     28.200000\n",
       "std      20.777392\n",
       "min       7.000000\n",
       "25%      12.000000\n",
       "50%      25.000000\n",
       "75%      39.000000\n",
       "max      58.000000\n",
       "dtype: float64"
      ]
     },
     "execution_count": 24,
     "metadata": {},
     "output_type": "execute_result"
    }
   ],
   "source": [
    "bouake_kids.describe()"
   ]
  },
  {
   "cell_type": "markdown",
   "metadata": {},
   "source": [
    "#### summing over items"
   ]
  },
  {
   "cell_type": "code",
   "execution_count": 25,
   "metadata": {},
   "outputs": [
    {
     "data": {
      "text/plain": [
       "141"
      ]
     },
     "execution_count": 25,
     "metadata": {},
     "output_type": "execute_result"
    }
   ],
   "source": [
    "bouake_kids.sum()"
   ]
  },
  {
   "cell_type": "markdown",
   "metadata": {},
   "source": [
    "#### averaging over items"
   ]
  },
  {
   "cell_type": "code",
   "execution_count": 26,
   "metadata": {},
   "outputs": [
    {
     "data": {
      "text/plain": [
       "28.2"
      ]
     },
     "execution_count": 26,
     "metadata": {},
     "output_type": "execute_result"
    }
   ],
   "source": [
    "bouake_kids.mean()"
   ]
  },
  {
   "cell_type": "markdown",
   "metadata": {},
   "source": [
    "**The lowest value**"
   ]
  },
  {
   "cell_type": "code",
   "execution_count": 27,
   "metadata": {},
   "outputs": [
    {
     "data": {
      "text/plain": [
       "7"
      ]
     },
     "execution_count": 27,
     "metadata": {},
     "output_type": "execute_result"
    }
   ],
   "source": [
    "bouake_kids.min()"
   ]
  },
  {
   "cell_type": "markdown",
   "metadata": {},
   "source": [
    "**The largest value**"
   ]
  },
  {
   "cell_type": "code",
   "execution_count": 48,
   "metadata": {},
   "outputs": [
    {
     "data": {
      "text/plain": [
       "58"
      ]
     },
     "execution_count": 48,
     "metadata": {},
     "output_type": "execute_result"
    }
   ],
   "source": [
    "bouake_kids.max()"
   ]
  },
  {
   "cell_type": "markdown",
   "metadata": {},
   "source": [
    "**The variance**"
   ]
  },
  {
   "cell_type": "code",
   "execution_count": 49,
   "metadata": {},
   "outputs": [
    {
     "data": {
      "text/plain": [
       "431.70000000000005"
      ]
     },
     "execution_count": 49,
     "metadata": {},
     "output_type": "execute_result"
    }
   ],
   "source": [
    "bouake_kids.var()"
   ]
  },
  {
   "cell_type": "markdown",
   "metadata": {},
   "source": [
    "**The standard deviation**"
   ]
  },
  {
   "cell_type": "code",
   "execution_count": 50,
   "metadata": {},
   "outputs": [
    {
     "data": {
      "text/plain": [
       "20.777391559096152"
      ]
     },
     "execution_count": 50,
     "metadata": {},
     "output_type": "execute_result"
    }
   ],
   "source": [
    "bouake_kids.std()"
   ]
  },
  {
   "cell_type": "markdown",
   "metadata": {},
   "source": [
    "### Pandas Dataframe"
   ]
  },
  {
   "cell_type": "markdown",
   "metadata": {},
   "source": [
    "A DataFrame represents a tabular, spreadsheet-like data structure containing an ordered collection of columns, each of which can be a different value type (numeric, string, boolean, etc.). It can also simply be viewed as a collection of Series. There are numerous ways to construct a DataFrame, though one of the most common is from a dict of equal-length lists or NumPy arrays."
   ]
  },
  {
   "cell_type": "code",
   "execution_count": 28,
   "metadata": {},
   "outputs": [],
   "source": [
    "#Some temperature values recorded across African cities last rainy season\n",
    "temp_african_cities = {\"City\": ['Gao' , 'Thies' , 'Abeche','Bobo-Dioulasso', 'Port Harcourt'],\n",
    "      \n",
    "                          \"Temperature(°C)\": [29,32,27,19,35]     }"
   ]
  },
  {
   "cell_type": "code",
   "execution_count": 29,
   "metadata": {},
   "outputs": [],
   "source": [
    "df_temp_afr_cities = pd.DataFrame(temp_african_cities)"
   ]
  },
  {
   "cell_type": "code",
   "execution_count": 30,
   "metadata": {},
   "outputs": [
    {
     "data": {
      "text/html": [
       "<div>\n",
       "<style scoped>\n",
       "    .dataframe tbody tr th:only-of-type {\n",
       "        vertical-align: middle;\n",
       "    }\n",
       "\n",
       "    .dataframe tbody tr th {\n",
       "        vertical-align: top;\n",
       "    }\n",
       "\n",
       "    .dataframe thead th {\n",
       "        text-align: right;\n",
       "    }\n",
       "</style>\n",
       "<table border=\"1\" class=\"dataframe\">\n",
       "  <thead>\n",
       "    <tr style=\"text-align: right;\">\n",
       "      <th></th>\n",
       "      <th>City</th>\n",
       "      <th>Temperature(°C)</th>\n",
       "    </tr>\n",
       "  </thead>\n",
       "  <tbody>\n",
       "    <tr>\n",
       "      <th>0</th>\n",
       "      <td>Gao</td>\n",
       "      <td>29</td>\n",
       "    </tr>\n",
       "    <tr>\n",
       "      <th>1</th>\n",
       "      <td>Thies</td>\n",
       "      <td>32</td>\n",
       "    </tr>\n",
       "    <tr>\n",
       "      <th>2</th>\n",
       "      <td>Abeche</td>\n",
       "      <td>27</td>\n",
       "    </tr>\n",
       "    <tr>\n",
       "      <th>3</th>\n",
       "      <td>Bobo-Dioulasso</td>\n",
       "      <td>19</td>\n",
       "    </tr>\n",
       "    <tr>\n",
       "      <th>4</th>\n",
       "      <td>Port Harcourt</td>\n",
       "      <td>35</td>\n",
       "    </tr>\n",
       "  </tbody>\n",
       "</table>\n",
       "</div>"
      ],
      "text/plain": [
       "             City  Temperature(°C)\n",
       "0             Gao               29\n",
       "1           Thies               32\n",
       "2          Abeche               27\n",
       "3  Bobo-Dioulasso               19\n",
       "4   Port Harcourt               35"
      ]
     },
     "execution_count": 30,
     "metadata": {},
     "output_type": "execute_result"
    }
   ],
   "source": [
    "df_temp_afr_cities"
   ]
  },
  {
   "cell_type": "code",
   "execution_count": 31,
   "metadata": {},
   "outputs": [],
   "source": [
    "#The birth rate from several hospitals in Togo, Benin on a specific week in 2003\n",
    "togo_birth_rate = {\"Hospital\": [\"Hopital General de Dapaong\" , \"Deutsche Hospital Apaong\" , \n",
    "                   \"Clinique Notre-Dame de Lomé\", \"hôpital Nachtigal d’aného\", \n",
    "                   \"hôpital Germanique de kpalimé\", \"Liberty Klinic\"],\n",
    "    \"Birth_Rate\" :[ 0.4 , 0.25 , 0.98 , 0.18 , 0.62 , 0.16]\n",
    "     }"
   ]
  },
  {
   "cell_type": "code",
   "execution_count": 32,
   "metadata": {},
   "outputs": [],
   "source": [
    "df_togo_birth_rate   = pd.DataFrame(togo_birth_rate)"
   ]
  },
  {
   "cell_type": "code",
   "execution_count": 33,
   "metadata": {},
   "outputs": [
    {
     "data": {
      "text/html": [
       "<div>\n",
       "<style scoped>\n",
       "    .dataframe tbody tr th:only-of-type {\n",
       "        vertical-align: middle;\n",
       "    }\n",
       "\n",
       "    .dataframe tbody tr th {\n",
       "        vertical-align: top;\n",
       "    }\n",
       "\n",
       "    .dataframe thead th {\n",
       "        text-align: right;\n",
       "    }\n",
       "</style>\n",
       "<table border=\"1\" class=\"dataframe\">\n",
       "  <thead>\n",
       "    <tr style=\"text-align: right;\">\n",
       "      <th></th>\n",
       "      <th>Hospital</th>\n",
       "      <th>Birth_Rate</th>\n",
       "    </tr>\n",
       "  </thead>\n",
       "  <tbody>\n",
       "    <tr>\n",
       "      <th>0</th>\n",
       "      <td>Hopital General de Dapaong</td>\n",
       "      <td>0.40</td>\n",
       "    </tr>\n",
       "    <tr>\n",
       "      <th>1</th>\n",
       "      <td>Deutsche Hospital Apaong</td>\n",
       "      <td>0.25</td>\n",
       "    </tr>\n",
       "    <tr>\n",
       "      <th>2</th>\n",
       "      <td>Clinique Notre-Dame de Lomé</td>\n",
       "      <td>0.98</td>\n",
       "    </tr>\n",
       "    <tr>\n",
       "      <th>3</th>\n",
       "      <td>hôpital Nachtigal d’aného</td>\n",
       "      <td>0.18</td>\n",
       "    </tr>\n",
       "    <tr>\n",
       "      <th>4</th>\n",
       "      <td>hôpital Germanique de kpalimé</td>\n",
       "      <td>0.62</td>\n",
       "    </tr>\n",
       "    <tr>\n",
       "      <th>5</th>\n",
       "      <td>Liberty Klinic</td>\n",
       "      <td>0.16</td>\n",
       "    </tr>\n",
       "  </tbody>\n",
       "</table>\n",
       "</div>"
      ],
      "text/plain": [
       "                        Hospital  Birth_Rate\n",
       "0     Hopital General de Dapaong        0.40\n",
       "1       Deutsche Hospital Apaong        0.25\n",
       "2    Clinique Notre-Dame de Lomé        0.98\n",
       "3      hôpital Nachtigal d’aného        0.18\n",
       "4  hôpital Germanique de kpalimé        0.62\n",
       "5                 Liberty Klinic        0.16"
      ]
     },
     "execution_count": 33,
     "metadata": {},
     "output_type": "execute_result"
    }
   ],
   "source": [
    "df_togo_birth_rate"
   ]
  },
  {
   "cell_type": "markdown",
   "metadata": {},
   "source": [
    "To query the content of a dataframe, we can call the different series using the index operator and passing in the name of a column as a string."
   ]
  },
  {
   "cell_type": "code",
   "execution_count": 34,
   "metadata": {},
   "outputs": [
    {
     "data": {
      "text/plain": [
       "0       Hopital General de Dapaong\n",
       "1         Deutsche Hospital Apaong\n",
       "2      Clinique Notre-Dame de Lomé\n",
       "3        hôpital Nachtigal d’aného\n",
       "4    hôpital Germanique de kpalimé\n",
       "5                   Liberty Klinic\n",
       "Name: Hospital, dtype: object"
      ]
     },
     "execution_count": 34,
     "metadata": {},
     "output_type": "execute_result"
    }
   ],
   "source": [
    "df_togo_birth_rate['Hospital']"
   ]
  },
  {
   "cell_type": "code",
   "execution_count": 35,
   "metadata": {},
   "outputs": [
    {
     "data": {
      "text/plain": [
       "0    0.40\n",
       "1    0.25\n",
       "2    0.98\n",
       "3    0.18\n",
       "4    0.62\n",
       "5    0.16\n",
       "Name: Birth_Rate, dtype: float64"
      ]
     },
     "execution_count": 35,
     "metadata": {},
     "output_type": "execute_result"
    }
   ],
   "source": [
    "df_togo_birth_rate['Birth_Rate']"
   ]
  },
  {
   "cell_type": "markdown",
   "metadata": {
    "collapsed": true
   },
   "source": [
    "We might decide to add another column. For instance, we want to add information related to the electricity outage in those hospitals during that week."
   ]
  },
  {
   "cell_type": "code",
   "execution_count": 64,
   "metadata": {},
   "outputs": [],
   "source": [
    "df_togo_birth_rate['Light'] = [\"Yes\" , \"Yes\" , \"No\" , \"Yes\" , \"No\" , \"No\"]"
   ]
  },
  {
   "cell_type": "code",
   "execution_count": 65,
   "metadata": {},
   "outputs": [
    {
     "data": {
      "text/html": [
       "<div>\n",
       "<style scoped>\n",
       "    .dataframe tbody tr th:only-of-type {\n",
       "        vertical-align: middle;\n",
       "    }\n",
       "\n",
       "    .dataframe tbody tr th {\n",
       "        vertical-align: top;\n",
       "    }\n",
       "\n",
       "    .dataframe thead th {\n",
       "        text-align: right;\n",
       "    }\n",
       "</style>\n",
       "<table border=\"1\" class=\"dataframe\">\n",
       "  <thead>\n",
       "    <tr style=\"text-align: right;\">\n",
       "      <th></th>\n",
       "      <th>Hospital</th>\n",
       "      <th>Birth_Rate</th>\n",
       "      <th>Light</th>\n",
       "    </tr>\n",
       "  </thead>\n",
       "  <tbody>\n",
       "    <tr>\n",
       "      <th>0</th>\n",
       "      <td>Hopital General de Dapaong</td>\n",
       "      <td>0.40</td>\n",
       "      <td>Yes</td>\n",
       "    </tr>\n",
       "    <tr>\n",
       "      <th>1</th>\n",
       "      <td>Deutsche Hospital Apaong</td>\n",
       "      <td>0.25</td>\n",
       "      <td>Yes</td>\n",
       "    </tr>\n",
       "    <tr>\n",
       "      <th>2</th>\n",
       "      <td>Clinique Notre-Dame de Lomé</td>\n",
       "      <td>0.98</td>\n",
       "      <td>No</td>\n",
       "    </tr>\n",
       "    <tr>\n",
       "      <th>3</th>\n",
       "      <td>hôpital Nachtigal d’aného</td>\n",
       "      <td>0.18</td>\n",
       "      <td>Yes</td>\n",
       "    </tr>\n",
       "    <tr>\n",
       "      <th>4</th>\n",
       "      <td>hôpital Germanique de kpalimé</td>\n",
       "      <td>0.62</td>\n",
       "      <td>No</td>\n",
       "    </tr>\n",
       "    <tr>\n",
       "      <th>5</th>\n",
       "      <td>Liberty Klinic</td>\n",
       "      <td>0.16</td>\n",
       "      <td>No</td>\n",
       "    </tr>\n",
       "  </tbody>\n",
       "</table>\n",
       "</div>"
      ],
      "text/plain": [
       "                        Hospital  Birth_Rate Light\n",
       "0     Hopital General de Dapaong        0.40   Yes\n",
       "1       Deutsche Hospital Apaong        0.25   Yes\n",
       "2    Clinique Notre-Dame de Lomé        0.98    No\n",
       "3      hôpital Nachtigal d’aného        0.18   Yes\n",
       "4  hôpital Germanique de kpalimé        0.62    No\n",
       "5                 Liberty Klinic        0.16    No"
      ]
     },
     "execution_count": 65,
     "metadata": {},
     "output_type": "execute_result"
    }
   ],
   "source": [
    "df_togo_birth_rate"
   ]
  },
  {
   "cell_type": "markdown",
   "metadata": {
    "collapsed": true
   },
   "source": [
    "We can get a subset of dataframe based on some conditions. Let's find out from the task below."
   ]
  },
  {
   "cell_type": "markdown",
   "metadata": {},
   "source": [
    ">#### <font color=#800080>Task 1:</font> <a class=\"anchor\" id=\"Task-1\"></a>"
   ]
  },
  {
   "cell_type": "markdown",
   "metadata": {},
   "source": [
    "In our quest to understand the interplay between health metrics and infrastructural development in Togo, we have obtained information from various hospitals across Togo. The data is provided below.\n",
    "\n",
    "1. Take a look at the data and think of some practical questions that can be answered from querying that dataframe \n",
    "\n",
    "2. Phrase them on a piece of paper.\n",
    "\n",
    "3. Write the Python codes that solve them\n",
    "\n",
    "4. Think of a recommendation you can make out of your answers.\n",
    "\n",
    "5. Answer the following questions:\n",
    "\n",
    "    * What are the hospitals where the birth rate is less than `0.50`?\n",
    "    * What are the hospitals which had electricity supplied on that day?\n",
    "    * Are the Germans Hospitals in Togo always supplied with electricity?\n",
    "\n",
    "\n",
    "6.  Siemens, under the auspices of the German-Togo Collaboration, has committed to equipping selected hospitals with backup power generators to mitigate service disruptions during power outages, ensuring continuous patient care. Siemens has judiciously scheduled the delivery of these generators to each beneficiary hospital. Below, you will find the scheduled delivery dates stored in the `scheduled_dates` variable. Use `pd.to_datetime` to convert these dates, ensuring they are in the appropriate datetime format for further analysis.\n",
    "\n",
    "\n",
    "7. In light of directives from His Excellency Mr. Fore Yassingbe, the Togolese Minister of Health and his team will be present for the generator handover ceremonies. Given his tight schedule, his secretary informed that he can only attend events scheduled between the 20th and 40th weeks of the year. Based on this timeframe, how many ceremonies can he attend in person?"
   ]
  },
  {
   "cell_type": "code",
   "execution_count": 75,
   "metadata": {},
   "outputs": [],
   "source": [
    "togo_data = {\n",
    "    'Hospital Name': [\n",
    "        'Lomé Central Hospital', \n",
    "        'Kara Regional Hospital', \n",
    "        'Sokodé District Hospital', \n",
    "        'Dapaong Clinic', \n",
    "        'Atakpamé Health Center', \n",
    "        'Bassar Hospital',\n",
    "        'Tsevie Hospital',\n",
    "        'Aného Medical Clinic',\n",
    "        'Kpalimé Health Center',\n",
    "        'Mango District Hospital',\n",
    "        'Lomé-Berlin Partnership Clinic',  \n",
    "        'Deutsche Togo Hospital',          \n",
    "        'Badou Health Center',\n",
    "        'Notse Hospital',\n",
    "        'Sotouboua Medical Facility',\n",
    "        'German-Togolese Medical Institute', \n",
    "        'Vogan Health Clinic',\n",
    "        'Tabligbo Hospital',\n",
    "        'Kande Medical Center',\n",
    "        'German Heart Clinic of Lomé'       \n",
    "    ],\n",
    "    'Birth rate': [\n",
    "        0.152, 0.124, 0.147, 0.108, 0.135, \n",
    "        0.119, 0.141, 0.130, 0.125, 0.148,\n",
    "        0.151, 0.133, 0.137, 0.128, 0.122,\n",
    "        0.144, 0.136, 0.139, 0.115, 0.155\n",
    "    ],\n",
    "    'Access to Electricity': [\n",
    "        'Yes', 'No', 'Yes', 'No', 'Yes', \n",
    "        'No', 'Yes', 'Yes', 'Yes', 'No',\n",
    "        'Yes', 'Yes', 'No', 'Yes', 'Yes',\n",
    "        'No', 'Yes', 'Yes', 'No', 'Yes'\n",
    "    ]\n",
    "}"
   ]
  },
  {
   "cell_type": "code",
   "execution_count": 77,
   "metadata": {},
   "outputs": [],
   "source": [
    "scheduled_dates = ['2024-06-12', '2024-08-02', '2024-04-11', '2024-09-23', \n",
    "         '2024-05-30', '2024-09-14', '2024-07-04', '2024-06-26', \n",
    "         '2024-08-15', '2024-04-25', '2024-09-10', '2024-06-30',\n",
    "         '2024-12-15', '2024-05-17', '2024-05-13', '2024-05-15', \n",
    "         '2024-10-01', '2024-10-04', '2024-10-03', '2024-10-02']"
   ]
  },
  {
   "cell_type": "markdown",
   "metadata": {},
   "source": [
    "  "
   ]
  }
 ],
 "metadata": {
  "kernelspec": {
   "display_name": "Python 3",
   "language": "python",
   "name": "python3"
  },
  "language_info": {
   "codemirror_mode": {
    "name": "ipython",
    "version": 3
   },
   "file_extension": ".py",
   "mimetype": "text/x-python",
   "name": "python",
   "nbconvert_exporter": "python",
   "pygments_lexer": "ipython3",
   "version": "3.9.2"
  }
 },
 "nbformat": 4,
 "nbformat_minor": 2
}
