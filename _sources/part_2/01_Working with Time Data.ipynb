{
 "cells": [
  {
   "cell_type": "markdown",
   "id": "abstract-chambers",
   "metadata": {},
   "source": [
    "# Chapter 1: Working with Time Data"
   ]
  },
  {
   "cell_type": "markdown",
   "id": "affected-decrease",
   "metadata": {},
   "source": [
    "Time series data lies at the heart of numerous practical applications across various fields, underlining its immense importance. By capturing data points at successive time intervals, time series analysis enables us to uncover valuable insights, observe patterns, and make accurate forecasts. It finds practical application in diverse domains such as **finance, economics, weather forecasting, stock market analysis, demand forecasting, anomaly detection, and predictive maintenance**.\n",
    "\n",
    "Whether we aim to \n",
    "\n",
    "* Predict future stock prices in **Douala Stock Exchange** in Cameroon, \n",
    "\n",
    "* Understand consumer behavior over time on the  **Takealot.com** E-commence website in Zimbabwe, \n",
    "\n",
    "* Monitor sensor readings for spotting anomalies in the Engineering Division of **DAL Group** in Sudan,\n",
    "\n",
    "* Forecast seasonal trends of fashion accessories designed by **LE Creation** in Ivory Coast,\n",
    "\n",
    "a solid grasp of time series analysis proves indispensable. So, let's delve into the fascinating world of time series and explore the tools and techniques that enable us to extract meaningful information from temporal data."
   ]
  },
  {
   "cell_type": "markdown",
   "id": "approved-tourist",
   "metadata": {},
   "source": [
    "**Learning Objectives:**\n",
    "\n",
    "* Get the standard definitions of time series,\n",
    "* Perform time series analysis,\n",
    "* Identify the important components to consider in time series data.\n",
    "* And the Examples of time series to make your understanding concrete."
   ]
  },
  {
   "cell_type": "markdown",
   "id": "caring-cherry",
   "metadata": {},
   "source": [
    "## Working with Time in Pandas"
   ]
  },
  {
   "cell_type": "markdown",
   "id": "weekly-massachusetts",
   "metadata": {},
   "source": [
    "One of the best reasons to use Pandas is its capability to identify and handle **time** and **date** variables in the data values we work on. In the previous chapters, we saw some simple cases where the data was nothing more than string labels and numeric values. \n",
    "\n",
    "In reality, data can have many formats, and dates and times are almost omnipresent. In fact, in the collection of\n",
    "data, in their sampling, dates and times are introduced. \n",
    "\n",
    "It is this type of value that is indispensable for carrying out significant statistics and,\n",
    "therefore, in the analysis of the data, it is essential that the tools are able to\n",
    "recognize and use them. The Pandas library manages this type of data based on the following two\n",
    "specific concepts:\n",
    "\n",
    "1. Date Times\n",
    "2. Time deltas"
   ]
  },
  {
   "cell_type": "markdown",
   "id": "reserved-european",
   "metadata": {},
   "source": [
    "### Date Times"
   ]
  },
  {
   "cell_type": "markdown",
   "id": "younger-broadcast",
   "metadata": {},
   "source": [
    "Date Times represent the concept of date and time, typically indicated as a certain instant. Working with data, we often encounter dates and times expressed as strings in various formats. For example, the order of years, months, and days (and sometimes hours, minutes, and seconds) can differ significantly based on the country of origin.\n",
    "\n",
    "The  African Continent for instance, has six time zones which are (and can vary) \n",
    "\n",
    "* Mauritius and Seychelles Time (UTC/GMT+4),  \n",
    "* East Africa Time (UTC/GMT+3),  \n",
    "* Central Africa Time (UTC/GMT+2), \n",
    "* West Africa Time (UTC/GMT+1),  \n",
    "* Greenwich Mean Time (UTC/GMT), \n",
    "* Cape Verde Time (UTC-1).\n",
    "\n",
    "\n",
    "Different specificaitions could apply to the way time series are represented:\n",
    "\n",
    "\n",
    "* These values can be numeric (e.g., **11** for November) or literal (e.g., **Nov**). \n",
    "* Years can have four or two digits (e.g., **2021** or **21**). \n",
    "* The separator character between values varies widely (`'-', '/', or ':'`, etc.). \n",
    "\n",
    "\n",
    "Parsing these values accurately is challenging, hence the need of a powerful library, to simplify those processes for data analysts. It uses the `datetime` module and provides the `Timestamp` class, which efficiently handles Date Time. Its constructor accepts a string and converts it to `datetime64`, a specific Pandas data type representing the corresponding nanosecond value. This precise value is ideal for scientific applications involving short time spans."
   ]
  },
  {
   "cell_type": "markdown",
   "id": "prompt-cleveland",
   "metadata": {},
   "source": [
    "Let’s write a series of examples on recognizing and converting dates with\n",
    "the `Timestamp()` constructor, as follows:"
   ]
  },
  {
   "cell_type": "code",
   "execution_count": null,
   "id": "greek-flash",
   "metadata": {},
   "outputs": [],
   "source": [
    "import pandas as pd\n",
    "import numpy as np"
   ]
  },
  {
   "cell_type": "code",
   "execution_count": null,
   "id": "metropolitan-population",
   "metadata": {},
   "outputs": [],
   "source": [
    "pd.Timestamp('2021-11-30')"
   ]
  },
  {
   "cell_type": "code",
   "execution_count": null,
   "id": "vanilla-newton",
   "metadata": {},
   "outputs": [],
   "source": [
    "pd.Timestamp('2021-Nov-30')"
   ]
  },
  {
   "cell_type": "code",
   "execution_count": null,
   "id": "inside-savannah",
   "metadata": {},
   "outputs": [],
   "source": [
    "pd.Timestamp('2021/11/30')"
   ]
  },
  {
   "cell_type": "markdown",
   "id": "intelligent-ebony",
   "metadata": {},
   "source": [
    "It can deduced from the preceding examples that regardless of the format\n",
    "type, the `Timestamp()` constructor is able to recognize that it is the same\n",
    "date. This constructor is also able to work on numeric formats and not only with\n",
    "strings. In this case, each argument will correspond in the order of years,\n",
    "months, days, hours, minutes, and seconds, as shown as follows:"
   ]
  },
  {
   "cell_type": "code",
   "execution_count": null,
   "id": "stuck-colombia",
   "metadata": {},
   "outputs": [],
   "source": [
    "pd.Timestamp(2021,11,30,0,0,0)"
   ]
  },
  {
   "cell_type": "markdown",
   "id": "endangered-sweet",
   "metadata": {},
   "source": [
    "The Pandas library provides us with the `to_datetime()` function which accepts,\n",
    "as an argument, a series of objects which will then be converted into DateTime values."
   ]
  },
  {
   "cell_type": "code",
   "execution_count": null,
   "id": "cubic-february",
   "metadata": {},
   "outputs": [],
   "source": [
    "df = pd.DataFrame({'year': [2019, 2020, 2021], \n",
    "                   'month': [10, 6, 4], \n",
    "                   'day': [15, 10, 20]})\n",
    "df"
   ]
  },
  {
   "cell_type": "markdown",
   "id": "prospective-mounting",
   "metadata": {},
   "source": [
    "It can be converted to DateTime values using the `to_datetime()` function,\n",
    "as shown as follows:"
   ]
  },
  {
   "cell_type": "code",
   "execution_count": null,
   "id": "otherwise-approval",
   "metadata": {},
   "outputs": [],
   "source": [
    "t_stamp = pd.to_datetime(df)\n",
    "t_stamp"
   ]
  },
  {
   "cell_type": "markdown",
   "id": "challenging-saskatchewan",
   "metadata": {},
   "source": [
    "As we can see, the function has converted a DataFrame into a Series of\n",
    "`datetime64` values."
   ]
  },
  {
   "cell_type": "markdown",
   "id": "assisted-accountability",
   "metadata": {},
   "source": [
    "Another possibility is, for example, that of converting strings that describe a\n",
    "date and a time but their format is too intelligible for the constructor. In\n",
    "fact, the `to_datetime()` function allows you to add as an optional\n",
    "parameter, the format in which you can specify the particular formatting\n",
    "that follows the string by means of indicators (called format codes, as for\n",
    "example, `%S` to indicate the seconds) and, thus, be able to parse. Also, by\n",
    "adding the optional errors parameter with the value `raise`, you will get an\n",
    "error message whenever the `to_datetime()` function fails to parse the\n",
    "string in a datetime64 value, as shown as follows:"
   ]
  },
  {
   "cell_type": "code",
   "execution_count": null,
   "id": "unlike-option",
   "metadata": {},
   "outputs": [],
   "source": [
    "t = pd.to_datetime('2021 USA 31--12', format='%Y USA %d--%m',\n",
    "                   errors='raise')\n",
    "t"
   ]
  },
  {
   "cell_type": "markdown",
   "id": "removable-somerset",
   "metadata": {},
   "source": [
    "### Time Deltas"
   ]
  },
  {
   "cell_type": "markdown",
   "id": "banner-civilian",
   "metadata": {},
   "source": [
    "DateTimes are precise times to which a data can be assigned. Another\n",
    "concept of time on which Pandas is based are the Time Deltas, that are the\n",
    "measurements of time durations, that is, the time interval between two\n",
    "precise instants (DateTime). This concept is also fundamental to working\n",
    "with times and dates in a data analysis.\n",
    "Pandas implements this concept through `Timedelta`, a class very similar to\n",
    "the one present in the datetime module of the standard library. This class\n",
    "also has its own constructor, and the definition of a time interval can be\n",
    "very simple and intuitive. For example, if we wanted to define the duration\n",
    "of a time equivalent to one day, it would be enough to write the following:"
   ]
  },
  {
   "cell_type": "code",
   "execution_count": null,
   "id": "functional-overall",
   "metadata": {},
   "outputs": [],
   "source": [
    "pd.Timedelta('1 Day')"
   ]
  },
  {
   "cell_type": "markdown",
   "id": "fatal-triple",
   "metadata": {},
   "source": [
    "In this case, if we wanted to update a Datetime value, for example, by\n",
    "increasing its value by an hour, it would be enough to create a Timedelta\n",
    "value equivalent to an hour and add it to the Datetime variable, thus,\n",
    "obtaining the updated value. It is, therefore, possible to perform arithmetic\n",
    "calculations with times using Datetime and Timedelta together, as shown\n",
    "as follows"
   ]
  },
  {
   "cell_type": "code",
   "execution_count": null,
   "id": "intellectual-biography",
   "metadata": {},
   "outputs": [],
   "source": [
    "df1 = pd.Timestamp('2021-Nov-16 10:30AM')\n",
    "df1\n"
   ]
  },
  {
   "cell_type": "code",
   "execution_count": null,
   "id": "cleared-treatment",
   "metadata": {},
   "outputs": [],
   "source": [
    "plus_1= pd.Timedelta('1 Hour')\n",
    "df2 = plus_1 + df1\n",
    "df2"
   ]
  },
  {
   "cell_type": "markdown",
   "id": "aging-constant",
   "metadata": {},
   "source": [
    "Another, more formal way of defining time intervals is to enter the relative\n",
    "amount and unit of time. For example, another way to define a day and time\n",
    "is to enter 1 as a numeric value, and use the optional unit parameter\n",
    "defining ‘d’ to define days as a unit of time, as shown as follows:"
   ]
  },
  {
   "cell_type": "code",
   "execution_count": null,
   "id": "pediatric-netherlands",
   "metadata": {},
   "outputs": [],
   "source": [
    "pd.Timedelta(1, unit=\"d\")"
   ]
  },
  {
   "cell_type": "markdown",
   "id": "personal-night",
   "metadata": {},
   "source": [
    "Using smaller time units such as seconds, the manufacturer will convert\n",
    "them to the larger time units, thus, converting them to the corresponding\n",
    "values of days, hours, and minutes, as shown as follows:"
   ]
  },
  {
   "cell_type": "code",
   "execution_count": null,
   "id": "present-quilt",
   "metadata": {},
   "outputs": [],
   "source": [
    "pd.Timedelta(150045, unit=\"s\")"
   ]
  },
  {
   "cell_type": "markdown",
   "id": "sought-south",
   "metadata": {},
   "source": [
    "There are also more complex ways to define time intervals, which are\n",
    "useful when you have multiple units together, such as days, minutes, and\n",
    "hours, as shown as follows:"
   ]
  },
  {
   "cell_type": "code",
   "execution_count": null,
   "id": "special-lesson",
   "metadata": {},
   "outputs": [],
   "source": [
    "pd.Timedelta('3D 5:34:23')"
   ]
  },
  {
   "cell_type": "markdown",
   "id": "integrated-words",
   "metadata": {},
   "source": [
    "We have seen that Timedelta defines time intervals and are useful for\n",
    "performing arithmetic calculations on Timestamp objects. This concept is\n",
    "even more explicit when we consider the following example:"
   ]
  },
  {
   "cell_type": "code",
   "execution_count": null,
   "id": "racial-runner",
   "metadata": {},
   "outputs": [],
   "source": [
    "ts2 = pd.Timestamp('2021-Jan-01 11:30AM')\n",
    "ts3 = pd.Timestamp('2021-Mar-13 4:15PM')\n",
    "df3 = ts3 - ts2\n",
    "df3"
   ]
  },
  {
   "cell_type": "markdown",
   "id": "rubber-advocacy",
   "metadata": {},
   "source": [
    "As we can see from the result, even by making the difference between two\n",
    "Timestamps, an object of type `Timedelta` is automatically generated as a\n",
    "result, without using the constructor."
   ]
  },
  {
   "cell_type": "markdown",
   "id": "renewable-organic",
   "metadata": {},
   "source": [
    "There is also a data conversion function for Timedelta, called\n",
    "`to_timedelta()`. In this case, however, parsing is less flexible than\n",
    "to_datetime. In fact, there is no optional format parameter, and only the\n",
    "default formats that work with the constructor are recognized, as shown as\n",
    "follows:"
   ]
  },
  {
   "cell_type": "code",
   "execution_count": null,
   "id": "buried-acquisition",
   "metadata": {},
   "outputs": [],
   "source": [
    "ts4 = pd.Series(['00:22:33','00:13:12','00:24:14'])\n",
    "ts4"
   ]
  },
  {
   "cell_type": "code",
   "execution_count": null,
   "id": "domestic-extraction",
   "metadata": {},
   "outputs": [],
   "source": [
    "ts5 = pd.to_timedelta(ts4, errors='raise')\n",
    "ts5"
   ]
  },
  {
   "cell_type": "markdown",
   "id": "boxed-duncan",
   "metadata": {},
   "source": [
    "### Creating Arrays of Time Values"
   ]
  },
  {
   "cell_type": "markdown",
   "id": "present-powder",
   "metadata": {},
   "source": [
    "Now that we have seen what *Timestamps* is  in Pandas, let’s\n",
    "take a further step – seeing how it is possible to generate an array of this\n",
    "type of values in a simple and automatic way.\n",
    "For this purpose, there is the `data_range()` function which allows us to create a predetermined number of values, starting from a given date `(Timestamp)`, and then defining an appropriate time interval, generating a\n",
    "series of Datetime values all uniformly staggered."
   ]
  },
  {
   "cell_type": "markdown",
   "id": "color-wound",
   "metadata": {},
   "source": [
    "For example, it is possible to generate an array of 10 consecutive days\n",
    "starting from a specific date (passed as the first argument) defining as\n",
    "optional parameters `freq = 'D'`, to define the duration of 1 day from one\n",
    "value to another and, with periods, the number of values to generate. In this\n",
    "case, the number of consecutive days are 10, as shown as follows:"
   ]
  },
  {
   "cell_type": "code",
   "execution_count": null,
   "id": "subtle-ambassador",
   "metadata": {},
   "outputs": [],
   "source": [
    "pd.date_range('2021/01/01', freq='D', periods=10)"
   ]
  },
  {
   "cell_type": "markdown",
   "id": "executive-nightmare",
   "metadata": {},
   "source": [
    "As we can see, the `date_range()` function creates a DatetimeIndex object\n",
    "containing 10 consecutive days starting from `1st January 2021`.\n",
    "Another possibility is to pass two different Timestamps, one starting and\n",
    "one ending, as arguments to the `data_range()` function. The default\n",
    "intervals are one day, as shown as follows:"
   ]
  },
  {
   "cell_type": "code",
   "execution_count": null,
   "id": "informed-seminar",
   "metadata": {
    "scrolled": true
   },
   "outputs": [],
   "source": [
    "pd.date_range(\"2021/01/01\", \"2021/01/10\" , freq='D')"
   ]
  },
  {
   "cell_type": "markdown",
   "id": "aggregate-shield",
   "metadata": {},
   "source": [
    "If, on the other hand, we want a staggered time interval with different times,\n",
    "we must explicitly specify it with the freq parameter. Or we could decide to\n",
    "subdivide this interval by a certain number of parts; in this case, we will use\n",
    "the optional parameter, periods.\n",
    "For example, we would like to create a Timestamp array with 5 minutes\n",
    "difference within the specified time limits, then we will specify `5T` to\n",
    "indicate `5 minutes` to the optional freq parameter, as shown as follows:"
   ]
  },
  {
   "cell_type": "code",
   "execution_count": null,
   "id": "comfortable-royal",
   "metadata": {},
   "outputs": [],
   "source": [
    "pd.date_range(\"2021/01/01 8:00\",\"2021/01/01 10:00\", freq='5t')"
   ]
  },
  {
   "cell_type": "markdown",
   "id": "labeled-defendant",
   "metadata": {},
   "source": [
    "Or we might want to divide this time interval into 10 equal parts, each\n",
    "delimited by a Timestamp. In this case, 10 is assigned to the optional\n",
    "parameter periods, as shown as follows:"
   ]
  },
  {
   "cell_type": "code",
   "execution_count": null,
   "id": "acquired-madness",
   "metadata": {
    "scrolled": true
   },
   "outputs": [],
   "source": [
    "pd.date_range(\"2021/01/01 8:00\",\"2021/01/01 10:00\", periods=10)"
   ]
  },
  {
   "cell_type": "markdown",
   "id": "black-lottery",
   "metadata": {},
   "source": [
    "In all these cases, we have seen the generation of an object of type\n",
    "`DatetimeIndex` containing a list of Datetime values. In many cases, this\n",
    "kind of object is useful for building Series or DataFrame. For example, it is\n",
    "quite common to use these values as Index, both in a Series and in a\n",
    "DataFrame, as shown as follows:"
   ]
  },
  {
   "cell_type": "code",
   "execution_count": null,
   "id": "divided-century",
   "metadata": {},
   "outputs": [],
   "source": [
    "range_ = pd.date_range(\"2021/01/01 8:00\",\"2021/01/01 10:00\", periods=10)\n",
    "tsi = pd.Series(np.random.randn(len(range_)), index=range_)\n",
    "tsi"
   ]
  },
  {
   "cell_type": "markdown",
   "id": "sublime-cartoon",
   "metadata": {},
   "source": [
    "But they can also be used to populate their values automatically, as shown\n",
    "as follows:"
   ]
  },
  {
   "cell_type": "code",
   "execution_count": null,
   "id": "cooperative-toddler",
   "metadata": {},
   "outputs": [],
   "source": [
    "ts5 = pd.Series(range_)\n",
    "ts5"
   ]
  },
  {
   "cell_type": "markdown",
   "id": "complimentary-milan",
   "metadata": {},
   "source": [
    "In the first case, the use of index with datetime64 type values allows you to\n",
    "easily select rows relating to a particular time interval, as shown as follows:"
   ]
  },
  {
   "cell_type": "code",
   "execution_count": null,
   "id": "greatest-segment",
   "metadata": {},
   "outputs": [],
   "source": [
    "tsi[\"2021/01/01 8:00\":\"2021/01/01 8:30\"]"
   ]
  },
  {
   "cell_type": "markdown",
   "id": "external-belgium",
   "metadata": {},
   "source": [
    ">#### <font color=#800080>Task 1:</font> <a class=\"anchor\" id=\"Task-1\"></a>"
   ]
  },
  {
   "cell_type": "markdown",
   "id": "informed-grass",
   "metadata": {},
   "source": [
    "Black Friday has become a significant shopping day globally, thanks to its wide range of discounts and offers. It enables shoppers to seize limited-time deals and locate the best ones. While originally set for the last Friday of November annually, some companies now stretch it until December 31st, starting from the last Monday of November's final week. \n",
    "\n",
    "Mamadou Sekou from the Gambia, owns a superette called `SekouShop` in Bouake, the second largest city in Ivory Coast. He has been wondering lately why his customers complained about the absence of discounts during the holiday season last year.\n",
    "\n",
    "As a result of that, he believes he missed out on boosting his sales during what they called \"the Black Friday Period\"(BFP) and seeks to prepare better for the next one. To achieve this, he wants to understand the dynamics of his sales from the BFP last year and compare them with this year's data, once available. You work with him on a consultant basis, to help him carrying out such analysis. You have been given the sales data from 1st November 2022 until 31st December 2022 in a csv file called `SekouShop_sales.csv`\n",
    "\n",
    "\n",
    "1. Where does the Black Friday term originate from?\n",
    "\n",
    "2. Re-arrange the data into two sub-seasons: the blackfriday and normal sales seasons. What are the cumulated sales for each of the sub-seasons.\n",
    "\n",
    "3. The manager of the superette brought to your attention that there were days where the superette did not open its doors. List those days for each of the sub-seasons. what proportion did they represent out of the sub-seasons and out of the whole hoilday season.\n",
    "\n",
    "4. Usually on fridays, the Superette produced its best sales. Report all the Friday sales for each of the sub-seasons. Which Friday had the best tally?\n",
    "\n",
    "\n",
    "\n"
   ]
  },
  {
   "cell_type": "markdown",
   "id": "further-seeking",
   "metadata": {},
   "source": [
    ">####  <font color=#800080>Task 2:</font> <a class=\"anchor\" id=\"Task-1\"></a>\n"
   ]
  },
  {
   "cell_type": "markdown",
   "id": "weird-hollywood",
   "metadata": {},
   "source": [
    "\n",
    "For a better preperation of the upcoming year 2023, Mamadou wants to create schedules or calendars to keep track of certain  processes like restocking, utility bills and special sales. \n",
    "\n",
    "1. **SekouShop** restocks certain perishable items like every 3 days. They want you to create a restocking schedule for the next three months (Jan, Feb, Mar 2023) to help with inventory management. \n",
    "\n",
    "\n",
    "2. SekouShop pays its utility bills on the first day of every month. The manager wants you to generate reminders five days before each due date for the upcoming year to avoid late fees.\n",
    "\n",
    "\n",
    "\n",
    "3. They are planning to host bi-weekly special sales. Can you create a calendar for all their event dates for the upcoming year?"
   ]
  },
  {
   "cell_type": "code",
   "execution_count": null,
   "id": "detailed-principal",
   "metadata": {},
   "outputs": [],
   "source": []
  }
 ],
 "metadata": {
  "kernelspec": {
   "display_name": "Python 3",
   "language": "python",
   "name": "python3"
  },
  "language_info": {
   "codemirror_mode": {
    "name": "ipython",
    "version": 3
   },
   "file_extension": ".py",
   "mimetype": "text/x-python",
   "name": "python",
   "nbconvert_exporter": "python",
   "pygments_lexer": "ipython3",
   "version": "3.9.2"
  }
 },
 "nbformat": 4,
 "nbformat_minor": 5
}
