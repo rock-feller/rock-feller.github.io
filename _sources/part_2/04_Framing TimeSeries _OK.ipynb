{
 "cells": [
  {
   "cell_type": "markdown",
   "id": "sophisticated-judgment",
   "metadata": {},
   "source": [
    "# Chapter 4: Framing Time Series"
   ]
  },
  {
   "cell_type": "markdown",
   "id": "atomic-alliance",
   "metadata": {},
   "source": [
    "Time Series data must be reframed as a supervised learning dataset before we can start using machine learning algorithms. There is no concept of input and output features in time series. Instead, we must choose the variable to be predicted and use feature engineering to construct all of the inputs that will be used to make predictions for future time steps. \n",
    "In this chapter, you will discover how to perform feature engineering on time series data with Python to model\n",
    "your time series problem with machine learning algorithms.\n"
   ]
  },
  {
   "cell_type": "markdown",
   "id": "driving-humanitarian",
   "metadata": {},
   "source": [
    "**Learning outcomes:**"
   ]
  },
  {
   "cell_type": "markdown",
   "id": "precise-evidence",
   "metadata": {},
   "source": [
    "After completing this session, you will know:\n",
    "\n",
    "1. What supervised learning is and how it is the foundation for all predictive modeling machine learning algorithms.\n",
    "\n",
    "\n",
    "2. The sliding window method for framing a time series dataset and how to use it.\n",
    "\n",
    "\n",
    "3. How to use the sliding window for multivariate data and multi-step forecasting.\n",
    "\n",
    "\n",
    "\n",
    "Let's dive in."
   ]
  },
  {
   "cell_type": "markdown",
   "id": "honey-place",
   "metadata": {},
   "source": [
    "## Supervised Machine Learning"
   ]
  },
  {
   "cell_type": "markdown",
   "id": "verified-perception",
   "metadata": {},
   "source": [
    "The majority of practical machine learning uses supervised learning. Supervised learning is\n",
    "where you have input variables (X) and an output variable (y) and you use an algorithm to\n",
    "learn the mapping function from the input to the output.\n",
    "\n",
    "$$Y = f(X)$$\n"
   ]
  },
  {
   "cell_type": "markdown",
   "id": "authorized-teens",
   "metadata": {},
   "source": [
    "The goal is to approximate the real underlying mapping so well that when you have new\n",
    "input data $(X)$, you can predict the output variables $(y)$ for that data. Below is a contrived\n",
    "example of a supervised learning dataset where each row is an observation comprised of one\n",
    "input variable $(X)$ and one output variable to be predicted $(y)$."
   ]
  },
  {
   "cell_type": "code",
   "execution_count": null,
   "id": "specified-password",
   "metadata": {},
   "outputs": [],
   "source": [
    "X, y\n",
    "5, 0.9\n",
    "4, 0.8\n",
    "5, 1.0\n",
    "3, 0.7\n",
    "4, 0.9"
   ]
  },
  {
   "cell_type": "markdown",
   "id": "collective-house",
   "metadata": {},
   "source": [
    "It is called supervised learning because the process of an algorithm learning from the training\n",
    "dataset can be thought of as a teacher supervising the learning process. We know the correct\n",
    "answers; the algorithm iteratively makes predictions on the training data and is corrected by\n",
    "making updates. "
   ]
  },
  {
   "cell_type": "markdown",
   "id": "stopped-coverage",
   "metadata": {},
   "source": [
    "Learning stops when the algorithm achieves an acceptable level of performance.\n",
    "Supervised learning problems can be further grouped into regression and classification problems.\n",
    "\n",
    "\n",
    "* **Classification:** A classification problem is when the output variable is a category, such\n",
    "as red and blue or disease and no disease.\n",
    "\n",
    "\n",
    "* **Regression:** A regression problem is when the output variable is a real value, such as\n",
    "dollars or weight. The contrived example above is a regression problem."
   ]
  },
  {
   "cell_type": "markdown",
   "id": "boring-switch",
   "metadata": {},
   "source": [
    "However, a time series dataset looks this: "
   ]
  },
  {
   "cell_type": "code",
   "execution_count": null,
   "id": "knowing-pixel",
   "metadata": {},
   "outputs": [],
   "source": [
    "time 1, value 1\n",
    "\n",
    "time 2, value 2\n",
    "\n",
    "time 3, value 3\n"
   ]
  },
  {
   "cell_type": "markdown",
   "id": "surrounded-guess",
   "metadata": {},
   "source": [
    "In order to use it for Machine Learning purpose, it must be transformed or reframed to something that looks like:"
   ]
  },
  {
   "cell_type": "code",
   "execution_count": null,
   "id": "laughing-cannon",
   "metadata": {},
   "outputs": [],
   "source": [
    "input 1, output 1\n",
    "input 2, output 2\n",
    "input 3, output 3"
   ]
  },
  {
   "cell_type": "markdown",
   "id": "incorrect-relevance",
   "metadata": {},
   "source": [
    "So that we can train a supervised learning algorithm. Input variables are also called features\n",
    "in the field of machine learning, and the task before us is to create or invent new input features\n",
    "from our time series dataset. Ideally, we only want input features that best help the learning methods model the relationship between the inputs $(X)$ and the outputs $(y)$ that we would like\n",
    "to predict. In this tutorial, we will look at three classes of features that we can create from our\n",
    "time series dataset:\n",
    "\n",
    "* Date Time Features: these are components of the time step itself for each observation.\n",
    "* Lag Features: these are values at prior time steps.\n",
    "* Window Features: these are a summary of values over a fixed window of prior time steps."
   ]
  },
  {
   "cell_type": "markdown",
   "id": "optical-latvia",
   "metadata": {},
   "source": [
    "### Sliding Window"
   ]
  },
  {
   "cell_type": "markdown",
   "id": "pretty-scratch",
   "metadata": {},
   "source": [
    "Time series data can be phrased as supervised learning. Given a sequence of numbers for a time\n",
    "series dataset, we can restructure the data to look like a supervised learning problem. We can\n",
    "do this by using previous time steps as input variables and use the next time step as the output\n",
    "variable. Let's make this concrete with an example. Imagine we have a time series as follows, which represents daily steps made  by a patient:"
   ]
  },
  {
   "cell_type": "code",
   "execution_count": null,
   "id": "alike-swimming",
   "metadata": {},
   "outputs": [],
   "source": [
    "time, measure\n",
    "1,    100\n",
    "2,    110\n",
    "3,    108\n",
    "4,    115\n",
    "5,    120"
   ]
  },
  {
   "cell_type": "markdown",
   "id": "amazing-satin",
   "metadata": {},
   "source": [
    "We can restructure this time series dataset as a supervised learning problem by using the\n",
    "value at the previous time step to predict the value at the next time-step. Re-organizing the\n",
    "time series dataset this way, the data would look as follows:"
   ]
  },
  {
   "cell_type": "code",
   "execution_count": null,
   "id": "timely-leader",
   "metadata": {},
   "outputs": [],
   "source": [
    "X,    y\n",
    "?,   100\n",
    "100, 110\n",
    "110, 108\n",
    "108, 115\n",
    "115, 120\n",
    "120,  ?"
   ]
  },
  {
   "cell_type": "markdown",
   "id": "convenient-boxing",
   "metadata": {},
   "source": [
    "Take a look at the above transformed dataset and compare it to the original time series.\n",
    "Here are some observations:\n",
    "\n",
    "* We can see that the previous time step is the input (X) and the next time step is the output (y) in our supervised learning problem.\n",
    "\n",
    "\n",
    "* We can see that the order between the observations is preserved, and must continue to be preserved when using this dataset to train a supervised model.\n",
    "\n",
    "\n",
    "* We can see that we have no previous value that we can use to predict the first value in the sequence. We will delete this row as we cannot use it."
   ]
  },
  {
   "cell_type": "markdown",
   "id": "lucky-roberts",
   "metadata": {},
   "source": [
    ">#### <font color=#800080>Example:</font> <a class=\"anchor\" id=\"Task-1\"></a>\n"
   ]
  },
  {
   "cell_type": "markdown",
   "id": "novel-saturday",
   "metadata": {},
   "source": [
    "With the intense heat experienced in Dira Dawe, a city located in the Eastern Part of Ethiopia, the government has initiated a project to analyze the overall sky surface radiation in the area. This study aims to establish a solar power facility that will convert the radiant energy into electricity for residential use. \n",
    "\n",
    "The all-sky surface radiation is calculated by accounting for the influences of the clear-sky atmosphere, clouds, and the multiple reflections between cloud and land surface. The Solar Ultraviolet Radiation (UVR) UVR is divided into three wavebands: UV-C (100–280 nm), UV-B (280–315 nm), and UV-A (315–400 nm).\n",
    "\n",
    "UV-C is absorbed in the stratosphere, whereas both the UV-A and the UV-B bands reach ground level in amounts that depend on several factors. The first goal is to get a forecast the UVA using the historical data that was delivered by the EEP(Ethiopian Electric Power) Company. \n",
    "\n",
    "The data comprises UVA and dew/frost at 2meters from 1st January 2021 to 31st March 2021. "
   ]
  },
  {
   "cell_type": "code",
   "execution_count": 7,
   "id": "indie-expression",
   "metadata": {},
   "outputs": [
    {
     "data": {
      "text/html": [
       "<div>\n",
       "<style scoped>\n",
       "    .dataframe tbody tr th:only-of-type {\n",
       "        vertical-align: middle;\n",
       "    }\n",
       "\n",
       "    .dataframe tbody tr th {\n",
       "        vertical-align: top;\n",
       "    }\n",
       "\n",
       "    .dataframe thead th {\n",
       "        text-align: right;\n",
       "    }\n",
       "</style>\n",
       "<table border=\"1\" class=\"dataframe\">\n",
       "  <thead>\n",
       "    <tr style=\"text-align: right;\">\n",
       "      <th></th>\n",
       "      <th>YEAR</th>\n",
       "      <th>MO</th>\n",
       "      <th>DY</th>\n",
       "      <th>ALLSKY_SFC_UVA</th>\n",
       "      <th>T2MDEW</th>\n",
       "    </tr>\n",
       "  </thead>\n",
       "  <tbody>\n",
       "    <tr>\n",
       "      <th>0</th>\n",
       "      <td>2021</td>\n",
       "      <td>1</td>\n",
       "      <td>1</td>\n",
       "      <td>15.64</td>\n",
       "      <td>8.24</td>\n",
       "    </tr>\n",
       "    <tr>\n",
       "      <th>1</th>\n",
       "      <td>2021</td>\n",
       "      <td>1</td>\n",
       "      <td>2</td>\n",
       "      <td>15.73</td>\n",
       "      <td>8.89</td>\n",
       "    </tr>\n",
       "    <tr>\n",
       "      <th>2</th>\n",
       "      <td>2021</td>\n",
       "      <td>1</td>\n",
       "      <td>3</td>\n",
       "      <td>15.65</td>\n",
       "      <td>8.05</td>\n",
       "    </tr>\n",
       "    <tr>\n",
       "      <th>3</th>\n",
       "      <td>2021</td>\n",
       "      <td>1</td>\n",
       "      <td>4</td>\n",
       "      <td>15.87</td>\n",
       "      <td>3.81</td>\n",
       "    </tr>\n",
       "    <tr>\n",
       "      <th>4</th>\n",
       "      <td>2021</td>\n",
       "      <td>1</td>\n",
       "      <td>5</td>\n",
       "      <td>15.87</td>\n",
       "      <td>5.65</td>\n",
       "    </tr>\n",
       "  </tbody>\n",
       "</table>\n",
       "</div>"
      ],
      "text/plain": [
       "   YEAR  MO  DY  ALLSKY_SFC_UVA  T2MDEW\n",
       "0  2021   1   1           15.64    8.24\n",
       "1  2021   1   2           15.73    8.89\n",
       "2  2021   1   3           15.65    8.05\n",
       "3  2021   1   4           15.87    3.81\n",
       "4  2021   1   5           15.87    5.65"
      ]
     },
     "execution_count": 7,
     "metadata": {},
     "output_type": "execute_result"
    }
   ],
   "source": [
    "import pandas as pd\n",
    "\n",
    "diradawe_data =  pd.read_csv('data/Dire_Dawa_data.csv' , skiprows=10)\n",
    "diradawe_data.head()"
   ]
  },
  {
   "cell_type": "code",
   "execution_count": 8,
   "id": "physical-mounting",
   "metadata": {},
   "outputs": [
    {
     "data": {
      "text/html": [
       "<div>\n",
       "<style scoped>\n",
       "    .dataframe tbody tr th:only-of-type {\n",
       "        vertical-align: middle;\n",
       "    }\n",
       "\n",
       "    .dataframe tbody tr th {\n",
       "        vertical-align: top;\n",
       "    }\n",
       "\n",
       "    .dataframe thead th {\n",
       "        text-align: right;\n",
       "    }\n",
       "</style>\n",
       "<table border=\"1\" class=\"dataframe\">\n",
       "  <thead>\n",
       "    <tr style=\"text-align: right;\">\n",
       "      <th></th>\n",
       "      <th>year</th>\n",
       "      <th>month</th>\n",
       "      <th>day</th>\n",
       "      <th>ALLSKY_SFC_UVA</th>\n",
       "      <th>T2MDEW</th>\n",
       "    </tr>\n",
       "  </thead>\n",
       "  <tbody>\n",
       "    <tr>\n",
       "      <th>0</th>\n",
       "      <td>2021</td>\n",
       "      <td>1</td>\n",
       "      <td>1</td>\n",
       "      <td>15.64</td>\n",
       "      <td>8.24</td>\n",
       "    </tr>\n",
       "    <tr>\n",
       "      <th>1</th>\n",
       "      <td>2021</td>\n",
       "      <td>1</td>\n",
       "      <td>2</td>\n",
       "      <td>15.73</td>\n",
       "      <td>8.89</td>\n",
       "    </tr>\n",
       "    <tr>\n",
       "      <th>2</th>\n",
       "      <td>2021</td>\n",
       "      <td>1</td>\n",
       "      <td>3</td>\n",
       "      <td>15.65</td>\n",
       "      <td>8.05</td>\n",
       "    </tr>\n",
       "    <tr>\n",
       "      <th>3</th>\n",
       "      <td>2021</td>\n",
       "      <td>1</td>\n",
       "      <td>4</td>\n",
       "      <td>15.87</td>\n",
       "      <td>3.81</td>\n",
       "    </tr>\n",
       "    <tr>\n",
       "      <th>4</th>\n",
       "      <td>2021</td>\n",
       "      <td>1</td>\n",
       "      <td>5</td>\n",
       "      <td>15.87</td>\n",
       "      <td>5.65</td>\n",
       "    </tr>\n",
       "  </tbody>\n",
       "</table>\n",
       "</div>"
      ],
      "text/plain": [
       "   year  month  day  ALLSKY_SFC_UVA  T2MDEW\n",
       "0  2021      1    1           15.64    8.24\n",
       "1  2021      1    2           15.73    8.89\n",
       "2  2021      1    3           15.65    8.05\n",
       "3  2021      1    4           15.87    3.81\n",
       "4  2021      1    5           15.87    5.65"
      ]
     },
     "execution_count": 8,
     "metadata": {},
     "output_type": "execute_result"
    }
   ],
   "source": [
    "diradawe_data.columns = ['year', 'month', 'day','ALLSKY_SFC_UVA', 'T2MDEW' ]\n",
    "diradawe_data.head()"
   ]
  },
  {
   "cell_type": "code",
   "execution_count": 9,
   "id": "polish-essex",
   "metadata": {},
   "outputs": [
    {
     "data": {
      "text/html": [
       "<div>\n",
       "<style scoped>\n",
       "    .dataframe tbody tr th:only-of-type {\n",
       "        vertical-align: middle;\n",
       "    }\n",
       "\n",
       "    .dataframe tbody tr th {\n",
       "        vertical-align: top;\n",
       "    }\n",
       "\n",
       "    .dataframe thead th {\n",
       "        text-align: right;\n",
       "    }\n",
       "</style>\n",
       "<table border=\"1\" class=\"dataframe\">\n",
       "  <thead>\n",
       "    <tr style=\"text-align: right;\">\n",
       "      <th></th>\n",
       "      <th>Date</th>\n",
       "      <th>year</th>\n",
       "      <th>month</th>\n",
       "      <th>day</th>\n",
       "      <th>ALLSKY_SFC_UVA</th>\n",
       "      <th>T2MDEW</th>\n",
       "    </tr>\n",
       "  </thead>\n",
       "  <tbody>\n",
       "    <tr>\n",
       "      <th>0</th>\n",
       "      <td>2021-01-01</td>\n",
       "      <td>2021</td>\n",
       "      <td>1</td>\n",
       "      <td>1</td>\n",
       "      <td>15.64</td>\n",
       "      <td>8.24</td>\n",
       "    </tr>\n",
       "    <tr>\n",
       "      <th>1</th>\n",
       "      <td>2021-01-02</td>\n",
       "      <td>2021</td>\n",
       "      <td>1</td>\n",
       "      <td>2</td>\n",
       "      <td>15.73</td>\n",
       "      <td>8.89</td>\n",
       "    </tr>\n",
       "    <tr>\n",
       "      <th>2</th>\n",
       "      <td>2021-01-03</td>\n",
       "      <td>2021</td>\n",
       "      <td>1</td>\n",
       "      <td>3</td>\n",
       "      <td>15.65</td>\n",
       "      <td>8.05</td>\n",
       "    </tr>\n",
       "    <tr>\n",
       "      <th>3</th>\n",
       "      <td>2021-01-04</td>\n",
       "      <td>2021</td>\n",
       "      <td>1</td>\n",
       "      <td>4</td>\n",
       "      <td>15.87</td>\n",
       "      <td>3.81</td>\n",
       "    </tr>\n",
       "    <tr>\n",
       "      <th>4</th>\n",
       "      <td>2021-01-05</td>\n",
       "      <td>2021</td>\n",
       "      <td>1</td>\n",
       "      <td>5</td>\n",
       "      <td>15.87</td>\n",
       "      <td>5.65</td>\n",
       "    </tr>\n",
       "  </tbody>\n",
       "</table>\n",
       "</div>"
      ],
      "text/plain": [
       "        Date  year  month  day  ALLSKY_SFC_UVA  T2MDEW\n",
       "0 2021-01-01  2021      1    1           15.64    8.24\n",
       "1 2021-01-02  2021      1    2           15.73    8.89\n",
       "2 2021-01-03  2021      1    3           15.65    8.05\n",
       "3 2021-01-04  2021      1    4           15.87    3.81\n",
       "4 2021-01-05  2021      1    5           15.87    5.65"
      ]
     },
     "execution_count": 9,
     "metadata": {},
     "output_type": "execute_result"
    }
   ],
   "source": [
    "diradawe_data['Date'] =  pd.to_datetime(diradawe_data[['year','month','day']])\n",
    "diradawe_data = diradawe_data[['Date','year','month','day' , 'ALLSKY_SFC_UVA', 'T2MDEW'] ]\n",
    "diradawe_data.head()"
   ]
  },
  {
   "cell_type": "markdown",
   "id": "comic-inspiration",
   "metadata": {},
   "source": [
    "### Lags Feature"
   ]
  },
  {
   "cell_type": "markdown",
   "id": "naval-contrast",
   "metadata": {},
   "source": [
    "**Univariate forecast**"
   ]
  },
  {
   "cell_type": "markdown",
   "id": "southwest-compilation",
   "metadata": {},
   "source": [
    "Lag features are the classical way that time series forecasting problems are transformed into\n",
    "supervised learning problems. The simplest approach is to predict the value at the next time\n",
    "$(t+1)$ given the value at the current time $(t)$. The Pandas library provides the **shift()** function to help create these shifted or lag features from a time series dataset. \n",
    "\n",
    "Shifting the dataset by 1 creates the t column, adding a NaN\n",
    "(unknown) value for the first row. The time series dataset without a shift represents the $t+1.$\n",
    "Let's make this concrete with an example. Let's focus on the UVA column only."
   ]
  },
  {
   "cell_type": "code",
   "execution_count": 10,
   "id": "opponent-class",
   "metadata": {},
   "outputs": [
    {
     "data": {
      "text/html": [
       "<div>\n",
       "<style scoped>\n",
       "    .dataframe tbody tr th:only-of-type {\n",
       "        vertical-align: middle;\n",
       "    }\n",
       "\n",
       "    .dataframe tbody tr th {\n",
       "        vertical-align: top;\n",
       "    }\n",
       "\n",
       "    .dataframe thead th {\n",
       "        text-align: right;\n",
       "    }\n",
       "</style>\n",
       "<table border=\"1\" class=\"dataframe\">\n",
       "  <thead>\n",
       "    <tr style=\"text-align: right;\">\n",
       "      <th></th>\n",
       "      <th>Date</th>\n",
       "      <th>ALLSKY_SFC_UVA</th>\n",
       "    </tr>\n",
       "  </thead>\n",
       "  <tbody>\n",
       "    <tr>\n",
       "      <th>0</th>\n",
       "      <td>2021-01-01</td>\n",
       "      <td>15.64</td>\n",
       "    </tr>\n",
       "    <tr>\n",
       "      <th>1</th>\n",
       "      <td>2021-01-02</td>\n",
       "      <td>15.73</td>\n",
       "    </tr>\n",
       "    <tr>\n",
       "      <th>2</th>\n",
       "      <td>2021-01-03</td>\n",
       "      <td>15.65</td>\n",
       "    </tr>\n",
       "    <tr>\n",
       "      <th>3</th>\n",
       "      <td>2021-01-04</td>\n",
       "      <td>15.87</td>\n",
       "    </tr>\n",
       "    <tr>\n",
       "      <th>4</th>\n",
       "      <td>2021-01-05</td>\n",
       "      <td>15.87</td>\n",
       "    </tr>\n",
       "  </tbody>\n",
       "</table>\n",
       "</div>"
      ],
      "text/plain": [
       "        Date  ALLSKY_SFC_UVA\n",
       "0 2021-01-01           15.64\n",
       "1 2021-01-02           15.73\n",
       "2 2021-01-03           15.65\n",
       "3 2021-01-04           15.87\n",
       "4 2021-01-05           15.87"
      ]
     },
     "execution_count": 10,
     "metadata": {},
     "output_type": "execute_result"
    }
   ],
   "source": [
    "uva_data =  diradawe_data[['Date', 'ALLSKY_SFC_UVA']]\n",
    "uva_data.head()\n"
   ]
  },
  {
   "cell_type": "code",
   "execution_count": 12,
   "id": "entire-bridge",
   "metadata": {},
   "outputs": [
    {
     "data": {
      "text/plain": [
       "0       NaN\n",
       "1     15.64\n",
       "2     15.73\n",
       "3     15.65\n",
       "4     15.87\n",
       "      ...  \n",
       "85    19.84\n",
       "86    19.60\n",
       "87    19.38\n",
       "88    18.81\n",
       "89    17.12\n",
       "Name: ALLSKY_SFC_UVA, Length: 90, dtype: float64"
      ]
     },
     "execution_count": 12,
     "metadata": {},
     "output_type": "execute_result"
    }
   ],
   "source": [
    "uva_shift1 = uva_data['ALLSKY_SFC_UVA'].shift(1)\n",
    "uva_shift1"
   ]
  },
  {
   "cell_type": "markdown",
   "id": "quiet-clearance",
   "metadata": {},
   "source": [
    "The value passed in the shift function determines the length by which the Series is shifted. We can concatenate the shifted columns together into a new DataFrame using the **concat()** function along the column axis (axis=1). "
   ]
  },
  {
   "cell_type": "code",
   "execution_count": 19,
   "id": "electrical-capture",
   "metadata": {},
   "outputs": [
    {
     "data": {
      "text/html": [
       "<div>\n",
       "<style scoped>\n",
       "    .dataframe tbody tr th:only-of-type {\n",
       "        vertical-align: middle;\n",
       "    }\n",
       "\n",
       "    .dataframe tbody tr th {\n",
       "        vertical-align: top;\n",
       "    }\n",
       "\n",
       "    .dataframe thead th {\n",
       "        text-align: right;\n",
       "    }\n",
       "</style>\n",
       "<table border=\"1\" class=\"dataframe\">\n",
       "  <thead>\n",
       "    <tr style=\"text-align: right;\">\n",
       "      <th></th>\n",
       "      <th>Date</th>\n",
       "      <th>ALLSKY_SFC_UVA</th>\n",
       "      <th>ALLSKY_SFC_UVA</th>\n",
       "    </tr>\n",
       "  </thead>\n",
       "  <tbody>\n",
       "    <tr>\n",
       "      <th>0</th>\n",
       "      <td>2021-01-01</td>\n",
       "      <td>15.64</td>\n",
       "      <td>NaN</td>\n",
       "    </tr>\n",
       "    <tr>\n",
       "      <th>1</th>\n",
       "      <td>2021-01-02</td>\n",
       "      <td>15.73</td>\n",
       "      <td>15.64</td>\n",
       "    </tr>\n",
       "    <tr>\n",
       "      <th>2</th>\n",
       "      <td>2021-01-03</td>\n",
       "      <td>15.65</td>\n",
       "      <td>15.73</td>\n",
       "    </tr>\n",
       "    <tr>\n",
       "      <th>3</th>\n",
       "      <td>2021-01-04</td>\n",
       "      <td>15.87</td>\n",
       "      <td>15.65</td>\n",
       "    </tr>\n",
       "    <tr>\n",
       "      <th>4</th>\n",
       "      <td>2021-01-05</td>\n",
       "      <td>15.87</td>\n",
       "      <td>15.87</td>\n",
       "    </tr>\n",
       "    <tr>\n",
       "      <th>...</th>\n",
       "      <td>...</td>\n",
       "      <td>...</td>\n",
       "      <td>...</td>\n",
       "    </tr>\n",
       "    <tr>\n",
       "      <th>85</th>\n",
       "      <td>2021-03-27</td>\n",
       "      <td>19.60</td>\n",
       "      <td>19.84</td>\n",
       "    </tr>\n",
       "    <tr>\n",
       "      <th>86</th>\n",
       "      <td>2021-03-28</td>\n",
       "      <td>19.38</td>\n",
       "      <td>19.60</td>\n",
       "    </tr>\n",
       "    <tr>\n",
       "      <th>87</th>\n",
       "      <td>2021-03-29</td>\n",
       "      <td>18.81</td>\n",
       "      <td>19.38</td>\n",
       "    </tr>\n",
       "    <tr>\n",
       "      <th>88</th>\n",
       "      <td>2021-03-30</td>\n",
       "      <td>17.12</td>\n",
       "      <td>18.81</td>\n",
       "    </tr>\n",
       "    <tr>\n",
       "      <th>89</th>\n",
       "      <td>2021-03-31</td>\n",
       "      <td>16.53</td>\n",
       "      <td>17.12</td>\n",
       "    </tr>\n",
       "  </tbody>\n",
       "</table>\n",
       "<p>90 rows × 3 columns</p>\n",
       "</div>"
      ],
      "text/plain": [
       "         Date  ALLSKY_SFC_UVA  ALLSKY_SFC_UVA\n",
       "0  2021-01-01           15.64             NaN\n",
       "1  2021-01-02           15.73           15.64\n",
       "2  2021-01-03           15.65           15.73\n",
       "3  2021-01-04           15.87           15.65\n",
       "4  2021-01-05           15.87           15.87\n",
       "..        ...             ...             ...\n",
       "85 2021-03-27           19.60           19.84\n",
       "86 2021-03-28           19.38           19.60\n",
       "87 2021-03-29           18.81           19.38\n",
       "88 2021-03-30           17.12           18.81\n",
       "89 2021-03-31           16.53           17.12\n",
       "\n",
       "[90 rows x 3 columns]"
      ]
     },
     "execution_count": 19,
     "metadata": {},
     "output_type": "execute_result"
    }
   ],
   "source": [
    "uva_new1 = pd.concat([uva_data,  pd.DataFrame(uva_shift1)], axis=1)\n",
    "#uva_new1 ['Date', 'ALLSKY_SFC_UVA']\n",
    "uva_new1"
   ]
  },
  {
   "cell_type": "markdown",
   "id": "subject-darwin",
   "metadata": {},
   "source": [
    "For clarity purpose, we can rename the column with the corresponding lag attributes, taking into account the chronoligical order of the observations.\n",
    "\n"
   ]
  },
  {
   "cell_type": "code",
   "execution_count": 29,
   "id": "continental-canberra",
   "metadata": {},
   "outputs": [
    {
     "data": {
      "text/html": [
       "<div>\n",
       "<style scoped>\n",
       "    .dataframe tbody tr th:only-of-type {\n",
       "        vertical-align: middle;\n",
       "    }\n",
       "\n",
       "    .dataframe tbody tr th {\n",
       "        vertical-align: top;\n",
       "    }\n",
       "\n",
       "    .dataframe thead th {\n",
       "        text-align: right;\n",
       "    }\n",
       "</style>\n",
       "<table border=\"1\" class=\"dataframe\">\n",
       "  <thead>\n",
       "    <tr style=\"text-align: right;\">\n",
       "      <th></th>\n",
       "      <th>Date</th>\n",
       "      <th>uva_t-1</th>\n",
       "      <th>uva_t</th>\n",
       "    </tr>\n",
       "  </thead>\n",
       "  <tbody>\n",
       "    <tr>\n",
       "      <th>1</th>\n",
       "      <td>2021-01-02</td>\n",
       "      <td>15.73</td>\n",
       "      <td>15.64</td>\n",
       "    </tr>\n",
       "    <tr>\n",
       "      <th>2</th>\n",
       "      <td>2021-01-03</td>\n",
       "      <td>15.65</td>\n",
       "      <td>15.73</td>\n",
       "    </tr>\n",
       "    <tr>\n",
       "      <th>3</th>\n",
       "      <td>2021-01-04</td>\n",
       "      <td>15.87</td>\n",
       "      <td>15.65</td>\n",
       "    </tr>\n",
       "    <tr>\n",
       "      <th>4</th>\n",
       "      <td>2021-01-05</td>\n",
       "      <td>15.87</td>\n",
       "      <td>15.87</td>\n",
       "    </tr>\n",
       "    <tr>\n",
       "      <th>5</th>\n",
       "      <td>2021-01-06</td>\n",
       "      <td>15.80</td>\n",
       "      <td>15.87</td>\n",
       "    </tr>\n",
       "  </tbody>\n",
       "</table>\n",
       "</div>"
      ],
      "text/plain": [
       "        Date  uva_t-1  uva_t\n",
       "1 2021-01-02    15.73  15.64\n",
       "2 2021-01-03    15.65  15.73\n",
       "3 2021-01-04    15.87  15.65\n",
       "4 2021-01-05    15.87  15.87\n",
       "5 2021-01-06    15.80  15.87"
      ]
     },
     "execution_count": 29,
     "metadata": {},
     "output_type": "execute_result"
    }
   ],
   "source": [
    "uva_new1.columns=['Date', 'uva_t' , 'uva_t-1']\n",
    "uva_new1 =  uva_new1[['Date',  'uva_t-1', 'uva_t']]\n",
    "uva_new1.head()"
   ]
  },
  {
   "cell_type": "markdown",
   "id": "expired-federation",
   "metadata": {},
   "source": [
    "You can see that we would have to discard the first row to use the dataset to train a\n",
    "supervised learning model, as it does not contain enough data to work with. The addition of\n",
    "lag features is called the **sliding window method**, in this case with a window width of 1. The next step is to clear the rows with missing values, which is done using the .dropna() function."
   ]
  },
  {
   "cell_type": "code",
   "execution_count": 22,
   "id": "overall-nowhere",
   "metadata": {},
   "outputs": [
    {
     "name": "stderr",
     "output_type": "stream",
     "text": [
      "<ipython-input-22-bdf46e7312ec>:1: SettingWithCopyWarning: \n",
      "A value is trying to be set on a copy of a slice from a DataFrame\n",
      "\n",
      "See the caveats in the documentation: https://pandas.pydata.org/pandas-docs/stable/user_guide/indexing.html#returning-a-view-versus-a-copy\n",
      "  uva_new1.dropna(how = 'any', inplace=True)\n"
     ]
    },
    {
     "data": {
      "text/html": [
       "<div>\n",
       "<style scoped>\n",
       "    .dataframe tbody tr th:only-of-type {\n",
       "        vertical-align: middle;\n",
       "    }\n",
       "\n",
       "    .dataframe tbody tr th {\n",
       "        vertical-align: top;\n",
       "    }\n",
       "\n",
       "    .dataframe thead th {\n",
       "        text-align: right;\n",
       "    }\n",
       "</style>\n",
       "<table border=\"1\" class=\"dataframe\">\n",
       "  <thead>\n",
       "    <tr style=\"text-align: right;\">\n",
       "      <th></th>\n",
       "      <th>Date</th>\n",
       "      <th>uva_t-1</th>\n",
       "      <th>uva_t</th>\n",
       "    </tr>\n",
       "  </thead>\n",
       "  <tbody>\n",
       "    <tr>\n",
       "      <th>1</th>\n",
       "      <td>2021-01-02</td>\n",
       "      <td>15.64</td>\n",
       "      <td>15.73</td>\n",
       "    </tr>\n",
       "    <tr>\n",
       "      <th>2</th>\n",
       "      <td>2021-01-03</td>\n",
       "      <td>15.73</td>\n",
       "      <td>15.65</td>\n",
       "    </tr>\n",
       "    <tr>\n",
       "      <th>3</th>\n",
       "      <td>2021-01-04</td>\n",
       "      <td>15.65</td>\n",
       "      <td>15.87</td>\n",
       "    </tr>\n",
       "    <tr>\n",
       "      <th>4</th>\n",
       "      <td>2021-01-05</td>\n",
       "      <td>15.87</td>\n",
       "      <td>15.87</td>\n",
       "    </tr>\n",
       "    <tr>\n",
       "      <th>5</th>\n",
       "      <td>2021-01-06</td>\n",
       "      <td>15.87</td>\n",
       "      <td>15.80</td>\n",
       "    </tr>\n",
       "    <tr>\n",
       "      <th>...</th>\n",
       "      <td>...</td>\n",
       "      <td>...</td>\n",
       "      <td>...</td>\n",
       "    </tr>\n",
       "    <tr>\n",
       "      <th>85</th>\n",
       "      <td>2021-03-27</td>\n",
       "      <td>19.84</td>\n",
       "      <td>19.60</td>\n",
       "    </tr>\n",
       "    <tr>\n",
       "      <th>86</th>\n",
       "      <td>2021-03-28</td>\n",
       "      <td>19.60</td>\n",
       "      <td>19.38</td>\n",
       "    </tr>\n",
       "    <tr>\n",
       "      <th>87</th>\n",
       "      <td>2021-03-29</td>\n",
       "      <td>19.38</td>\n",
       "      <td>18.81</td>\n",
       "    </tr>\n",
       "    <tr>\n",
       "      <th>88</th>\n",
       "      <td>2021-03-30</td>\n",
       "      <td>18.81</td>\n",
       "      <td>17.12</td>\n",
       "    </tr>\n",
       "    <tr>\n",
       "      <th>89</th>\n",
       "      <td>2021-03-31</td>\n",
       "      <td>17.12</td>\n",
       "      <td>16.53</td>\n",
       "    </tr>\n",
       "  </tbody>\n",
       "</table>\n",
       "<p>89 rows × 3 columns</p>\n",
       "</div>"
      ],
      "text/plain": [
       "         Date  uva_t-1  uva_t\n",
       "1  2021-01-02    15.64  15.73\n",
       "2  2021-01-03    15.73  15.65\n",
       "3  2021-01-04    15.65  15.87\n",
       "4  2021-01-05    15.87  15.87\n",
       "5  2021-01-06    15.87  15.80\n",
       "..        ...      ...    ...\n",
       "85 2021-03-27    19.84  19.60\n",
       "86 2021-03-28    19.60  19.38\n",
       "87 2021-03-29    19.38  18.81\n",
       "88 2021-03-30    18.81  17.12\n",
       "89 2021-03-31    17.12  16.53\n",
       "\n",
       "[89 rows x 3 columns]"
      ]
     },
     "execution_count": 22,
     "metadata": {},
     "output_type": "execute_result"
    }
   ],
   "source": [
    "uva_new1.dropna(how = 'any', inplace=True)\n",
    "uva_new1"
   ]
  },
  {
   "cell_type": "markdown",
   "id": "random-leave",
   "metadata": {},
   "source": [
    "The supervised learning problem to solve here would be using the past day to predict current day. "
   ]
  },
  {
   "cell_type": "markdown",
   "id": "regional-geneva",
   "metadata": {},
   "source": [
    "For a reframing with 2 lag features, which means using the past 2 days to predict the current day, we can work it out the same way."
   ]
  },
  {
   "cell_type": "code",
   "execution_count": null,
   "id": "valued-verification",
   "metadata": {},
   "outputs": [],
   "source": [
    "All the steps that were carried out above could be summarized in"
   ]
  },
  {
   "cell_type": "code",
   "execution_count": 26,
   "id": "english-stupid",
   "metadata": {},
   "outputs": [
    {
     "data": {
      "text/html": [
       "<div>\n",
       "<style scoped>\n",
       "    .dataframe tbody tr th:only-of-type {\n",
       "        vertical-align: middle;\n",
       "    }\n",
       "\n",
       "    .dataframe tbody tr th {\n",
       "        vertical-align: top;\n",
       "    }\n",
       "\n",
       "    .dataframe thead th {\n",
       "        text-align: right;\n",
       "    }\n",
       "</style>\n",
       "<table border=\"1\" class=\"dataframe\">\n",
       "  <thead>\n",
       "    <tr style=\"text-align: right;\">\n",
       "      <th></th>\n",
       "      <th>Date</th>\n",
       "      <th>ALLSKY_SFC_UVA</th>\n",
       "      <th>ALLSKY_SFC_UVA</th>\n",
       "      <th>ALLSKY_SFC_UVA</th>\n",
       "    </tr>\n",
       "  </thead>\n",
       "  <tbody>\n",
       "    <tr>\n",
       "      <th>0</th>\n",
       "      <td>2021-01-01</td>\n",
       "      <td>15.64</td>\n",
       "      <td>NaN</td>\n",
       "      <td>NaN</td>\n",
       "    </tr>\n",
       "    <tr>\n",
       "      <th>1</th>\n",
       "      <td>2021-01-02</td>\n",
       "      <td>15.73</td>\n",
       "      <td>15.64</td>\n",
       "      <td>NaN</td>\n",
       "    </tr>\n",
       "    <tr>\n",
       "      <th>2</th>\n",
       "      <td>2021-01-03</td>\n",
       "      <td>15.65</td>\n",
       "      <td>15.73</td>\n",
       "      <td>15.64</td>\n",
       "    </tr>\n",
       "    <tr>\n",
       "      <th>3</th>\n",
       "      <td>2021-01-04</td>\n",
       "      <td>15.87</td>\n",
       "      <td>15.65</td>\n",
       "      <td>15.73</td>\n",
       "    </tr>\n",
       "    <tr>\n",
       "      <th>4</th>\n",
       "      <td>2021-01-05</td>\n",
       "      <td>15.87</td>\n",
       "      <td>15.87</td>\n",
       "      <td>15.65</td>\n",
       "    </tr>\n",
       "    <tr>\n",
       "      <th>...</th>\n",
       "      <td>...</td>\n",
       "      <td>...</td>\n",
       "      <td>...</td>\n",
       "      <td>...</td>\n",
       "    </tr>\n",
       "    <tr>\n",
       "      <th>85</th>\n",
       "      <td>2021-03-27</td>\n",
       "      <td>19.60</td>\n",
       "      <td>19.84</td>\n",
       "      <td>19.80</td>\n",
       "    </tr>\n",
       "    <tr>\n",
       "      <th>86</th>\n",
       "      <td>2021-03-28</td>\n",
       "      <td>19.38</td>\n",
       "      <td>19.60</td>\n",
       "      <td>19.84</td>\n",
       "    </tr>\n",
       "    <tr>\n",
       "      <th>87</th>\n",
       "      <td>2021-03-29</td>\n",
       "      <td>18.81</td>\n",
       "      <td>19.38</td>\n",
       "      <td>19.60</td>\n",
       "    </tr>\n",
       "    <tr>\n",
       "      <th>88</th>\n",
       "      <td>2021-03-30</td>\n",
       "      <td>17.12</td>\n",
       "      <td>18.81</td>\n",
       "      <td>19.38</td>\n",
       "    </tr>\n",
       "    <tr>\n",
       "      <th>89</th>\n",
       "      <td>2021-03-31</td>\n",
       "      <td>16.53</td>\n",
       "      <td>17.12</td>\n",
       "      <td>18.81</td>\n",
       "    </tr>\n",
       "  </tbody>\n",
       "</table>\n",
       "<p>90 rows × 4 columns</p>\n",
       "</div>"
      ],
      "text/plain": [
       "         Date  ALLSKY_SFC_UVA  ALLSKY_SFC_UVA  ALLSKY_SFC_UVA\n",
       "0  2021-01-01           15.64             NaN             NaN\n",
       "1  2021-01-02           15.73           15.64             NaN\n",
       "2  2021-01-03           15.65           15.73           15.64\n",
       "3  2021-01-04           15.87           15.65           15.73\n",
       "4  2021-01-05           15.87           15.87           15.65\n",
       "..        ...             ...             ...             ...\n",
       "85 2021-03-27           19.60           19.84           19.80\n",
       "86 2021-03-28           19.38           19.60           19.84\n",
       "87 2021-03-29           18.81           19.38           19.60\n",
       "88 2021-03-30           17.12           18.81           19.38\n",
       "89 2021-03-31           16.53           17.12           18.81\n",
       "\n",
       "[90 rows x 4 columns]"
      ]
     },
     "execution_count": 26,
     "metadata": {},
     "output_type": "execute_result"
    }
   ],
   "source": [
    "uva_shift1 = uva_data['ALLSKY_SFC_UVA'].shift(1)\n",
    "uva_shift2 = uva_data['ALLSKY_SFC_UVA'].shift(2)\n",
    "uva_new2 = pd.concat([uva_data, pd.DataFrame(uva_shift1), pd.DataFrame(uva_shift2)], axis=1)\n",
    "uva_new2"
   ]
  },
  {
   "cell_type": "code",
   "execution_count": 27,
   "id": "infinite-surveillance",
   "metadata": {},
   "outputs": [
    {
     "data": {
      "text/html": [
       "<div>\n",
       "<style scoped>\n",
       "    .dataframe tbody tr th:only-of-type {\n",
       "        vertical-align: middle;\n",
       "    }\n",
       "\n",
       "    .dataframe tbody tr th {\n",
       "        vertical-align: top;\n",
       "    }\n",
       "\n",
       "    .dataframe thead th {\n",
       "        text-align: right;\n",
       "    }\n",
       "</style>\n",
       "<table border=\"1\" class=\"dataframe\">\n",
       "  <thead>\n",
       "    <tr style=\"text-align: right;\">\n",
       "      <th></th>\n",
       "      <th>Date</th>\n",
       "      <th>uva_t-2</th>\n",
       "      <th>uva_t-1</th>\n",
       "      <th>uva_t</th>\n",
       "    </tr>\n",
       "  </thead>\n",
       "  <tbody>\n",
       "    <tr>\n",
       "      <th>0</th>\n",
       "      <td>2021-01-01</td>\n",
       "      <td>NaN</td>\n",
       "      <td>NaN</td>\n",
       "      <td>15.64</td>\n",
       "    </tr>\n",
       "    <tr>\n",
       "      <th>1</th>\n",
       "      <td>2021-01-02</td>\n",
       "      <td>NaN</td>\n",
       "      <td>15.64</td>\n",
       "      <td>15.73</td>\n",
       "    </tr>\n",
       "    <tr>\n",
       "      <th>2</th>\n",
       "      <td>2021-01-03</td>\n",
       "      <td>15.64</td>\n",
       "      <td>15.73</td>\n",
       "      <td>15.65</td>\n",
       "    </tr>\n",
       "    <tr>\n",
       "      <th>3</th>\n",
       "      <td>2021-01-04</td>\n",
       "      <td>15.73</td>\n",
       "      <td>15.65</td>\n",
       "      <td>15.87</td>\n",
       "    </tr>\n",
       "    <tr>\n",
       "      <th>4</th>\n",
       "      <td>2021-01-05</td>\n",
       "      <td>15.65</td>\n",
       "      <td>15.87</td>\n",
       "      <td>15.87</td>\n",
       "    </tr>\n",
       "  </tbody>\n",
       "</table>\n",
       "</div>"
      ],
      "text/plain": [
       "        Date  uva_t-2  uva_t-1  uva_t\n",
       "0 2021-01-01      NaN      NaN  15.64\n",
       "1 2021-01-02      NaN    15.64  15.73\n",
       "2 2021-01-03    15.64    15.73  15.65\n",
       "3 2021-01-04    15.73    15.65  15.87\n",
       "4 2021-01-05    15.65    15.87  15.87"
      ]
     },
     "execution_count": 27,
     "metadata": {},
     "output_type": "execute_result"
    }
   ],
   "source": [
    "uva_new2.columns=['Date', 'uva_t' , 'uva_t-1','uva_t-2']\n",
    "uva_new2=  uva_new2[['Date', 'uva_t-2', 'uva_t-1', 'uva_t']]\n",
    "uva_new2.head()"
   ]
  },
  {
   "cell_type": "code",
   "execution_count": 28,
   "id": "civil-politics",
   "metadata": {},
   "outputs": [
    {
     "name": "stderr",
     "output_type": "stream",
     "text": [
      "<ipython-input-28-684f4a75755a>:1: SettingWithCopyWarning: \n",
      "A value is trying to be set on a copy of a slice from a DataFrame\n",
      "\n",
      "See the caveats in the documentation: https://pandas.pydata.org/pandas-docs/stable/user_guide/indexing.html#returning-a-view-versus-a-copy\n",
      "  uva_new2.dropna(how = 'any', inplace=True)\n"
     ]
    },
    {
     "data": {
      "text/html": [
       "<div>\n",
       "<style scoped>\n",
       "    .dataframe tbody tr th:only-of-type {\n",
       "        vertical-align: middle;\n",
       "    }\n",
       "\n",
       "    .dataframe tbody tr th {\n",
       "        vertical-align: top;\n",
       "    }\n",
       "\n",
       "    .dataframe thead th {\n",
       "        text-align: right;\n",
       "    }\n",
       "</style>\n",
       "<table border=\"1\" class=\"dataframe\">\n",
       "  <thead>\n",
       "    <tr style=\"text-align: right;\">\n",
       "      <th></th>\n",
       "      <th>Date</th>\n",
       "      <th>uva_t-2</th>\n",
       "      <th>uva_t-1</th>\n",
       "      <th>uva_t</th>\n",
       "    </tr>\n",
       "  </thead>\n",
       "  <tbody>\n",
       "    <tr>\n",
       "      <th>2</th>\n",
       "      <td>2021-01-03</td>\n",
       "      <td>15.64</td>\n",
       "      <td>15.73</td>\n",
       "      <td>15.65</td>\n",
       "    </tr>\n",
       "    <tr>\n",
       "      <th>3</th>\n",
       "      <td>2021-01-04</td>\n",
       "      <td>15.73</td>\n",
       "      <td>15.65</td>\n",
       "      <td>15.87</td>\n",
       "    </tr>\n",
       "    <tr>\n",
       "      <th>4</th>\n",
       "      <td>2021-01-05</td>\n",
       "      <td>15.65</td>\n",
       "      <td>15.87</td>\n",
       "      <td>15.87</td>\n",
       "    </tr>\n",
       "    <tr>\n",
       "      <th>5</th>\n",
       "      <td>2021-01-06</td>\n",
       "      <td>15.87</td>\n",
       "      <td>15.87</td>\n",
       "      <td>15.80</td>\n",
       "    </tr>\n",
       "    <tr>\n",
       "      <th>6</th>\n",
       "      <td>2021-01-07</td>\n",
       "      <td>15.87</td>\n",
       "      <td>15.80</td>\n",
       "      <td>15.75</td>\n",
       "    </tr>\n",
       "  </tbody>\n",
       "</table>\n",
       "</div>"
      ],
      "text/plain": [
       "        Date  uva_t-2  uva_t-1  uva_t\n",
       "2 2021-01-03    15.64    15.73  15.65\n",
       "3 2021-01-04    15.73    15.65  15.87\n",
       "4 2021-01-05    15.65    15.87  15.87\n",
       "5 2021-01-06    15.87    15.87  15.80\n",
       "6 2021-01-07    15.87    15.80  15.75"
      ]
     },
     "execution_count": 28,
     "metadata": {},
     "output_type": "execute_result"
    }
   ],
   "source": [
    "uva_new2.dropna(how = 'any', inplace=True)\n",
    "uva_new2.head()"
   ]
  },
  {
   "cell_type": "markdown",
   "id": "affecting-connection",
   "metadata": {},
   "source": [
    ">#### <font color=#800080>Task 5:</font> <a class=\"anchor\" id=\"Task-1\"></a>\n"
   ]
  },
  {
   "cell_type": "markdown",
   "id": "opening-norman",
   "metadata": {},
   "source": [
    "1. Reframe the data for a lag-3 feature problem\n",
    "2. Write a function that could summarize the above process. The function should only take the lag -number as argument and return the corresponding dataframe.\n",
    "3. Considering a bivariate forecast problem now (using the history of 2 features to perhaps only predict the dynamics of one feauture). Make use the function that was written above to build that scenario."
   ]
  }
 ],
 "metadata": {
  "kernelspec": {
   "display_name": "Python 3",
   "language": "python",
   "name": "python3"
  },
  "language_info": {
   "codemirror_mode": {
    "name": "ipython",
    "version": 3
   },
   "file_extension": ".py",
   "mimetype": "text/x-python",
   "name": "python",
   "nbconvert_exporter": "python",
   "pygments_lexer": "ipython3",
   "version": "3.9.2"
  }
 },
 "nbformat": 4,
 "nbformat_minor": 5
}
