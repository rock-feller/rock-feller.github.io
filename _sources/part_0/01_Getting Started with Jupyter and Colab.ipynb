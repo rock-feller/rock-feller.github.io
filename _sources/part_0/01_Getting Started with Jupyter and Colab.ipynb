{
 "cells": [
  {
   "cell_type": "markdown",
   "metadata": {},
   "source": [
    " "
   ]
  },
  {
   "cell_type": "markdown",
   "metadata": {},
   "source": [
    "# Chapter 2: Getting started with Jupyter and Colab"
   ]
  },
  {
   "cell_type": "markdown",
   "metadata": {},
   "source": [
    "## Let's Take a trip to ... Jupyter"
   ]
  },
  {
   "cell_type": "markdown",
   "metadata": {},
   "source": [
    "\n",
    "Data Science is a process that involves a fair amount of coding. \n",
    "To be able to go back and forth between lines of codes and run them independantly, include equations,\n",
    "images, data scientists have came up with the concept of **NOTEBOOKS**.\n",
    "\n",
    "\n",
    "\n",
    "The most popular notebook technologies today are Jupyter (supporting over 40 languages including  **R** and \n",
    "**Python**. Simply put, imagine notebooks as an environment where you can write, edit your lines of codes, include images, videos to allow an easy readability for any potential reader aside you. "
   ]
  },
  {
   "cell_type": "markdown",
   "metadata": {
    "collapsed": true
   },
   "source": [
    " "
   ]
  },
  {
   "cell_type": "markdown",
   "metadata": {},
   "source": [
    "## What is Jupyter Notebook? "
   ]
  },
  {
   "cell_type": "markdown",
   "metadata": {},
   "source": [
    "<b><font color=red>Jupyter</font></b> is a tool that allows data scientists to record their complete analysis process, much\n",
    "in the same way other scientists use a lab notebook to record tests, progress, results, and conclusions.\n",
    "\n",
    "\n",
    "\n",
    "Originally developed as part of the IPython project, the Jupyter product was used to provide interactive online access to Python.\n",
    "\n",
    "\n",
    "\n",
    "Over time it became useful to interact with other data analysis tools, such as R, in the same manner.\n",
    "With this split from Python, the tool grew into its current manifestation of Jupyter. IPython is still an active tool that's available for use.\n",
    "The name Jupyter itself is derived from the combination of **Julia, Python, and R.**\n"
   ]
  },
  {
   "cell_type": "markdown",
   "metadata": {},
   "source": [
    "## Multiple usages"
   ]
  },
  {
   "cell_type": "markdown",
   "metadata": {},
   "source": [
    "It is an open source web application that gives you the power to create and share documents that contain live codes, equations, vizualisations and narrative text. As a few things that you could do with Jupyter, there are:"
   ]
  },
  {
   "cell_type": "markdown",
   "metadata": {},
   "source": [
    "\n",
    "\n",
    "1. data cleaning, transformation, numerical simulation\n",
    "2. Statistical modeling, data visualisation and Machine Learning\n",
    "2. Running un Julia , Python and R scripts!\n",
    "4. Making your code followable by your audience trough  interactiveness\n",
    "5. Saving your code in various formats (pdf, .tex, .ipynb, .html, ... )"
   ]
  },
  {
   "cell_type": "markdown",
   "metadata": {},
   "source": [
    "You could also use it with your latex syntax. For instance, see the <font color=blue>Lorenz System</font> <a class=\"anchor\" id=\"exercise-1\"></a> below:\n"
   ]
  },
  {
   "cell_type": "markdown",
   "metadata": {
    "collapsed": true
   },
   "source": [
    "$$\n",
    "\\begin{eqnarray}\n",
    "\t\\frac{\\mathrm{d}x}{\\mathrm{d}t} &=& \\sigma (y - x),\\\\\n",
    "\t\\frac{\\mathrm{d}y}{\\mathrm{d}t} &=& x (\\rho - z) - y \\\\\n",
    "\t\\frac{\\mathrm{d}z}{\\mathrm{d}t} &=& x y - \\beta z\n",
    "\\end{eqnarray}\n",
    "$$\n",
    "\n",
    "\n",
    "\n",
    "where we set $\\rho = 10 ,  \\quad \n",
    "\\sigma =  28  \\quad  \\textrm{and}  \n",
    "\\quad  \\beta = 2.667$."
   ]
  },
  {
   "cell_type": "markdown",
   "metadata": {
    "collapsed": true
   },
   "source": [
    " "
   ]
  },
  {
   "cell_type": "markdown",
   "metadata": {
    "collapsed": true
   },
   "source": [
    " "
   ]
  },
  {
   "cell_type": "markdown",
   "metadata": {
    "collapsed": true
   },
   "source": [
    "1. The `edit` mode lets you change the content of a cell \n",
    "2. The `command` mode lets you modify a cell as a whole\n"
   ]
  },
  {
   "cell_type": "markdown",
   "metadata": {},
   "source": [
    "### Let's explore it!!!!"
   ]
  },
  {
   "cell_type": "markdown",
   "metadata": {},
   "source": [
    "1. Creating, adding cells above or below \n",
    "2. Enable the shortcuts dashboard\n",
    "3. Changing the mode (Heading, Markdown, code, ...)\n",
    "4. Renaming, deleting, copying, cutting, pasting cells."
   ]
  },
  {
   "cell_type": "markdown",
   "metadata": {},
   "source": [
    "You can easily import graphs and also build your own graphs as wellas well."
   ]
  },
  {
   "cell_type": "code",
   "execution_count": 1,
   "metadata": {},
   "outputs": [
    {
     "name": "stdout",
     "output_type": "stream",
     "text": [
      "Welcome to  Kumasi\n",
      "Welcome to  Cairo\n",
      "Welcome to  Karthoum\n",
      "Welcome to  Surulere\n"
     ]
    }
   ],
   "source": [
    "#See my code here\n",
    "\n",
    "cities  = ['Kumasi' , 'Cairo' , 'Karthoum' , 'Surulere']\n",
    "\n",
    "for city  in cities:\n",
    "    print ('Welcome to ', city)"
   ]
  },
  {
   "cell_type": "markdown",
   "metadata": {},
   "source": [
    "#try and change the cities and print the same\n",
    "\n",
    ">#### <font color=#800080>Task :</font> <a class=\"anchor\" id=\"exercise-1\"></a>\n",
    "\n",
    "1. try and change the cities and print the same\n"
   ]
  },
  {
   "cell_type": "markdown",
   "metadata": {},
   "source": [
    "## Ready to Colab?"
   ]
  },
  {
   "cell_type": "markdown",
   "metadata": {},
   "source": [
    "Google Colab is a Jupyter Notebook stored in Google Drive.\n",
    "\n",
    "It is a free cloud service and now it supports free GPU! You can:\n",
    "\n",
    "*  Improve your Python programming language coding skills.\n",
    "\n",
    "* Develop deep learning applications using popular libraries such as **Keras, TensorFlow, PyTorch**."
   ]
  },
  {
   "cell_type": "markdown",
   "metadata": {},
   "source": [
    "### Let's try it!!!"
   ]
  },
  {
   "cell_type": "markdown",
   "metadata": {},
   "source": [
    ">#### <font color=#800080>Task:</font> <a class=\"anchor\" id=\"exercise-1\"></a>\n",
    "\n",
    "1. Set your Google Colab account (Simply click on this [link](https://colab.research.google.com/))\n",
    "\n",
    "2. Click on `New Notebook` and Bingo!!! your Google Colab account is activated.\n",
    "\n",
    "3. From your Gmail, navigate to your Google Driver folder. Could you see a folder with a yellow icon?\n",
    "\n",
    "2. Create a <font color=blue>Github</font> <a class=\"anchor\" id=\"exercise-1\"></a> Account via this [link](https://github.com/). It is useful if you want to share your codes with the whole world.\n",
    "\n"
   ]
  },
  {
   "cell_type": "code",
   "execution_count": null,
   "metadata": {},
   "outputs": [],
   "source": []
  }
 ],
 "metadata": {
  "kernelspec": {
   "display_name": "Python 3",
   "language": "python",
   "name": "python3"
  },
  "language_info": {
   "codemirror_mode": {
    "name": "ipython",
    "version": 3
   },
   "file_extension": ".py",
   "mimetype": "text/x-python",
   "name": "python",
   "nbconvert_exporter": "python",
   "pygments_lexer": "ipython3",
   "version": "3.9.2"
  }
 },
 "nbformat": 4,
 "nbformat_minor": 2
}
