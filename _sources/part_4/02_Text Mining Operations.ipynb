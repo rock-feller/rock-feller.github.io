{
 "cells": [
  {
   "cell_type": "markdown",
   "id": "reverse-letters",
   "metadata": {},
   "source": [
    "# Chapter 2: Text Mining Operations"
   ]
  },
  {
   "cell_type": "markdown",
   "id": "closing-economy",
   "metadata": {},
   "source": [
    "## Introduction"
   ]
  },
  {
   "cell_type": "markdown",
   "id": "sublime-position",
   "metadata": {},
   "source": [
    "\n",
    "Text mining is the process of extracting useful information from unstructured text data. One of the first steps in text mining is preprocessing, which includes tokenization, stemming, and lemmatization. \n",
    "\n",
    "Tokenization is one of the foundational steps in text mining and Natural Language Processing (NLP). It involves breaking down a large paragraph into sentences or words. This chapter will walk you through various tokenization methods provided by NLTK, using examples inspired by the African context."
   ]
  },
  {
   "cell_type": "markdown",
   "id": "defined-newport",
   "metadata": {},
   "source": [
    "**Learning Objectives:**"
   ]
  },
  {
   "cell_type": "markdown",
   "id": "closed-survivor",
   "metadata": {},
   "source": [
    "* **Tokenization Proficiency:** Understand and apply various tokenization methods to break down text into smaller, meaningful units such as words or sentences.\n",
    "\n",
    "* **Stemming Skills:** Grasp the concept of stemming and employ NLTK's stemming functions to reduce words to their root forms, aiding in data normalization.\n",
    "\n",
    "* **Lemmatization Mastery:** Differentiate between stemming and lemmatization, and utilize lemmatization techniques to convert words to their base or dictionary forms."
   ]
  },
  {
   "cell_type": "markdown",
   "id": "furnished-tribune",
   "metadata": {},
   "source": [
    "## Tokenization Operations"
   ]
  },
  {
   "cell_type": "markdown",
   "id": "quality-messaging",
   "metadata": {},
   "source": [
    "There are several Tokenizers functions in the NLTK Library."
   ]
  },
  {
   "cell_type": "markdown",
   "id": "working-sheffield",
   "metadata": {},
   "source": [
    "Let's explore some of them, starting from the simple `word_tokenizer` function."
   ]
  },
  {
   "cell_type": "markdown",
   "id": "parental-laugh",
   "metadata": {},
   "source": [
    "### word_tokenizer"
   ]
  },
  {
   "cell_type": "markdown",
   "id": "literary-prefix",
   "metadata": {},
   "source": [
    "The `word_tokenize` function is a standard method for splitting a piece of text into individual words. It breaks text into words, punctuations, etc. It is a bit similar to the `split()` methods with Python strings. "
   ]
  },
  {
   "cell_type": "code",
   "execution_count": 1,
   "id": "great-bottom",
   "metadata": {},
   "outputs": [
    {
     "name": "stdout",
     "output_type": "stream",
     "text": [
      "['Nairobi', 'is', 'the', 'capital', 'of', 'Kenya', '.']\n"
     ]
    }
   ],
   "source": [
    "from nltk.tokenize import word_tokenize\n",
    "\n",
    "text_1 = \"Nairobi is the capital of Kenya.\"\n",
    "\n",
    "tokens_1 = word_tokenize(text_1)\n",
    "\n",
    "print(tokens_1)\n"
   ]
  },
  {
   "cell_type": "code",
   "execution_count": 2,
   "id": "electoral-ridge",
   "metadata": {},
   "outputs": [
    {
     "name": "stdout",
     "output_type": "stream",
     "text": [
      "['Jollof', 'rice', 'is', 'a', 'popular', 'dish', 'in', 'West', 'Africa', '.']\n"
     ]
    }
   ],
   "source": [
    "text_2 = \"Jollof rice is a popular dish in West Africa.\"\n",
    "\n",
    "tokens_2 = word_tokenize(text_2)\n",
    "\n",
    "print(tokens_2)\n"
   ]
  },
  {
   "cell_type": "code",
   "execution_count": 3,
   "id": "downtown-trustee",
   "metadata": {},
   "outputs": [
    {
     "name": "stdout",
     "output_type": "stream",
     "text": [
      "['Afrobeats', 'has', 'gained', 'global', 'recognition', '.']\n"
     ]
    }
   ],
   "source": [
    "text_3 = \"Afrobeats has gained global recognition.\"\n",
    "\n",
    "tokens_3 = word_tokenize(text_3)\n",
    "\n",
    "print(tokens_3)\n"
   ]
  },
  {
   "cell_type": "markdown",
   "id": "altered-romance",
   "metadata": {},
   "source": [
    "### sent_tokenizer"
   ]
  },
  {
   "cell_type": "markdown",
   "id": "vocational-venezuela",
   "metadata": {},
   "source": [
    "The `sent_tokenize` function breaks down a piece of text into individual sentences. This is particularly useful when analyzing text data on a per-sentence basis."
   ]
  },
  {
   "cell_type": "code",
   "execution_count": 4,
   "id": "powered-composer",
   "metadata": {},
   "outputs": [
    {
     "name": "stdout",
     "output_type": "stream",
     "text": [
      "['Cairo is a historic city.', 'It is known for its ancient pyramids.']\n"
     ]
    }
   ],
   "source": [
    "from nltk.tokenize import sent_tokenize\n",
    "\n",
    "text_1 = \"Cairo is a historic city. It is known for its ancient pyramids.\"\n",
    "\n",
    "sentences_1 = sent_tokenize(text_1)\n",
    "\n",
    "print(sentences_1)\n"
   ]
  },
  {
   "cell_type": "code",
   "execution_count": 5,
   "id": "signed-expansion",
   "metadata": {},
   "outputs": [
    {
     "name": "stdout",
     "output_type": "stream",
     "text": [
      "['African proverbs convey wisdom.', 'Many of them are passed down through generations.']\n"
     ]
    }
   ],
   "source": [
    "text_2 = \"African proverbs convey wisdom. Many of them are passed down through generations.\"\n",
    "\n",
    "sentences_2 = sent_tokenize(text_2)\n",
    "\n",
    "print(sentences_2)\n"
   ]
  },
  {
   "cell_type": "code",
   "execution_count": 6,
   "id": "german-insider",
   "metadata": {},
   "outputs": [
    {
     "name": "stdout",
     "output_type": "stream",
     "text": [
      "['Kente is a colorful fabric.', 'It originates from Ghana.']\n"
     ]
    }
   ],
   "source": [
    "text_3 = \"Kente is a colorful fabric. It originates from Ghana.\"\n",
    "\n",
    "sentences_3 = sent_tokenize(text_3)\n",
    "\n",
    "print(sentences_3)\n"
   ]
  },
  {
   "cell_type": "code",
   "execution_count": 13,
   "id": "stable-cartoon",
   "metadata": {},
   "outputs": [],
   "source": [
    "PunktSentenceTokenizer?"
   ]
  },
  {
   "cell_type": "markdown",
   "id": "genuine-stability",
   "metadata": {},
   "source": [
    "### punkt_tokenizer"
   ]
  },
  {
   "cell_type": "markdown",
   "id": "native-bloom",
   "metadata": {},
   "source": [
    "The `PunktSentenceTokenizer` is a pre-trained unsupervised machine learning tokenizer. It is pretrained to tokenize English but can be retrained on other languages or specialized text. The most basic form of it uses punctuations as delimiters to create tokens, but keeps the words without getting rid of the actual punctuation signs. However, they have been trained to pay attention to the meaning of sentences."
   ]
  },
  {
   "cell_type": "code",
   "execution_count": 7,
   "id": "super-symbol",
   "metadata": {},
   "outputs": [
    {
     "name": "stdout",
     "output_type": "stream",
     "text": [
      "['The Sahara desert is vast.', 'Many nomads call it home.']\n"
     ]
    }
   ],
   "source": [
    "from nltk.tokenize import PunktSentenceTokenizer\n",
    "\n",
    "text_1 = \"The Sahara desert is vast. Many nomads call it home.\"\n",
    "\n",
    "punkt_tokenizer = PunktSentenceTokenizer()\n",
    "\n",
    "sentences_1 = punkt_tokenizer.tokenize(text_1)\n",
    "\n",
    "print(sentences_1)\n"
   ]
  },
  {
   "cell_type": "code",
   "execution_count": 8,
   "id": "referenced-seating",
   "metadata": {},
   "outputs": [
    {
     "name": "stdout",
     "output_type": "stream",
     "text": [
      "['I am just thinking!', 'Is it worth to call this place home?', 'Because I am coughing:.']\n"
     ]
    }
   ],
   "source": [
    "text_2 = \"I am just thinking! Is it worth to call this place home? Because I am coughing:.\"\n",
    "\n",
    "punkt_tokenizer = PunktSentenceTokenizer()\n",
    "\n",
    "sentences_2 = punkt_tokenizer.tokenize(text_2)\n",
    "\n",
    "print(sentences_2)\n"
   ]
  },
  {
   "cell_type": "code",
   "execution_count": 9,
   "id": "pursuant-surgery",
   "metadata": {},
   "outputs": [
    {
     "name": "stdout",
     "output_type": "stream",
     "text": [
      "['The Maasai people are known for their vibrant culture!!!', 'They reside in parts of Kenya, and Tanzania!.']\n"
     ]
    }
   ],
   "source": [
    "text_3 = \"The Maasai people are known for their vibrant culture!!! They reside in parts of Kenya, and Tanzania!. \"\n",
    "\n",
    "sentences_3 = punkt_tokenizer.tokenize(text_3)\n",
    "\n",
    "print(sentences_3)\n"
   ]
  },
  {
   "cell_type": "markdown",
   "id": "devoted-paste",
   "metadata": {},
   "source": [
    "### Regexp_tokenizer"
   ]
  },
  {
   "cell_type": "markdown",
   "id": "excess-aging",
   "metadata": {},
   "source": [
    "The `RegexpTokenizer` allows for more control by using regular expressions to specify the pattern for tokenization. It's ideal when standard tokenization methods don't suffice."
   ]
  },
  {
   "cell_type": "code",
   "execution_count": 10,
   "id": "acting-luxembourg",
   "metadata": {},
   "outputs": [
    {
     "name": "stdout",
     "output_type": "stream",
     "text": [
      "['The', 'river', 'Nile', 'flows', 'through', 'many', 'African', 'countries']\n"
     ]
    }
   ],
   "source": [
    "from nltk.tokenize import RegexpTokenizer\n",
    "\n",
    "text_1 = \"The river Nile flows through many African countries.\"\n",
    "\n",
    "tokenizer = RegexpTokenizer(r'\\w+')\n",
    "\n",
    "tokens_1 = tokenizer.tokenize(text_1)\n",
    "\n",
    "print(tokens_1)\n"
   ]
  },
  {
   "cell_type": "markdown",
   "id": "relative-employment",
   "metadata": {},
   "source": [
    "The pattern `r'\\w+'` within the context of a regular expression refers to a sequence of word characters. Let's break it down:\n",
    "\n",
    "* `\\w:` This matches any word character. \n",
    "* `+` This is a quantifier in regular expressions. It means \"one or more\" of the preceding pattern\n",
    "\n",
    "\n",
    "See other patterns available below:\n",
    "\n",
    "* `r'\\d+'`: This pattern will match sequences of digits.\n",
    "* `r'[a-zA-Z]+\\?*`\n",
    "* `r'[a-zA-Z]+\\?`: This pattern matches sequences of letters that might end with a ?.\n",
    "* `r'Naija\\s*\\w*`: This pattern matches the word \"Naija\" followed by zero or more spaces and any word c\n",
    "* `r'20[0-9]{2}`: This pattern matches sequences starting with \"20\" followed by exactly two digits, useful for capturing years from 2000 to 2099.\n"
   ]
  },
  {
   "cell_type": "code",
   "execution_count": 11,
   "id": "charitable-russian",
   "metadata": {},
   "outputs": [
    {
     "name": "stdout",
     "output_type": "stream",
     "text": [
      "['230', '210', '240']\n"
     ]
    }
   ],
   "source": [
    "from nltk.tokenize import RegexpTokenizer\n",
    "\n",
    "text = \"Waka Waka: 230 seconds, Joromi: 210 seconds, Kuliko Jana: 240 seconds\"\n",
    "\n",
    "tokenizer = RegexpTokenizer(r'\\d+')\n",
    "\n",
    "durations = tokenizer.tokenize(text)\n",
    "\n",
    "print(durations)  \n"
   ]
  },
  {
   "cell_type": "code",
   "execution_count": 12,
   "id": "northern-breathing",
   "metadata": {},
   "outputs": [
    {
     "name": "stdout",
     "output_type": "stream",
     "text": [
      "['When', 'is', 'the', 'best', 'time', 'to', 'plant', 'a', 'tree?', 'Twenty', 'years', 'ago', 'And', 'the', 'next', 'best', 'time?', 'Now']\n"
     ]
    }
   ],
   "source": [
    "text = \"When is the best time to plant a tree? Twenty years ago. And the next best time? Now.\"\n",
    "\n",
    "tokenizer = RegexpTokenizer(r'[a-zA-Z]+\\?*')\n",
    "\n",
    "proverbs = tokenizer.tokenize(text)\n",
    "\n",
    "print(proverbs)  "
   ]
  },
  {
   "cell_type": "code",
   "execution_count": 13,
   "id": "sixth-castle",
   "metadata": {},
   "outputs": [
    {
     "name": "stdout",
     "output_type": "stream",
     "text": [
      "['Naija beats', 'NaijaJazz']\n"
     ]
    }
   ],
   "source": [
    "text = \"Popular music styles in Africa include Naija beats, NaijaJazz, Afrobeats, and Benga.\"\n",
    "\n",
    "tokenizer = RegexpTokenizer(r'Naija\\s*\\w*')\n",
    "\n",
    "styles = tokenizer.tokenize(text)\n",
    "\n",
    "print(styles)  \n"
   ]
  },
  {
   "cell_type": "code",
   "execution_count": 14,
   "id": "beneficial-chaos",
   "metadata": {},
   "outputs": [
    {
     "name": "stdout",
     "output_type": "stream",
     "text": [
      "['2004', '2010', '2014']\n"
     ]
    }
   ],
   "source": [
    "text = \"In 2004, Ghana celebrated its Golden Jubilee. South Africa hosted the FIFA World Cup in 2010. Nigeria became the largest economy in Africa in 2014.\"\n",
    "\n",
    "tokenizer = RegexpTokenizer(r'20[0-9]{2}')\n",
    "\n",
    "years = tokenizer.tokenize(text)\n",
    "print(years) "
   ]
  },
  {
   "cell_type": "markdown",
   "id": "white-choir",
   "metadata": {},
   "source": [
    ">#### <font color=#800080>Task 1:</font> <a class=\"anchor\" id=\"Task-1\"></a>\n"
   ]
  },
  {
   "cell_type": "markdown",
   "id": "still-charles",
   "metadata": {},
   "source": [
    "## African News Headlines \n"
   ]
  },
  {
   "cell_type": "markdown",
   "id": "substantial-evanescence",
   "metadata": {},
   "source": [
    "Imagine you're a data analyst at `\"AfriNews\"`, a prominent African news outlet. The chief editor provides you with a lengthy editorial article summarizing major events across the continent in the past month. Your task is to tokenize words to help create an infographic highlighting the most frequently mentioned African countries.\n",
    "\n",
    "1. Run this command to load the actual editorial article.   `%load article_edito.py`\n",
    "2. Tokenize the text into individual words. See the set below\n",
    "    \n",
    "`popular_eng_words = set([\"the\", \"and\", \"in\", \"is\", \"of\", \"to\", \"a\", \"on\", \"with\"])`\n",
    "\n",
    "3. Filter out common English words \n",
    "4. Count occurrences of each country name.\n",
    "5. List the top 5 most mentioned countries."
   ]
  },
  {
   "cell_type": "markdown",
   "id": "distinct-development",
   "metadata": {},
   "source": [
    ">#### <font color=#800080>Task 2:</font> <a class=\"anchor\" id=\"Task-1\"></a>\n"
   ]
  },
  {
   "cell_type": "markdown",
   "id": "tender-guinea",
   "metadata": {},
   "source": [
    "## Deciphering Ancient African Chronicles"
   ]
  },
  {
   "cell_type": "markdown",
   "id": "modern-salmon",
   "metadata": {},
   "source": [
    "As an African historian, you stumbled upon a long-forgotten manuscript detailing timelines of various African empires. Your task is to extract all the years mentioned to form a chronological timeline.\n",
    "\n",
    "\n",
    "1. Run this command to load the actual manuscript.   `%load african_manuscript.py`\n",
    "2. Use a regular expression to tokenize and capture all the years (BC and AD).\n",
    "3. List all extracted years in chronological order.\n"
   ]
  },
  {
   "cell_type": "markdown",
   "id": "incredible-copying",
   "metadata": {},
   "source": [
    ">#### <font color=#800080>Task 3:</font> <a class=\"anchor\" id=\"Task-1\"></a>\n"
   ]
  },
  {
   "cell_type": "markdown",
   "id": "animal-prospect",
   "metadata": {},
   "source": [
    "## African Folktales Interpretation"
   ]
  },
  {
   "cell_type": "markdown",
   "id": "ordinary-strand",
   "metadata": {},
   "source": [
    "As a literature professor, you are introduced to a long African folktale. You want to split the tale into individual sentences for a detailed analysis with your students.\n",
    "\n",
    "1. Run this command to load the actual manuscript.   `%load african_folktale.py`\n",
    "2. Tokenize the tale into standalone sentences.\n",
    "3. Count and display the total number of sentences.\n",
    "4. Display the first 5 sentences.\n"
   ]
  },
  {
   "cell_type": "markdown",
   "id": "ethical-significance",
   "metadata": {},
   "source": [
    "## Stemming Functions"
   ]
  },
  {
   "cell_type": "markdown",
   "id": "sexual-jordan",
   "metadata": {},
   "source": [
    "Stemming is a fundamental process in natural language processing (NLP) where words are reduced to their base or root form. For instance, the stemmed version of the word `\"running\"` would be `\"run\"`. By doing so, stemming helps in compressing the textual data and matches different forms of the same word to its base form. However, it's essential to understand that the stemmed word may not always be a valid word in the language. Instead, it serves as a representation of the base form."
   ]
  },
  {
   "cell_type": "code",
   "execution_count": 16,
   "id": "unable-kernel",
   "metadata": {},
   "outputs": [
    {
     "name": "stdout",
     "output_type": "stream",
     "text": [
      "run\n"
     ]
    }
   ],
   "source": [
    "from nltk.stem import PorterStemmer\n",
    "\n",
    "stemmer = PorterStemmer()\n",
    "word_1 = \"running\"\n",
    "print(stemmer.stem(word_1))  \n"
   ]
  },
  {
   "cell_type": "code",
   "execution_count": 17,
   "id": "substantial-windsor",
   "metadata": {},
   "outputs": [
    {
     "name": "stdout",
     "output_type": "stream",
     "text": [
      "beauti\n"
     ]
    }
   ],
   "source": [
    "word_2 = \"beautifully\"\n",
    "print(stemmer.stem(word_2))  \n"
   ]
  },
  {
   "cell_type": "code",
   "execution_count": 18,
   "id": "bearing-reply",
   "metadata": {},
   "outputs": [
    {
     "name": "stdout",
     "output_type": "stream",
     "text": [
      "african\n"
     ]
    }
   ],
   "source": [
    "word_3 = \"African\"\n",
    "print(stemmer.stem(word_3))  \n"
   ]
  },
  {
   "cell_type": "code",
   "execution_count": 19,
   "id": "welcome-marsh",
   "metadata": {},
   "outputs": [
    {
     "name": "stdout",
     "output_type": "stream",
     "text": [
      "['fli', 'fli', 'runner', 'run', 'quickli', 'nation', 'nation']\n"
     ]
    }
   ],
   "source": [
    "from nltk.stem import PorterStemmer\n",
    "\n",
    "stemmer = PorterStemmer()\n",
    "\n",
    "# Example words\n",
    "words = [\"flies\", \"flying\", \"runner\", \"running\", \"quickly\", \"national\", \"nationality\"]\n",
    "\n",
    "# Applying stemming\n",
    "stemmed_words = [stemmer.stem(word) for word in words]\n",
    "\n",
    "print(stemmed_words)\n"
   ]
  },
  {
   "cell_type": "code",
   "execution_count": 20,
   "id": "wrapped-distribution",
   "metadata": {},
   "outputs": [
    {
     "name": "stdout",
     "output_type": "stream",
     "text": [
      "goose\n"
     ]
    }
   ],
   "source": [
    "\n",
    "from nltk.stem import WordNetLemmatizer\n",
    "\n",
    "lemmatizer =  WordNetLemmatizer()\n",
    "\n",
    "word_2 = \"geese\"\n",
    "\n",
    "print(lemmatizer.lemmatize(word_2))  "
   ]
  },
  {
   "cell_type": "code",
   "execution_count": 21,
   "id": "greatest-hampton",
   "metadata": {},
   "outputs": [
    {
     "name": "stdout",
     "output_type": "stream",
     "text": [
      "Africans\n"
     ]
    }
   ],
   "source": [
    "word_3 = \"Africans\"\n",
    "\n",
    "print(lemmatizer.lemmatize(word_3))  "
   ]
  },
  {
   "cell_type": "markdown",
   "id": "sufficient-fault",
   "metadata": {},
   "source": [
    ">#### <font color=#800080>Task 4:</font> <a class=\"anchor\" id=\"Task-1\"></a>\n"
   ]
  },
  {
   "cell_type": "markdown",
   "id": "irish-drill",
   "metadata": {},
   "source": [
    "## Reviewing Tourist Feedback on African Safari Tours"
   ]
  },
  {
   "cell_type": "markdown",
   "id": "rapid-wagner",
   "metadata": {},
   "source": [
    "You work for **\"SavannaScape\"**, a renowned African travel agency specializing in safari tours. To improve services, the agency collects feedback from tourists. You decide to analyze this feedback to pinpoint common themes and concerns by stemming the reviews.\n",
    "\n",
    "1. Load the text reviews using this commnand `%load savanna_reviews.py`\n",
    "\n",
    "2. Tokenize the feedback into individual words.\n",
    "\n",
    "3. Apply stemming to the tokens.\n",
    "\n",
    "4. Count occurrences of each stemmed word to identify common themes.\n",
    "\n",
    "5. Display the top 5 most frequent stemmed words."
   ]
  },
  {
   "cell_type": "markdown",
   "id": "vocal-spread",
   "metadata": {},
   "source": [
    ">#### <font color=#800080>Task 5:</font> <a class=\"anchor\" id=\"Task-1\"></a>"
   ]
  },
  {
   "cell_type": "markdown",
   "id": "cosmetic-notification",
   "metadata": {},
   "source": [
    "##  Analyzing Traditional African Cooking Recipe."
   ]
  },
  {
   "cell_type": "markdown",
   "id": "material-subsection",
   "metadata": {},
   "source": [
    "You're a culinary researcher focusing on traditional African dishes. You have a lengthy recipe of a traditional dish, and you wish to analyze it to understand the most emphasized ingredients and processes.\n",
    "\n",
    "\n",
    "\n",
    "1. Load the recipe texts using the following command `%load afro_recipes.py`\n",
    "\n",
    "2. Tokenize the recipe into individual words.\n",
    "\n",
    "3. Apply stemming to the tokens.\n",
    "\n",
    "4. Count occurrences of each stemmed word to identify the main ingredients and methods.\n",
    "\n",
    "5. Display the top 5 most frequent stemmed words."
   ]
  },
  {
   "cell_type": "markdown",
   "id": "cheap-school",
   "metadata": {},
   "source": [
    "## Lemmatization Operations"
   ]
  },
  {
   "cell_type": "markdown",
   "id": "modular-fisher",
   "metadata": {},
   "source": [
    "Lemmatization is the process of reducing a word to its base or dictionary form. Unlike stemming, the result of lemmatization is always a valid word. It might require POS (Part Of Speech) tags for accurate lemmatization."
   ]
  },
  {
   "cell_type": "markdown",
   "id": "ethical-residence",
   "metadata": {},
   "source": [
    "**Why Lemmatization?**"
   ]
  },
  {
   "cell_type": "markdown",
   "id": "cardiac-badge",
   "metadata": {},
   "source": [
    "**Reduces Word Complexity:** By converting words to their root form, lemmatization ensures that various inflected forms of a word are represented as a common base form.\n",
    "\n",
    "**Improves Text Analysis:** Text analytics algorithms often perform better when variations of words are reduced to their base form.\n",
    "\n",
    "**Saves Storage Space:** In large text databases, storing the base form of words can lead to significant storage savings."
   ]
  },
  {
   "cell_type": "code",
   "execution_count": 22,
   "id": "hairy-burlington",
   "metadata": {},
   "outputs": [
    {
     "name": "stdout",
     "output_type": "stream",
     "text": [
      "running\n"
     ]
    }
   ],
   "source": [
    "print(lemmatizer.lemmatize(\"running\"))  "
   ]
  },
  {
   "cell_type": "code",
   "execution_count": 23,
   "id": "armed-browser",
   "metadata": {},
   "outputs": [
    {
     "name": "stdout",
     "output_type": "stream",
     "text": [
      "run\n"
     ]
    }
   ],
   "source": [
    "from nltk.stem import WordNetLemmatizer\n",
    "\n",
    "lemmatizer = WordNetLemmatizer()\n",
    "\n",
    "word_1 = \"running\"\n",
    "print(lemmatizer.lemmatize(word_1, pos=\"v\"))  \n"
   ]
  },
  {
   "cell_type": "code",
   "execution_count": 24,
   "id": "limiting-combination",
   "metadata": {},
   "outputs": [
    {
     "name": "stdout",
     "output_type": "stream",
     "text": [
      "goose\n"
     ]
    }
   ],
   "source": [
    "word_2 = \"geese\"\n",
    "print(lemmatizer.lemmatize(word_2))  \n"
   ]
  },
  {
   "cell_type": "code",
   "execution_count": 25,
   "id": "enormous-roller",
   "metadata": {},
   "outputs": [
    {
     "name": "stdout",
     "output_type": "stream",
     "text": [
      "Africans\n"
     ]
    }
   ],
   "source": [
    "word_3 = \"Africans\"\n",
    "print(lemmatizer.lemmatize(word_3)) \n"
   ]
  },
  {
   "cell_type": "code",
   "execution_count": 27,
   "id": "played-solution",
   "metadata": {},
   "outputs": [
    {
     "name": "stdout",
     "output_type": "stream",
     "text": [
      "good\n",
      "best\n"
     ]
    }
   ],
   "source": [
    "print(lemmatizer.lemmatize(\"better\", pos=\"a\"))  \n",
    "print(lemmatizer.lemmatize(\"best\", pos=\"a\"))    "
   ]
  },
  {
   "cell_type": "markdown",
   "id": "brutal-adaptation",
   "metadata": {},
   "source": [
    "Here, the adjective `\"better\"` is reduced to its root form, `\"good\"`. However, `\"best\"` is not changed as it's already in its base form."
   ]
  },
  {
   "cell_type": "markdown",
   "id": "turned-vulnerability",
   "metadata": {},
   "source": [
    ">#### <font color=#800080>Task 6:</font> <a class=\"anchor\" id=\"Task-1\"></a>\n"
   ]
  },
  {
   "cell_type": "markdown",
   "id": "fuzzy-delta",
   "metadata": {},
   "source": [
    "## Analyzing an African Folk Tale"
   ]
  },
  {
   "cell_type": "markdown",
   "id": "compliant-matrix",
   "metadata": {},
   "source": [
    "You are a cultural researcher documenting and analyzing African folk tales. The tale of \"Anansi the Spider\" has been collected from a local storyteller. Your goal is to understand the recurring themes and characters in the tale by lemmatizing the narrative and analyzing the frequently mentioned lemmas.\n",
    "\n",
    "1. Load the recipe texts using the following command `%load afro_recipes.py`\n",
    "\n",
    "2. Tokenize the folk tale into individual words.\n",
    "3. Apply lemmatization to the tokens.\n",
    "4. Count the occurrences of each lemma to identify the primary characters and themes.\n",
    "5. Display the top 5 most frequent lemmas."
   ]
  }
 ],
 "metadata": {
  "kernelspec": {
   "display_name": "Python 3",
   "language": "python",
   "name": "python3"
  },
  "language_info": {
   "codemirror_mode": {
    "name": "ipython",
    "version": 3
   },
   "file_extension": ".py",
   "mimetype": "text/x-python",
   "name": "python",
   "nbconvert_exporter": "python",
   "pygments_lexer": "ipython3",
   "version": "3.9.2"
  }
 },
 "nbformat": 4,
 "nbformat_minor": 5
}
