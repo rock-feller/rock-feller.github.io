{
 "cells": [
  {
   "cell_type": "markdown",
   "id": "under-greene",
   "metadata": {},
   "source": [
    "# Chapter 1: Introduction to Text Data"
   ]
  },
  {
   "cell_type": "markdown",
   "id": "specific-ocean",
   "metadata": {},
   "source": [
    "## Introduction:"
   ]
  },
  {
   "cell_type": "markdown",
   "id": "medical-agriculture",
   "metadata": {},
   "source": [
    "In today's digital age, vast amounts of data are produced daily from blogs, social platforms, and web pages. This data holds significant insights, but there's a challenge in converting it into actionable information. Natural Language Processing (NLP) offers a solution. As a subset of artificial intelligence, NLP focuses on enabling machines to comprehend languages, allowing them to interpret human speech.\n",
    "\n",
    "Many companies accumulate massive amounts of data, often in gigabytes or more. Analyzing this manually is almost impossible. Yet, with NLP tecniques, we can train computers to interpret and extract valuable insights from this text. This includes identifying parts of speech, such as nouns, verbs, and adjectives. Moreover, NLP can gauge the sentiment behind a piece of writing, determining whether it conveys a positive or negative tone. This capability has empowered businesses to better understand customer opinions about their products by analyzing their feedback.  \n",
    "Let's start fron the basic: **Understanding Textual Data.**"
   ]
  },
  {
   "cell_type": "markdown",
   "id": "embedded-upgrade",
   "metadata": {},
   "source": [
    "**Learning Objectives:**"
   ]
  },
  {
   "cell_type": "markdown",
   "id": "palestinian-kingston",
   "metadata": {},
   "source": [
    "\n",
    "1. Grasp the essence of text data and its significance in real-world scenarios.\n",
    "2. Explore the power and functionality of Python string operations.\n",
    "3. Understand the importance of tokenization and how to implement it from scratch.\n",
    "4. Discover the world of regex for searching and modifying text data.\n"
   ]
  },
  {
   "cell_type": "markdown",
   "id": "delayed-creation",
   "metadata": {},
   "source": [
    "## What is Text Data?"
   ]
  },
  {
   "cell_type": "markdown",
   "id": "interracial-constraint",
   "metadata": {},
   "source": [
    "\n",
    "\n",
    "Text data, in its simplest form, is information conveyed in a written format. This could range from a single word to extensive documents."
   ]
  },
  {
   "cell_type": "markdown",
   "id": "critical-gather",
   "metadata": {},
   "source": [
    "**Real-world Applications of Text Data:**"
   ]
  },
  {
   "cell_type": "markdown",
   "id": "terminal-sport",
   "metadata": {},
   "source": [
    "\n",
    "- **Sentiment Analysis**: Evaluating feedback on local e-commerce platforms in African countries to enhance customer satisfaction. Imagine being able to gauge user reactions to a product launch in Nairobi using reviews posted online.\n",
    "  \n",
    "- **Information Retrieval**: Consider the importance of having a specialized search engine for African academic papers to promote research within the continent.\n",
    "  \n",
    "- **Machine Translation**: Think about breaking language barriers, like translating real-time news from Afrikaans to Igbo, from Wolof to Chichewa, enabling more widespread information dissemination.\n"
   ]
  },
  {
   "cell_type": "markdown",
   "id": "lined-center",
   "metadata": {},
   "source": [
    "### Introduction to Strings in Python\n"
   ]
  },
  {
   "cell_type": "markdown",
   "id": "devoted-slave",
   "metadata": {},
   "source": [
    "In the coding world, strings are how we represent and manipulate text. Python, being a versatile language, provides a suite of tools to handle strings effectively."
   ]
  },
  {
   "cell_type": "code",
   "execution_count": 1,
   "id": "piano-knock",
   "metadata": {},
   "outputs": [],
   "source": [
    "example_string = \"African proverbs carry wisdom and depth, like 'Only a fool tests the depth of a river with both feet.'\""
   ]
  },
  {
   "cell_type": "markdown",
   "id": "tamil-specific",
   "metadata": {},
   "source": [
    "### Common String Operations:"
   ]
  },
  {
   "cell_type": "markdown",
   "id": "competitive-damage",
   "metadata": {},
   "source": [
    "\n",
    "Strings in Python come equipped with a set of built-in methods that allow for efficient manipulation and evaluation. Understanding these methods, especially in the context of textual data analysis, is essential for any  data scientist."
   ]
  },
  {
   "cell_type": "markdown",
   "id": "third-fundamentals",
   "metadata": {},
   "source": [
    "### The `.split()`  function"
   ]
  },
  {
   "cell_type": "markdown",
   "id": "purple-activation",
   "metadata": {},
   "source": [
    "This method will dissect a string into a list, usually based on spaces, but we can specify other delimiters as well."
   ]
  },
  {
   "cell_type": "code",
   "execution_count": 2,
   "id": "center-secretary",
   "metadata": {},
   "outputs": [
    {
     "name": "stdout",
     "output_type": "stream",
     "text": [
      "['Unity', 'is', 'strength,', 'division', 'is', 'weakness.']\n"
     ]
    }
   ],
   "source": [
    "proverb = \"Unity is strength, division is weakness.\"\n",
    "\n",
    "words = proverb.split()\n",
    "print(words)"
   ]
  },
  {
   "cell_type": "code",
   "execution_count": 3,
   "id": "suited-hometown",
   "metadata": {},
   "outputs": [
    {
     "name": "stdout",
     "output_type": "stream",
     "text": [
      "['Unity is strength', 'division is weakness.']\n"
     ]
    }
   ],
   "source": [
    "# Using a different delimiter\n",
    "phrases = proverb.split(', ')\n",
    "\n",
    "print(phrases) "
   ]
  },
  {
   "cell_type": "markdown",
   "id": "spiritual-press",
   "metadata": {},
   "source": [
    "### The `.join() function`"
   ]
  },
  {
   "cell_type": "markdown",
   "id": "geographic-tomorrow",
   "metadata": {},
   "source": [
    "The opposite of `.split()`, `.join()` allows you to combine a list of strings into a single string using a specified delimiter."
   ]
  },
  {
   "cell_type": "code",
   "execution_count": 4,
   "id": "bigger-consortium",
   "metadata": {},
   "outputs": [
    {
     "name": "stdout",
     "output_type": "stream",
     "text": [
      "Nigeria, Kenya, Tanzania\n"
     ]
    }
   ],
   "source": [
    "african_countries = [\"Nigeria\", \"Kenya\", \"Tanzania\"]\n",
    "sentence = ', '.join(african_countries)\n",
    "print(sentence) "
   ]
  },
  {
   "cell_type": "markdown",
   "id": "according-company",
   "metadata": {},
   "source": [
    "The `.join()` is fairly used to navigate through files in our computer by join paths. For instance, we can access the path to the current working directory and it is rendered as a string."
   ]
  },
  {
   "cell_type": "code",
   "execution_count": 5,
   "id": "protecting-vatican",
   "metadata": {},
   "outputs": [
    {
     "data": {
      "text/plain": [
       "'/home/rockefeller/Desktop/Teachings_n_Talks/Teachings/AIMSCmr_2324/Part4_TextData'"
      ]
     },
     "execution_count": 5,
     "metadata": {},
     "output_type": "execute_result"
    }
   ],
   "source": [
    "import os\n",
    "os.getcwd()"
   ]
  },
  {
   "cell_type": "markdown",
   "id": "responsible-helicopter",
   "metadata": {},
   "source": [
    "We can use that path to navigate to a specific folder by a concatenation operation"
   ]
  },
  {
   "cell_type": "code",
   "execution_count": 6,
   "id": "increased-italic",
   "metadata": {},
   "outputs": [
    {
     "data": {
      "text/plain": [
       "'/home/rockefeller/Desktop/Teachings_n_Talks/Teachings/AIMSCmr_2324/Part4_TextData/data/'"
      ]
     },
     "execution_count": 6,
     "metadata": {},
     "output_type": "execute_result"
    }
   ],
   "source": [
    "data_folder = 'data/'\n",
    "\n",
    "path_to_data = \"/\".join([os.getcwd() , data_folder])\n",
    "path_to_data"
   ]
  },
  {
   "cell_type": "markdown",
   "id": "least-organization",
   "metadata": {},
   "source": [
    "### The `.replace()` function"
   ]
  },
  {
   "cell_type": "markdown",
   "id": "incorrect-repository",
   "metadata": {},
   "source": [
    "This method is handy when you need to replace a substring with another substring."
   ]
  },
  {
   "cell_type": "code",
   "execution_count": 7,
   "id": "manual-chemistry",
   "metadata": {},
   "outputs": [
    {
     "name": "stdout",
     "output_type": "stream",
     "text": [
      "How are you!\n"
     ]
    }
   ],
   "source": [
    "swahili_greeting = \"Habari gani!\"\n",
    "\n",
    "english_translation = swahili_greeting.replace(\"Habari gani\", \"How are you\")\n",
    "\n",
    "print(english_translation) "
   ]
  },
  {
   "cell_type": "markdown",
   "id": "earlier-satisfaction",
   "metadata": {},
   "source": [
    "### The `.startswith() & .endswith()` functions"
   ]
  },
  {
   "cell_type": "markdown",
   "id": "local-joseph",
   "metadata": {},
   "source": [
    "These methods allow for checking if a string starts or ends with a specified substring.\n"
   ]
  },
  {
   "cell_type": "code",
   "execution_count": 8,
   "id": "varied-society",
   "metadata": {},
   "outputs": [
    {
     "name": "stdout",
     "output_type": "stream",
     "text": [
      "False\n"
     ]
    }
   ],
   "source": [
    "song = \"Jaraba Africa !\"\n",
    "\n",
    "print(song.startswith(\"Africa\"))  "
   ]
  },
  {
   "cell_type": "code",
   "execution_count": 9,
   "id": "outdoor-stroke",
   "metadata": {},
   "outputs": [
    {
     "name": "stdout",
     "output_type": "stream",
     "text": [
      "False\n"
     ]
    }
   ],
   "source": [
    "print(song.endswith(\"Africa\"))       "
   ]
  },
  {
   "cell_type": "markdown",
   "id": "utility-respect",
   "metadata": {},
   "source": [
    "### The `.find() & .rfind()` functions"
   ]
  },
  {
   "cell_type": "markdown",
   "id": "exceptional-missouri",
   "metadata": {},
   "source": [
    "Use `.find()` to locate the position of a substring in a string. If the substring isn't found, it returns -1. `.rfind()` does the same, but starts from the end of the string."
   ]
  },
  {
   "cell_type": "code",
   "execution_count": 10,
   "id": "medium-fancy",
   "metadata": {},
   "outputs": [
    {
     "name": "stdout",
     "output_type": "stream",
     "text": [
      "8\n"
     ]
    }
   ],
   "source": [
    "rhyme = \"African sunsets are a sight to behold.\"\n",
    "position = rhyme.find(\"sunsets\")\n",
    "print(position) "
   ]
  },
  {
   "cell_type": "code",
   "execution_count": 11,
   "id": "efficient-notification",
   "metadata": {},
   "outputs": [
    {
     "name": "stdout",
     "output_type": "stream",
     "text": [
      "20\n"
     ]
    }
   ],
   "source": [
    "last_occurrence = rhyme.rfind(\"a\")\n",
    "print(last_occurrence) "
   ]
  },
  {
   "cell_type": "markdown",
   "id": "referenced-mandate",
   "metadata": {},
   "source": [
    "### The `.lower() & .upper()` functions"
   ]
  },
  {
   "cell_type": "markdown",
   "id": "amber-tyler",
   "metadata": {},
   "source": [
    "These are used for changing the case of the string."
   ]
  },
  {
   "cell_type": "code",
   "execution_count": 12,
   "id": "secret-africa",
   "metadata": {},
   "outputs": [
    {
     "name": "stdout",
     "output_type": "stream",
     "text": [
      "african rhythms\n"
     ]
    }
   ],
   "source": [
    "phrase = \"African Rhythms\"\n",
    "print(phrase.lower())  "
   ]
  },
  {
   "cell_type": "code",
   "execution_count": 13,
   "id": "chubby-gardening",
   "metadata": {},
   "outputs": [
    {
     "name": "stdout",
     "output_type": "stream",
     "text": [
      "AFRICAN RHYTHMS\n"
     ]
    }
   ],
   "source": [
    "print(phrase.upper())  "
   ]
  },
  {
   "cell_type": "markdown",
   "id": "guilty-particle",
   "metadata": {},
   "source": [
    "### The ` .strip(), .rstrip(), & .lstrip()` functions"
   ]
  },
  {
   "cell_type": "markdown",
   "id": "suspected-gates",
   "metadata": {},
   "source": [
    "These methods are used to trim whitespace or specified characters from the beginning, end, or both sides of a string."
   ]
  },
  {
   "cell_type": "code",
   "execution_count": 14,
   "id": "executive-circumstances",
   "metadata": {},
   "outputs": [
    {
     "name": "stdout",
     "output_type": "stream",
     "text": [
      "Timbuktu\n"
     ]
    }
   ],
   "source": [
    "data_entry = \"    Timbuktu   \"\n",
    "print(data_entry.strip())"
   ]
  },
  {
   "cell_type": "code",
   "execution_count": 15,
   "id": "supported-blackjack",
   "metadata": {},
   "outputs": [
    {
     "name": "stdout",
     "output_type": "stream",
     "text": [
      "This is an example\n"
     ]
    }
   ],
   "source": [
    "extra_chars = \"XYZThis is an exampleXYZ\"\n",
    "print(extra_chars.strip('XYZ')) "
   ]
  },
  {
   "cell_type": "markdown",
   "id": "split-explorer",
   "metadata": {},
   "source": [
    "## Tokenization Methods from Scratch"
   ]
  },
  {
   "cell_type": "markdown",
   "id": "dominant-mumbai",
   "metadata": {},
   "source": [
    "Tokenization is the process of splitting a large paragraph into sentences or words. Essentially, it involves breaking up text into units, known as tokens.\n",
    "\n",
    "* **Why Tokenization?**\n",
    "In languages and dialects across Africa, from Swahili in Tanzania to Zulu in South Africa or Yoruba in Nigeria, words often carry a lot of weight. They can represent culture, traditions, and histories. Thus, when analyzing text data from such rich languages, it's crucial to break it down accurately to understand the essence of each token.\n",
    "\n",
    "* **Word Tokenization**\n",
    "The most basic form of tokenization is word tokenization where we break paragraphs into individual words.\n"
   ]
  },
  {
   "cell_type": "code",
   "execution_count": 16,
   "id": "racial-nickel",
   "metadata": {},
   "outputs": [
    {
     "name": "stdout",
     "output_type": "stream",
     "text": [
      "['Habari', 'yako', 'rafiki?']\n"
     ]
    }
   ],
   "source": [
    "def word_tokenize(text):\n",
    "    # Splitting by space\n",
    "    return text.split()\n",
    "\n",
    "\n",
    "sentence = \"Habari yako rafiki?\"\n",
    "tokens = word_tokenize(sentence)\n",
    "print(tokens) \n"
   ]
  },
  {
   "cell_type": "markdown",
   "id": "hydraulic-ontario",
   "metadata": {},
   "source": [
    "### Sentence Tokenization"
   ]
  },
  {
   "cell_type": "markdown",
   "id": "assured-yahoo",
   "metadata": {},
   "source": [
    "Here, instead of words, we aim to split the paragraphs into individual sentences."
   ]
  },
  {
   "cell_type": "code",
   "execution_count": 17,
   "id": "decent-nickname",
   "metadata": {},
   "outputs": [
    {
     "name": "stdout",
     "output_type": "stream",
     "text": [
      "['Karibu Tanzania', 'Je, unapenda safari', 'Ndiyo, napenda sana']\n"
     ]
    }
   ],
   "source": [
    "import re\n",
    "def sentence_tokenize(text):\n",
    "    # Splitting by full stop, question mark, and exclamation mark\n",
    "    return [sent.strip() for sent in re.split('[.!?]', text) if sent]\n",
    "\n",
    "\n",
    "paragraph = \"Karibu Tanzania! Je, unapenda safari? Ndiyo, napenda sana.\"\n",
    "\n",
    "tokens = sentence_tokenize(paragraph)\n",
    "print(tokens)  "
   ]
  },
  {
   "cell_type": "markdown",
   "id": "accessible-living",
   "metadata": {},
   "source": [
    "## Basic Regex Operations"
   ]
  },
  {
   "cell_type": "markdown",
   "id": "royal-technical",
   "metadata": {},
   "source": [
    "Regular expressions allow us to perform complex searches in a text, making them indispensable in text processing tasks. Let's discuss its basic operations, especially contextualized in the African setting."
   ]
  },
  {
   "cell_type": "markdown",
   "id": "driving-integration",
   "metadata": {},
   "source": [
    "### Searching for Patterns\n"
   ]
  },
  {
   "cell_type": "markdown",
   "id": "developmental-pledge",
   "metadata": {},
   "source": [
    "Regex can help search for specific patterns or words in a text."
   ]
  },
  {
   "cell_type": "code",
   "execution_count": 18,
   "id": "motivated-wisconsin",
   "metadata": {},
   "outputs": [
    {
     "name": "stdout",
     "output_type": "stream",
     "text": [
      "['capital', 'capital']\n"
     ]
    }
   ],
   "source": [
    "import re\n",
    "\n",
    "def find_pattern(pattern, text):\n",
    "    return re.findall(pattern, text)\n",
    "\n",
    "text = \"Nairobi is the capital of Kenya. Kampala is the capital of Uganda.\"\n",
    "\n",
    "pattern = \"capital\"\n",
    "matches = find_pattern(pattern, text)\n",
    "\n",
    "print(matches) \n"
   ]
  },
  {
   "cell_type": "markdown",
   "id": "constitutional-champion",
   "metadata": {},
   "source": [
    "### Character Sets\n"
   ]
  },
  {
   "cell_type": "markdown",
   "id": "qualified-alliance",
   "metadata": {},
   "source": [
    "You can search for any character from a specific set."
   ]
  },
  {
   "cell_type": "code",
   "execution_count": 19,
   "id": "clear-replication",
   "metadata": {},
   "outputs": [
    {
     "name": "stdout",
     "output_type": "stream",
     "text": [
      "['Kampala']\n"
     ]
    }
   ],
   "source": [
    "pattern = \"[NK]ampala\" \n",
    "matches = find_pattern(pattern, text)\n",
    "\n",
    "print(matches)  \n"
   ]
  },
  {
   "cell_type": "markdown",
   "id": "nearby-penguin",
   "metadata": {},
   "source": [
    "Here, `[NK]ampala` will match strings that start with either `'N'` or `'K'` followed by `'ampala'`."
   ]
  },
  {
   "cell_type": "markdown",
   "id": "structured-pharmacology",
   "metadata": {},
   "source": [
    "### Wildcard Characters\n"
   ]
  },
  {
   "cell_type": "markdown",
   "id": "above-supply",
   "metadata": {},
   "source": [
    "The dot `.` is a wildcard character that matches any character (except for a newline)."
   ]
  },
  {
   "cell_type": "code",
   "execution_count": 20,
   "id": "accessible-consumer",
   "metadata": {},
   "outputs": [
    {
     "name": "stdout",
     "output_type": "stream",
     "text": [
      "['Kampala']\n"
     ]
    }
   ],
   "source": [
    "pattern = \".ampala\"\n",
    "\n",
    "matches = find_pattern(pattern, text)\n",
    "\n",
    "print(matches)  \n"
   ]
  },
  {
   "cell_type": "markdown",
   "id": "resident-occasions",
   "metadata": {},
   "source": [
    "### Replacing Text"
   ]
  },
  {
   "cell_type": "markdown",
   "id": "sixth-active",
   "metadata": {},
   "source": [
    "\n",
    "Regex can also be used to replace specific patterns in a string."
   ]
  },
  {
   "cell_type": "code",
   "execution_count": 21,
   "id": "ceramic-enemy",
   "metadata": {},
   "outputs": [
    {
     "name": "stdout",
     "output_type": "stream",
     "text": [
      "Nairobi is the hub of Kenya. Kampala is the hub of Uganda.\n"
     ]
    }
   ],
   "source": [
    "def replace_pattern(pattern, replacement, text):\n",
    "    return re.sub(pattern, replacement, text)\n",
    "\n",
    "new_text = replace_pattern(\"capital\", \"hub\", text)\n",
    "print(new_text)  \n"
   ]
  },
  {
   "cell_type": "code",
   "execution_count": null,
   "id": "uniform-velvet",
   "metadata": {},
   "outputs": [],
   "source": []
  }
 ],
 "metadata": {
  "kernelspec": {
   "display_name": "Python 3",
   "language": "python",
   "name": "python3"
  },
  "language_info": {
   "codemirror_mode": {
    "name": "ipython",
    "version": 3
   },
   "file_extension": ".py",
   "mimetype": "text/x-python",
   "name": "python",
   "nbconvert_exporter": "python",
   "pygments_lexer": "ipython3",
   "version": "3.9.2"
  }
 },
 "nbformat": 4,
 "nbformat_minor": 5
}
