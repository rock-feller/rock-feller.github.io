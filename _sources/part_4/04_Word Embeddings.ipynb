{
 "cells": [
  {
   "cell_type": "markdown",
   "id": "sixth-voluntary",
   "metadata": {},
   "source": [
    "# Chapter 4: Word Embeddings"
   ]
  },
  {
   "cell_type": "markdown",
   "id": "animated-superintendent",
   "metadata": {},
   "source": [
    "Language, in its essence, is a beautiful collection of words coming together to communicate thoughts, emotions, and facts. But how do we translate that intricacy into a format that machines can understand? Let's embark on a journey to explore the numerical representation of words.\n",
    "\n",
    "In this section, we will understand why representing words numerically is crucial for machine learning models. The beauty of language lies in its diversity and depth. However,computers understand **numbers, not words**. Now, the question is:\n",
    "\n",
    "\n",
    "\n",
    "* How can we bridge this gap between human language and machine processing? \n",
    "\n",
    "* How then do we get a computer to understand the sentiment behind a statement like\n",
    "\n",
    "**`\"The sunset at the Maasai Mara is breathtaking!\"?`**\n",
    "\n",
    "The answer lies in word representation."
   ]
  },
  {
   "cell_type": "markdown",
   "id": "behavioral-december",
   "metadata": {},
   "source": [
    "**Learning Objectives:**"
   ]
  },
  {
   "cell_type": "markdown",
   "id": "played-sense",
   "metadata": {},
   "source": [
    "* Feature Extraction from Text Data\n",
    "* OneHot Encoder, LabelEncoder\n",
    "* WordVec library"
   ]
  },
  {
   "cell_type": "markdown",
   "id": "differential-milton",
   "metadata": {},
   "source": [
    "## Why is Numerical Representation Essential?"
   ]
  },
  {
   "cell_type": "markdown",
   "id": "flying-strategy",
   "metadata": {},
   "source": [
    "Before diving into the complexities of numerical word representation, let's discuss why it's necessary.\n"
   ]
  },
  {
   "cell_type": "code",
   "execution_count": 2,
   "id": "heavy-inventory",
   "metadata": {},
   "outputs": [
    {
     "data": {
      "text/plain": [
       "['0b1001000',\n",
       " '0b1100001',\n",
       " '0b1101011',\n",
       " '0b1110101',\n",
       " '0b1101110',\n",
       " '0b1100001',\n",
       " '0b100000',\n",
       " '0b1001101',\n",
       " '0b1100001',\n",
       " '0b1110100']"
      ]
     },
     "execution_count": 2,
     "metadata": {},
     "output_type": "execute_result"
    }
   ],
   "source": [
    "# Consider the following Swahili sentence:\n",
    "sentence = \"Hakuna Matata! Ni lugha ya Kiswahili.\"\n",
    "\n",
    "\n",
    "\n",
    "# Now, let's transform this sentence into a format that's inherently numerical: binary.\n",
    "binary_representation = [bin(ord(char)) for char in sentence]\n",
    "\n",
    "\n",
    "\n",
    "# Here's the binary representation of the first few characters of our sentence:\n",
    "binary_representation[:10]\n"
   ]
  },
  {
   "cell_type": "markdown",
   "id": "posted-nation",
   "metadata": {},
   "source": [
    "From the output above, we've successfully transformed our `Swahili` text into a binary format. While this demonstrates that any text can be turned into numbers, it's merely a direct translation of characters to their binary values. \n",
    "\n",
    "This doesn't help machines \"understand\" the sentiment or context behind `\"Hakuna Matata\"`, not even to mention `Ni lugha ya Kiswahili.` The question now is, how can we represent words such that their meaning, context, and nuances are taken into account? This is where the world of **word representation** comes handy.\n"
   ]
  },
  {
   "cell_type": "markdown",
   "id": "governmental-richardson",
   "metadata": {},
   "source": [
    "## Navigating the Challenges of Textual Data"
   ]
  },
  {
   "cell_type": "markdown",
   "id": "severe-present",
   "metadata": {},
   "source": [
    "Representing words numerically isn't straightforward. Let's outline the challenges we need to navigate:"
   ]
  },
  {
   "cell_type": "markdown",
   "id": "eleven-medicine",
   "metadata": {},
   "source": [
    "### 1. **Variability**:"
   ]
  },
  {
   "cell_type": "markdown",
   "id": "medical-hammer",
   "metadata": {},
   "source": [
    "Words are chameleons, changing meanings based on context.  For example:\n",
    "\n",
    "\n",
    "* **\"Current:\"**\n",
    "    +  `The current flowed through the wire`is pointing to the flow of electricity.\n",
    "    \n",
    "    + `The river's current was strong,` indicating the flow or direction of water.\n",
    "    \n",
    "    \n",
    "    \n",
    "* **\"Light:\"** \n",
    "    + `The box was very light`\" meaning it's not heavy.\n",
    "    + `The room was filled with bright light` is pointing to the brightness or luminescence.\n",
    "\n",
    "    \n",
    "* **\"Leaves:\"**\n",
    "    + `The leaves turned orange in autumn` highlights the parts of plants or trees.\n",
    "    + `She leaves for her trip tomorrow` meaning she departs."
   ]
  },
  {
   "cell_type": "markdown",
   "id": "completed-thanks",
   "metadata": {},
   "source": [
    "### 2. **Volume**: "
   ]
  },
  {
   "cell_type": "markdown",
   "id": "satisfied-outline",
   "metadata": {},
   "source": [
    "The lexicon of languages is vast and varied. For example:\n",
    "\n",
    "   + Kiswahili uses `\"namba\"` for `\"number\"`, which is reminiscent of `\"number\"` in English and `\"numéro\"` in French.\n",
    "   \n",
    "   \n",
    "   + The word `\"sifuri\"` means `zero` in Kiswahili, showing influence from Arabic's `\"sifr\"`.\n",
    "   \n",
    "   \n",
    "   + The Kiswahili word for `\"book\"` is `\"kitabu\"`, which shares roots with the Arabic word `\"kitab\"`.\n",
    "   \n",
    "   \n",
    "   + `\"Bendera\"`, the word for `\"flag\"` in Kiswahili, can be traced back to the Portuguese word `\"bandeira\"`."
   ]
  },
  {
   "cell_type": "markdown",
   "id": "opened-diameter",
   "metadata": {},
   "source": [
    "### 3. **Structure**: "
   ]
  },
  {
   "cell_type": "markdown",
   "id": "prepared-customer",
   "metadata": {},
   "source": [
    "Unlike neat columns of numbers, text is messy. Sentences can be short or span multiple lines, and the order of words can flip the meaning entirely.\n",
    "\n",
    "+ **Sentence Length:** \n",
    "    - `Short:` \"She wept.\"\n",
    "    - `Long:` \"With a heavy heart, gazing out at the pouring rain, she wept silently, thinking of all the memories they had shared.\"\n",
    "\n",
    "\n",
    "\n",
    "+ **Word Order:**\n",
    "\n",
    "    - `Original:` \"Dogs chase cats.\"\n",
    "    - `Flipped:` \"Cats chase dogs.\"\n",
    "\n",
    "\n",
    "\n",
    "+ **Modifiers and Clarity:**\n",
    "\n",
    "    - `Ambiguous:` \"I saw the man with the telescope.\"\n",
    "    - `Clear Structures:`\n",
    "    \n",
    "        + \"Using my telescope, I saw the man.\"\n",
    "        + \"I saw the man who had a telescope.\""
   ]
  },
  {
   "cell_type": "markdown",
   "id": "difficult-skirt",
   "metadata": {},
   "source": [
    "### 4. **Nuances**: "
   ]
  },
  {
   "cell_type": "markdown",
   "id": "minus-benefit",
   "metadata": {},
   "source": [
    "The subtleties in language, like tone, dialects, or cultural references, can be profound. A simple greeting can be factual or dripping in sarcasm, depending on the tone.\n",
    "    \n",
    "* **Dialects:**\n",
    "\n",
    "    * Statement: `\"I want to buy maize.\"`\n",
    "        - English in Kenya: \"I want to buy maize.\"\n",
    "        - English in Nigeria: \"I want to buy corn.\n",
    "\n",
    "* **Cultural References:**\n",
    "\n",
    "    * Statement: `\"He is the Kipchoge of business.\"`\n",
    "        - For those familiar with Eliud Kipchoge, the Kenyan long-distance runner, this implies excellence in business.\n",
    "        - Someone unfamiliar with Kipchoge might miss the significance.\n",
    "* **Euphemisms:**\n",
    "\n",
    "    * Statement: `\"He has joined the ancestors.\"`\n",
    "        - This is an African way of saying `\"He has passed on or died.\"`"
   ]
  },
  {
   "cell_type": "markdown",
   "id": "allied-keyboard",
   "metadata": {},
   "source": [
    "## Basic Word Representations:"
   ]
  },
  {
   "cell_type": "markdown",
   "id": "nonprofit-hundred",
   "metadata": {},
   "source": [
    "\n",
    "Before the rise of advanced word embedding techniques, one of the primary ways to represent words numerically was through one-hot encoding. It's a simple, yet effective method, especially when dealing with a limited vocabulary.\n",
    "Here below, we will explore some of its nuances.\n"
   ]
  },
  {
   "cell_type": "markdown",
   "id": "indirect-liberia",
   "metadata": {},
   "source": [
    "### One-hot Encoding"
   ]
  },
  {
   "cell_type": "markdown",
   "id": "lucky-turning",
   "metadata": {},
   "source": [
    "At a high level, one-hot encoding turns categorical variables into a binary matrix. Think of it as having a unique switch for every word in a vocabulary. A particular word's switch is turned on (set to 1), while the rest remain off (set to 0)."
   ]
  },
  {
   "cell_type": "markdown",
   "id": "operational-hanging",
   "metadata": {},
   "source": [
    "Here, we'll consider some iconic African animals to illustrate the concept."
   ]
  },
  {
   "cell_type": "code",
   "execution_count": 3,
   "id": "configured-recognition",
   "metadata": {},
   "outputs": [],
   "source": [
    "# Initializing our sample dataset\n",
    "\n",
    "animals = [\"lion\", \"elephant\", \"giraffe\", \"cheetah\", \"hippo\"]\n"
   ]
  },
  {
   "cell_type": "markdown",
   "id": "fatal-benefit",
   "metadata": {},
   "source": [
    "Now, let's attempt to represent the animal `'lion'` using one-hot encoding. For the `\"lion\"`, its designated switch will be turned on, and all others will be off."
   ]
  },
  {
   "cell_type": "code",
   "execution_count": 4,
   "id": "excited-stupid",
   "metadata": {},
   "outputs": [
    {
     "data": {
      "text/plain": [
       "{'lion': [1, 0, 0, 0, 0],\n",
       " 'elephant': [0, 1, 0, 0, 0],\n",
       " 'giraffe': [0, 0, 1, 0, 0],\n",
       " 'cheetah': [0, 0, 0, 1, 0],\n",
       " 'hippo': [0, 0, 0, 0, 1]}"
      ]
     },
     "execution_count": 4,
     "metadata": {},
     "output_type": "execute_result"
    }
   ],
   "source": [
    "encoding = {animal: [1 if animal == target else 0 for target in animals] for animal in animals}\n",
    "\n",
    "encoding"
   ]
  },
  {
   "cell_type": "code",
   "execution_count": 5,
   "id": "developing-design",
   "metadata": {},
   "outputs": [
    {
     "data": {
      "text/plain": [
       "[1, 0, 0, 0, 0]"
      ]
     },
     "execution_count": 5,
     "metadata": {},
     "output_type": "execute_result"
    }
   ],
   "source": [
    "encoding[\"lion\"]"
   ]
  },
  {
   "cell_type": "code",
   "execution_count": 6,
   "id": "herbal-reform",
   "metadata": {},
   "outputs": [
    {
     "data": {
      "text/plain": [
       "[0, 1, 0, 0, 0]"
      ]
     },
     "execution_count": 6,
     "metadata": {},
     "output_type": "execute_result"
    }
   ],
   "source": [
    "encoding[\"elephant\"]"
   ]
  },
  {
   "cell_type": "code",
   "execution_count": 7,
   "id": "vertical-stadium",
   "metadata": {},
   "outputs": [
    {
     "data": {
      "text/plain": [
       "[0, 0, 0, 1, 0]"
      ]
     },
     "execution_count": 7,
     "metadata": {},
     "output_type": "execute_result"
    }
   ],
   "source": [
    "encoding[\"cheetah\"]"
   ]
  },
  {
   "cell_type": "markdown",
   "id": "integrated-dating",
   "metadata": {},
   "source": [
    ">#### <font color=#800080>Q:</font> <a class=\"anchor\" id=\"Task-1\"></a>"
   ]
  },
  {
   "cell_type": "markdown",
   "id": "worthy-juvenile",
   "metadata": {},
   "source": [
    "* What could be the shortcomings of One-hot encoder?"
   ]
  },
  {
   "cell_type": "markdown",
   "id": "economic-mattress",
   "metadata": {},
   "source": [
    "###  LabelEncoder"
   ]
  },
  {
   "cell_type": "markdown",
   "id": "straight-binding",
   "metadata": {},
   "source": [
    "The `LabelEncoder` provides a simple way to convert categorical labels into a range of `[0, n_classes - 1]`. Let's see it in action with an example."
   ]
  },
  {
   "cell_type": "code",
   "execution_count": 11,
   "id": "ranging-agriculture",
   "metadata": {},
   "outputs": [
    {
     "data": {
      "text/plain": [
       "array([1, 0, 2, 1, 2])"
      ]
     },
     "execution_count": 11,
     "metadata": {},
     "output_type": "execute_result"
    }
   ],
   "source": [
    "from sklearn.preprocessing import LabelEncoder\n",
    "\n",
    "\n",
    "animals = ['eagle', 'ant', 'giraffe', 'eagle', 'giraffe']\n",
    "\n",
    "\n",
    "animals_labels  = LabelEncoder().fit_transform(animals)\n",
    "\n",
    "\n",
    "animals_labels"
   ]
  },
  {
   "cell_type": "markdown",
   "id": "polyphonic-reproduction",
   "metadata": {},
   "source": [
    "Here, we've transformed our list of animals into numerical labels. Each unique animal is assigned a unique number. It's a straightforward mapping but has its limitations when used directly in certain machine learning models.\n"
   ]
  },
  {
   "cell_type": "markdown",
   "id": "therapeutic-local",
   "metadata": {},
   "source": [
    "### OneHotEncoder:"
   ]
  },
  {
   "cell_type": "markdown",
   "id": "resident-train",
   "metadata": {},
   "source": [
    "While `LabelEncoder` gives a single number for each category, `OneHotEncoder` represents each category as a binary vector. This is particularly useful for algorithms that might misunderstand numerical closeness as a form of similarity.\n"
   ]
  },
  {
   "cell_type": "code",
   "execution_count": 13,
   "id": "corresponding-strain",
   "metadata": {},
   "outputs": [
    {
     "data": {
      "text/plain": [
       "array([[0., 1., 0.],\n",
       "       [1., 0., 0.],\n",
       "       [0., 0., 1.],\n",
       "       [0., 1., 0.],\n",
       "       [0., 0., 1.]])"
      ]
     },
     "execution_count": 13,
     "metadata": {},
     "output_type": "execute_result"
    }
   ],
   "source": [
    "from sklearn.preprocessing import OneHotEncoder \n",
    "\n",
    "# Reshape animal_labels to be a 2D array, necessary for OneHotEncoder\n",
    "animal_labels_reshaped = animals_labels.reshape(-1, 1)\n",
    "\n",
    "# Using OneHotEncoder\n",
    "onehotencoder = OneHotEncoder()\n",
    "animal_onehot = onehotencoder.fit_transform(animal_labels_reshaped).toarray()\n",
    "\n",
    "animal_onehot\n"
   ]
  },
  {
   "cell_type": "markdown",
   "id": "concrete-recognition",
   "metadata": {},
   "source": [
    "### Bag of words"
   ]
  },
  {
   "cell_type": "markdown",
   "id": "sweet-updating",
   "metadata": {},
   "source": [
    "Bag of words is a very popular model for feature extraction from text data. It is the process of converting the text data into term vectors. Term vectors are algebraic models used to convert the text into numbers. The vector for a document $D$ can be mathematically represented as:\n",
    "\n",
    "$$D_{vs} =  \\{ W_{D1} + W_{D2} + W_{D3} + \\dots + W_{D1n} \\}$$"
   ]
  },
  {
   "cell_type": "markdown",
   "id": "planned-court",
   "metadata": {},
   "source": [
    "$W_{D}$ Stands for distinct words and the weights for each words is the frequency of the word in that\n",
    "document."
   ]
  },
  {
   "cell_type": "markdown",
   "id": "shaped-republican",
   "metadata": {},
   "source": [
    "We will first manually perform the bag of words model to understand the working in detail. Consider the sample corpus:"
   ]
  },
  {
   "cell_type": "code",
   "execution_count": 14,
   "id": "bulgarian-andrews",
   "metadata": {},
   "outputs": [],
   "source": [
    "docA = \"We live for the freedom we love our freedom\"\n",
    "\n",
    "docB = \"I feel happy enjoying freedom\""
   ]
  },
  {
   "cell_type": "markdown",
   "id": "increased-sweet",
   "metadata": {},
   "source": [
    "The bag of words converts the text into word vectors and the weights are assigned as per the frequency of occurrence in the document. So let us now perform word tokenization to this set:"
   ]
  },
  {
   "cell_type": "code",
   "execution_count": 15,
   "id": "hollow-motel",
   "metadata": {},
   "outputs": [],
   "source": [
    "bowA = docA.split(\" \")\n",
    "bowB = docB.split(\" \")"
   ]
  },
  {
   "cell_type": "code",
   "execution_count": 16,
   "id": "behavioral-reply",
   "metadata": {},
   "outputs": [
    {
     "data": {
      "text/plain": [
       "['We', 'live', 'for', 'the', 'freedom', 'we', 'love', 'our', 'freedom']"
      ]
     },
     "execution_count": 16,
     "metadata": {},
     "output_type": "execute_result"
    }
   ],
   "source": [
    "bowA"
   ]
  },
  {
   "cell_type": "code",
   "execution_count": 17,
   "id": "seventh-bridge",
   "metadata": {},
   "outputs": [
    {
     "data": {
      "text/plain": [
       "['I', 'feel', 'happy', 'enjoying', 'freedom']"
      ]
     },
     "execution_count": 17,
     "metadata": {},
     "output_type": "execute_result"
    }
   ],
   "source": [
    "bowB"
   ]
  },
  {
   "cell_type": "markdown",
   "id": "covered-money",
   "metadata": {},
   "source": [
    "What we have now is the list of words from each document. The total number of columns for the resultant vector would be the length of the distinct words in all the documents. So our next step is to find all the distinct documents:"
   ]
  },
  {
   "cell_type": "code",
   "execution_count": 18,
   "id": "sensitive-nerve",
   "metadata": {},
   "outputs": [
    {
     "data": {
      "text/plain": [
       "{'I',\n",
       " 'We',\n",
       " 'enjoying',\n",
       " 'feel',\n",
       " 'for',\n",
       " 'freedom',\n",
       " 'happy',\n",
       " 'live',\n",
       " 'love',\n",
       " 'our',\n",
       " 'the',\n",
       " 'we'}"
      ]
     },
     "execution_count": 18,
     "metadata": {},
     "output_type": "execute_result"
    }
   ],
   "source": [
    "wordSet= set(bowA).union(set(bowB))\n",
    "wordSet"
   ]
  },
  {
   "cell_type": "markdown",
   "id": "german-attraction",
   "metadata": {},
   "source": [
    "We will then create a dictionary to hold the count of the words and then count the term frequency for each words:"
   ]
  },
  {
   "cell_type": "code",
   "execution_count": 19,
   "id": "current-railway",
   "metadata": {
    "scrolled": true
   },
   "outputs": [
    {
     "data": {
      "text/plain": [
       "{'We': 0,\n",
       " 'the': 0,\n",
       " 'we': 0,\n",
       " 'live': 0,\n",
       " 'happy': 0,\n",
       " 'for': 0,\n",
       " 'enjoying': 0,\n",
       " 'I': 0,\n",
       " 'freedom': 0,\n",
       " 'our': 0,\n",
       " 'feel': 0,\n",
       " 'love': 0}"
      ]
     },
     "execution_count": 19,
     "metadata": {},
     "output_type": "execute_result"
    }
   ],
   "source": [
    "wordDictA = dict.fromkeys(wordSet, 0)\n",
    "wordDictB = dict.fromkeys(wordSet, 0)\n",
    "wordDictA"
   ]
  },
  {
   "cell_type": "code",
   "execution_count": 20,
   "id": "strategic-brooklyn",
   "metadata": {},
   "outputs": [
    {
     "data": {
      "text/plain": [
       "{'We': 1,\n",
       " 'the': 1,\n",
       " 'we': 1,\n",
       " 'live': 1,\n",
       " 'happy': 0,\n",
       " 'for': 1,\n",
       " 'enjoying': 0,\n",
       " 'I': 0,\n",
       " 'freedom': 2,\n",
       " 'our': 1,\n",
       " 'feel': 0,\n",
       " 'love': 1}"
      ]
     },
     "execution_count": 20,
     "metadata": {},
     "output_type": "execute_result"
    }
   ],
   "source": [
    "for word in bowA:\n",
    "    wordDictA[word]+=1\n",
    "    \n",
    "wordDictA"
   ]
  },
  {
   "cell_type": "code",
   "execution_count": 21,
   "id": "impaired-terminal",
   "metadata": {},
   "outputs": [],
   "source": [
    "for word in bowB:\n",
    "    wordDictB[word]+=1"
   ]
  },
  {
   "cell_type": "markdown",
   "id": "ordinary-skirt",
   "metadata": {},
   "source": [
    "Finally, let us convert them into matrices:"
   ]
  },
  {
   "cell_type": "code",
   "execution_count": 22,
   "id": "corrected-sally",
   "metadata": {
    "scrolled": true
   },
   "outputs": [
    {
     "data": {
      "text/plain": [
       "'We live for the freedom we love our freedom'"
      ]
     },
     "execution_count": 22,
     "metadata": {},
     "output_type": "execute_result"
    }
   ],
   "source": [
    "docA"
   ]
  },
  {
   "cell_type": "code",
   "execution_count": 23,
   "id": "assisted-operations",
   "metadata": {
    "scrolled": true
   },
   "outputs": [
    {
     "data": {
      "text/html": [
       "<div>\n",
       "<style scoped>\n",
       "    .dataframe tbody tr th:only-of-type {\n",
       "        vertical-align: middle;\n",
       "    }\n",
       "\n",
       "    .dataframe tbody tr th {\n",
       "        vertical-align: top;\n",
       "    }\n",
       "\n",
       "    .dataframe thead th {\n",
       "        text-align: right;\n",
       "    }\n",
       "</style>\n",
       "<table border=\"1\" class=\"dataframe\">\n",
       "  <thead>\n",
       "    <tr style=\"text-align: right;\">\n",
       "      <th></th>\n",
       "      <th>We</th>\n",
       "      <th>the</th>\n",
       "      <th>we</th>\n",
       "      <th>live</th>\n",
       "      <th>happy</th>\n",
       "      <th>for</th>\n",
       "      <th>enjoying</th>\n",
       "      <th>I</th>\n",
       "      <th>freedom</th>\n",
       "      <th>our</th>\n",
       "      <th>feel</th>\n",
       "      <th>love</th>\n",
       "    </tr>\n",
       "  </thead>\n",
       "  <tbody>\n",
       "    <tr>\n",
       "      <th>docA</th>\n",
       "      <td>1</td>\n",
       "      <td>1</td>\n",
       "      <td>1</td>\n",
       "      <td>1</td>\n",
       "      <td>0</td>\n",
       "      <td>1</td>\n",
       "      <td>0</td>\n",
       "      <td>0</td>\n",
       "      <td>2</td>\n",
       "      <td>1</td>\n",
       "      <td>0</td>\n",
       "      <td>1</td>\n",
       "    </tr>\n",
       "    <tr>\n",
       "      <th>docB</th>\n",
       "      <td>0</td>\n",
       "      <td>0</td>\n",
       "      <td>0</td>\n",
       "      <td>0</td>\n",
       "      <td>1</td>\n",
       "      <td>0</td>\n",
       "      <td>1</td>\n",
       "      <td>1</td>\n",
       "      <td>1</td>\n",
       "      <td>0</td>\n",
       "      <td>1</td>\n",
       "      <td>0</td>\n",
       "    </tr>\n",
       "  </tbody>\n",
       "</table>\n",
       "</div>"
      ],
      "text/plain": [
       "      We  the  we  live  happy  for  enjoying  I  freedom  our  feel  love\n",
       "docA   1    1   1     1      0    1         0  0        2    1     0     1\n",
       "docB   0    0   0     0      1    0         1  1        1    0     1     0"
      ]
     },
     "execution_count": 23,
     "metadata": {},
     "output_type": "execute_result"
    }
   ],
   "source": [
    "import pandas as pd\n",
    "\n",
    "pd.DataFrame([wordDictA, wordDictB],index = ['docA','docB'])"
   ]
  },
  {
   "cell_type": "markdown",
   "id": "crucial-affiliation",
   "metadata": {},
   "source": [
    "We have performed the Bag of words manually. But in most of the cases, we will make use of the `BOW` function from sklearn."
   ]
  },
  {
   "cell_type": "markdown",
   "id": "center-trouble",
   "metadata": {},
   "source": [
    "#### Performing bag-of-words using sklearn\n",
    "We will take the same corpus we used for the one-hot encoding for bow (bag – of - words) so that we can differentiate who the two technique works:"
   ]
  },
  {
   "cell_type": "code",
   "execution_count": 29,
   "id": "dying-title",
   "metadata": {},
   "outputs": [],
   "source": [
    "from sklearn.feature_extraction.text import CountVectorizer"
   ]
  },
  {
   "cell_type": "code",
   "execution_count": 30,
   "id": "weird-baseline",
   "metadata": {},
   "outputs": [
    {
     "data": {
      "text/plain": [
       "'We live for the freedom we love our freedom'"
      ]
     },
     "execution_count": 30,
     "metadata": {},
     "output_type": "execute_result"
    }
   ],
   "source": [
    "docA"
   ]
  },
  {
   "cell_type": "code",
   "execution_count": 31,
   "id": "scenic-telephone",
   "metadata": {
    "scrolled": true
   },
   "outputs": [
    {
     "data": {
      "text/plain": [
       "['We live for the freedom we love our freedom',\n",
       " 'I feel happy enjoying freedom']"
      ]
     },
     "execution_count": 31,
     "metadata": {},
     "output_type": "execute_result"
    }
   ],
   "source": [
    "all_bows = [docA  ,docB]\n",
    "all_bows"
   ]
  },
  {
   "cell_type": "code",
   "execution_count": 32,
   "id": "established-nepal",
   "metadata": {},
   "outputs": [
    {
     "data": {
      "text/html": [
       "<style>#sk-container-id-1 {color: black;background-color: white;}#sk-container-id-1 pre{padding: 0;}#sk-container-id-1 div.sk-toggleable {background-color: white;}#sk-container-id-1 label.sk-toggleable__label {cursor: pointer;display: block;width: 100%;margin-bottom: 0;padding: 0.3em;box-sizing: border-box;text-align: center;}#sk-container-id-1 label.sk-toggleable__label-arrow:before {content: \"▸\";float: left;margin-right: 0.25em;color: #696969;}#sk-container-id-1 label.sk-toggleable__label-arrow:hover:before {color: black;}#sk-container-id-1 div.sk-estimator:hover label.sk-toggleable__label-arrow:before {color: black;}#sk-container-id-1 div.sk-toggleable__content {max-height: 0;max-width: 0;overflow: hidden;text-align: left;background-color: #f0f8ff;}#sk-container-id-1 div.sk-toggleable__content pre {margin: 0.2em;color: black;border-radius: 0.25em;background-color: #f0f8ff;}#sk-container-id-1 input.sk-toggleable__control:checked~div.sk-toggleable__content {max-height: 200px;max-width: 100%;overflow: auto;}#sk-container-id-1 input.sk-toggleable__control:checked~label.sk-toggleable__label-arrow:before {content: \"▾\";}#sk-container-id-1 div.sk-estimator input.sk-toggleable__control:checked~label.sk-toggleable__label {background-color: #d4ebff;}#sk-container-id-1 div.sk-label input.sk-toggleable__control:checked~label.sk-toggleable__label {background-color: #d4ebff;}#sk-container-id-1 input.sk-hidden--visually {border: 0;clip: rect(1px 1px 1px 1px);clip: rect(1px, 1px, 1px, 1px);height: 1px;margin: -1px;overflow: hidden;padding: 0;position: absolute;width: 1px;}#sk-container-id-1 div.sk-estimator {font-family: monospace;background-color: #f0f8ff;border: 1px dotted black;border-radius: 0.25em;box-sizing: border-box;margin-bottom: 0.5em;}#sk-container-id-1 div.sk-estimator:hover {background-color: #d4ebff;}#sk-container-id-1 div.sk-parallel-item::after {content: \"\";width: 100%;border-bottom: 1px solid gray;flex-grow: 1;}#sk-container-id-1 div.sk-label:hover label.sk-toggleable__label {background-color: #d4ebff;}#sk-container-id-1 div.sk-serial::before {content: \"\";position: absolute;border-left: 1px solid gray;box-sizing: border-box;top: 0;bottom: 0;left: 50%;z-index: 0;}#sk-container-id-1 div.sk-serial {display: flex;flex-direction: column;align-items: center;background-color: white;padding-right: 0.2em;padding-left: 0.2em;position: relative;}#sk-container-id-1 div.sk-item {position: relative;z-index: 1;}#sk-container-id-1 div.sk-parallel {display: flex;align-items: stretch;justify-content: center;background-color: white;position: relative;}#sk-container-id-1 div.sk-item::before, #sk-container-id-1 div.sk-parallel-item::before {content: \"\";position: absolute;border-left: 1px solid gray;box-sizing: border-box;top: 0;bottom: 0;left: 50%;z-index: -1;}#sk-container-id-1 div.sk-parallel-item {display: flex;flex-direction: column;z-index: 1;position: relative;background-color: white;}#sk-container-id-1 div.sk-parallel-item:first-child::after {align-self: flex-end;width: 50%;}#sk-container-id-1 div.sk-parallel-item:last-child::after {align-self: flex-start;width: 50%;}#sk-container-id-1 div.sk-parallel-item:only-child::after {width: 0;}#sk-container-id-1 div.sk-dashed-wrapped {border: 1px dashed gray;margin: 0 0.4em 0.5em 0.4em;box-sizing: border-box;padding-bottom: 0.4em;background-color: white;}#sk-container-id-1 div.sk-label label {font-family: monospace;font-weight: bold;display: inline-block;line-height: 1.2em;}#sk-container-id-1 div.sk-label-container {text-align: center;}#sk-container-id-1 div.sk-container {/* jupyter's `normalize.less` sets `[hidden] { display: none; }` but bootstrap.min.css set `[hidden] { display: none !important; }` so we also need the `!important` here to be able to override the default hidden behavior on the sphinx rendered scikit-learn.org. See: https://github.com/scikit-learn/scikit-learn/issues/21755 */display: inline-block !important;position: relative;}#sk-container-id-1 div.sk-text-repr-fallback {display: none;}</style><div id=\"sk-container-id-1\" class=\"sk-top-container\"><div class=\"sk-text-repr-fallback\"><pre>CountVectorizer(min_df=0.0)</pre><b>In a Jupyter environment, please rerun this cell to show the HTML representation or trust the notebook. <br />On GitHub, the HTML representation is unable to render, please try loading this page with nbviewer.org.</b></div><div class=\"sk-container\" hidden><div class=\"sk-item\"><div class=\"sk-estimator sk-toggleable\"><input class=\"sk-toggleable__control sk-hidden--visually\" id=\"sk-estimator-id-1\" type=\"checkbox\" checked><label for=\"sk-estimator-id-1\" class=\"sk-toggleable__label sk-toggleable__label-arrow\">CountVectorizer</label><div class=\"sk-toggleable__content\"><pre>CountVectorizer(min_df=0.0)</pre></div></div></div></div></div>"
      ],
      "text/plain": [
       "CountVectorizer(min_df=0.0)"
      ]
     },
     "execution_count": 32,
     "metadata": {},
     "output_type": "execute_result"
    }
   ],
   "source": [
    "vect_machine = CountVectorizer(min_df=0., max_df=1.)\n",
    "vect_machine"
   ]
  },
  {
   "cell_type": "code",
   "execution_count": 33,
   "id": "first-latest",
   "metadata": {},
   "outputs": [
    {
     "data": {
      "text/html": [
       "<style>#sk-container-id-2 {color: black;background-color: white;}#sk-container-id-2 pre{padding: 0;}#sk-container-id-2 div.sk-toggleable {background-color: white;}#sk-container-id-2 label.sk-toggleable__label {cursor: pointer;display: block;width: 100%;margin-bottom: 0;padding: 0.3em;box-sizing: border-box;text-align: center;}#sk-container-id-2 label.sk-toggleable__label-arrow:before {content: \"▸\";float: left;margin-right: 0.25em;color: #696969;}#sk-container-id-2 label.sk-toggleable__label-arrow:hover:before {color: black;}#sk-container-id-2 div.sk-estimator:hover label.sk-toggleable__label-arrow:before {color: black;}#sk-container-id-2 div.sk-toggleable__content {max-height: 0;max-width: 0;overflow: hidden;text-align: left;background-color: #f0f8ff;}#sk-container-id-2 div.sk-toggleable__content pre {margin: 0.2em;color: black;border-radius: 0.25em;background-color: #f0f8ff;}#sk-container-id-2 input.sk-toggleable__control:checked~div.sk-toggleable__content {max-height: 200px;max-width: 100%;overflow: auto;}#sk-container-id-2 input.sk-toggleable__control:checked~label.sk-toggleable__label-arrow:before {content: \"▾\";}#sk-container-id-2 div.sk-estimator input.sk-toggleable__control:checked~label.sk-toggleable__label {background-color: #d4ebff;}#sk-container-id-2 div.sk-label input.sk-toggleable__control:checked~label.sk-toggleable__label {background-color: #d4ebff;}#sk-container-id-2 input.sk-hidden--visually {border: 0;clip: rect(1px 1px 1px 1px);clip: rect(1px, 1px, 1px, 1px);height: 1px;margin: -1px;overflow: hidden;padding: 0;position: absolute;width: 1px;}#sk-container-id-2 div.sk-estimator {font-family: monospace;background-color: #f0f8ff;border: 1px dotted black;border-radius: 0.25em;box-sizing: border-box;margin-bottom: 0.5em;}#sk-container-id-2 div.sk-estimator:hover {background-color: #d4ebff;}#sk-container-id-2 div.sk-parallel-item::after {content: \"\";width: 100%;border-bottom: 1px solid gray;flex-grow: 1;}#sk-container-id-2 div.sk-label:hover label.sk-toggleable__label {background-color: #d4ebff;}#sk-container-id-2 div.sk-serial::before {content: \"\";position: absolute;border-left: 1px solid gray;box-sizing: border-box;top: 0;bottom: 0;left: 50%;z-index: 0;}#sk-container-id-2 div.sk-serial {display: flex;flex-direction: column;align-items: center;background-color: white;padding-right: 0.2em;padding-left: 0.2em;position: relative;}#sk-container-id-2 div.sk-item {position: relative;z-index: 1;}#sk-container-id-2 div.sk-parallel {display: flex;align-items: stretch;justify-content: center;background-color: white;position: relative;}#sk-container-id-2 div.sk-item::before, #sk-container-id-2 div.sk-parallel-item::before {content: \"\";position: absolute;border-left: 1px solid gray;box-sizing: border-box;top: 0;bottom: 0;left: 50%;z-index: -1;}#sk-container-id-2 div.sk-parallel-item {display: flex;flex-direction: column;z-index: 1;position: relative;background-color: white;}#sk-container-id-2 div.sk-parallel-item:first-child::after {align-self: flex-end;width: 50%;}#sk-container-id-2 div.sk-parallel-item:last-child::after {align-self: flex-start;width: 50%;}#sk-container-id-2 div.sk-parallel-item:only-child::after {width: 0;}#sk-container-id-2 div.sk-dashed-wrapped {border: 1px dashed gray;margin: 0 0.4em 0.5em 0.4em;box-sizing: border-box;padding-bottom: 0.4em;background-color: white;}#sk-container-id-2 div.sk-label label {font-family: monospace;font-weight: bold;display: inline-block;line-height: 1.2em;}#sk-container-id-2 div.sk-label-container {text-align: center;}#sk-container-id-2 div.sk-container {/* jupyter's `normalize.less` sets `[hidden] { display: none; }` but bootstrap.min.css set `[hidden] { display: none !important; }` so we also need the `!important` here to be able to override the default hidden behavior on the sphinx rendered scikit-learn.org. See: https://github.com/scikit-learn/scikit-learn/issues/21755 */display: inline-block !important;position: relative;}#sk-container-id-2 div.sk-text-repr-fallback {display: none;}</style><div id=\"sk-container-id-2\" class=\"sk-top-container\"><div class=\"sk-text-repr-fallback\"><pre>CountVectorizer(min_df=0.0)</pre><b>In a Jupyter environment, please rerun this cell to show the HTML representation or trust the notebook. <br />On GitHub, the HTML representation is unable to render, please try loading this page with nbviewer.org.</b></div><div class=\"sk-container\" hidden><div class=\"sk-item\"><div class=\"sk-estimator sk-toggleable\"><input class=\"sk-toggleable__control sk-hidden--visually\" id=\"sk-estimator-id-2\" type=\"checkbox\" checked><label for=\"sk-estimator-id-2\" class=\"sk-toggleable__label sk-toggleable__label-arrow\">CountVectorizer</label><div class=\"sk-toggleable__content\"><pre>CountVectorizer(min_df=0.0)</pre></div></div></div></div></div>"
      ],
      "text/plain": [
       "CountVectorizer(min_df=0.0)"
      ]
     },
     "execution_count": 33,
     "metadata": {},
     "output_type": "execute_result"
    }
   ],
   "source": [
    "vect_machine.fit(all_bows)"
   ]
  },
  {
   "cell_type": "code",
   "execution_count": 34,
   "id": "focused-gardening",
   "metadata": {},
   "outputs": [
    {
     "data": {
      "text/plain": [
       "array(['enjoying', 'feel', 'for', 'freedom', 'happy', 'live', 'love',\n",
       "       'our', 'the', 'we'], dtype=object)"
      ]
     },
     "execution_count": 34,
     "metadata": {},
     "output_type": "execute_result"
    }
   ],
   "source": [
    "vect_machine.get_feature_names_out()"
   ]
  },
  {
   "cell_type": "code",
   "execution_count": 35,
   "id": "patient-tenant",
   "metadata": {},
   "outputs": [
    {
     "data": {
      "text/plain": [
       "<2x10 sparse matrix of type '<class 'numpy.int64'>'\n",
       "\twith 11 stored elements in Compressed Sparse Row format>"
      ]
     },
     "execution_count": 35,
     "metadata": {},
     "output_type": "execute_result"
    }
   ],
   "source": [
    "transformed_data = vect_machine.transform(all_bows)\n",
    "transformed_data"
   ]
  },
  {
   "cell_type": "code",
   "execution_count": 36,
   "id": "moving-reduction",
   "metadata": {},
   "outputs": [
    {
     "data": {
      "text/plain": [
       "scipy.sparse._csr.csr_matrix"
      ]
     },
     "execution_count": 36,
     "metadata": {},
     "output_type": "execute_result"
    }
   ],
   "source": [
    "type(transformed_data)"
   ]
  },
  {
   "cell_type": "code",
   "execution_count": 37,
   "id": "cooperative-therapist",
   "metadata": {},
   "outputs": [
    {
     "data": {
      "text/plain": [
       "matrix([[0, 0, 1, 2, 0, 1, 1, 1, 1, 2],\n",
       "        [1, 1, 0, 1, 1, 0, 0, 0, 0, 0]])"
      ]
     },
     "execution_count": 37,
     "metadata": {},
     "output_type": "execute_result"
    }
   ],
   "source": [
    "transformed_data.todense()"
   ]
  },
  {
   "cell_type": "code",
   "execution_count": 38,
   "id": "metropolitan-header",
   "metadata": {},
   "outputs": [
    {
     "data": {
      "text/html": [
       "<div>\n",
       "<style scoped>\n",
       "    .dataframe tbody tr th:only-of-type {\n",
       "        vertical-align: middle;\n",
       "    }\n",
       "\n",
       "    .dataframe tbody tr th {\n",
       "        vertical-align: top;\n",
       "    }\n",
       "\n",
       "    .dataframe thead th {\n",
       "        text-align: right;\n",
       "    }\n",
       "</style>\n",
       "<table border=\"1\" class=\"dataframe\">\n",
       "  <thead>\n",
       "    <tr style=\"text-align: right;\">\n",
       "      <th></th>\n",
       "      <th>enjoying</th>\n",
       "      <th>feel</th>\n",
       "      <th>for</th>\n",
       "      <th>freedom</th>\n",
       "      <th>happy</th>\n",
       "      <th>live</th>\n",
       "      <th>love</th>\n",
       "      <th>our</th>\n",
       "      <th>the</th>\n",
       "      <th>we</th>\n",
       "    </tr>\n",
       "  </thead>\n",
       "  <tbody>\n",
       "    <tr>\n",
       "      <th>0</th>\n",
       "      <td>0</td>\n",
       "      <td>0</td>\n",
       "      <td>1</td>\n",
       "      <td>2</td>\n",
       "      <td>0</td>\n",
       "      <td>1</td>\n",
       "      <td>1</td>\n",
       "      <td>1</td>\n",
       "      <td>1</td>\n",
       "      <td>2</td>\n",
       "    </tr>\n",
       "    <tr>\n",
       "      <th>1</th>\n",
       "      <td>1</td>\n",
       "      <td>1</td>\n",
       "      <td>0</td>\n",
       "      <td>1</td>\n",
       "      <td>1</td>\n",
       "      <td>0</td>\n",
       "      <td>0</td>\n",
       "      <td>0</td>\n",
       "      <td>0</td>\n",
       "      <td>0</td>\n",
       "    </tr>\n",
       "  </tbody>\n",
       "</table>\n",
       "</div>"
      ],
      "text/plain": [
       "   enjoying  feel  for  freedom  happy  live  love  our  the  we\n",
       "0         0     0    1        2      0     1     1    1    1   2\n",
       "1         1     1    0        1      1     0     0    0    0   0"
      ]
     },
     "execution_count": 38,
     "metadata": {},
     "output_type": "execute_result"
    }
   ],
   "source": [
    "pd.DataFrame(transformed_data.toarray(), columns=vect_machine.get_feature_names_out())"
   ]
  },
  {
   "cell_type": "markdown",
   "id": "related-gossip",
   "metadata": {},
   "source": [
    "## Weighing the Pros and Cons"
   ]
  },
  {
   "cell_type": "markdown",
   "id": "abandoned-highland",
   "metadata": {},
   "source": [
    "One-hot encoding, like all methods, comes with its strengths and challenges.\n",
    "\n",
    "**Advantages:**\n",
    "1. **Clarity in Representation**: Each term has a clear, unambiguous vector.\n",
    "2. **Ease of Implementation**: Given its simplicity, it's easy to grasp and apply.\n",
    "\n",
    "**Challenges:**\n",
    "1. **Scalability Concerns**: Consider the vast array of languages from Africa - Hausa, Zulu, Oromo, Yoruba, and so many more. Representing every unique word from each language would result in incredibly lengthy vectors.\n",
    "2. **Lack of Contextual Depth**: Two dishes, Nigeria's Jollof rice and Senegal's Thieboudienne, might share many similarities. However, one-hot encoding sees them as totally distinct, missing out on their shared culinary heritage.\n",
    "3. **Efficiency Issues**: Storing a unique vector for every term isn't memory-friendly, particularly for languages with extensive lexicons.\n"
   ]
  },
  {
   "cell_type": "markdown",
   "id": "surprising-aruba",
   "metadata": {},
   "source": [
    ">#### <font color=#800080>Task 9:</font> <a class=\"anchor\" id=\"Task-1\"></a>"
   ]
  },
  {
   "cell_type": "markdown",
   "id": "artistic-closing",
   "metadata": {},
   "source": [
    "Consider the sample inbox message below.\n",
    "1. Build a vectorizer using parameters of your choice\n",
    "2. Transform the data into a numerical format.\n",
    "3. What do you observe?\n",
    "\n"
   ]
  },
  {
   "cell_type": "code",
   "execution_count": 39,
   "id": "appreciated-submission",
   "metadata": {},
   "outputs": [],
   "source": [
    "inbox_train = ['tommorow is ghost town',\n",
    "               \n",
    "               'should we play today?',\n",
    "               \n",
    "               'TUTORIAL TUESDAY NIGHt!!', \n",
    "               \n",
    "               'Manchester VS Barcelona!!!']"
   ]
  },
  {
   "cell_type": "markdown",
   "id": "velvet-aircraft",
   "metadata": {},
   "source": [
    "Sometimes a bit of cleaning is needed  before the whole vectorization process takes place. \n",
    "\n",
    "Some of the steps could involve:\n",
    "* Removing stopwords\n",
    "* Uniformizing the  cases across the vocabulary\n",
    "* Considering a minimal number of character for a word.\n",
    "\n",
    "Let's explore the documentation of the `CountVectorizer`."
   ]
  },
  {
   "cell_type": "code",
   "execution_count": 188,
   "id": "subjective-desire",
   "metadata": {},
   "outputs": [],
   "source": [
    "CountVectorizer?"
   ]
  },
  {
   "cell_type": "code",
   "execution_count": 40,
   "id": "general-wrapping",
   "metadata": {
    "scrolled": true
   },
   "outputs": [
    {
     "data": {
      "text/html": [
       "<style>#sk-container-id-3 {color: black;background-color: white;}#sk-container-id-3 pre{padding: 0;}#sk-container-id-3 div.sk-toggleable {background-color: white;}#sk-container-id-3 label.sk-toggleable__label {cursor: pointer;display: block;width: 100%;margin-bottom: 0;padding: 0.3em;box-sizing: border-box;text-align: center;}#sk-container-id-3 label.sk-toggleable__label-arrow:before {content: \"▸\";float: left;margin-right: 0.25em;color: #696969;}#sk-container-id-3 label.sk-toggleable__label-arrow:hover:before {color: black;}#sk-container-id-3 div.sk-estimator:hover label.sk-toggleable__label-arrow:before {color: black;}#sk-container-id-3 div.sk-toggleable__content {max-height: 0;max-width: 0;overflow: hidden;text-align: left;background-color: #f0f8ff;}#sk-container-id-3 div.sk-toggleable__content pre {margin: 0.2em;color: black;border-radius: 0.25em;background-color: #f0f8ff;}#sk-container-id-3 input.sk-toggleable__control:checked~div.sk-toggleable__content {max-height: 200px;max-width: 100%;overflow: auto;}#sk-container-id-3 input.sk-toggleable__control:checked~label.sk-toggleable__label-arrow:before {content: \"▾\";}#sk-container-id-3 div.sk-estimator input.sk-toggleable__control:checked~label.sk-toggleable__label {background-color: #d4ebff;}#sk-container-id-3 div.sk-label input.sk-toggleable__control:checked~label.sk-toggleable__label {background-color: #d4ebff;}#sk-container-id-3 input.sk-hidden--visually {border: 0;clip: rect(1px 1px 1px 1px);clip: rect(1px, 1px, 1px, 1px);height: 1px;margin: -1px;overflow: hidden;padding: 0;position: absolute;width: 1px;}#sk-container-id-3 div.sk-estimator {font-family: monospace;background-color: #f0f8ff;border: 1px dotted black;border-radius: 0.25em;box-sizing: border-box;margin-bottom: 0.5em;}#sk-container-id-3 div.sk-estimator:hover {background-color: #d4ebff;}#sk-container-id-3 div.sk-parallel-item::after {content: \"\";width: 100%;border-bottom: 1px solid gray;flex-grow: 1;}#sk-container-id-3 div.sk-label:hover label.sk-toggleable__label {background-color: #d4ebff;}#sk-container-id-3 div.sk-serial::before {content: \"\";position: absolute;border-left: 1px solid gray;box-sizing: border-box;top: 0;bottom: 0;left: 50%;z-index: 0;}#sk-container-id-3 div.sk-serial {display: flex;flex-direction: column;align-items: center;background-color: white;padding-right: 0.2em;padding-left: 0.2em;position: relative;}#sk-container-id-3 div.sk-item {position: relative;z-index: 1;}#sk-container-id-3 div.sk-parallel {display: flex;align-items: stretch;justify-content: center;background-color: white;position: relative;}#sk-container-id-3 div.sk-item::before, #sk-container-id-3 div.sk-parallel-item::before {content: \"\";position: absolute;border-left: 1px solid gray;box-sizing: border-box;top: 0;bottom: 0;left: 50%;z-index: -1;}#sk-container-id-3 div.sk-parallel-item {display: flex;flex-direction: column;z-index: 1;position: relative;background-color: white;}#sk-container-id-3 div.sk-parallel-item:first-child::after {align-self: flex-end;width: 50%;}#sk-container-id-3 div.sk-parallel-item:last-child::after {align-self: flex-start;width: 50%;}#sk-container-id-3 div.sk-parallel-item:only-child::after {width: 0;}#sk-container-id-3 div.sk-dashed-wrapped {border: 1px dashed gray;margin: 0 0.4em 0.5em 0.4em;box-sizing: border-box;padding-bottom: 0.4em;background-color: white;}#sk-container-id-3 div.sk-label label {font-family: monospace;font-weight: bold;display: inline-block;line-height: 1.2em;}#sk-container-id-3 div.sk-label-container {text-align: center;}#sk-container-id-3 div.sk-container {/* jupyter's `normalize.less` sets `[hidden] { display: none; }` but bootstrap.min.css set `[hidden] { display: none !important; }` so we also need the `!important` here to be able to override the default hidden behavior on the sphinx rendered scikit-learn.org. See: https://github.com/scikit-learn/scikit-learn/issues/21755 */display: inline-block !important;position: relative;}#sk-container-id-3 div.sk-text-repr-fallback {display: none;}</style><div id=\"sk-container-id-3\" class=\"sk-top-container\"><div class=\"sk-text-repr-fallback\"><pre>CountVectorizer(stop_words=&#x27;english&#x27;, token_pattern=&#x27;\\\\w\\\\w\\\\w+&#x27;)</pre><b>In a Jupyter environment, please rerun this cell to show the HTML representation or trust the notebook. <br />On GitHub, the HTML representation is unable to render, please try loading this page with nbviewer.org.</b></div><div class=\"sk-container\" hidden><div class=\"sk-item\"><div class=\"sk-estimator sk-toggleable\"><input class=\"sk-toggleable__control sk-hidden--visually\" id=\"sk-estimator-id-3\" type=\"checkbox\" checked><label for=\"sk-estimator-id-3\" class=\"sk-toggleable__label sk-toggleable__label-arrow\">CountVectorizer</label><div class=\"sk-toggleable__content\"><pre>CountVectorizer(stop_words=&#x27;english&#x27;, token_pattern=&#x27;\\\\w\\\\w\\\\w+&#x27;)</pre></div></div></div></div></div>"
      ],
      "text/plain": [
       "CountVectorizer(stop_words='english', token_pattern='\\\\w\\\\w\\\\w+')"
      ]
     },
     "execution_count": 40,
     "metadata": {},
     "output_type": "execute_result"
    }
   ],
   "source": [
    "my_vect = CountVectorizer( stop_words='english' , lowercase=True , token_pattern=r\"\\w\\w\\w+\")\n",
    "my_vect"
   ]
  },
  {
   "cell_type": "code",
   "execution_count": 41,
   "id": "gorgeous-specific",
   "metadata": {},
   "outputs": [
    {
     "data": {
      "text/html": [
       "<style>#sk-container-id-4 {color: black;background-color: white;}#sk-container-id-4 pre{padding: 0;}#sk-container-id-4 div.sk-toggleable {background-color: white;}#sk-container-id-4 label.sk-toggleable__label {cursor: pointer;display: block;width: 100%;margin-bottom: 0;padding: 0.3em;box-sizing: border-box;text-align: center;}#sk-container-id-4 label.sk-toggleable__label-arrow:before {content: \"▸\";float: left;margin-right: 0.25em;color: #696969;}#sk-container-id-4 label.sk-toggleable__label-arrow:hover:before {color: black;}#sk-container-id-4 div.sk-estimator:hover label.sk-toggleable__label-arrow:before {color: black;}#sk-container-id-4 div.sk-toggleable__content {max-height: 0;max-width: 0;overflow: hidden;text-align: left;background-color: #f0f8ff;}#sk-container-id-4 div.sk-toggleable__content pre {margin: 0.2em;color: black;border-radius: 0.25em;background-color: #f0f8ff;}#sk-container-id-4 input.sk-toggleable__control:checked~div.sk-toggleable__content {max-height: 200px;max-width: 100%;overflow: auto;}#sk-container-id-4 input.sk-toggleable__control:checked~label.sk-toggleable__label-arrow:before {content: \"▾\";}#sk-container-id-4 div.sk-estimator input.sk-toggleable__control:checked~label.sk-toggleable__label {background-color: #d4ebff;}#sk-container-id-4 div.sk-label input.sk-toggleable__control:checked~label.sk-toggleable__label {background-color: #d4ebff;}#sk-container-id-4 input.sk-hidden--visually {border: 0;clip: rect(1px 1px 1px 1px);clip: rect(1px, 1px, 1px, 1px);height: 1px;margin: -1px;overflow: hidden;padding: 0;position: absolute;width: 1px;}#sk-container-id-4 div.sk-estimator {font-family: monospace;background-color: #f0f8ff;border: 1px dotted black;border-radius: 0.25em;box-sizing: border-box;margin-bottom: 0.5em;}#sk-container-id-4 div.sk-estimator:hover {background-color: #d4ebff;}#sk-container-id-4 div.sk-parallel-item::after {content: \"\";width: 100%;border-bottom: 1px solid gray;flex-grow: 1;}#sk-container-id-4 div.sk-label:hover label.sk-toggleable__label {background-color: #d4ebff;}#sk-container-id-4 div.sk-serial::before {content: \"\";position: absolute;border-left: 1px solid gray;box-sizing: border-box;top: 0;bottom: 0;left: 50%;z-index: 0;}#sk-container-id-4 div.sk-serial {display: flex;flex-direction: column;align-items: center;background-color: white;padding-right: 0.2em;padding-left: 0.2em;position: relative;}#sk-container-id-4 div.sk-item {position: relative;z-index: 1;}#sk-container-id-4 div.sk-parallel {display: flex;align-items: stretch;justify-content: center;background-color: white;position: relative;}#sk-container-id-4 div.sk-item::before, #sk-container-id-4 div.sk-parallel-item::before {content: \"\";position: absolute;border-left: 1px solid gray;box-sizing: border-box;top: 0;bottom: 0;left: 50%;z-index: -1;}#sk-container-id-4 div.sk-parallel-item {display: flex;flex-direction: column;z-index: 1;position: relative;background-color: white;}#sk-container-id-4 div.sk-parallel-item:first-child::after {align-self: flex-end;width: 50%;}#sk-container-id-4 div.sk-parallel-item:last-child::after {align-self: flex-start;width: 50%;}#sk-container-id-4 div.sk-parallel-item:only-child::after {width: 0;}#sk-container-id-4 div.sk-dashed-wrapped {border: 1px dashed gray;margin: 0 0.4em 0.5em 0.4em;box-sizing: border-box;padding-bottom: 0.4em;background-color: white;}#sk-container-id-4 div.sk-label label {font-family: monospace;font-weight: bold;display: inline-block;line-height: 1.2em;}#sk-container-id-4 div.sk-label-container {text-align: center;}#sk-container-id-4 div.sk-container {/* jupyter's `normalize.less` sets `[hidden] { display: none; }` but bootstrap.min.css set `[hidden] { display: none !important; }` so we also need the `!important` here to be able to override the default hidden behavior on the sphinx rendered scikit-learn.org. See: https://github.com/scikit-learn/scikit-learn/issues/21755 */display: inline-block !important;position: relative;}#sk-container-id-4 div.sk-text-repr-fallback {display: none;}</style><div id=\"sk-container-id-4\" class=\"sk-top-container\"><div class=\"sk-text-repr-fallback\"><pre>CountVectorizer(stop_words=&#x27;english&#x27;, token_pattern=&#x27;\\\\w\\\\w\\\\w+&#x27;)</pre><b>In a Jupyter environment, please rerun this cell to show the HTML representation or trust the notebook. <br />On GitHub, the HTML representation is unable to render, please try loading this page with nbviewer.org.</b></div><div class=\"sk-container\" hidden><div class=\"sk-item\"><div class=\"sk-estimator sk-toggleable\"><input class=\"sk-toggleable__control sk-hidden--visually\" id=\"sk-estimator-id-4\" type=\"checkbox\" checked><label for=\"sk-estimator-id-4\" class=\"sk-toggleable__label sk-toggleable__label-arrow\">CountVectorizer</label><div class=\"sk-toggleable__content\"><pre>CountVectorizer(stop_words=&#x27;english&#x27;, token_pattern=&#x27;\\\\w\\\\w\\\\w+&#x27;)</pre></div></div></div></div></div>"
      ],
      "text/plain": [
       "CountVectorizer(stop_words='english', token_pattern='\\\\w\\\\w\\\\w+')"
      ]
     },
     "execution_count": 41,
     "metadata": {},
     "output_type": "execute_result"
    }
   ],
   "source": [
    "my_vect.fit(inbox_train)"
   ]
  },
  {
   "cell_type": "code",
   "execution_count": 42,
   "id": "therapeutic-festival",
   "metadata": {},
   "outputs": [
    {
     "data": {
      "text/plain": [
       "array(['barcelona', 'ghost', 'manchester', 'night', 'play', 'today',\n",
       "       'tommorow', 'town', 'tuesday', 'tutorial'], dtype=object)"
      ]
     },
     "execution_count": 42,
     "metadata": {},
     "output_type": "execute_result"
    }
   ],
   "source": [
    "my_vect.get_feature_names_out()"
   ]
  },
  {
   "cell_type": "code",
   "execution_count": 43,
   "id": "falling-decade",
   "metadata": {},
   "outputs": [
    {
     "data": {
      "text/plain": [
       "<4x10 sparse matrix of type '<class 'numpy.int64'>'\n",
       "\twith 10 stored elements in Compressed Sparse Row format>"
      ]
     },
     "execution_count": 43,
     "metadata": {},
     "output_type": "execute_result"
    }
   ],
   "source": [
    "#transform the dataset into a document term matrix\n",
    "inbox_train_new = my_vect.transform(inbox_train)\n",
    "inbox_train_new"
   ]
  },
  {
   "cell_type": "code",
   "execution_count": 44,
   "id": "incredible-composer",
   "metadata": {},
   "outputs": [
    {
     "data": {
      "text/html": [
       "<div>\n",
       "<style scoped>\n",
       "    .dataframe tbody tr th:only-of-type {\n",
       "        vertical-align: middle;\n",
       "    }\n",
       "\n",
       "    .dataframe tbody tr th {\n",
       "        vertical-align: top;\n",
       "    }\n",
       "\n",
       "    .dataframe thead th {\n",
       "        text-align: right;\n",
       "    }\n",
       "</style>\n",
       "<table border=\"1\" class=\"dataframe\">\n",
       "  <thead>\n",
       "    <tr style=\"text-align: right;\">\n",
       "      <th></th>\n",
       "      <th>barcelona</th>\n",
       "      <th>ghost</th>\n",
       "      <th>manchester</th>\n",
       "      <th>night</th>\n",
       "      <th>play</th>\n",
       "      <th>today</th>\n",
       "      <th>tommorow</th>\n",
       "      <th>town</th>\n",
       "      <th>tuesday</th>\n",
       "      <th>tutorial</th>\n",
       "    </tr>\n",
       "  </thead>\n",
       "  <tbody>\n",
       "    <tr>\n",
       "      <th>0</th>\n",
       "      <td>0</td>\n",
       "      <td>1</td>\n",
       "      <td>0</td>\n",
       "      <td>0</td>\n",
       "      <td>0</td>\n",
       "      <td>0</td>\n",
       "      <td>1</td>\n",
       "      <td>1</td>\n",
       "      <td>0</td>\n",
       "      <td>0</td>\n",
       "    </tr>\n",
       "    <tr>\n",
       "      <th>1</th>\n",
       "      <td>0</td>\n",
       "      <td>0</td>\n",
       "      <td>0</td>\n",
       "      <td>0</td>\n",
       "      <td>1</td>\n",
       "      <td>1</td>\n",
       "      <td>0</td>\n",
       "      <td>0</td>\n",
       "      <td>0</td>\n",
       "      <td>0</td>\n",
       "    </tr>\n",
       "    <tr>\n",
       "      <th>2</th>\n",
       "      <td>0</td>\n",
       "      <td>0</td>\n",
       "      <td>0</td>\n",
       "      <td>1</td>\n",
       "      <td>0</td>\n",
       "      <td>0</td>\n",
       "      <td>0</td>\n",
       "      <td>0</td>\n",
       "      <td>1</td>\n",
       "      <td>1</td>\n",
       "    </tr>\n",
       "    <tr>\n",
       "      <th>3</th>\n",
       "      <td>1</td>\n",
       "      <td>0</td>\n",
       "      <td>1</td>\n",
       "      <td>0</td>\n",
       "      <td>0</td>\n",
       "      <td>0</td>\n",
       "      <td>0</td>\n",
       "      <td>0</td>\n",
       "      <td>0</td>\n",
       "      <td>0</td>\n",
       "    </tr>\n",
       "  </tbody>\n",
       "</table>\n",
       "</div>"
      ],
      "text/plain": [
       "   barcelona  ghost  manchester  night  play  today  tommorow  town  tuesday  \\\n",
       "0          0      1           0      0     0      0         1     1        0   \n",
       "1          0      0           0      0     1      1         0     0        0   \n",
       "2          0      0           0      1     0      0         0     0        1   \n",
       "3          1      0           1      0     0      0         0     0        0   \n",
       "\n",
       "   tutorial  \n",
       "0         0  \n",
       "1         0  \n",
       "2         1  \n",
       "3         0  "
      ]
     },
     "execution_count": 44,
     "metadata": {},
     "output_type": "execute_result"
    }
   ],
   "source": [
    "pd.DataFrame(inbox_train_new.toarray(), columns=my_vect.get_feature_names_out())"
   ]
  },
  {
   "cell_type": "markdown",
   "id": "tender-thumbnail",
   "metadata": {},
   "source": [
    "### N-gram model"
   ]
  },
  {
   "cell_type": "markdown",
   "id": "superior-transsexual",
   "metadata": {},
   "source": [
    "\n",
    "Here, `N-grams` is a combination of continuous words taken together in a\n",
    "sequence. \n",
    "* `Bi-grams` are 2 words taken together where `N = 2`,\n",
    "* `tri-grams` are 3 words taken together where N = 3, and so on:"
   ]
  },
  {
   "cell_type": "code",
   "execution_count": 45,
   "id": "circular-benjamin",
   "metadata": {},
   "outputs": [],
   "source": [
    "mynew_vect = CountVectorizer( stop_words='english' , lowercase=True ,\n",
    "                          token_pattern=r\"\\w\\w\\w+\" , ngram_range=(1,2))\n"
   ]
  },
  {
   "cell_type": "code",
   "execution_count": 46,
   "id": "tender-asthma",
   "metadata": {
    "scrolled": true
   },
   "outputs": [
    {
     "data": {
      "text/plain": [
       "['tommorow is ghost town',\n",
       " 'should we play today?',\n",
       " 'TUTORIAL TUESDAY NIGHt!!',\n",
       " 'Manchester VS Barcelona!!!']"
      ]
     },
     "execution_count": 46,
     "metadata": {},
     "output_type": "execute_result"
    }
   ],
   "source": [
    "inbox_train"
   ]
  },
  {
   "cell_type": "code",
   "execution_count": 47,
   "id": "falling-powell",
   "metadata": {},
   "outputs": [
    {
     "data": {
      "text/plain": [
       "array(['barcelona', 'ghost', 'ghost town', 'manchester',\n",
       "       'manchester barcelona', 'night', 'play', 'play today', 'today',\n",
       "       'tommorow', 'tommorow ghost', 'town', 'tuesday', 'tuesday night',\n",
       "       'tutorial', 'tutorial tuesday'], dtype=object)"
      ]
     },
     "execution_count": 47,
     "metadata": {},
     "output_type": "execute_result"
    }
   ],
   "source": [
    "mynew_vect.fit(inbox_train)\n",
    "mynew_vect.get_feature_names_out()\n"
   ]
  },
  {
   "cell_type": "code",
   "execution_count": 48,
   "id": "functioning-connecticut",
   "metadata": {},
   "outputs": [
    {
     "data": {
      "text/plain": [
       "<4x16 sparse matrix of type '<class 'numpy.int64'>'\n",
       "\twith 16 stored elements in Compressed Sparse Row format>"
      ]
     },
     "execution_count": 48,
     "metadata": {},
     "output_type": "execute_result"
    }
   ],
   "source": [
    "inbox_train_new = mynew_vect.transform(inbox_train)\n",
    "inbox_train_new"
   ]
  },
  {
   "cell_type": "code",
   "execution_count": 49,
   "id": "suited-interaction",
   "metadata": {},
   "outputs": [
    {
     "data": {
      "text/html": [
       "<div>\n",
       "<style scoped>\n",
       "    .dataframe tbody tr th:only-of-type {\n",
       "        vertical-align: middle;\n",
       "    }\n",
       "\n",
       "    .dataframe tbody tr th {\n",
       "        vertical-align: top;\n",
       "    }\n",
       "\n",
       "    .dataframe thead th {\n",
       "        text-align: right;\n",
       "    }\n",
       "</style>\n",
       "<table border=\"1\" class=\"dataframe\">\n",
       "  <thead>\n",
       "    <tr style=\"text-align: right;\">\n",
       "      <th></th>\n",
       "      <th>barcelona</th>\n",
       "      <th>ghost</th>\n",
       "      <th>ghost town</th>\n",
       "      <th>manchester</th>\n",
       "      <th>manchester barcelona</th>\n",
       "      <th>night</th>\n",
       "      <th>play</th>\n",
       "      <th>play today</th>\n",
       "      <th>today</th>\n",
       "      <th>tommorow</th>\n",
       "      <th>tommorow ghost</th>\n",
       "      <th>town</th>\n",
       "      <th>tuesday</th>\n",
       "      <th>tuesday night</th>\n",
       "      <th>tutorial</th>\n",
       "      <th>tutorial tuesday</th>\n",
       "    </tr>\n",
       "  </thead>\n",
       "  <tbody>\n",
       "    <tr>\n",
       "      <th>0</th>\n",
       "      <td>0</td>\n",
       "      <td>1</td>\n",
       "      <td>1</td>\n",
       "      <td>0</td>\n",
       "      <td>0</td>\n",
       "      <td>0</td>\n",
       "      <td>0</td>\n",
       "      <td>0</td>\n",
       "      <td>0</td>\n",
       "      <td>1</td>\n",
       "      <td>1</td>\n",
       "      <td>1</td>\n",
       "      <td>0</td>\n",
       "      <td>0</td>\n",
       "      <td>0</td>\n",
       "      <td>0</td>\n",
       "    </tr>\n",
       "    <tr>\n",
       "      <th>1</th>\n",
       "      <td>0</td>\n",
       "      <td>0</td>\n",
       "      <td>0</td>\n",
       "      <td>0</td>\n",
       "      <td>0</td>\n",
       "      <td>0</td>\n",
       "      <td>1</td>\n",
       "      <td>1</td>\n",
       "      <td>1</td>\n",
       "      <td>0</td>\n",
       "      <td>0</td>\n",
       "      <td>0</td>\n",
       "      <td>0</td>\n",
       "      <td>0</td>\n",
       "      <td>0</td>\n",
       "      <td>0</td>\n",
       "    </tr>\n",
       "    <tr>\n",
       "      <th>2</th>\n",
       "      <td>0</td>\n",
       "      <td>0</td>\n",
       "      <td>0</td>\n",
       "      <td>0</td>\n",
       "      <td>0</td>\n",
       "      <td>1</td>\n",
       "      <td>0</td>\n",
       "      <td>0</td>\n",
       "      <td>0</td>\n",
       "      <td>0</td>\n",
       "      <td>0</td>\n",
       "      <td>0</td>\n",
       "      <td>1</td>\n",
       "      <td>1</td>\n",
       "      <td>1</td>\n",
       "      <td>1</td>\n",
       "    </tr>\n",
       "    <tr>\n",
       "      <th>3</th>\n",
       "      <td>1</td>\n",
       "      <td>0</td>\n",
       "      <td>0</td>\n",
       "      <td>1</td>\n",
       "      <td>1</td>\n",
       "      <td>0</td>\n",
       "      <td>0</td>\n",
       "      <td>0</td>\n",
       "      <td>0</td>\n",
       "      <td>0</td>\n",
       "      <td>0</td>\n",
       "      <td>0</td>\n",
       "      <td>0</td>\n",
       "      <td>0</td>\n",
       "      <td>0</td>\n",
       "      <td>0</td>\n",
       "    </tr>\n",
       "  </tbody>\n",
       "</table>\n",
       "</div>"
      ],
      "text/plain": [
       "   barcelona  ghost  ghost town  manchester  manchester barcelona  night  \\\n",
       "0          0      1           1           0                     0      0   \n",
       "1          0      0           0           0                     0      0   \n",
       "2          0      0           0           0                     0      1   \n",
       "3          1      0           0           1                     1      0   \n",
       "\n",
       "   play  play today  today  tommorow  tommorow ghost  town  tuesday  \\\n",
       "0     0           0      0         1               1     1        0   \n",
       "1     1           1      1         0               0     0        0   \n",
       "2     0           0      0         0               0     0        1   \n",
       "3     0           0      0         0               0     0        0   \n",
       "\n",
       "   tuesday night  tutorial  tutorial tuesday  \n",
       "0              0         0                 0  \n",
       "1              0         0                 0  \n",
       "2              1         1                 1  \n",
       "3              0         0                 0  "
      ]
     },
     "execution_count": 49,
     "metadata": {},
     "output_type": "execute_result"
    }
   ],
   "source": [
    "pd.DataFrame(inbox_train_new.toarray(), columns=mynew_vect.get_feature_names_out())\n"
   ]
  },
  {
   "cell_type": "markdown",
   "id": "alien-louisville",
   "metadata": {},
   "source": [
    "Even though the bag of words captures the term frequency, there might be words that are present across all the documents that may dominate or mask the weight of other words."
   ]
  },
  {
   "cell_type": "markdown",
   "id": "played-reducing",
   "metadata": {},
   "source": [
    "## Feature engineering with word embeddings"
   ]
  },
  {
   "cell_type": "markdown",
   "id": "cultural-alcohol",
   "metadata": {},
   "source": [
    "Here , we will look at feature engineering techniques using Word2Vec. \n",
    "\n",
    "Word2vec is a group of related models that are used to produce word embeddings. \n",
    "\n",
    "These models are shallow, two-layer neural networks that are trained to reconstruct linguistic contexts of words."
   ]
  },
  {
   "cell_type": "markdown",
   "id": "honest-canadian",
   "metadata": {},
   "source": [
    "Created in 2013 by Google based on a pre-defined two-layer neural network trained to generate vector representations of words through which we can extract highly-contextual and semantic similarity. It is an unsupervised method where a large text data is input from which we create a vocabulary and produce similar word embeddings for each word in the vocabulary. As discussed, each word is represented in the form of a vector when it comes to word2vec embedding. Let us now look at an example implementing `word2vec` for a sample corpus:"
   ]
  },
  {
   "cell_type": "code",
   "execution_count": 50,
   "id": "knowing-vegetable",
   "metadata": {},
   "outputs": [],
   "source": [
    "import pandas as pd\n",
    "import numpy as np"
   ]
  },
  {
   "cell_type": "code",
   "execution_count": 55,
   "id": "matched-robert",
   "metadata": {},
   "outputs": [],
   "source": [
    "pd.options.display.max_colwidth = 200\n",
    "corpus = [\n",
    "    \"The maize yield has significantly increased in Kenya this year.\",\n",
    "    \"Ghana's cocoa industry is seeing substantial growth due to new farming techniques.\",\n",
    "    \"Many Ugandan families depend on coffee farming as their primary source of income.\",\n",
    "    \"The Johannesburg Stock Exchange is one of the leading stock exchanges in Africa.\",\n",
    "    \"Mobile banking innovations in Africa, like M-Pesa in Kenya, have revolutionized finance.\",\n",
    "    \"Senegal's football team has made a mark in the FIFA World Cup.\",\n",
    "    \"Rugby is becoming increasingly popular in countries like Namibia and Zimbabwe.\",\n",
    "    \"South African wines are known globally, thanks to its fertile vineyards.\",\n",
    "    \"Nigeria has seen an uptick in startups focusing on financial technologies.\",\n",
    "    \"The Central Bank of Egypt has implemented new regulations to boost financial inclusion.\",\n",
    "    \"Marathon runners from Ethiopia have been dominating the long-distance sports category globally.\",\n",
    "    \"Morocco is keen on developing its soccer infrastructure to bid for the FIFA World Cup.\",\n",
    "    \"Cotton farming in Mali is an essential part of its agricultural sector.\",\n",
    "    \"The Nile Delta in Egypt is a prime location for rice and wheat farming.\",\n",
    "    \"Kenya and Tanzania are focusing on enhancing their horticultural exports.\",\n",
    "    \"Botswana's diamond trade has significantly influenced its financial growth.\",\n",
    "    \"Investors are eyeing African startups, especially those in fintech.\",\n",
    "    \"Cameroon's national football team, the Indomitable Lions, have a rich history in African football.\",\n",
    "    \"Cricket is gaining traction in Uganda and Kenya.\",\n",
    "    \"The cocoa bonds in Cote d'Ivoire are a unique blend of finance and agriculture.\"]\n",
    "\n",
    "labels = [\"agriculture\", \"agriculture\", \"agriculture\", \"finance\", \"finance\",\n",
    "            \"sports\", \"sports\", \"agriculture\", \"finance\", \"finance\", \"sports\",\n",
    "        \"sports\", \"agriculture\", \"agriculture\", \"agriculture\", \"finance\",\n",
    "        \"finance\", \"sports\",\"sports\",\"finance\" ]\n"
   ]
  },
  {
   "cell_type": "code",
   "execution_count": 56,
   "id": "capital-botswana",
   "metadata": {
    "scrolled": true
   },
   "outputs": [
    {
     "data": {
      "text/plain": [
       "array(['The maize yield has significantly increased in Kenya this year.',\n",
       "       \"Ghana's cocoa industry is seeing substantial growth due to new farming techniques.\",\n",
       "       'Many Ugandan families depend on coffee farming as their primary source of income.',\n",
       "       'The Johannesburg Stock Exchange is one of the leading stock exchanges in Africa.',\n",
       "       'Mobile banking innovations in Africa, like M-Pesa in Kenya, have revolutionized finance.',\n",
       "       \"Senegal's football team has made a mark in the FIFA World Cup.\",\n",
       "       'Rugby is becoming increasingly popular in countries like Namibia and Zimbabwe.',\n",
       "       'South African wines are known globally, thanks to its fertile vineyards.',\n",
       "       'Nigeria has seen an uptick in startups focusing on financial technologies.',\n",
       "       'The Central Bank of Egypt has implemented new regulations to boost financial inclusion.',\n",
       "       'Marathon runners from Ethiopia have been dominating the long-distance sports category globally.',\n",
       "       'Morocco is keen on developing its soccer infrastructure to bid for the FIFA World Cup.',\n",
       "       'Cotton farming in Mali is an essential part of its agricultural sector.',\n",
       "       'The Nile Delta in Egypt is a prime location for rice and wheat farming.',\n",
       "       'Kenya and Tanzania are focusing on enhancing their horticultural exports.',\n",
       "       \"Botswana's diamond trade has significantly influenced its financial growth.\",\n",
       "       'Investors are eyeing African startups, especially those in fintech.',\n",
       "       \"Cameroon's national football team, the Indomitable Lions, have a rich history in African football.\",\n",
       "       'Cricket is gaining traction in Uganda and Kenya.',\n",
       "       \"The cocoa bonds in Cote d'Ivoire are a unique blend of finance and agriculture.\"],\n",
       "      dtype='<U98')"
      ]
     },
     "execution_count": 56,
     "metadata": {},
     "output_type": "execute_result"
    }
   ],
   "source": [
    "# labels = ['weather', 'weather', 'animals', 'food', 'food',\n",
    "# 'animals', 'weather', 'animals']\n",
    "corpus = np.array(corpus)\n",
    "corpus"
   ]
  },
  {
   "cell_type": "code",
   "execution_count": 57,
   "id": "deluxe-start",
   "metadata": {},
   "outputs": [
    {
     "data": {
      "text/html": [
       "<div>\n",
       "<style scoped>\n",
       "    .dataframe tbody tr th:only-of-type {\n",
       "        vertical-align: middle;\n",
       "    }\n",
       "\n",
       "    .dataframe tbody tr th {\n",
       "        vertical-align: top;\n",
       "    }\n",
       "\n",
       "    .dataframe thead th {\n",
       "        text-align: right;\n",
       "    }\n",
       "</style>\n",
       "<table border=\"1\" class=\"dataframe\">\n",
       "  <thead>\n",
       "    <tr style=\"text-align: right;\">\n",
       "      <th></th>\n",
       "      <th>Document</th>\n",
       "      <th>Category</th>\n",
       "    </tr>\n",
       "  </thead>\n",
       "  <tbody>\n",
       "    <tr>\n",
       "      <th>0</th>\n",
       "      <td>The maize yield has significantly increased in Kenya this year.</td>\n",
       "      <td>agriculture</td>\n",
       "    </tr>\n",
       "    <tr>\n",
       "      <th>1</th>\n",
       "      <td>Ghana's cocoa industry is seeing substantial growth due to new farming techniques.</td>\n",
       "      <td>agriculture</td>\n",
       "    </tr>\n",
       "    <tr>\n",
       "      <th>2</th>\n",
       "      <td>Many Ugandan families depend on coffee farming as their primary source of income.</td>\n",
       "      <td>agriculture</td>\n",
       "    </tr>\n",
       "    <tr>\n",
       "      <th>3</th>\n",
       "      <td>The Johannesburg Stock Exchange is one of the leading stock exchanges in Africa.</td>\n",
       "      <td>finance</td>\n",
       "    </tr>\n",
       "    <tr>\n",
       "      <th>4</th>\n",
       "      <td>Mobile banking innovations in Africa, like M-Pesa in Kenya, have revolutionized finance.</td>\n",
       "      <td>finance</td>\n",
       "    </tr>\n",
       "    <tr>\n",
       "      <th>5</th>\n",
       "      <td>Senegal's football team has made a mark in the FIFA World Cup.</td>\n",
       "      <td>sports</td>\n",
       "    </tr>\n",
       "    <tr>\n",
       "      <th>6</th>\n",
       "      <td>Rugby is becoming increasingly popular in countries like Namibia and Zimbabwe.</td>\n",
       "      <td>sports</td>\n",
       "    </tr>\n",
       "    <tr>\n",
       "      <th>7</th>\n",
       "      <td>South African wines are known globally, thanks to its fertile vineyards.</td>\n",
       "      <td>agriculture</td>\n",
       "    </tr>\n",
       "    <tr>\n",
       "      <th>8</th>\n",
       "      <td>Nigeria has seen an uptick in startups focusing on financial technologies.</td>\n",
       "      <td>finance</td>\n",
       "    </tr>\n",
       "    <tr>\n",
       "      <th>9</th>\n",
       "      <td>The Central Bank of Egypt has implemented new regulations to boost financial inclusion.</td>\n",
       "      <td>finance</td>\n",
       "    </tr>\n",
       "    <tr>\n",
       "      <th>10</th>\n",
       "      <td>Marathon runners from Ethiopia have been dominating the long-distance sports category globally.</td>\n",
       "      <td>sports</td>\n",
       "    </tr>\n",
       "    <tr>\n",
       "      <th>11</th>\n",
       "      <td>Morocco is keen on developing its soccer infrastructure to bid for the FIFA World Cup.</td>\n",
       "      <td>sports</td>\n",
       "    </tr>\n",
       "    <tr>\n",
       "      <th>12</th>\n",
       "      <td>Cotton farming in Mali is an essential part of its agricultural sector.</td>\n",
       "      <td>agriculture</td>\n",
       "    </tr>\n",
       "    <tr>\n",
       "      <th>13</th>\n",
       "      <td>The Nile Delta in Egypt is a prime location for rice and wheat farming.</td>\n",
       "      <td>agriculture</td>\n",
       "    </tr>\n",
       "    <tr>\n",
       "      <th>14</th>\n",
       "      <td>Kenya and Tanzania are focusing on enhancing their horticultural exports.</td>\n",
       "      <td>agriculture</td>\n",
       "    </tr>\n",
       "    <tr>\n",
       "      <th>15</th>\n",
       "      <td>Botswana's diamond trade has significantly influenced its financial growth.</td>\n",
       "      <td>finance</td>\n",
       "    </tr>\n",
       "    <tr>\n",
       "      <th>16</th>\n",
       "      <td>Investors are eyeing African startups, especially those in fintech.</td>\n",
       "      <td>finance</td>\n",
       "    </tr>\n",
       "    <tr>\n",
       "      <th>17</th>\n",
       "      <td>Cameroon's national football team, the Indomitable Lions, have a rich history in African football.</td>\n",
       "      <td>sports</td>\n",
       "    </tr>\n",
       "    <tr>\n",
       "      <th>18</th>\n",
       "      <td>Cricket is gaining traction in Uganda and Kenya.</td>\n",
       "      <td>sports</td>\n",
       "    </tr>\n",
       "    <tr>\n",
       "      <th>19</th>\n",
       "      <td>The cocoa bonds in Cote d'Ivoire are a unique blend of finance and agriculture.</td>\n",
       "      <td>finance</td>\n",
       "    </tr>\n",
       "  </tbody>\n",
       "</table>\n",
       "</div>"
      ],
      "text/plain": [
       "                                                                                              Document  \\\n",
       "0                                      The maize yield has significantly increased in Kenya this year.   \n",
       "1                   Ghana's cocoa industry is seeing substantial growth due to new farming techniques.   \n",
       "2                    Many Ugandan families depend on coffee farming as their primary source of income.   \n",
       "3                     The Johannesburg Stock Exchange is one of the leading stock exchanges in Africa.   \n",
       "4             Mobile banking innovations in Africa, like M-Pesa in Kenya, have revolutionized finance.   \n",
       "5                                       Senegal's football team has made a mark in the FIFA World Cup.   \n",
       "6                       Rugby is becoming increasingly popular in countries like Namibia and Zimbabwe.   \n",
       "7                             South African wines are known globally, thanks to its fertile vineyards.   \n",
       "8                           Nigeria has seen an uptick in startups focusing on financial technologies.   \n",
       "9              The Central Bank of Egypt has implemented new regulations to boost financial inclusion.   \n",
       "10     Marathon runners from Ethiopia have been dominating the long-distance sports category globally.   \n",
       "11              Morocco is keen on developing its soccer infrastructure to bid for the FIFA World Cup.   \n",
       "12                             Cotton farming in Mali is an essential part of its agricultural sector.   \n",
       "13                             The Nile Delta in Egypt is a prime location for rice and wheat farming.   \n",
       "14                           Kenya and Tanzania are focusing on enhancing their horticultural exports.   \n",
       "15                         Botswana's diamond trade has significantly influenced its financial growth.   \n",
       "16                                 Investors are eyeing African startups, especially those in fintech.   \n",
       "17  Cameroon's national football team, the Indomitable Lions, have a rich history in African football.   \n",
       "18                                                    Cricket is gaining traction in Uganda and Kenya.   \n",
       "19                     The cocoa bonds in Cote d'Ivoire are a unique blend of finance and agriculture.   \n",
       "\n",
       "       Category  \n",
       "0   agriculture  \n",
       "1   agriculture  \n",
       "2   agriculture  \n",
       "3       finance  \n",
       "4       finance  \n",
       "5        sports  \n",
       "6        sports  \n",
       "7   agriculture  \n",
       "8       finance  \n",
       "9       finance  \n",
       "10       sports  \n",
       "11       sports  \n",
       "12  agriculture  \n",
       "13  agriculture  \n",
       "14  agriculture  \n",
       "15      finance  \n",
       "16      finance  \n",
       "17       sports  \n",
       "18       sports  \n",
       "19      finance  "
      ]
     },
     "execution_count": 57,
     "metadata": {},
     "output_type": "execute_result"
    }
   ],
   "source": [
    "corpus_df = pd.DataFrame({'Document': corpus, 'Category':\n",
    "labels})\n",
    "corpus_df = corpus_df[['Document', 'Category']]\n",
    "corpus_df"
   ]
  },
  {
   "cell_type": "markdown",
   "id": "toxic-toilet",
   "metadata": {},
   "source": [
    "### Pre-processings:"
   ]
  },
  {
   "cell_type": "code",
   "execution_count": 58,
   "id": "built-kuwait",
   "metadata": {},
   "outputs": [],
   "source": [
    "import nltk\n",
    "import re\n",
    "stop_words = nltk.corpus.stopwords.words('english')"
   ]
  },
  {
   "cell_type": "code",
   "execution_count": 59,
   "id": "certain-baking",
   "metadata": {},
   "outputs": [],
   "source": [
    "def normalize_document(doc):\n",
    "    # lower case and remove special characters\\whitespaces\n",
    "    doc = re.sub(r'[^a-zA-Z\\s]', '', doc, re.I|re.A)\n",
    "    doc = doc.lower()\n",
    "    doc = doc.strip()\n",
    "    # tokenize document\n",
    "    tokens = nltk.word_tokenize(doc)\n",
    "    # filter stopwords out of document\n",
    "    filtered_tokens = [token for token in tokens if token not in stop_words]\n",
    "    # re-create document from filtered tokens\n",
    "    doc = ' '.join(filtered_tokens)\n",
    "    return doc"
   ]
  },
  {
   "cell_type": "code",
   "execution_count": 60,
   "id": "demanding-grounds",
   "metadata": {},
   "outputs": [
    {
     "data": {
      "text/plain": [
       "array(['maize yield significantly increased kenya year',\n",
       "       'ghanas cocoa industry seeing substantial growth due new farming techniques',\n",
       "       'many ugandan families depend coffee farming primary source income',\n",
       "       'johannesburg stock exchange one leading stock exchanges africa',\n",
       "       'mobile banking innovations africa like mpesa kenya revolutionized finance',\n",
       "       'senegals football team made mark fifa world cup',\n",
       "       'rugby becoming increasingly popular countries like namibia zimbabwe',\n",
       "       'south african wines known globally thanks fertile vineyards',\n",
       "       'nigeria seen uptick startups focusing financial technologies',\n",
       "       'central bank egypt implemented new regulations boost financial inclusion',\n",
       "       'marathon runners ethiopia dominating longdistance sports category globally',\n",
       "       'morocco keen developing soccer infrastructure bid fifa world cup',\n",
       "       'cotton farming mali essential part agricultural sector',\n",
       "       'nile delta egypt prime location rice wheat farming',\n",
       "       'kenya tanzania focusing enhancing horticultural exports',\n",
       "       'botswanas diamond trade significantly influenced financial growth',\n",
       "       'investors eyeing african startups especially fintech',\n",
       "       'cameroons national football team indomitable lions rich history african football',\n",
       "       'cricket gaining traction uganda kenya',\n",
       "       'cocoa bonds cote divoire unique blend finance agriculture'],\n",
       "      dtype='<U80')"
      ]
     },
     "execution_count": 60,
     "metadata": {},
     "output_type": "execute_result"
    }
   ],
   "source": [
    "normalize_corpus = np.vectorize(normalize_document)\n",
    "norm_corpus = normalize_corpus(corpus)\n",
    "norm_corpus"
   ]
  },
  {
   "cell_type": "markdown",
   "id": "legislative-crossing",
   "metadata": {},
   "source": [
    "### Importing the Word2Vec model from Gensim."
   ]
  },
  {
   "cell_type": "markdown",
   "id": "foster-rehabilitation",
   "metadata": {},
   "source": [
    "Gensim is an open-source library that can be used for unsupervised natural language processing. It already includes implementations of models like wor2vec, fastText, and so on. This allows us to select the parameters like\n",
    "word vector dimensionality, the window size which determines the number of words before and after that would be included as the context word for the given word, and the minimum times a word needs to be seen in the training\n",
    "data for quality results. So, let us now understand what these terms mean. Consider the following\n",
    "sentence:"
   ]
  },
  {
   "cell_type": "markdown",
   "id": "varying-brush",
   "metadata": {},
   "source": [
    "`The maize yield has significantly increased in Kenya this year.`"
   ]
  },
  {
   "cell_type": "markdown",
   "id": "special-lancaster",
   "metadata": {},
   "source": [
    "Let us assume the window size here is 3, Skip-gram here is 1. Given a specific word with window 3, we will start forming words inside the window with that specific word."
   ]
  },
  {
   "cell_type": "code",
   "execution_count": 61,
   "id": "continued-language",
   "metadata": {},
   "outputs": [],
   "source": [
    "import nltk\n",
    "from gensim.models import word2vec\n",
    "tokenized_corpus = [nltk.word_tokenize(doc) for doc in norm_corpus]\n",
    "# Set values for various parameters\n",
    "\n",
    "feature_size = 15 # Word vector dimensionality\n",
    "window_context = 20 # Context window size\n",
    "min_word_count = 1 # Minimum word count\n",
    "sg = 1 # skip-gram model\n",
    "\n",
    "\n",
    "w2v_model = word2vec.Word2Vec(tokenized_corpus, vector_size=feature_size, \n",
    "                              window=window_context, min_count = min_word_count,\n",
    "                              sg=sg, epochs=5000)\n"
   ]
  },
  {
   "cell_type": "code",
   "execution_count": 62,
   "id": "tight-cassette",
   "metadata": {},
   "outputs": [
    {
     "data": {
      "text/plain": [
       "array([-0.45873812,  0.8737446 ,  1.3789333 ,  0.40094075, -1.3420331 ,\n",
       "       -0.8606223 ,  0.09125492,  0.7699283 , -0.38733578,  0.1362881 ,\n",
       "        2.7762766 ,  1.8425084 , -0.1110498 ,  0.20724857, -0.85556376],\n",
       "      dtype=float32)"
      ]
     },
     "execution_count": 62,
     "metadata": {},
     "output_type": "execute_result"
    }
   ],
   "source": [
    "w2v_model.wv['maize']"
   ]
  },
  {
   "cell_type": "markdown",
   "id": "lovely-profit",
   "metadata": {},
   "source": [
    "The shape of the vector is 15, which we have already specified as feature_size"
   ]
  },
  {
   "cell_type": "code",
   "execution_count": 63,
   "id": "interracial-queue",
   "metadata": {},
   "outputs": [
    {
     "data": {
      "text/plain": [
       "array([-2.2331746 , -0.25249022,  0.09747826,  0.71427405, -1.2824974 ,\n",
       "       -0.68737614, -0.02547072, -0.43150347, -0.3415621 ,  0.62626266,\n",
       "        2.5488322 ,  1.4629017 , -0.91038805, -0.2530523 , -2.1594386 ],\n",
       "      dtype=float32)"
      ]
     },
     "execution_count": 63,
     "metadata": {},
     "output_type": "execute_result"
    }
   ],
   "source": [
    "w2v_model.wv['significantly']"
   ]
  },
  {
   "cell_type": "markdown",
   "id": "disabled-provincial",
   "metadata": {},
   "source": [
    "### t-SNE"
   ]
  },
  {
   "cell_type": "markdown",
   "id": "cheap-syndication",
   "metadata": {},
   "source": [
    "t-SNE stands for t-Distributed Stochastic Neighbor Embedding. This is an unsupervised learning technique that can be used mainly for visualization of\n",
    "high-dimensional data and also for data exploration purposes. The visualization of the embeddings is as follows:"
   ]
  },
  {
   "cell_type": "code",
   "execution_count": 64,
   "id": "architectural-guidance",
   "metadata": {},
   "outputs": [
    {
     "name": "stderr",
     "output_type": "stream",
     "text": [
      "/home/rockefeller/.local/lib/python3.9/site-packages/sklearn/manifold/_t_sne.py:800: FutureWarning: The default initialization in TSNE will change from 'random' to 'pca' in 1.2.\n",
      "  warnings.warn(\n",
      "/home/rockefeller/.local/lib/python3.9/site-packages/sklearn/manifold/_t_sne.py:810: FutureWarning: The default learning rate in TSNE will change from 200.0 to 'auto' in 1.2.\n",
      "  warnings.warn(\n"
     ]
    }
   ],
   "source": [
    "import matplotlib.pyplot as plt\n",
    "%matplotlib inline\n",
    "# visualize embeddings\n",
    "from sklearn.manifold import TSNE\n",
    "\n",
    "words = w2v_model.wv.index_to_key\n",
    "wvs = w2v_model.wv[words]\n",
    "tsne = TSNE(n_components=2, random_state=42, n_iter=5000, perplexity=5)\n",
    "np.set_printoptions(suppress=True)\n",
    "T = tsne.fit_transform(wvs)\n",
    "labels = words\n"
   ]
  },
  {
   "cell_type": "code",
   "execution_count": 65,
   "id": "killing-gabriel",
   "metadata": {},
   "outputs": [
    {
     "data": {
      "image/png": "[encoded data removed]",
      "text/plain": [
       "<Figure size 864x432 with 1 Axes>"
      ]
     },
     "metadata": {
      "needs_background": "light"
     },
     "output_type": "display_data"
    }
   ],
   "source": [
    "plt.figure(figsize=(12, 6))\n",
    "plt.scatter(T[:, 0], T[:, 1], c='orange', edgecolors='r')\n",
    "for label, x, y in zip(labels, T[:, 0], T[:, 1]):\n",
    "    plt.annotate(label, xy=(x+1, y+1), xytext=(0, 0),\n",
    "    textcoords='offset points')"
   ]
  },
  {
   "cell_type": "code",
   "execution_count": 66,
   "id": "dirty-keeping",
   "metadata": {},
   "outputs": [
    {
     "data": {
      "text/html": [
       "<div>\n",
       "<style scoped>\n",
       "    .dataframe tbody tr th:only-of-type {\n",
       "        vertical-align: middle;\n",
       "    }\n",
       "\n",
       "    .dataframe tbody tr th {\n",
       "        vertical-align: top;\n",
       "    }\n",
       "\n",
       "    .dataframe thead th {\n",
       "        text-align: right;\n",
       "    }\n",
       "</style>\n",
       "<table border=\"1\" class=\"dataframe\">\n",
       "  <thead>\n",
       "    <tr style=\"text-align: right;\">\n",
       "      <th></th>\n",
       "      <th>0</th>\n",
       "      <th>1</th>\n",
       "      <th>2</th>\n",
       "      <th>3</th>\n",
       "      <th>4</th>\n",
       "      <th>5</th>\n",
       "      <th>6</th>\n",
       "      <th>7</th>\n",
       "      <th>8</th>\n",
       "      <th>9</th>\n",
       "      <th>10</th>\n",
       "      <th>11</th>\n",
       "      <th>12</th>\n",
       "      <th>13</th>\n",
       "      <th>14</th>\n",
       "    </tr>\n",
       "  </thead>\n",
       "  <tbody>\n",
       "    <tr>\n",
       "      <th>kenya</th>\n",
       "      <td>0.561231</td>\n",
       "      <td>1.639635</td>\n",
       "      <td>2.029844</td>\n",
       "      <td>1.575998</td>\n",
       "      <td>-0.976132</td>\n",
       "      <td>-0.717271</td>\n",
       "      <td>1.949077</td>\n",
       "      <td>-0.181016</td>\n",
       "      <td>0.047426</td>\n",
       "      <td>1.898577</td>\n",
       "      <td>1.467426</td>\n",
       "      <td>0.530454</td>\n",
       "      <td>-0.275948</td>\n",
       "      <td>0.544185</td>\n",
       "      <td>-0.831209</td>\n",
       "    </tr>\n",
       "    <tr>\n",
       "      <th>farming</th>\n",
       "      <td>-0.174367</td>\n",
       "      <td>0.110400</td>\n",
       "      <td>0.471425</td>\n",
       "      <td>-1.858607</td>\n",
       "      <td>-1.270719</td>\n",
       "      <td>2.000992</td>\n",
       "      <td>0.289586</td>\n",
       "      <td>0.682565</td>\n",
       "      <td>0.626566</td>\n",
       "      <td>2.692659</td>\n",
       "      <td>-0.338978</td>\n",
       "      <td>0.600450</td>\n",
       "      <td>1.280935</td>\n",
       "      <td>0.468232</td>\n",
       "      <td>-1.354149</td>\n",
       "    </tr>\n",
       "    <tr>\n",
       "      <th>financial</th>\n",
       "      <td>-1.982795</td>\n",
       "      <td>-0.696186</td>\n",
       "      <td>2.332054</td>\n",
       "      <td>0.914670</td>\n",
       "      <td>-1.665265</td>\n",
       "      <td>-0.748790</td>\n",
       "      <td>2.387444</td>\n",
       "      <td>0.510440</td>\n",
       "      <td>1.258746</td>\n",
       "      <td>0.224496</td>\n",
       "      <td>-0.373364</td>\n",
       "      <td>-0.241373</td>\n",
       "      <td>0.336640</td>\n",
       "      <td>-0.401789</td>\n",
       "      <td>-0.701419</td>\n",
       "    </tr>\n",
       "    <tr>\n",
       "      <th>football</th>\n",
       "      <td>-0.599907</td>\n",
       "      <td>-0.598198</td>\n",
       "      <td>1.828045</td>\n",
       "      <td>0.393926</td>\n",
       "      <td>0.945743</td>\n",
       "      <td>-0.836179</td>\n",
       "      <td>0.956818</td>\n",
       "      <td>0.349481</td>\n",
       "      <td>-0.644804</td>\n",
       "      <td>2.286049</td>\n",
       "      <td>0.027624</td>\n",
       "      <td>1.631302</td>\n",
       "      <td>0.462132</td>\n",
       "      <td>-0.618069</td>\n",
       "      <td>0.292970</td>\n",
       "    </tr>\n",
       "    <tr>\n",
       "      <th>african</th>\n",
       "      <td>-2.664818</td>\n",
       "      <td>0.245410</td>\n",
       "      <td>0.720836</td>\n",
       "      <td>-1.416514</td>\n",
       "      <td>0.469644</td>\n",
       "      <td>-0.722265</td>\n",
       "      <td>-0.373836</td>\n",
       "      <td>1.113331</td>\n",
       "      <td>-1.489850</td>\n",
       "      <td>-0.067820</td>\n",
       "      <td>1.593321</td>\n",
       "      <td>1.510321</td>\n",
       "      <td>0.467839</td>\n",
       "      <td>-1.448800</td>\n",
       "      <td>0.464510</td>\n",
       "    </tr>\n",
       "    <tr>\n",
       "      <th>growth</th>\n",
       "      <td>-1.455088</td>\n",
       "      <td>0.118582</td>\n",
       "      <td>1.203023</td>\n",
       "      <td>-0.681053</td>\n",
       "      <td>-1.372198</td>\n",
       "      <td>0.426928</td>\n",
       "      <td>0.499600</td>\n",
       "      <td>-0.545330</td>\n",
       "      <td>0.889958</td>\n",
       "      <td>-1.609990</td>\n",
       "      <td>1.898579</td>\n",
       "      <td>1.705582</td>\n",
       "      <td>-0.583347</td>\n",
       "      <td>-2.411299</td>\n",
       "      <td>-1.024775</td>\n",
       "    </tr>\n",
       "    <tr>\n",
       "      <th>egypt</th>\n",
       "      <td>-1.701611</td>\n",
       "      <td>0.041544</td>\n",
       "      <td>2.126919</td>\n",
       "      <td>-0.663635</td>\n",
       "      <td>-1.096295</td>\n",
       "      <td>1.510980</td>\n",
       "      <td>-0.733691</td>\n",
       "      <td>-0.869595</td>\n",
       "      <td>1.285621</td>\n",
       "      <td>0.592550</td>\n",
       "      <td>0.160046</td>\n",
       "      <td>0.978664</td>\n",
       "      <td>1.375105</td>\n",
       "      <td>0.698507</td>\n",
       "      <td>1.391626</td>\n",
       "    </tr>\n",
       "    <tr>\n",
       "      <th>cup</th>\n",
       "      <td>0.117098</td>\n",
       "      <td>-1.506914</td>\n",
       "      <td>1.273515</td>\n",
       "      <td>0.237334</td>\n",
       "      <td>1.036157</td>\n",
       "      <td>0.011876</td>\n",
       "      <td>-0.449337</td>\n",
       "      <td>-1.166061</td>\n",
       "      <td>0.264145</td>\n",
       "      <td>1.631096</td>\n",
       "      <td>2.378946</td>\n",
       "      <td>1.403784</td>\n",
       "      <td>1.043565</td>\n",
       "      <td>-1.303885</td>\n",
       "      <td>0.745391</td>\n",
       "    </tr>\n",
       "    <tr>\n",
       "      <th>world</th>\n",
       "      <td>0.139035</td>\n",
       "      <td>-0.746017</td>\n",
       "      <td>2.036175</td>\n",
       "      <td>-0.756923</td>\n",
       "      <td>1.694397</td>\n",
       "      <td>0.438469</td>\n",
       "      <td>-0.475222</td>\n",
       "      <td>-0.725418</td>\n",
       "      <td>-0.003726</td>\n",
       "      <td>2.070664</td>\n",
       "      <td>2.401485</td>\n",
       "      <td>0.325184</td>\n",
       "      <td>0.009199</td>\n",
       "      <td>-0.849018</td>\n",
       "      <td>0.538207</td>\n",
       "    </tr>\n",
       "    <tr>\n",
       "      <th>fifa</th>\n",
       "      <td>-0.147396</td>\n",
       "      <td>-0.626625</td>\n",
       "      <td>1.743245</td>\n",
       "      <td>0.055830</td>\n",
       "      <td>1.953142</td>\n",
       "      <td>0.110812</td>\n",
       "      <td>-0.760711</td>\n",
       "      <td>-0.549049</td>\n",
       "      <td>-0.131664</td>\n",
       "      <td>1.110139</td>\n",
       "      <td>2.413607</td>\n",
       "      <td>1.675161</td>\n",
       "      <td>0.723214</td>\n",
       "      <td>0.109861</td>\n",
       "      <td>0.904174</td>\n",
       "    </tr>\n",
       "    <tr>\n",
       "      <th>africa</th>\n",
       "      <td>0.015147</td>\n",
       "      <td>0.962103</td>\n",
       "      <td>1.953921</td>\n",
       "      <td>2.079165</td>\n",
       "      <td>-0.130454</td>\n",
       "      <td>-0.337574</td>\n",
       "      <td>-0.182475</td>\n",
       "      <td>0.140271</td>\n",
       "      <td>-0.717915</td>\n",
       "      <td>0.645916</td>\n",
       "      <td>0.805746</td>\n",
       "      <td>0.476833</td>\n",
       "      <td>1.916162</td>\n",
       "      <td>-2.332844</td>\n",
       "      <td>-0.462485</td>\n",
       "    </tr>\n",
       "    <tr>\n",
       "      <th>finance</th>\n",
       "      <td>0.381307</td>\n",
       "      <td>1.851419</td>\n",
       "      <td>0.770652</td>\n",
       "      <td>0.341087</td>\n",
       "      <td>1.020754</td>\n",
       "      <td>0.273479</td>\n",
       "      <td>0.791069</td>\n",
       "      <td>0.995393</td>\n",
       "      <td>-0.354039</td>\n",
       "      <td>0.613456</td>\n",
       "      <td>0.807616</td>\n",
       "      <td>1.523808</td>\n",
       "      <td>1.072136</td>\n",
       "      <td>-1.176546</td>\n",
       "      <td>-3.135080</td>\n",
       "    </tr>\n",
       "    <tr>\n",
       "      <th>new</th>\n",
       "      <td>-1.199363</td>\n",
       "      <td>0.436553</td>\n",
       "      <td>2.044400</td>\n",
       "      <td>-2.149819</td>\n",
       "      <td>-1.925895</td>\n",
       "      <td>0.624204</td>\n",
       "      <td>0.763262</td>\n",
       "      <td>-1.077171</td>\n",
       "      <td>1.847955</td>\n",
       "      <td>-0.267310</td>\n",
       "      <td>0.390057</td>\n",
       "      <td>0.647966</td>\n",
       "      <td>-0.123182</td>\n",
       "      <td>0.320186</td>\n",
       "      <td>-1.219674</td>\n",
       "    </tr>\n",
       "    <tr>\n",
       "      <th>stock</th>\n",
       "      <td>-0.638886</td>\n",
       "      <td>0.160003</td>\n",
       "      <td>0.592092</td>\n",
       "      <td>-0.162302</td>\n",
       "      <td>-0.804528</td>\n",
       "      <td>-0.709368</td>\n",
       "      <td>0.122333</td>\n",
       "      <td>0.064840</td>\n",
       "      <td>-0.422148</td>\n",
       "      <td>1.934692</td>\n",
       "      <td>1.783332</td>\n",
       "      <td>-0.156854</td>\n",
       "      <td>2.199332</td>\n",
       "      <td>-1.943675</td>\n",
       "      <td>-0.533379</td>\n",
       "    </tr>\n",
       "    <tr>\n",
       "      <th>team</th>\n",
       "      <td>-0.616710</td>\n",
       "      <td>-1.435065</td>\n",
       "      <td>2.443826</td>\n",
       "      <td>-0.292895</td>\n",
       "      <td>0.718745</td>\n",
       "      <td>-1.403654</td>\n",
       "      <td>1.174186</td>\n",
       "      <td>0.216660</td>\n",
       "      <td>-0.911088</td>\n",
       "      <td>1.266980</td>\n",
       "      <td>0.293602</td>\n",
       "      <td>1.162798</td>\n",
       "      <td>0.572534</td>\n",
       "      <td>0.016897</td>\n",
       "      <td>0.687640</td>\n",
       "    </tr>\n",
       "    <tr>\n",
       "      <th>globally</th>\n",
       "      <td>-1.892786</td>\n",
       "      <td>0.212381</td>\n",
       "      <td>1.967501</td>\n",
       "      <td>-0.111168</td>\n",
       "      <td>-0.517427</td>\n",
       "      <td>0.636939</td>\n",
       "      <td>-0.545757</td>\n",
       "      <td>-2.129190</td>\n",
       "      <td>-1.524419</td>\n",
       "      <td>-0.404751</td>\n",
       "      <td>0.008088</td>\n",
       "      <td>0.713473</td>\n",
       "      <td>2.064778</td>\n",
       "      <td>1.045552</td>\n",
       "      <td>-0.914348</td>\n",
       "    </tr>\n",
       "    <tr>\n",
       "      <th>cocoa</th>\n",
       "      <td>-0.441136</td>\n",
       "      <td>-0.889903</td>\n",
       "      <td>1.613013</td>\n",
       "      <td>0.429460</td>\n",
       "      <td>-0.218218</td>\n",
       "      <td>2.380472</td>\n",
       "      <td>0.465251</td>\n",
       "      <td>0.230195</td>\n",
       "      <td>0.196187</td>\n",
       "      <td>0.069559</td>\n",
       "      <td>-0.098212</td>\n",
       "      <td>0.754158</td>\n",
       "      <td>-0.136118</td>\n",
       "      <td>-1.337207</td>\n",
       "      <td>-2.494269</td>\n",
       "    </tr>\n",
       "    <tr>\n",
       "      <th>focusing</th>\n",
       "      <td>-2.181024</td>\n",
       "      <td>0.263437</td>\n",
       "      <td>1.218267</td>\n",
       "      <td>1.865963</td>\n",
       "      <td>-0.816072</td>\n",
       "      <td>0.967212</td>\n",
       "      <td>0.412735</td>\n",
       "      <td>1.691297</td>\n",
       "      <td>1.292062</td>\n",
       "      <td>1.126398</td>\n",
       "      <td>2.084992</td>\n",
       "      <td>-0.390683</td>\n",
       "      <td>0.557935</td>\n",
       "      <td>-0.407550</td>\n",
       "      <td>0.153855</td>\n",
       "    </tr>\n",
       "    <tr>\n",
       "      <th>startups</th>\n",
       "      <td>-2.723265</td>\n",
       "      <td>-0.146492</td>\n",
       "      <td>2.280907</td>\n",
       "      <td>-0.202294</td>\n",
       "      <td>0.886327</td>\n",
       "      <td>1.578477</td>\n",
       "      <td>0.137987</td>\n",
       "      <td>0.171010</td>\n",
       "      <td>-0.624616</td>\n",
       "      <td>0.993810</td>\n",
       "      <td>0.747750</td>\n",
       "      <td>-0.994057</td>\n",
       "      <td>-0.668463</td>\n",
       "      <td>0.327406</td>\n",
       "      <td>-0.325893</td>\n",
       "    </tr>\n",
       "    <tr>\n",
       "      <th>significantly</th>\n",
       "      <td>-2.233175</td>\n",
       "      <td>-0.252490</td>\n",
       "      <td>0.097478</td>\n",
       "      <td>0.714274</td>\n",
       "      <td>-1.282497</td>\n",
       "      <td>-0.687376</td>\n",
       "      <td>-0.025471</td>\n",
       "      <td>-0.431503</td>\n",
       "      <td>-0.341562</td>\n",
       "      <td>0.626263</td>\n",
       "      <td>2.548832</td>\n",
       "      <td>1.462902</td>\n",
       "      <td>-0.910388</td>\n",
       "      <td>-0.253052</td>\n",
       "      <td>-2.159439</td>\n",
       "    </tr>\n",
       "  </tbody>\n",
       "</table>\n",
       "</div>"
      ],
      "text/plain": [
       "                     0         1         2         3         4         5   \\\n",
       "kenya          0.561231  1.639635  2.029844  1.575998 -0.976132 -0.717271   \n",
       "farming       -0.174367  0.110400  0.471425 -1.858607 -1.270719  2.000992   \n",
       "financial     -1.982795 -0.696186  2.332054  0.914670 -1.665265 -0.748790   \n",
       "football      -0.599907 -0.598198  1.828045  0.393926  0.945743 -0.836179   \n",
       "african       -2.664818  0.245410  0.720836 -1.416514  0.469644 -0.722265   \n",
       "growth        -1.455088  0.118582  1.203023 -0.681053 -1.372198  0.426928   \n",
       "egypt         -1.701611  0.041544  2.126919 -0.663635 -1.096295  1.510980   \n",
       "cup            0.117098 -1.506914  1.273515  0.237334  1.036157  0.011876   \n",
       "world          0.139035 -0.746017  2.036175 -0.756923  1.694397  0.438469   \n",
       "fifa          -0.147396 -0.626625  1.743245  0.055830  1.953142  0.110812   \n",
       "africa         0.015147  0.962103  1.953921  2.079165 -0.130454 -0.337574   \n",
       "finance        0.381307  1.851419  0.770652  0.341087  1.020754  0.273479   \n",
       "new           -1.199363  0.436553  2.044400 -2.149819 -1.925895  0.624204   \n",
       "stock         -0.638886  0.160003  0.592092 -0.162302 -0.804528 -0.709368   \n",
       "team          -0.616710 -1.435065  2.443826 -0.292895  0.718745 -1.403654   \n",
       "globally      -1.892786  0.212381  1.967501 -0.111168 -0.517427  0.636939   \n",
       "cocoa         -0.441136 -0.889903  1.613013  0.429460 -0.218218  2.380472   \n",
       "focusing      -2.181024  0.263437  1.218267  1.865963 -0.816072  0.967212   \n",
       "startups      -2.723265 -0.146492  2.280907 -0.202294  0.886327  1.578477   \n",
       "significantly -2.233175 -0.252490  0.097478  0.714274 -1.282497 -0.687376   \n",
       "\n",
       "                     6         7         8         9         10        11  \\\n",
       "kenya          1.949077 -0.181016  0.047426  1.898577  1.467426  0.530454   \n",
       "farming        0.289586  0.682565  0.626566  2.692659 -0.338978  0.600450   \n",
       "financial      2.387444  0.510440  1.258746  0.224496 -0.373364 -0.241373   \n",
       "football       0.956818  0.349481 -0.644804  2.286049  0.027624  1.631302   \n",
       "african       -0.373836  1.113331 -1.489850 -0.067820  1.593321  1.510321   \n",
       "growth         0.499600 -0.545330  0.889958 -1.609990  1.898579  1.705582   \n",
       "egypt         -0.733691 -0.869595  1.285621  0.592550  0.160046  0.978664   \n",
       "cup           -0.449337 -1.166061  0.264145  1.631096  2.378946  1.403784   \n",
       "world         -0.475222 -0.725418 -0.003726  2.070664  2.401485  0.325184   \n",
       "fifa          -0.760711 -0.549049 -0.131664  1.110139  2.413607  1.675161   \n",
       "africa        -0.182475  0.140271 -0.717915  0.645916  0.805746  0.476833   \n",
       "finance        0.791069  0.995393 -0.354039  0.613456  0.807616  1.523808   \n",
       "new            0.763262 -1.077171  1.847955 -0.267310  0.390057  0.647966   \n",
       "stock          0.122333  0.064840 -0.422148  1.934692  1.783332 -0.156854   \n",
       "team           1.174186  0.216660 -0.911088  1.266980  0.293602  1.162798   \n",
       "globally      -0.545757 -2.129190 -1.524419 -0.404751  0.008088  0.713473   \n",
       "cocoa          0.465251  0.230195  0.196187  0.069559 -0.098212  0.754158   \n",
       "focusing       0.412735  1.691297  1.292062  1.126398  2.084992 -0.390683   \n",
       "startups       0.137987  0.171010 -0.624616  0.993810  0.747750 -0.994057   \n",
       "significantly -0.025471 -0.431503 -0.341562  0.626263  2.548832  1.462902   \n",
       "\n",
       "                     12        13        14  \n",
       "kenya         -0.275948  0.544185 -0.831209  \n",
       "farming        1.280935  0.468232 -1.354149  \n",
       "financial      0.336640 -0.401789 -0.701419  \n",
       "football       0.462132 -0.618069  0.292970  \n",
       "african        0.467839 -1.448800  0.464510  \n",
       "growth        -0.583347 -2.411299 -1.024775  \n",
       "egypt          1.375105  0.698507  1.391626  \n",
       "cup            1.043565 -1.303885  0.745391  \n",
       "world          0.009199 -0.849018  0.538207  \n",
       "fifa           0.723214  0.109861  0.904174  \n",
       "africa         1.916162 -2.332844 -0.462485  \n",
       "finance        1.072136 -1.176546 -3.135080  \n",
       "new           -0.123182  0.320186 -1.219674  \n",
       "stock          2.199332 -1.943675 -0.533379  \n",
       "team           0.572534  0.016897  0.687640  \n",
       "globally       2.064778  1.045552 -0.914348  \n",
       "cocoa         -0.136118 -1.337207 -2.494269  \n",
       "focusing       0.557935 -0.407550  0.153855  \n",
       "startups      -0.668463  0.327406 -0.325893  \n",
       "significantly -0.910388 -0.253052 -2.159439  "
      ]
     },
     "execution_count": 66,
     "metadata": {},
     "output_type": "execute_result"
    }
   ],
   "source": [
    "vec_df = pd.DataFrame(wvs, index=words)\n",
    "vec_df.head(20)"
   ]
  },
  {
   "cell_type": "markdown",
   "id": "accessory-destiny",
   "metadata": {},
   "source": [
    "### Word similarity dataframe"
   ]
  },
  {
   "cell_type": "markdown",
   "id": "boxed-source",
   "metadata": {},
   "source": [
    "The first step is to importing necessary packages. This is how you need to import packages -"
   ]
  },
  {
   "cell_type": "code",
   "execution_count": 67,
   "id": "overhead-bunny",
   "metadata": {},
   "outputs": [
    {
     "data": {
      "text/html": [
       "<div>\n",
       "<style scoped>\n",
       "    .dataframe tbody tr th:only-of-type {\n",
       "        vertical-align: middle;\n",
       "    }\n",
       "\n",
       "    .dataframe tbody tr th {\n",
       "        vertical-align: top;\n",
       "    }\n",
       "\n",
       "    .dataframe thead th {\n",
       "        text-align: right;\n",
       "    }\n",
       "</style>\n",
       "<table border=\"1\" class=\"dataframe\">\n",
       "  <thead>\n",
       "    <tr style=\"text-align: right;\">\n",
       "      <th></th>\n",
       "      <th>kenya</th>\n",
       "      <th>farming</th>\n",
       "      <th>financial</th>\n",
       "      <th>football</th>\n",
       "      <th>african</th>\n",
       "      <th>growth</th>\n",
       "      <th>egypt</th>\n",
       "      <th>cup</th>\n",
       "      <th>world</th>\n",
       "      <th>fifa</th>\n",
       "      <th>...</th>\n",
       "      <th>infrastructure</th>\n",
       "      <th>bid</th>\n",
       "      <th>cotton</th>\n",
       "      <th>mali</th>\n",
       "      <th>essential</th>\n",
       "      <th>part</th>\n",
       "      <th>agricultural</th>\n",
       "      <th>sector</th>\n",
       "      <th>nile</th>\n",
       "      <th>maize</th>\n",
       "    </tr>\n",
       "  </thead>\n",
       "  <tbody>\n",
       "    <tr>\n",
       "      <th>kenya</th>\n",
       "      <td>1.000000</td>\n",
       "      <td>0.198895</td>\n",
       "      <td>0.481067</td>\n",
       "      <td>0.482151</td>\n",
       "      <td>-0.050550</td>\n",
       "      <td>0.141203</td>\n",
       "      <td>0.089833</td>\n",
       "      <td>0.217462</td>\n",
       "      <td>0.272020</td>\n",
       "      <td>0.231694</td>\n",
       "      <td>...</td>\n",
       "      <td>0.166824</td>\n",
       "      <td>0.440876</td>\n",
       "      <td>0.285629</td>\n",
       "      <td>0.194649</td>\n",
       "      <td>0.269419</td>\n",
       "      <td>0.305182</td>\n",
       "      <td>0.297984</td>\n",
       "      <td>0.371519</td>\n",
       "      <td>0.326587</td>\n",
       "      <td>0.634779</td>\n",
       "    </tr>\n",
       "    <tr>\n",
       "      <th>farming</th>\n",
       "      <td>0.198895</td>\n",
       "      <td>1.000000</td>\n",
       "      <td>0.175875</td>\n",
       "      <td>0.239357</td>\n",
       "      <td>0.028617</td>\n",
       "      <td>0.025747</td>\n",
       "      <td>0.446392</td>\n",
       "      <td>0.098351</td>\n",
       "      <td>0.199800</td>\n",
       "      <td>0.032521</td>\n",
       "      <td>...</td>\n",
       "      <td>0.180601</td>\n",
       "      <td>0.136962</td>\n",
       "      <td>0.464581</td>\n",
       "      <td>0.452790</td>\n",
       "      <td>0.466008</td>\n",
       "      <td>0.496535</td>\n",
       "      <td>0.507270</td>\n",
       "      <td>0.489204</td>\n",
       "      <td>0.525161</td>\n",
       "      <td>0.101511</td>\n",
       "    </tr>\n",
       "    <tr>\n",
       "      <th>financial</th>\n",
       "      <td>0.481067</td>\n",
       "      <td>0.175875</td>\n",
       "      <td>1.000000</td>\n",
       "      <td>0.382851</td>\n",
       "      <td>0.113599</td>\n",
       "      <td>0.388303</td>\n",
       "      <td>0.323151</td>\n",
       "      <td>0.019873</td>\n",
       "      <td>-0.042202</td>\n",
       "      <td>-0.107205</td>\n",
       "      <td>...</td>\n",
       "      <td>0.108207</td>\n",
       "      <td>0.142011</td>\n",
       "      <td>0.435638</td>\n",
       "      <td>0.214136</td>\n",
       "      <td>0.350546</td>\n",
       "      <td>0.371989</td>\n",
       "      <td>0.291625</td>\n",
       "      <td>0.357817</td>\n",
       "      <td>0.353548</td>\n",
       "      <td>0.291457</td>\n",
       "    </tr>\n",
       "    <tr>\n",
       "      <th>football</th>\n",
       "      <td>0.482151</td>\n",
       "      <td>0.239357</td>\n",
       "      <td>0.382851</td>\n",
       "      <td>1.000000</td>\n",
       "      <td>0.426743</td>\n",
       "      <td>0.044682</td>\n",
       "      <td>0.228179</td>\n",
       "      <td>0.602738</td>\n",
       "      <td>0.576725</td>\n",
       "      <td>0.596906</td>\n",
       "      <td>...</td>\n",
       "      <td>0.425634</td>\n",
       "      <td>0.400231</td>\n",
       "      <td>0.292596</td>\n",
       "      <td>0.304152</td>\n",
       "      <td>0.053826</td>\n",
       "      <td>0.160813</td>\n",
       "      <td>0.212781</td>\n",
       "      <td>0.295991</td>\n",
       "      <td>0.450576</td>\n",
       "      <td>0.320843</td>\n",
       "    </tr>\n",
       "    <tr>\n",
       "      <th>african</th>\n",
       "      <td>-0.050550</td>\n",
       "      <td>0.028617</td>\n",
       "      <td>0.113599</td>\n",
       "      <td>0.426743</td>\n",
       "      <td>1.000000</td>\n",
       "      <td>0.493359</td>\n",
       "      <td>0.231115</td>\n",
       "      <td>0.354054</td>\n",
       "      <td>0.360231</td>\n",
       "      <td>0.442981</td>\n",
       "      <td>...</td>\n",
       "      <td>0.118985</td>\n",
       "      <td>0.034619</td>\n",
       "      <td>0.039523</td>\n",
       "      <td>0.166208</td>\n",
       "      <td>0.045709</td>\n",
       "      <td>-0.016091</td>\n",
       "      <td>0.213361</td>\n",
       "      <td>0.070236</td>\n",
       "      <td>-0.010416</td>\n",
       "      <td>0.491246</td>\n",
       "    </tr>\n",
       "    <tr>\n",
       "      <th>growth</th>\n",
       "      <td>0.141203</td>\n",
       "      <td>0.025747</td>\n",
       "      <td>0.388303</td>\n",
       "      <td>0.044682</td>\n",
       "      <td>0.493359</td>\n",
       "      <td>1.000000</td>\n",
       "      <td>0.275615</td>\n",
       "      <td>0.287191</td>\n",
       "      <td>0.180493</td>\n",
       "      <td>0.158735</td>\n",
       "      <td>...</td>\n",
       "      <td>0.096170</td>\n",
       "      <td>0.179796</td>\n",
       "      <td>0.026650</td>\n",
       "      <td>-0.064340</td>\n",
       "      <td>0.111426</td>\n",
       "      <td>0.053753</td>\n",
       "      <td>0.079945</td>\n",
       "      <td>0.002787</td>\n",
       "      <td>0.225173</td>\n",
       "      <td>0.554789</td>\n",
       "    </tr>\n",
       "    <tr>\n",
       "      <th>egypt</th>\n",
       "      <td>0.089833</td>\n",
       "      <td>0.446392</td>\n",
       "      <td>0.323151</td>\n",
       "      <td>0.228179</td>\n",
       "      <td>0.231115</td>\n",
       "      <td>0.275615</td>\n",
       "      <td>1.000000</td>\n",
       "      <td>0.354687</td>\n",
       "      <td>0.320377</td>\n",
       "      <td>0.396620</td>\n",
       "      <td>...</td>\n",
       "      <td>0.278479</td>\n",
       "      <td>0.166226</td>\n",
       "      <td>0.393346</td>\n",
       "      <td>0.376108</td>\n",
       "      <td>0.357723</td>\n",
       "      <td>0.437981</td>\n",
       "      <td>0.487747</td>\n",
       "      <td>0.349134</td>\n",
       "      <td>0.638814</td>\n",
       "      <td>0.186135</td>\n",
       "    </tr>\n",
       "    <tr>\n",
       "      <th>cup</th>\n",
       "      <td>0.217462</td>\n",
       "      <td>0.098351</td>\n",
       "      <td>0.019873</td>\n",
       "      <td>0.602738</td>\n",
       "      <td>0.354054</td>\n",
       "      <td>0.287191</td>\n",
       "      <td>0.354687</td>\n",
       "      <td>1.000000</td>\n",
       "      <td>0.859346</td>\n",
       "      <td>0.872869</td>\n",
       "      <td>...</td>\n",
       "      <td>0.722120</td>\n",
       "      <td>0.738453</td>\n",
       "      <td>0.185723</td>\n",
       "      <td>0.223380</td>\n",
       "      <td>0.043679</td>\n",
       "      <td>0.235153</td>\n",
       "      <td>0.207593</td>\n",
       "      <td>0.220996</td>\n",
       "      <td>0.455695</td>\n",
       "      <td>0.334081</td>\n",
       "    </tr>\n",
       "    <tr>\n",
       "      <th>world</th>\n",
       "      <td>0.272020</td>\n",
       "      <td>0.199800</td>\n",
       "      <td>-0.042202</td>\n",
       "      <td>0.576725</td>\n",
       "      <td>0.360231</td>\n",
       "      <td>0.180493</td>\n",
       "      <td>0.320377</td>\n",
       "      <td>0.859346</td>\n",
       "      <td>1.000000</td>\n",
       "      <td>0.862752</td>\n",
       "      <td>...</td>\n",
       "      <td>0.701402</td>\n",
       "      <td>0.718895</td>\n",
       "      <td>0.192126</td>\n",
       "      <td>0.308349</td>\n",
       "      <td>0.037676</td>\n",
       "      <td>0.234917</td>\n",
       "      <td>0.233086</td>\n",
       "      <td>0.266742</td>\n",
       "      <td>0.348224</td>\n",
       "      <td>0.283277</td>\n",
       "    </tr>\n",
       "    <tr>\n",
       "      <th>fifa</th>\n",
       "      <td>0.231694</td>\n",
       "      <td>0.032521</td>\n",
       "      <td>-0.107205</td>\n",
       "      <td>0.596906</td>\n",
       "      <td>0.442981</td>\n",
       "      <td>0.158735</td>\n",
       "      <td>0.396620</td>\n",
       "      <td>0.872869</td>\n",
       "      <td>0.862752</td>\n",
       "      <td>1.000000</td>\n",
       "      <td>...</td>\n",
       "      <td>0.724468</td>\n",
       "      <td>0.729731</td>\n",
       "      <td>0.248653</td>\n",
       "      <td>0.363956</td>\n",
       "      <td>0.136658</td>\n",
       "      <td>0.262908</td>\n",
       "      <td>0.295861</td>\n",
       "      <td>0.283607</td>\n",
       "      <td>0.407225</td>\n",
       "      <td>0.419816</td>\n",
       "    </tr>\n",
       "  </tbody>\n",
       "</table>\n",
       "<p>10 rows × 128 columns</p>\n",
       "</div>"
      ],
      "text/plain": [
       "              kenya   farming  financial  football   african    growth  \\\n",
       "kenya      1.000000  0.198895   0.481067  0.482151 -0.050550  0.141203   \n",
       "farming    0.198895  1.000000   0.175875  0.239357  0.028617  0.025747   \n",
       "financial  0.481067  0.175875   1.000000  0.382851  0.113599  0.388303   \n",
       "football   0.482151  0.239357   0.382851  1.000000  0.426743  0.044682   \n",
       "african   -0.050550  0.028617   0.113599  0.426743  1.000000  0.493359   \n",
       "growth     0.141203  0.025747   0.388303  0.044682  0.493359  1.000000   \n",
       "egypt      0.089833  0.446392   0.323151  0.228179  0.231115  0.275615   \n",
       "cup        0.217462  0.098351   0.019873  0.602738  0.354054  0.287191   \n",
       "world      0.272020  0.199800  -0.042202  0.576725  0.360231  0.180493   \n",
       "fifa       0.231694  0.032521  -0.107205  0.596906  0.442981  0.158735   \n",
       "\n",
       "              egypt       cup     world      fifa  ...  infrastructure  \\\n",
       "kenya      0.089833  0.217462  0.272020  0.231694  ...        0.166824   \n",
       "farming    0.446392  0.098351  0.199800  0.032521  ...        0.180601   \n",
       "financial  0.323151  0.019873 -0.042202 -0.107205  ...        0.108207   \n",
       "football   0.228179  0.602738  0.576725  0.596906  ...        0.425634   \n",
       "african    0.231115  0.354054  0.360231  0.442981  ...        0.118985   \n",
       "growth     0.275615  0.287191  0.180493  0.158735  ...        0.096170   \n",
       "egypt      1.000000  0.354687  0.320377  0.396620  ...        0.278479   \n",
       "cup        0.354687  1.000000  0.859346  0.872869  ...        0.722120   \n",
       "world      0.320377  0.859346  1.000000  0.862752  ...        0.701402   \n",
       "fifa       0.396620  0.872869  0.862752  1.000000  ...        0.724468   \n",
       "\n",
       "                bid    cotton      mali  essential      part  agricultural  \\\n",
       "kenya      0.440876  0.285629  0.194649   0.269419  0.305182      0.297984   \n",
       "farming    0.136962  0.464581  0.452790   0.466008  0.496535      0.507270   \n",
       "financial  0.142011  0.435638  0.214136   0.350546  0.371989      0.291625   \n",
       "football   0.400231  0.292596  0.304152   0.053826  0.160813      0.212781   \n",
       "african    0.034619  0.039523  0.166208   0.045709 -0.016091      0.213361   \n",
       "growth     0.179796  0.026650 -0.064340   0.111426  0.053753      0.079945   \n",
       "egypt      0.166226  0.393346  0.376108   0.357723  0.437981      0.487747   \n",
       "cup        0.738453  0.185723  0.223380   0.043679  0.235153      0.207593   \n",
       "world      0.718895  0.192126  0.308349   0.037676  0.234917      0.233086   \n",
       "fifa       0.729731  0.248653  0.363956   0.136658  0.262908      0.295861   \n",
       "\n",
       "             sector      nile     maize  \n",
       "kenya      0.371519  0.326587  0.634779  \n",
       "farming    0.489204  0.525161  0.101511  \n",
       "financial  0.357817  0.353548  0.291457  \n",
       "football   0.295991  0.450576  0.320843  \n",
       "african    0.070236 -0.010416  0.491246  \n",
       "growth     0.002787  0.225173  0.554789  \n",
       "egypt      0.349134  0.638814  0.186135  \n",
       "cup        0.220996  0.455695  0.334081  \n",
       "world      0.266742  0.348224  0.283277  \n",
       "fifa       0.283607  0.407225  0.419816  \n",
       "\n",
       "[10 rows x 128 columns]"
      ]
     },
     "execution_count": 67,
     "metadata": {},
     "output_type": "execute_result"
    }
   ],
   "source": [
    "import numpy as np\n",
    "from sklearn.metrics.pairwise import cosine_similarity\n",
    "\n",
    "similarity_matrix = cosine_similarity(vec_df.values)\n",
    "similarity_df = pd.DataFrame(similarity_matrix, index=words, columns=words)\n",
    "\n",
    "similarity_df.head(10)"
   ]
  },
  {
   "cell_type": "code",
   "execution_count": 68,
   "id": "informed-teacher",
   "metadata": {},
   "outputs": [
    {
     "data": {
      "text/plain": [
       "kenya              [maize, increased, year]\n",
       "farming         [substantial, source, many]\n",
       "financial            [nigeria, bank, trade]\n",
       "football          [team, indomitable, rich]\n",
       "african         [known, vineyards, fertile]\n",
       "                           ...             \n",
       "part            [sector, cotton, essential]\n",
       "agricultural         [cotton, sector, part]\n",
       "sector            [cotton, part, essential]\n",
       "nile                [wheat, location, rice]\n",
       "maize              [increased, year, yield]\n",
       "Length: 128, dtype: object"
      ]
     },
     "execution_count": 68,
     "metadata": {},
     "output_type": "execute_result"
    }
   ],
   "source": [
    "feature_names = np.array(words)\n",
    "similarity_df.apply(lambda row: feature_names[np.argsort(- row.values) [1:4]], axis=1)"
   ]
  }
 ],
 "metadata": {
  "kernelspec": {
   "display_name": "Python 3",
   "language": "python",
   "name": "python3"
  },
  "language_info": {
   "codemirror_mode": {
    "name": "ipython",
    "version": 3
   },
   "file_extension": ".py",
   "mimetype": "text/x-python",
   "name": "python",
   "nbconvert_exporter": "python",
   "pygments_lexer": "ipython3",
   "version": "3.9.2"
  }
 },
 "nbformat": 4,
 "nbformat_minor": 5
}
